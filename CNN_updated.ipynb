{
  "cells": [
    {
      "cell_type": "markdown",
      "metadata": {
        "id": "view-in-github",
        "colab_type": "text"
      },
      "source": [
        "<a href=\"https://colab.research.google.com/github/pratap977/CS6910/blob/main/CNN_updated.ipynb\" target=\"_parent\"><img src=\"https://colab.research.google.com/assets/colab-badge.svg\" alt=\"Open In Colab\"/></a>"
      ]
    },
    {
      "cell_type": "code",
      "execution_count": 1,
      "metadata": {
        "colab": {
          "base_uri": "https://localhost:8080/"
        },
        "id": "Pi9WL14qDlap",
        "outputId": "a27e7ebd-e0bf-42a1-8a60-74f59055a246"
      },
      "outputs": [
        {
          "output_type": "stream",
          "name": "stdout",
          "text": [
            "Requirement already satisfied: split-folders in /usr/local/lib/python3.7/dist-packages (0.5.1)\n"
          ]
        }
      ],
      "source": [
        "!pip install split-folders"
      ]
    },
    {
      "cell_type": "code",
      "execution_count": 2,
      "metadata": {
        "colab": {
          "base_uri": "https://localhost:8080/"
        },
        "id": "ZsLNl8DPsUf7",
        "outputId": "36dac0c1-fbc2-4b81-a7a8-4c6879954351"
      },
      "outputs": [
        {
          "output_type": "stream",
          "name": "stdout",
          "text": [
            "Requirement already satisfied: wandb in /usr/local/lib/python3.7/dist-packages (0.12.11)\n",
            "Requirement already satisfied: Click!=8.0.0,>=7.0 in /usr/local/lib/python3.7/dist-packages (from wandb) (7.1.2)\n",
            "Requirement already satisfied: docker-pycreds>=0.4.0 in /usr/local/lib/python3.7/dist-packages (from wandb) (0.4.0)\n",
            "Requirement already satisfied: requests<3,>=2.0.0 in /usr/local/lib/python3.7/dist-packages (from wandb) (2.23.0)\n",
            "Requirement already satisfied: six>=1.13.0 in /usr/local/lib/python3.7/dist-packages (from wandb) (1.15.0)\n",
            "Requirement already satisfied: sentry-sdk>=1.0.0 in /usr/local/lib/python3.7/dist-packages (from wandb) (1.5.8)\n",
            "Requirement already satisfied: yaspin>=1.0.0 in /usr/local/lib/python3.7/dist-packages (from wandb) (2.1.0)\n",
            "Requirement already satisfied: PyYAML in /usr/local/lib/python3.7/dist-packages (from wandb) (3.13)\n",
            "Requirement already satisfied: protobuf>=3.12.0 in /usr/local/lib/python3.7/dist-packages (from wandb) (3.17.3)\n",
            "Requirement already satisfied: pathtools in /usr/local/lib/python3.7/dist-packages (from wandb) (0.1.2)\n",
            "Requirement already satisfied: setproctitle in /usr/local/lib/python3.7/dist-packages (from wandb) (1.2.2)\n",
            "Requirement already satisfied: python-dateutil>=2.6.1 in /usr/local/lib/python3.7/dist-packages (from wandb) (2.8.2)\n",
            "Requirement already satisfied: psutil>=5.0.0 in /usr/local/lib/python3.7/dist-packages (from wandb) (5.4.8)\n",
            "Requirement already satisfied: shortuuid>=0.5.0 in /usr/local/lib/python3.7/dist-packages (from wandb) (1.0.8)\n",
            "Requirement already satisfied: GitPython>=1.0.0 in /usr/local/lib/python3.7/dist-packages (from wandb) (3.1.27)\n",
            "Requirement already satisfied: promise<3,>=2.0 in /usr/local/lib/python3.7/dist-packages (from wandb) (2.3)\n",
            "Requirement already satisfied: typing-extensions>=3.7.4.3 in /usr/local/lib/python3.7/dist-packages (from GitPython>=1.0.0->wandb) (3.10.0.2)\n",
            "Requirement already satisfied: gitdb<5,>=4.0.1 in /usr/local/lib/python3.7/dist-packages (from GitPython>=1.0.0->wandb) (4.0.9)\n",
            "Requirement already satisfied: smmap<6,>=3.0.1 in /usr/local/lib/python3.7/dist-packages (from gitdb<5,>=4.0.1->GitPython>=1.0.0->wandb) (5.0.0)\n",
            "Requirement already satisfied: idna<3,>=2.5 in /usr/local/lib/python3.7/dist-packages (from requests<3,>=2.0.0->wandb) (2.10)\n",
            "Requirement already satisfied: certifi>=2017.4.17 in /usr/local/lib/python3.7/dist-packages (from requests<3,>=2.0.0->wandb) (2021.10.8)\n",
            "Requirement already satisfied: urllib3!=1.25.0,!=1.25.1,<1.26,>=1.21.1 in /usr/local/lib/python3.7/dist-packages (from requests<3,>=2.0.0->wandb) (1.24.3)\n",
            "Requirement already satisfied: chardet<4,>=3.0.2 in /usr/local/lib/python3.7/dist-packages (from requests<3,>=2.0.0->wandb) (3.0.4)\n",
            "Requirement already satisfied: termcolor<2.0.0,>=1.1.0 in /usr/local/lib/python3.7/dist-packages (from yaspin>=1.0.0->wandb) (1.1.0)\n"
          ]
        }
      ],
      "source": [
        "!pip install wandb"
      ]
    },
    {
      "cell_type": "code",
      "execution_count": 3,
      "metadata": {
        "id": "Z3tj1G_AegWC"
      },
      "outputs": [],
      "source": [
        "import numpy as np\n",
        "import tensorflow as tf\n",
        "from tensorflow import keras\n",
        "from PIL import Image as im\n",
        "import math as mh\n",
        "from matplotlib import pyplot\n",
        "from tensorflow.keras.layers import Conv2D,MaxPooling2D,Activation,Dense,Flatten\n",
        "from keras.preprocessing.image import load_img as im\n",
        "from keras.preprocessing.image import save_img as sim\n",
        "# import torch"
      ]
    },
    {
      "cell_type": "code",
      "execution_count": 4,
      "metadata": {
        "id": "jZw-_BVUeyta"
      },
      "outputs": [],
      "source": [
        "import os\n",
        "from random import shuffle\n",
        "import numpy as np\n",
        "import splitfolders\n",
        "from PIL import Image\n",
        "from torchvision import transforms\n",
        "import numpy"
      ]
    },
    {
      "cell_type": "code",
      "execution_count": 5,
      "metadata": {
        "id": "Cv5SXYUde0pE"
      },
      "outputs": [],
      "source": [
        "from tensorflow.keras.preprocessing import image\n",
        "from tensorflow.keras import layers,models\n",
        "import wandb"
      ]
    },
    {
      "cell_type": "code",
      "execution_count": 6,
      "metadata": {
        "id": "XezFYYnTXi1R"
      },
      "outputs": [],
      "source": [
        "src_url = \"https://storage.googleapis.com/wandb_datasets/nature_12K.zip\"\n",
        "src_zip = \"nature_12K.zip\""
      ]
    },
    {
      "cell_type": "code",
      "execution_count": 7,
      "metadata": {
        "id": "jJA5ny1-e4_j"
      },
      "outputs": [],
      "source": [
        "%%capture\n",
        "!curl -SL $src_url > $src_zip\n",
        "!unzip $src_zip"
      ]
    },
    {
      "cell_type": "code",
      "execution_count": 8,
      "metadata": {
        "id": "D5ck8Kp6e75b"
      },
      "outputs": [],
      "source": [
        "data_folders=\"/content/inaturalist_12K/train\""
      ]
    },
    {
      "cell_type": "code",
      "execution_count": 9,
      "metadata": {
        "colab": {
          "base_uri": "https://localhost:8080/"
        },
        "id": "FZY--9ijD7SW",
        "outputId": "4530a8dc-37c4-4cec-ebe0-c249d940f932"
      },
      "outputs": [
        {
          "output_type": "stream",
          "name": "stderr",
          "text": [
            "Copying files: 9999 files [00:11, 855.67 files/s]\n"
          ]
        }
      ],
      "source": [
        "splitfolders.ratio(data_folders, output=\"outputfin\", seed=1337, ratio=(.9, .1), group_prefix=None)"
      ]
    },
    {
      "cell_type": "code",
      "source": [
        ""
      ],
      "metadata": {
        "id": "TynVzTxHlNCT"
      },
      "execution_count": null,
      "outputs": []
    },
    {
      "cell_type": "code",
      "source": [
        "from google.colab import drive\n",
        "drive.mount('/content/drive')"
      ],
      "metadata": {
        "colab": {
          "base_uri": "https://localhost:8080/"
        },
        "id": "-CPmepdKlOXz",
        "outputId": "c8036e10-8561-4bbd-847e-b7785301ebd7"
      },
      "execution_count": 10,
      "outputs": [
        {
          "output_type": "stream",
          "name": "stdout",
          "text": [
            "Mounted at /content/drive\n"
          ]
        }
      ]
    },
    {
      "cell_type": "code",
      "source": [
        "!rm -rf /content/drive/MyDrive/outputfin"
      ],
      "metadata": {
        "id": "XClE9H0dlSZl"
      },
      "execution_count": 11,
      "outputs": []
    },
    {
      "cell_type": "code",
      "source": [
        "!cp -r /content/outputfin /content/drive/MyDrive/"
      ],
      "metadata": {
        "id": "-QvcijOpmGHD"
      },
      "execution_count": 13,
      "outputs": []
    },
    {
      "cell_type": "code",
      "execution_count": null,
      "metadata": {
        "id": "bywllD_yFSUB"
      },
      "outputs": [],
      "source": [
        "!rm -rf nature_12K.zip"
      ]
    },
    {
      "cell_type": "code",
      "source": [
        "!rm -rf inaturalist_12K/train"
      ],
      "metadata": {
        "id": "xrWcxsAW8YrL"
      },
      "execution_count": null,
      "outputs": []
    },
    {
      "cell_type": "code",
      "execution_count": 6,
      "metadata": {
        "id": "vZS3VCnVfF7z"
      },
      "outputs": [],
      "source": [
        "class_labels = os.listdir(\"/content/drive/MyDrive/outputfin/train\")"
      ]
    },
    {
      "cell_type": "code",
      "execution_count": 7,
      "metadata": {
        "colab": {
          "base_uri": "https://localhost:8080/"
        },
        "id": "ElFVBdKffHf3",
        "outputId": "ad75a068-d9c3-4b92-d6d4-01823a9a1df6"
      },
      "outputs": [
        {
          "output_type": "execute_result",
          "data": {
            "text/plain": [
              "{'Amphibia': 9,\n",
              " 'Animalia': 0,\n",
              " 'Arachnida': 5,\n",
              " 'Aves': 2,\n",
              " 'Fungi': 3,\n",
              " 'Insecta': 8,\n",
              " 'Mammalia': 4,\n",
              " 'Mollusca': 6,\n",
              " 'Plantae': 1,\n",
              " 'Reptilia': 7}"
            ]
          },
          "metadata": {},
          "execution_count": 7
        }
      ],
      "source": [
        "lab={l:i for l,i in zip(class_labels,range(10))}\n",
        "lab"
      ]
    },
    {
      "cell_type": "code",
      "source": [
        "data_augmentation  = transforms.Compose([\n",
        "        transforms.CenterCrop(224),\n",
        "        transforms.ToTensor(),\n",
        "        transforms.Normalize([0.485, 0.456, 0.406], [0.229, 0.224, 0.225])\n",
        "    ])"
      ],
      "metadata": {
        "id": "d2hRRc3-lfHX"
      },
      "execution_count": 8,
      "outputs": []
    },
    {
      "cell_type": "code",
      "execution_count": 15,
      "metadata": {
        "id": "PCIhL2R8H3sm"
      },
      "outputs": [],
      "source": [
        "imgs_tr = []\n",
        "filenames = []\n",
        "\n",
        "truth_tr = []\n",
        "for l in class_labels:\n",
        "  if l.startswith(\".\"):\n",
        "    continue\n",
        "  imgs_per_class = os.listdir(os.path.join(\"/content/drive/MyDrive/outputfin/train\", l))\n",
        "  for img in imgs_per_class:\n",
        "    \n",
        "    filenames.append(img.split(\".\")[0])\n",
        "    \n",
        "    img_path = os.path.join(\"/content/drive/MyDrive/outputfin/train\", l, img)\n",
        "    # img = image.load_img(img_path, target_size=(224, 224))\n",
        "    # img = image.img_to_array(img)\n",
        "    img=Image.open(img_path)\n",
        "    img = img.resize((224,224))\n",
        "    if img.mode == 'L':\n",
        "                continue\n",
        "    normalized_image = data_augmentation(img)\n",
        "    truth_tr.append(lab[l])\n",
        "    # don't forget to rescale test images to match the range of inputs\n",
        "    # to the network\n",
        "    # img = img/255.0\n",
        "    imgs_tr.append(numpy.asarray(normalized_image).transpose(1,2,0))\n",
        "x_train=np.asarray(imgs_tr)\n",
        "y_train=np.asarray(truth_tr)\n",
        "del imgs_tr\n",
        "del truth_tr"
      ]
    },
    {
      "cell_type": "code",
      "source": [
        "x_train.shape"
      ],
      "metadata": {
        "colab": {
          "base_uri": "https://localhost:8080/"
        },
        "id": "rJIhXwrArSxp",
        "outputId": "bfe986ca-2f65-4b97-9075-52bfeece008b"
      },
      "execution_count": 22,
      "outputs": [
        {
          "output_type": "execute_result",
          "data": {
            "text/plain": [
              "(8997, 224, 224, 3)"
            ]
          },
          "metadata": {},
          "execution_count": 22
        }
      ]
    },
    {
      "cell_type": "code",
      "source": [
        "imgs_val = []\n",
        "filenames = []\n",
        "\n",
        "truth_val = []\n",
        "for l in class_labels:\n",
        "  if l.startswith(\".\"):\n",
        "    continue\n",
        "  imgs_per_class = os.listdir(os.path.join(\"/content/drive/MyDrive/outputfin/val\", l))\n",
        "  for img in imgs_per_class:\n",
        "    \n",
        "    filenames.append(img.split(\".\")[0])\n",
        "    \n",
        "    img_path = os.path.join(\"/content/drive/MyDrive/outputfin/val\", l, img)\n",
        "    # img = image.load_img(img_path, target_size=(299, 299))\n",
        "    # img = image.img_to_array(img)\n",
        "    img=Image.open(img_path)\n",
        "    img = img.resize((224,224))\n",
        "    if img.mode == 'L':\n",
        "                continue\n",
        "    normalized_image = data_augmentation(img)\n",
        "    truth_val.append(lab[l])\n",
        "    # don't forget to rescale test images to match the range of inputs\n",
        "    # to the network\n",
        "    # img = img/255.0\n",
        "    imgs_val.append(numpy.asarray(normalized_image).transpose(1,2,0))\n",
        "x_val=np.asarray(imgs_val)\n",
        "y_val=np.asarray(truth_val)\n",
        "del imgs_val\n",
        "del truth_val"
      ],
      "metadata": {
        "id": "ib73P80mmWQ4"
      },
      "execution_count": 16,
      "outputs": []
    },
    {
      "cell_type": "code",
      "source": [
        "x_val.shape"
      ],
      "metadata": {
        "colab": {
          "base_uri": "https://localhost:8080/"
        },
        "id": "qkYuRmb7mx_L",
        "outputId": "af249a9c-0c29-4681-e64b-4439225d2029"
      },
      "execution_count": 21,
      "outputs": [
        {
          "output_type": "execute_result",
          "data": {
            "text/plain": [
              "(999, 224, 224, 3)"
            ]
          },
          "metadata": {},
          "execution_count": 21
        }
      ]
    },
    {
      "cell_type": "code",
      "execution_count": null,
      "metadata": {
        "id": "Brmo1GBkfLV3"
      },
      "outputs": [],
      "source": [
        "imgs_val = []\n",
        "filenames = []\n",
        "\n",
        "truth_val = []\n",
        "for l in class_labels:\n",
        "  if l.startswith(\".\"):\n",
        "    continue\n",
        "  imgs_per_class = os.listdir(os.path.join(\"/content/drive/MyDrive/inaturalist_12K/val\", l))\n",
        "  for img in imgs_per_class:\n",
        "    \n",
        "    filenames.append(img.split(\".\")[0])\n",
        "    truth_val.append(lab[l])\n",
        "    img_path = os.path.join(\"/content/drive/MyDrive/inaturalist_12K/val\", l, img)\n",
        "    img = image.load_img(img_path, target_size=(224, 224))\n",
        "    img = image.img_to_array(img)\n",
        "    # don't forget to rescale test images to match the range of inputs\n",
        "    # to the network\n",
        "    img = img/255.0\n",
        "    imgs_val.append(img)\n",
        "x_test=np.asarray(imgs_val)\n",
        "y_test=np.asarray(truth_val)\n",
        "del imgs_val\n",
        "del truth_val"
      ]
    },
    {
      "cell_type": "code",
      "source": [
        "import pathlib"
      ],
      "metadata": {
        "id": "1AaWVGlcn8oU"
      },
      "execution_count": 10,
      "outputs": []
    },
    {
      "cell_type": "code",
      "source": [
        ""
      ],
      "metadata": {
        "id": "URz-N96fpPmD"
      },
      "execution_count": null,
      "outputs": []
    },
    {
      "cell_type": "code",
      "source": [
        "train_data = tf.keras.preprocessing.image_dataset_from_directory(\n",
        "                      directory = pathlib.Path(\"/content/drive/MyDrive/inaturalist_12K/train\"),\n",
        "                      labels = 'inferred',  \n",
        "                      label_mode = 'categorical',\n",
        "                      color_mode = 'rgb',\n",
        "                      batch_size = 32,\n",
        "                      image_size = (224, 224),\n",
        "                      shuffle = True,\n",
        "                      seed = 17,\n",
        "                      validation_split = 0.1,\n",
        "                      subset = 'training')\n",
        "\n",
        "val_data = tf.keras.preprocessing.image_dataset_from_directory(\n",
        "                      directory = pathlib.Path(\"/content/drive/MyDrive/inaturalist_12K/train\"),\n",
        "                      labels = 'inferred',  \n",
        "                      label_mode = 'categorical',\n",
        "                      color_mode = 'rgb',\n",
        "                      image_size = (224, 224),\n",
        "                      shuffle = True,\n",
        "                      seed = 17,\n",
        "                      validation_split = 0.1,\n",
        "                      subset = 'validation')"
      ],
      "metadata": {
        "colab": {
          "base_uri": "https://localhost:8080/"
        },
        "id": "wZYHtlkpnyS4",
        "outputId": "d7ae453a-5271-414b-a596-25c963628150"
      },
      "execution_count": 11,
      "outputs": [
        {
          "output_type": "stream",
          "name": "stdout",
          "text": [
            "Found 9999 files belonging to 10 classes.\n",
            "Using 9000 files for training.\n",
            "Found 9999 files belonging to 10 classes.\n",
            "Using 999 files for validation.\n"
          ]
        }
      ]
    },
    {
      "cell_type": "code",
      "source": [
        "x_test.shape"
      ],
      "metadata": {
        "colab": {
          "base_uri": "https://localhost:8080/"
        },
        "id": "Xp7f7eYCn6_E",
        "outputId": "90232568-013f-4d23-cb7b-7eaf3865c74a"
      },
      "execution_count": 20,
      "outputs": [
        {
          "output_type": "execute_result",
          "data": {
            "text/plain": [
              "(2000, 224, 224, 3)"
            ]
          },
          "metadata": {},
          "execution_count": 20
        }
      ]
    },
    {
      "cell_type": "code",
      "execution_count": null,
      "metadata": {
        "id": "FRfSssGXg45d"
      },
      "outputs": [],
      "source": [
        "sweep_config = {\n",
        "                  'method': 'grid',\n",
        "                  'metric':{\n",
        "                            'name':'accuracy',\n",
        "                            'goal':'maximize'\n",
        "                            },\n",
        "                  'parameters': {\n",
        "                                'filsize'   : {'values': [32, 64, 96, 128, 256]},\n",
        "                                'kersize'   :{'values':[3,5,7,9]},\n",
        "                                'dropout'   :{'values':[0.1,0.3,0.4]}, \n",
        "                                'denseunits':{'values':[256,100,50,60]}, \n",
        "                                'epochs'    :{'values':[5,10,20,30]},                          \n",
        "                              }\n",
        "              }"
      ]
    },
    {
      "cell_type": "code",
      "execution_count": 30,
      "metadata": {
        "id": "alh7y9MId7CR"
      },
      "outputs": [],
      "source": [
        "sweep_config = {\n",
        "                  'method'    : \"random\",\n",
        "                  'metric':{\n",
        "                            'name':'val_accuracy',\n",
        "                            'goal':'maximize'\n",
        "                            },\n",
        "                  'parameters': {\n",
        "                                  'flt'                 : {'values' :[32, 64,16,]  },\n",
        "                                  'filterorg'               : {'values' :[1,2,0.5] },\n",
        "                                  'kerneldim'               : {'values' :[3,4,5,7]  },\n",
        "                                  'activation'              : {'values' :['sigmoid','relu','tanh','elu'] },\n",
        "                                  'neurons'                 : {'values' :[20,32,64,128,512] },\n",
        "                                  'optimizer'               : {'values' :['adam'] },\n",
        "                                  'lr'                      : {'values' :[1e-3,1e-4,2e-3,3e-3,4e-3,3e-4] },\n",
        "                                  'epochs'                  : {'values' :[15,20,30] },\n",
        "                                  'batchsize'               : {'values' :[16,32,64,128] },\n",
        "                                  'dropout'                 : {'values' :[0.2,0.25,0.3,0,0.1,0.5] },\n",
        "                                  'batchnormalisation'       : {'values' :['YES','NO']} ,\n",
        "                                }\n",
        "                }"
      ]
    },
    {
      "cell_type": "code",
      "execution_count": null,
      "metadata": {
        "colab": {
          "base_uri": "https://localhost:8080/"
        },
        "id": "6_3PPBL668DH",
        "outputId": "9d008253-ea9d-40d6-a9da-29674627ecaf"
      },
      "outputs": [
        {
          "data": {
            "text/plain": [
              "{'method': 'grid',\n",
              " 'metric': {'goal': 'maximize', 'name': 'accuracy'},\n",
              " 'parameters': {'denseunits': {'values': [256, 100, 50, 60]},\n",
              "  'dropout': {'values': [0.1, 0.3, 0.4]},\n",
              "  'epochs': {'values': [5, 10, 20, 30]},\n",
              "  'filsize': {'values': [32, 64, 96, 128, 256]},\n",
              "  'kersize': {'values': [3, 5, 7, 9]}}}"
            ]
          },
          "execution_count": 31,
          "metadata": {
            "tags": []
          },
          "output_type": "execute_result"
        }
      ],
      "source": [
        "sweep_config"
      ]
    },
    {
      "cell_type": "code",
      "source": [
        "def create_CNN(fil,ker,activ,batchnormalisation,dropout,neurons):\n",
        "  cnn=models.Sequential()\n",
        "  cnn.add(layers.Conv2D(filters=fil[0], kernel_size=(ker[0], ker[0]), activation='relu',input_shape=(224, 224, 3)))\n",
        "  cnn.add(layers.MaxPooling2D((2, 2)))\n",
        "  if(batchnormalisation=='YES'):\n",
        "    cnn.add(layers.BatchNormalization())\n",
        "        \n",
        "        \n",
        "  cnn.add(layers.Conv2D(filters=fil[1], kernel_size=(ker[1], ker[1]), activation='relu'))\n",
        "  cnn.add(layers.MaxPooling2D((2, 2)))\n",
        "  if(batchnormalisation=='YES'):\n",
        "    cnn.add(layers.BatchNormalization())\n",
        "                                                  \n",
        "  cnn.add(layers.Conv2D(filters=fil[2], kernel_size=(ker[2], ker[2]), activation='relu'))\n",
        "  cnn.add(layers.MaxPooling2D((2, 2)))\n",
        "  if(batchnormalisation=='YES'):\n",
        "    cnn.add(layers.BatchNormalization())\n",
        "         \n",
        "  cnn.add(layers.Conv2D(filters=fil[3], kernel_size=(ker[3], ker[3]), activation='relu'))\n",
        "  cnn.add(layers.MaxPooling2D((2, 2)))\n",
        "  if(batchnormalisation=='YES'):\n",
        "    cnn.add(layers.BatchNormalization())\n",
        "\n",
        "  cnn.add(layers.Conv2D(filters=fil[4], kernel_size=(ker[4], ker[4]), activation='relu'))\n",
        "  cnn.add(layers.MaxPooling2D((2, 2)))\n",
        "  \n",
        "  if(batchnormalisation=='YES'):\n",
        "    cnn.add(layers.BatchNormalization())\n",
        "\n",
        "\n",
        "  cnn.add(layers.Flatten())\n",
        "  if(dropout!=0):\n",
        "    cnn.add(layers.Dropout(dropout))\n",
        "  cnn.add(layers.Dense(neurons, activation=activ))\n",
        "  \n",
        "  cnn.add(layers.Dense(10, activation='softmax'))\n",
        "  return cnn"
      ],
      "metadata": {
        "id": "PH4BMWe5i90H"
      },
      "execution_count": 12,
      "outputs": []
    },
    {
      "cell_type": "code",
      "source": [
        "activation: relu\n",
        "wandb: \tbatchnormalisation: YES\n",
        "wandb: \tbatchsize: 128\n",
        "wandb: \tdropout: 0.5\n",
        "wandb: \tepochs: 5\n",
        "wandb: \tfilterorg: 0.5\n",
        "wandb: \tflt: 16\n",
        "wandb: \tkerneldim: 5\n",
        "wandb: \tlr: 0.003\n",
        "wandb: \tneurons: 20\n",
        "wandb: \toptimizer: rmsprop"
      ],
      "metadata": {
        "id": "H0qCkwLxdnF0"
      },
      "execution_count": null,
      "outputs": []
    },
    {
      "cell_type": "code",
      "source": [
        "cnn=create_CNN([16,8,4,2,1],[5,5,5,5,5],'relu','YES',0.5,20)"
      ],
      "metadata": {
        "id": "otv0zzzDdeBh"
      },
      "execution_count": 62,
      "outputs": []
    },
    {
      "cell_type": "code",
      "source": [
        "wandb: \tactivation: relu\n",
        "wandb: \tbatchnormalisation: NO\n",
        "wandb: \tbatchsize: 16\n",
        "wandb: \tdropout: 0.1\n",
        "wandb: \tepochs: 5\n",
        "wandb: \tfilterorg: 2\n",
        "wandb: \tflt: 32\n",
        "wandb: \tkerneldim: 5\n",
        "wandb: \tlr: 0.0003\n",
        "wandb: \tneurons: 20\n",
        "wandb: \toptimizer: rmsprop"
      ],
      "metadata": {
        "id": "nFb6tnjyjcuD"
      },
      "execution_count": null,
      "outputs": []
    },
    {
      "cell_type": "code",
      "source": [
        "cnn=create_CNN([32,64,128,256,512],[5,5,5,5,5],'relu','YES',0.2,20)"
      ],
      "metadata": {
        "id": "CNKV-PPmjdih"
      },
      "execution_count": 18,
      "outputs": []
    },
    {
      "cell_type": "code",
      "source": [
        "cnn.compile(optimizer= tf.keras.optimizers.RMSprop(learning_rate=0.003),\n",
        "              loss='sparse_categorical_crossentropy',\n",
        "              metrics=['accuracy'])\n",
        "# cnn.fit(train_data, batch_size=128,epochs=10,validation_data=val_data)\n",
        "cnn.fit(x_train,y_train, batch_size=128,epochs=10,validation_data=(x_val,y_val))"
      ],
      "metadata": {
        "colab": {
          "base_uri": "https://localhost:8080/"
        },
        "id": "5s19mer0i_vU",
        "outputId": "392f8db6-ba13-4327-d777-1418877c6cab"
      },
      "execution_count": 19,
      "outputs": [
        {
          "output_type": "stream",
          "name": "stdout",
          "text": [
            "Epoch 1/10\n",
            "71/71 [==============================] - 15s 195ms/step - loss: 4.2349 - accuracy: 0.1237 - val_loss: 12.2529 - val_accuracy: 0.1101\n",
            "Epoch 2/10\n",
            "71/71 [==============================] - 13s 179ms/step - loss: 2.3942 - accuracy: 0.1226 - val_loss: 3.2206 - val_accuracy: 0.1251\n",
            "Epoch 3/10\n",
            "71/71 [==============================] - 13s 178ms/step - loss: 2.2995 - accuracy: 0.1370 - val_loss: 2.6466 - val_accuracy: 0.1241\n",
            "Epoch 4/10\n",
            "71/71 [==============================] - 13s 181ms/step - loss: 2.2510 - accuracy: 0.1497 - val_loss: 2.5528 - val_accuracy: 0.1241\n",
            "Epoch 5/10\n",
            "71/71 [==============================] - 13s 180ms/step - loss: 2.2577 - accuracy: 0.1478 - val_loss: 2.3353 - val_accuracy: 0.1411\n",
            "Epoch 6/10\n",
            "71/71 [==============================] - 13s 177ms/step - loss: 2.2235 - accuracy: 0.1609 - val_loss: 2.2390 - val_accuracy: 0.1431\n",
            "Epoch 7/10\n",
            "71/71 [==============================] - 14s 193ms/step - loss: 2.2131 - accuracy: 0.1645 - val_loss: 2.2766 - val_accuracy: 0.1512\n",
            "Epoch 8/10\n",
            "71/71 [==============================] - 18s 257ms/step - loss: 2.2004 - accuracy: 0.1661 - val_loss: 2.2236 - val_accuracy: 0.1652\n",
            "Epoch 9/10\n",
            "71/71 [==============================] - 15s 209ms/step - loss: 2.1886 - accuracy: 0.1653 - val_loss: 2.2091 - val_accuracy: 0.1532\n",
            "Epoch 10/10\n",
            "71/71 [==============================] - 17s 235ms/step - loss: 2.1804 - accuracy: 0.1705 - val_loss: 2.2596 - val_accuracy: 0.1471\n"
          ]
        },
        {
          "output_type": "execute_result",
          "data": {
            "text/plain": [
              "<keras.callbacks.History at 0x7f965671c750>"
            ]
          },
          "metadata": {},
          "execution_count": 19
        }
      ]
    },
    {
      "cell_type": "code",
      "source": [
        ""
      ],
      "metadata": {
        "id": "t_3A_5JMi78O"
      },
      "execution_count": null,
      "outputs": []
    },
    {
      "cell_type": "code",
      "execution_count": 28,
      "metadata": {
        "id": "cUkprxMmffUx"
      },
      "outputs": [],
      "source": [
        "def conlay():\n",
        "  wandb.init(config=sweep_config, magic=True)  \n",
        "  f= wandb.config.flt \n",
        "  fo=  wandb.config.filterorg                           \n",
        "  fil=[ (int)(f*(fo)**i) if((int)(f*(fo)**i)>0) else  1 for i in range(5)]\n",
        "  kd=wandb.config.kerneldim\n",
        "  ker=[kd for i in range(5)]\n",
        "  if(wandb.config.activation==\"sigmoid\"):\n",
        "    activ=tf.keras.activations.sigmoid\n",
        "  elif(wandb.config.activation==\"tanh\"):\n",
        "    activ=tf.keras.activations.tanh\n",
        "  elif(wandb.config.activation==\"relu\"):\n",
        "    activ='relu'\n",
        "  else:\n",
        "    activ=tf.keras.activations.elu\n",
        "  if(wandb.config.optimizer==\"sgd\"):\n",
        "    optim = tf.keras.optimizers.SGD(learning_rate=wandb.config.lr)\n",
        "  elif(wandb.config.optimizer==\"adam\"):\n",
        "    optim = tf.keras.optimizers.Adam(learning_rate=wandb.config.lr)\n",
        "  elif(wandb.config.optimizer==\"momentum\"):\n",
        "    optim = tf.keras.optimizers.SGD(learning_rate=wandb.config.lr,momentum=wandb.config.gama)\n",
        "  elif(wandb.config.optimizer==\"rmsprop\"):\n",
        "    optim = tf.keras.optimizers.RMSprop(learning_rate=wandb.config.lr)\n",
        "      \n",
        "  cnn =create_CNN(fil,ker,activ,wandb.config.batchnormalisation,wandb.config.dropout,wandb.config.neurons)             \n",
        "  cnn.compile(optimizer=optim,\n",
        "              loss='sparse_categorical_crossentropy',\n",
        "              metrics=['accuracy'])\n",
        "  cnn.fit(x_train, y_train, batch_size=wandb.config.batchsize,epochs=wandb.config.epochs,validation_data=(x_val,y_val),callbacks=[wandb.keras.WandbCallback()])\n",
        "  del cnn\n"
      ]
    },
    {
      "cell_type": "code",
      "execution_count": 31,
      "metadata": {
        "colab": {
          "base_uri": "https://localhost:8080/"
        },
        "id": "d0KuX5F-g8Uj",
        "outputId": "c1032635-9a88-4013-f9c7-4755f1846af2"
      },
      "outputs": [
        {
          "output_type": "stream",
          "name": "stderr",
          "text": [
            "\u001b[34m\u001b[1mwandb\u001b[0m: Currently logged in as: \u001b[33mpratap49\u001b[0m (use `wandb login --relogin` to force relogin)\n"
          ]
        },
        {
          "output_type": "execute_result",
          "data": {
            "text/plain": [
              "True"
            ]
          },
          "metadata": {},
          "execution_count": 31
        }
      ],
      "source": [
        "wandb.login()\n"
      ]
    },
    {
      "cell_type": "code",
      "execution_count": null,
      "metadata": {
        "id": "X11w8RPeT58e"
      },
      "outputs": [],
      "source": [
        ""
      ]
    },
    {
      "cell_type": "code",
      "execution_count": 33,
      "metadata": {
        "colab": {
          "base_uri": "https://localhost:8080/",
          "height": 1000,
          "referenced_widgets": [
            "7ef836d7b07d48b0aa4079eb1da31960",
            "48be3102d11842ffa32572b9f6013420",
            "d3370a9fb4404249ab7f8705f0bb9a37",
            "81711802aac64c35893055b905a81079",
            "9e07bf8ef80a4685aa6085be38003e75",
            "46b5fd882e5147d1bfc541fb3914f37c",
            "e8c76d0c95804f0fa56ccccbfba4de06",
            "07d908bba3884461a7a03e0023c0202a",
            "2859c50f464f402f87b482c965bd8472",
            "08de017162be454c9a89135b085d2476",
            "c09289f627f7491d9ffc78a655f91a5c",
            "f283b7063d5845679936bfc5ee2ec5af",
            "0f9928f5244c4e73bc58c9d3b8e38e67",
            "e6b9ca42b8894affac91b4c12b27070a",
            "de72964ecb3a475e9b0d0096c22b3dfe",
            "6bf1d039932f4325a7c98939105e93fa",
            "e6984f92fdff440f8ad8336a67ff246d",
            "6242032b10ad41c6abc827d9496f5c81",
            "493d5028d3114cdd950e853f86e4e678",
            "91608ce1381849bd93a0e9b9f49b6ea4",
            "115680f71313498dab0801ced2b5c471",
            "32b56d1bb6994c219a1272a1d286251f",
            "a384a83101084bcca76e3497bdfba0f1",
            "089159ee13f74f4b84016cb0a1db2aa4",
            "d06244abaaab47979f15198cd9fee4a5",
            "28845748209b48d8a09a413c4ef64580",
            "fbc148c281f64588a23368e905992bdf",
            "512d4acb73814696b15b2b7725d48c4f",
            "d9f6166bf36a4249b64b8d5b246480e4",
            "99795eb23b2442f98f1590c8e82470d1",
            "dd25a2dc791640b385e18e7367920797",
            "f71eab71ad114b6995e5c69d92d2c11b",
            "81f1caddc1ce44c7a3a1370d96cf93ed",
            "1341faa7cdfc442faabf35fcfa888a1a",
            "e95390e99489476d8d44f54650d0f6d7",
            "e397631db2914b348d18e2b1f848852c",
            "9ec7ba7f5e2347e6b5032dc1f448b42e",
            "aff84d3298a343b9afde61a302f7252d",
            "4f2da2de42f34e09959472c652da3ea4",
            "d7211bba52be4c01ab3f64e0a960a912",
            "74acd0a173d24954a74e683e7301b8ed",
            "4bff6a53d65647a6bd73650c503b9945",
            "3a9c561b40fa4f5d909f4bfccb8ba221",
            "455f9b5b19f84105b511d4c0d020a464",
            "e220c0eae32d4d16bd87c2a088acaa5b",
            "9f4a5de1787e47c58d5a9a67dd8b5e33",
            "8fd6f021f68443b3936ca735e9fb6c9b",
            "cd19127d57144721b1323f1a059845da",
            "9748a4000c464d39a2c377a7ee40ac19",
            "f19baa779fb34104b31bddf9883848b3",
            "d1306c46b5c243eb8981b92a455a8888",
            "f4a43c9fa05a452ea32ecb7c6377badb",
            "90ff1a1d769d4822aca902719ca6d99f",
            "c2288d3408784dffbcc0263707f6d152",
            "7ee6363c38a6421b969e6472c969d7a7",
            "bb5e23d8b1d84ad6895e48ab4187b32f",
            "c2f01d658daa48069ec232c051cf4cad",
            "1b9ba0c943354d69931dc0253692fd07",
            "ee0707f141d943b0855bbee972de0a07",
            "a05ed90b333a435bbd48f7d35712ba38",
            "3473abbec5c44e21bdd5aff52e810074",
            "745969201704481ab15b123426f55c10",
            "b80f15c313c14a3a9c31dd3dc1660866",
            "961f8d3e9851406388eb02369c03cd67",
            "56a8d5c195d9448baae07fe85ea4e173",
            "71eb07d9ab3f4a15b92bd1f01e6d52a3",
            "46606fb455704448a944775e55398a11",
            "3ab9d71e015846bca9bf1de1d1c00b0e",
            "1b81e4fe8d514f0c95bbf6d098939ba9",
            "bae906885555439fac4ef0c9c6ec2457",
            "258e79f6ed574169b70fed8ab18f2423",
            "b1a65bcbf177411db8fce1af057d2a51",
            "d6c3c57d62554b06923133eefff3c57a",
            "5159a1bb3cb047198680f21f10cbf84c",
            "c723fb8375de48f2a949cee9f3418a32",
            "4e4c2393cdfe434dbb0818b172017167",
            "22f16912516647809c623ece60681144",
            "2ca8eba2cd194fc3a4741d4484e29389",
            "f03108308a2240ebbd5dfc2001310a05",
            "71a370bed96e430b83e3be467ad3c297",
            "6f71476c84b94bb7a876e452b9e12425",
            "5081d438e77b418cb733fc9d2a2099dc",
            "d172303e8f4e4c79933b977c59e42fb8",
            "0455390dd3a04ee28403a1f24c9b8167",
            "524c9be1226941029b00b8756893cfe0",
            "bb833f3da1bb46f8a85ad550fb5daa65",
            "a4c8667167eb4799a054766d5ec63af0",
            "5cc76f65e6c14a4d805a73f03b3369ce",
            "e02a1091c1a34359a31055253491032b",
            "b17d7fc956f7449887df9eba2d3436cb",
            "0e4879bc2a094538aafc363fded9a2cf",
            "3696f15e7f59459282ffbc2b7c11c3de",
            "9a047ad741c14888a73b939a5f967ca3",
            "60f16a332e9e43ef9fade08c3e68d2bb",
            "a8f656463f0b4ff285343d045c0553b2",
            "de5e73070bab4ba7a6bb6ca901556db5",
            "0744d93194174bf985f520610f98a427",
            "1cb683cc09984e68b7c33c0c5283ce0f",
            "6a9569537bb648099c4b361d9b8893b0",
            "24367485f09f4befbe28cba5e0178955",
            "67e2aeacdc324da2839316a62547c091",
            "26a6b39d51fa478f8b0a7a94c0fae41b",
            "6e5115b23428424a839252d08b4914b2",
            "e5ccd4cfbdfa49adadec2ccb5f27b13f",
            "7c196d6a59f14fdd9b492c8194e67b7f",
            "ca4f7f5f6872436f8a097c38c1463755",
            "e504ca266378488d8cadd64d6d9dc75c",
            "f4d20963145d42e980019a5d3068822d",
            "50032a92382d475296cdc2f3c6d8334c",
            "953a8fc6cf044af4a5f695a9142dd9a0",
            "944c7f4408204f5888d6e9afa981a361",
            "a125ca28788a4f23af2a3ba4af8d4ee5",
            "8523a989a931435db23f0df08eaf2e85",
            "0d03f18498bb4af1aa70f8690236bb90",
            "ffd2d6f0af634c689ad89a856fd26b99",
            "765d5aaa3d754a5f91104af8dcce5ee3",
            "a5e3c427e076429eb6cd9e43e4129769",
            "e164dab733cc49128ff58ddf8385ab8c",
            "e22b7003927c437aa223adb0039c61fb",
            "2b4265c7ea404f99b11a50a29a637184",
            "3925d3c2357e4de9bb80f7243e8ba82b",
            "0cf34df5a22b4d5cb8b353ae20f9afd7",
            "5ed973c6087949e488aba3b7c07e887d",
            "6e91de44c58245029d84198a4ba4b7ab",
            "ac56122621bc455c892ab88ab7a8751b",
            "db7b445ac4794ec68ed91c82259a0d46",
            "a90b6ca5ffe04fc99e9464b32376dd0d",
            "4e4cb636235b4713a9421588d1613a2b",
            "4c1dee721c794084a9f63d01a1ac6c53",
            "d10f9f263c7e469897164c2ed6c6b7a0",
            "5a6ee0026abe4170a86aa925c5e1d6b9",
            "3a561972c0cc41dc95440db9a24ca278",
            "b979f7c92ebb45adb8ccbe5e958ccdce",
            "d66acde74d454a1bb1b98a7f9193a527",
            "7253b8d039764b9982852094bb2f1329",
            "a65ce3abcb174a3da1c1ed5c6bc15550",
            "a87f155ef0074e85b4a3fe49983eddd5",
            "7051dbd548a74e6aa3c8a0d6d57b1382",
            "1088aaa847624a5d9ef13ee94896c5a0",
            "30958e16f6804e0a9291078f69e46d1d",
            "e2a2795f70ec4c6eba0503b79b1dd5e1",
            "ee9516965d9643bf9ea56307a34751e3",
            "20c6d430a45f4314bab04e98cf1d8336",
            "fb8f35cf1b8b4a45bdf2177686c9f1bb",
            "16fd5bed29c840eda53af78b0331bd78",
            "c6974932aaa24330b1f63444e65c0873",
            "01424fa38e6e4f2991893a41564870a6",
            "4164e17e1e504a91935ddc2a91899d26",
            "7829bf95ede44106bf1dbd47b11504f3",
            "afe4b970a09348918d208cdbf6abe6cd",
            "f243fe538fa7462dbcf063530eb00ad7",
            "cbf365dbdb5c453f8270dc4f31ba31a8",
            "b39b13c5109944b1ba15c5638ba196c0",
            "6ba1ffdf43044c0382f4b85bd25b4e9a",
            "29a9c47a8f9446b7a4c13e866b1515aa",
            "74d902273da943d8a4f9c40d4e06736f",
            "fb1a75542045407c9e729016cfa05d73",
            "17323977debd4d3fbf7dce6036a55f5d",
            "3199526c666e489390a07ba17026c81e",
            "0a5a7c5b8e0d4b7c96afe51405c9a55a",
            "43849d117d8e48c9aa2e0e5e7114a367",
            "28e2aa445ec84ea3a16e208ea7bb94a8",
            "9796bc3855ba4c9fb105faffe81930b6",
            "04c8c306a13b4ca99201d640da3f7539",
            "ddeb92e0583943be86aee062184e02d2",
            "c2bf72aefb10495496dc92e3488a2b37",
            "ef2d9ade793f40b397a816a6015521a5",
            "23c80f9028f543c98503987badd5ea97"
          ]
        },
        "id": "kBInLgbpg_T2",
        "outputId": "684a8ab2-9f46-409e-be24-b8980fc494c8"
      },
      "outputs": [
        {
          "output_type": "stream",
          "name": "stderr",
          "text": [
            "\u001b[34m\u001b[1mwandb\u001b[0m: Agent Starting Run: bc9tc6p7 with config:\n",
            "\u001b[34m\u001b[1mwandb\u001b[0m: \tactivation: tanh\n",
            "\u001b[34m\u001b[1mwandb\u001b[0m: \tbatchnormalisation: YES\n",
            "\u001b[34m\u001b[1mwandb\u001b[0m: \tbatchsize: 32\n",
            "\u001b[34m\u001b[1mwandb\u001b[0m: \tdropout: 0.1\n",
            "\u001b[34m\u001b[1mwandb\u001b[0m: \tepochs: 20\n",
            "\u001b[34m\u001b[1mwandb\u001b[0m: \tfilterorg: 0.5\n",
            "\u001b[34m\u001b[1mwandb\u001b[0m: \tflt: 32\n",
            "\u001b[34m\u001b[1mwandb\u001b[0m: \tkerneldim: 4\n",
            "\u001b[34m\u001b[1mwandb\u001b[0m: \tlr: 0.0001\n",
            "\u001b[34m\u001b[1mwandb\u001b[0m: \tneurons: 512\n",
            "\u001b[34m\u001b[1mwandb\u001b[0m: \toptimizer: adam\n"
          ]
        },
        {
          "output_type": "stream",
          "name": "stdout",
          "text": [
            "Create sweep with ID: uww8d6oe\n",
            "Sweep URL: https://wandb.ai/pratap49/A2-part-A1/sweeps/uww8d6oe\n"
          ]
        },
        {
          "output_type": "display_data",
          "data": {
            "text/plain": [
              "<IPython.core.display.HTML object>"
            ],
            "text/html": [
              "Tracking run with wandb version 0.12.11"
            ]
          },
          "metadata": {}
        },
        {
          "output_type": "display_data",
          "data": {
            "text/plain": [
              "<IPython.core.display.HTML object>"
            ],
            "text/html": [
              "Run data is saved locally in <code>/content/wandb/run-20220401_204035-bc9tc6p7</code>"
            ]
          },
          "metadata": {}
        },
        {
          "output_type": "display_data",
          "data": {
            "text/plain": [
              "<IPython.core.display.HTML object>"
            ],
            "text/html": [
              "Syncing run <strong><a href=\"https://wandb.ai/pratap49/A2-part-A1/runs/bc9tc6p7\" target=\"_blank\">distinctive-sweep-1</a></strong> to <a href=\"https://wandb.ai/pratap49/A2-part-A1\" target=\"_blank\">Weights & Biases</a> (<a href=\"https://wandb.me/run\" target=\"_blank\">docs</a>)<br/>Sweep page:  <a href=\"https://wandb.ai/pratap49/A2-part-A1/sweeps/uww8d6oe\" target=\"_blank\">https://wandb.ai/pratap49/A2-part-A1/sweeps/uww8d6oe</a>"
            ]
          },
          "metadata": {}
        },
        {
          "output_type": "display_data",
          "data": {
            "text/plain": [
              "<IPython.core.display.HTML object>"
            ],
            "text/html": [
              "Finishing last run (ID:bc9tc6p7) before initializing another..."
            ]
          },
          "metadata": {}
        },
        {
          "output_type": "stream",
          "name": "stdout",
          "text": [
            "\n"
          ]
        },
        {
          "output_type": "display_data",
          "data": {
            "text/plain": [
              "<IPython.core.display.HTML object>"
            ],
            "text/html": [
              "Waiting for W&B process to finish... <strong style=\"color:green\">(success).</strong>"
            ]
          },
          "metadata": {}
        },
        {
          "output_type": "display_data",
          "data": {
            "text/plain": [
              "VBox(children=(Label(value='0.000 MB of 0.000 MB uploaded (0.000 MB deduped)\\r'), FloatProgress(value=1.0, max…"
            ],
            "application/vnd.jupyter.widget-view+json": {
              "version_major": 2,
              "version_minor": 0,
              "model_id": "7ef836d7b07d48b0aa4079eb1da31960"
            }
          },
          "metadata": {}
        },
        {
          "output_type": "display_data",
          "data": {
            "text/plain": [
              "<IPython.core.display.HTML object>"
            ],
            "text/html": [
              "Synced <strong style=\"color:#cdcd00\">distinctive-sweep-1</strong>: <a href=\"https://wandb.ai/pratap49/A2-part-A1/runs/bc9tc6p7\" target=\"_blank\">https://wandb.ai/pratap49/A2-part-A1/runs/bc9tc6p7</a><br/>Synced 4 W&B file(s), 0 media file(s), 0 artifact file(s) and 0 other file(s)"
            ]
          },
          "metadata": {}
        },
        {
          "output_type": "display_data",
          "data": {
            "text/plain": [
              "<IPython.core.display.HTML object>"
            ],
            "text/html": [
              "Find logs at: <code>./wandb/run-20220401_204035-bc9tc6p7/logs</code>"
            ]
          },
          "metadata": {}
        },
        {
          "output_type": "display_data",
          "data": {
            "text/plain": [
              "<IPython.core.display.HTML object>"
            ],
            "text/html": [
              "Successfully finished last run (ID:bc9tc6p7). Initializing new run:<br/>"
            ]
          },
          "metadata": {}
        },
        {
          "output_type": "display_data",
          "data": {
            "text/plain": [
              "<IPython.core.display.HTML object>"
            ],
            "text/html": [
              "Tracking run with wandb version 0.12.11"
            ]
          },
          "metadata": {}
        },
        {
          "output_type": "display_data",
          "data": {
            "text/plain": [
              "<IPython.core.display.HTML object>"
            ],
            "text/html": [
              "Run data is saved locally in <code>/content/wandb/run-20220401_204043-bc9tc6p7</code>"
            ]
          },
          "metadata": {}
        },
        {
          "output_type": "display_data",
          "data": {
            "text/plain": [
              "<IPython.core.display.HTML object>"
            ],
            "text/html": [
              "Syncing run <strong><a href=\"https://wandb.ai/pratap49/A2-part-A1/runs/bc9tc6p7\" target=\"_blank\">distinctive-sweep-1</a></strong> to <a href=\"https://wandb.ai/pratap49/A2-part-A1\" target=\"_blank\">Weights & Biases</a> (<a href=\"https://wandb.me/run\" target=\"_blank\">docs</a>)<br/>Sweep page:  <a href=\"https://wandb.ai/pratap49/A2-part-A1/sweeps/uww8d6oe\" target=\"_blank\">https://wandb.ai/pratap49/A2-part-A1/sweeps/uww8d6oe</a>"
            ]
          },
          "metadata": {}
        },
        {
          "output_type": "stream",
          "name": "stdout",
          "text": [
            "Epoch 1/20\n",
            "282/282 [==============================] - 13s 43ms/step - loss: 2.2623 - accuracy: 0.1596 - val_loss: 2.2353 - val_accuracy: 0.1542 - _timestamp: 1648845671.0000 - _runtime: 22.0000\n",
            "Epoch 2/20\n",
            "282/282 [==============================] - 12s 41ms/step - loss: 2.1400 - accuracy: 0.2193 - val_loss: 2.1063 - val_accuracy: 0.2372 - _timestamp: 1648845682.0000 - _runtime: 33.0000\n",
            "Epoch 3/20\n",
            "282/282 [==============================] - 29s 103ms/step - loss: 2.0965 - accuracy: 0.2367 - val_loss: 2.0785 - val_accuracy: 0.2372 - _timestamp: 1648845711.0000 - _runtime: 62.0000\n",
            "Epoch 4/20\n",
            "282/282 [==============================] - 14s 48ms/step - loss: 2.0716 - accuracy: 0.2481 - val_loss: 2.0708 - val_accuracy: 0.2412 - _timestamp: 1648845725.0000 - _runtime: 76.0000\n",
            "Epoch 5/20\n",
            "282/282 [==============================] - 13s 45ms/step - loss: 2.0470 - accuracy: 0.2579 - val_loss: 2.0583 - val_accuracy: 0.2503 - _timestamp: 1648845738.0000 - _runtime: 89.0000\n",
            "Epoch 6/20\n",
            "282/282 [==============================] - 11s 40ms/step - loss: 2.0350 - accuracy: 0.2694 - val_loss: 2.0793 - val_accuracy: 0.2282 - _timestamp: 1648845750.0000 - _runtime: 101.0000\n",
            "Epoch 7/20\n",
            "282/282 [==============================] - 14s 48ms/step - loss: 2.0183 - accuracy: 0.2713 - val_loss: 2.0525 - val_accuracy: 0.2503 - _timestamp: 1648845763.0000 - _runtime: 114.0000\n",
            "Epoch 8/20\n",
            "282/282 [==============================] - 12s 42ms/step - loss: 2.0086 - accuracy: 0.2760 - val_loss: 2.0346 - val_accuracy: 0.2442 - _timestamp: 1648845775.0000 - _runtime: 126.0000\n",
            "Epoch 9/20\n",
            "282/282 [==============================] - 11s 40ms/step - loss: 1.9935 - accuracy: 0.2819 - val_loss: 2.0412 - val_accuracy: 0.2543 - _timestamp: 1648845787.0000 - _runtime: 138.0000\n",
            "Epoch 10/20\n",
            "282/282 [==============================] - 11s 40ms/step - loss: 1.9846 - accuracy: 0.2885 - val_loss: 2.0521 - val_accuracy: 0.2472 - _timestamp: 1648845798.0000 - _runtime: 149.0000\n",
            "Epoch 11/20\n",
            "282/282 [==============================] - 13s 47ms/step - loss: 1.9767 - accuracy: 0.2957 - val_loss: 2.0526 - val_accuracy: 0.2462 - _timestamp: 1648845811.0000 - _runtime: 162.0000\n",
            "Epoch 12/20\n",
            "282/282 [==============================] - 12s 42ms/step - loss: 1.9625 - accuracy: 0.2944 - val_loss: 2.0425 - val_accuracy: 0.2422 - _timestamp: 1648845823.0000 - _runtime: 174.0000\n",
            "Epoch 13/20\n",
            "282/282 [==============================] - 13s 44ms/step - loss: 1.9569 - accuracy: 0.3004 - val_loss: 2.0574 - val_accuracy: 0.2362 - _timestamp: 1648845836.0000 - _runtime: 187.0000\n",
            "Epoch 14/20\n",
            "282/282 [==============================] - 11s 40ms/step - loss: 1.9440 - accuracy: 0.3099 - val_loss: 2.0716 - val_accuracy: 0.2382 - _timestamp: 1648845848.0000 - _runtime: 199.0000\n",
            "Epoch 15/20\n",
            "282/282 [==============================] - 13s 47ms/step - loss: 1.9353 - accuracy: 0.3121 - val_loss: 2.0469 - val_accuracy: 0.2412 - _timestamp: 1648845862.0000 - _runtime: 213.0000\n",
            "Epoch 16/20\n",
            "282/282 [==============================] - 14s 51ms/step - loss: 1.9286 - accuracy: 0.3148 - val_loss: 2.0756 - val_accuracy: 0.2503 - _timestamp: 1648845876.0000 - _runtime: 227.0000\n",
            "Epoch 17/20\n",
            "282/282 [==============================] - 15s 52ms/step - loss: 1.9189 - accuracy: 0.3163 - val_loss: 2.0566 - val_accuracy: 0.2312 - _timestamp: 1648845891.0000 - _runtime: 242.0000\n",
            "Epoch 18/20\n",
            "282/282 [==============================] - 14s 48ms/step - loss: 1.9098 - accuracy: 0.3219 - val_loss: 2.0466 - val_accuracy: 0.2492 - _timestamp: 1648845904.0000 - _runtime: 255.0000\n",
            "Epoch 19/20\n",
            "282/282 [==============================] - 11s 40ms/step - loss: 1.9015 - accuracy: 0.3238 - val_loss: 2.0397 - val_accuracy: 0.2543 - _timestamp: 1648845915.0000 - _runtime: 266.0000\n",
            "Epoch 20/20\n",
            "282/282 [==============================] - 11s 39ms/step - loss: 1.8875 - accuracy: 0.3283 - val_loss: 2.0741 - val_accuracy: 0.2412 - _timestamp: 1648845926.0000 - _runtime: 277.0000\n",
            "\n"
          ]
        },
        {
          "output_type": "display_data",
          "data": {
            "text/plain": [
              "<IPython.core.display.HTML object>"
            ],
            "text/html": [
              "Waiting for W&B process to finish... <strong style=\"color:green\">(success).</strong>"
            ]
          },
          "metadata": {}
        },
        {
          "output_type": "display_data",
          "data": {
            "text/plain": [
              "VBox(children=(Label(value='0.621 MB of 0.621 MB uploaded (0.000 MB deduped)\\r'), FloatProgress(value=1.0, max…"
            ],
            "application/vnd.jupyter.widget-view+json": {
              "version_major": 2,
              "version_minor": 0,
              "model_id": "2859c50f464f402f87b482c965bd8472"
            }
          },
          "metadata": {}
        },
        {
          "output_type": "display_data",
          "data": {
            "text/plain": [
              "<IPython.core.display.HTML object>"
            ],
            "text/html": [
              "<style>\n",
              "    table.wandb td:nth-child(1) { padding: 0 10px; text-align: right }\n",
              "    .wandb-row { display: flex; flex-direction: row; flex-wrap: wrap; width: 100% }\n",
              "    .wandb-col { display: flex; flex-direction: column; flex-basis: 100%; flex: 1; padding: 10px; }\n",
              "    </style>\n",
              "<div class=\"wandb-row\"><div class=\"wandb-col\"><h3>Run history:</h3><br/><table class=\"wandb\"><tr><td>accuracy</td><td>▁▃▄▅▅▆▆▆▆▆▇▇▇▇▇▇████</td></tr><tr><td>epoch</td><td>▁▁▂▂▂▃▃▄▄▄▅▅▅▆▆▇▇▇██</td></tr><tr><td>loss</td><td>█▆▅▄▄▄▃▃▃▃▃▂▂▂▂▂▂▁▁▁</td></tr><tr><td>val_accuracy</td><td>▁▇▇▇█▆█▇██▇▇▇▇▇█▆██▇</td></tr><tr><td>val_loss</td><td>█▃▃▂▂▃▂▁▁▂▂▁▂▂▁▂▂▁▁▂</td></tr></table><br/></div><div class=\"wandb-col\"><h3>Run summary:</h3><br/><table class=\"wandb\"><tr><td>accuracy</td><td>0.32833</td></tr><tr><td>best_epoch</td><td>7</td></tr><tr><td>best_val_loss</td><td>2.0346</td></tr><tr><td>epoch</td><td>19</td></tr><tr><td>loss</td><td>1.88751</td></tr><tr><td>val_accuracy</td><td>0.24124</td></tr><tr><td>val_loss</td><td>2.07407</td></tr></table><br/></div></div>"
            ]
          },
          "metadata": {}
        },
        {
          "output_type": "display_data",
          "data": {
            "text/plain": [
              "<IPython.core.display.HTML object>"
            ],
            "text/html": [
              "Synced <strong style=\"color:#cdcd00\">distinctive-sweep-1</strong>: <a href=\"https://wandb.ai/pratap49/A2-part-A1/runs/bc9tc6p7\" target=\"_blank\">https://wandb.ai/pratap49/A2-part-A1/runs/bc9tc6p7</a><br/>Synced 5 W&B file(s), 1 media file(s), 0 artifact file(s) and 3 other file(s)"
            ]
          },
          "metadata": {}
        },
        {
          "output_type": "display_data",
          "data": {
            "text/plain": [
              "<IPython.core.display.HTML object>"
            ],
            "text/html": [
              "Find logs at: <code>./wandb/run-20220401_204043-bc9tc6p7/logs</code>"
            ]
          },
          "metadata": {}
        },
        {
          "output_type": "stream",
          "name": "stderr",
          "text": [
            "\u001b[34m\u001b[1mwandb\u001b[0m: Agent Starting Run: xt2ibl2t with config:\n",
            "\u001b[34m\u001b[1mwandb\u001b[0m: \tactivation: sigmoid\n",
            "\u001b[34m\u001b[1mwandb\u001b[0m: \tbatchnormalisation: YES\n",
            "\u001b[34m\u001b[1mwandb\u001b[0m: \tbatchsize: 16\n",
            "\u001b[34m\u001b[1mwandb\u001b[0m: \tdropout: 0.25\n",
            "\u001b[34m\u001b[1mwandb\u001b[0m: \tepochs: 15\n",
            "\u001b[34m\u001b[1mwandb\u001b[0m: \tfilterorg: 1\n",
            "\u001b[34m\u001b[1mwandb\u001b[0m: \tflt: 64\n",
            "\u001b[34m\u001b[1mwandb\u001b[0m: \tkerneldim: 3\n",
            "\u001b[34m\u001b[1mwandb\u001b[0m: \tlr: 0.0001\n",
            "\u001b[34m\u001b[1mwandb\u001b[0m: \tneurons: 512\n",
            "\u001b[34m\u001b[1mwandb\u001b[0m: \toptimizer: adam\n"
          ]
        },
        {
          "output_type": "display_data",
          "data": {
            "text/plain": [
              "<IPython.core.display.HTML object>"
            ],
            "text/html": [
              "Tracking run with wandb version 0.12.11"
            ]
          },
          "metadata": {}
        },
        {
          "output_type": "display_data",
          "data": {
            "text/plain": [
              "<IPython.core.display.HTML object>"
            ],
            "text/html": [
              "Run data is saved locally in <code>/content/wandb/run-20220401_204535-xt2ibl2t</code>"
            ]
          },
          "metadata": {}
        },
        {
          "output_type": "display_data",
          "data": {
            "text/plain": [
              "<IPython.core.display.HTML object>"
            ],
            "text/html": [
              "Syncing run <strong><a href=\"https://wandb.ai/pratap49/A2-part-A1/runs/xt2ibl2t\" target=\"_blank\">magic-sweep-2</a></strong> to <a href=\"https://wandb.ai/pratap49/A2-part-A1\" target=\"_blank\">Weights & Biases</a> (<a href=\"https://wandb.me/run\" target=\"_blank\">docs</a>)<br/>Sweep page:  <a href=\"https://wandb.ai/pratap49/A2-part-A1/sweeps/uww8d6oe\" target=\"_blank\">https://wandb.ai/pratap49/A2-part-A1/sweeps/uww8d6oe</a>"
            ]
          },
          "metadata": {}
        },
        {
          "output_type": "stream",
          "name": "stdout",
          "text": [
            "Epoch 1/15\n",
            "  6/563 [..............................] - ETA: 13s - loss: 2.4916 - accuracy: 0.1146WARNING:tensorflow:Callback method `on_train_batch_end` is slow compared to the batch time (batch time: 0.0127s vs `on_train_batch_end` time: 0.0139s). Check your callbacks.\n",
            "563/563 [==============================] - 24s 42ms/step - loss: 2.0563 - accuracy: 0.2694 - val_loss: 1.9141 - val_accuracy: 0.3103 - _timestamp: 1648845968.0000 - _runtime: 32.0000\n",
            "Epoch 2/15\n",
            "563/563 [==============================] - 24s 42ms/step - loss: 1.8689 - accuracy: 0.3458 - val_loss: 1.9012 - val_accuracy: 0.3293 - _timestamp: 1648845992.0000 - _runtime: 56.0000\n",
            "Epoch 3/15\n",
            "563/563 [==============================] - 24s 43ms/step - loss: 1.7651 - accuracy: 0.3793 - val_loss: 1.8841 - val_accuracy: 0.3353 - _timestamp: 1648846017.0000 - _runtime: 81.0000\n",
            "Epoch 4/15\n",
            "563/563 [==============================] - 24s 42ms/step - loss: 1.6624 - accuracy: 0.4327 - val_loss: 1.8457 - val_accuracy: 0.3554 - _timestamp: 1648846041.0000 - _runtime: 105.0000\n",
            "Epoch 5/15\n",
            "563/563 [==============================] - 23s 42ms/step - loss: 1.5773 - accuracy: 0.4648 - val_loss: 1.7858 - val_accuracy: 0.3864 - _timestamp: 1648846065.0000 - _runtime: 129.0000\n",
            "Epoch 6/15\n",
            "563/563 [==============================] - 23s 41ms/step - loss: 1.4880 - accuracy: 0.4959 - val_loss: 1.8135 - val_accuracy: 0.3604 - _timestamp: 1648846088.0000 - _runtime: 152.0000\n",
            "Epoch 7/15\n",
            "563/563 [==============================] - 22s 38ms/step - loss: 1.3924 - accuracy: 0.5356 - val_loss: 1.8617 - val_accuracy: 0.3804 - _timestamp: 1648846110.0000 - _runtime: 174.0000\n",
            "Epoch 8/15\n",
            "563/563 [==============================] - 23s 41ms/step - loss: 1.3003 - accuracy: 0.5629 - val_loss: 1.7801 - val_accuracy: 0.3904 - _timestamp: 1648846133.0000 - _runtime: 197.0000\n",
            "Epoch 9/15\n",
            "563/563 [==============================] - 25s 44ms/step - loss: 1.2038 - accuracy: 0.5993 - val_loss: 1.8435 - val_accuracy: 0.3784 - _timestamp: 1648846158.0000 - _runtime: 222.0000\n",
            "Epoch 10/15\n",
            "563/563 [==============================] - 25s 45ms/step - loss: 1.1058 - accuracy: 0.6371 - val_loss: 1.8924 - val_accuracy: 0.3764 - _timestamp: 1648846183.0000 - _runtime: 247.0000\n",
            "Epoch 11/15\n",
            "563/563 [==============================] - 23s 41ms/step - loss: 1.0071 - accuracy: 0.6779 - val_loss: 1.8724 - val_accuracy: 0.3764 - _timestamp: 1648846207.0000 - _runtime: 271.0000\n",
            "Epoch 12/15\n",
            "563/563 [==============================] - 24s 42ms/step - loss: 0.9064 - accuracy: 0.7088 - val_loss: 1.9012 - val_accuracy: 0.4024 - _timestamp: 1648846230.0000 - _runtime: 294.0000\n",
            "Epoch 13/15\n",
            "563/563 [==============================] - 22s 39ms/step - loss: 0.8348 - accuracy: 0.7345 - val_loss: 1.9855 - val_accuracy: 0.3864 - _timestamp: 1648846252.0000 - _runtime: 316.0000\n",
            "Epoch 14/15\n",
            "563/563 [==============================] - 23s 40ms/step - loss: 0.7503 - accuracy: 0.7633 - val_loss: 2.0441 - val_accuracy: 0.3634 - _timestamp: 1648846275.0000 - _runtime: 339.0000\n",
            "Epoch 15/15\n",
            "563/563 [==============================] - 23s 41ms/step - loss: 0.6597 - accuracy: 0.7975 - val_loss: 2.0964 - val_accuracy: 0.3774 - _timestamp: 1648846298.0000 - _runtime: 362.0000\n",
            "\n"
          ]
        },
        {
          "output_type": "display_data",
          "data": {
            "text/plain": [
              "<IPython.core.display.HTML object>"
            ],
            "text/html": [
              "Waiting for W&B process to finish... <strong style=\"color:green\">(success).</strong>"
            ]
          },
          "metadata": {}
        },
        {
          "output_type": "display_data",
          "data": {
            "text/plain": [
              "VBox(children=(Label(value='11.381 MB of 11.386 MB uploaded (0.000 MB deduped)\\r'), FloatProgress(value=0.9995…"
            ],
            "application/vnd.jupyter.widget-view+json": {
              "version_major": 2,
              "version_minor": 0,
              "model_id": "e6984f92fdff440f8ad8336a67ff246d"
            }
          },
          "metadata": {}
        },
        {
          "output_type": "display_data",
          "data": {
            "text/plain": [
              "<IPython.core.display.HTML object>"
            ],
            "text/html": [
              "<style>\n",
              "    table.wandb td:nth-child(1) { padding: 0 10px; text-align: right }\n",
              "    .wandb-row { display: flex; flex-direction: row; flex-wrap: wrap; width: 100% }\n",
              "    .wandb-col { display: flex; flex-direction: column; flex-basis: 100%; flex: 1; padding: 10px; }\n",
              "    </style>\n",
              "<div class=\"wandb-row\"><div class=\"wandb-col\"><h3>Run history:</h3><br/><table class=\"wandb\"><tr><td>accuracy</td><td>▁▂▂▃▄▄▅▅▅▆▆▇▇██</td></tr><tr><td>epoch</td><td>▁▁▂▃▃▃▄▅▅▅▆▇▇▇█</td></tr><tr><td>loss</td><td>█▇▇▆▆▅▅▄▄▃▃▂▂▁▁</td></tr><tr><td>val_accuracy</td><td>▁▂▃▄▇▅▆▇▆▆▆█▇▅▆</td></tr><tr><td>val_loss</td><td>▄▄▃▂▁▂▃▁▂▃▃▄▆▇█</td></tr></table><br/></div><div class=\"wandb-col\"><h3>Run summary:</h3><br/><table class=\"wandb\"><tr><td>accuracy</td><td>0.79749</td></tr><tr><td>best_epoch</td><td>7</td></tr><tr><td>best_val_loss</td><td>1.78014</td></tr><tr><td>epoch</td><td>14</td></tr><tr><td>loss</td><td>0.65975</td></tr><tr><td>val_accuracy</td><td>0.37738</td></tr><tr><td>val_loss</td><td>2.0964</td></tr></table><br/></div></div>"
            ]
          },
          "metadata": {}
        },
        {
          "output_type": "display_data",
          "data": {
            "text/plain": [
              "<IPython.core.display.HTML object>"
            ],
            "text/html": [
              "Synced <strong style=\"color:#cdcd00\">magic-sweep-2</strong>: <a href=\"https://wandb.ai/pratap49/A2-part-A1/runs/xt2ibl2t\" target=\"_blank\">https://wandb.ai/pratap49/A2-part-A1/runs/xt2ibl2t</a><br/>Synced 5 W&B file(s), 1 media file(s), 0 artifact file(s) and 3 other file(s)"
            ]
          },
          "metadata": {}
        },
        {
          "output_type": "display_data",
          "data": {
            "text/plain": [
              "<IPython.core.display.HTML object>"
            ],
            "text/html": [
              "Find logs at: <code>./wandb/run-20220401_204535-xt2ibl2t/logs</code>"
            ]
          },
          "metadata": {}
        },
        {
          "output_type": "stream",
          "name": "stderr",
          "text": [
            "\u001b[34m\u001b[1mwandb\u001b[0m: Agent Starting Run: h994w06f with config:\n",
            "\u001b[34m\u001b[1mwandb\u001b[0m: \tactivation: sigmoid\n",
            "\u001b[34m\u001b[1mwandb\u001b[0m: \tbatchnormalisation: NO\n",
            "\u001b[34m\u001b[1mwandb\u001b[0m: \tbatchsize: 16\n",
            "\u001b[34m\u001b[1mwandb\u001b[0m: \tdropout: 0.3\n",
            "\u001b[34m\u001b[1mwandb\u001b[0m: \tepochs: 20\n",
            "\u001b[34m\u001b[1mwandb\u001b[0m: \tfilterorg: 2\n",
            "\u001b[34m\u001b[1mwandb\u001b[0m: \tflt: 16\n",
            "\u001b[34m\u001b[1mwandb\u001b[0m: \tkerneldim: 7\n",
            "\u001b[34m\u001b[1mwandb\u001b[0m: \tlr: 0.0003\n",
            "\u001b[34m\u001b[1mwandb\u001b[0m: \tneurons: 64\n",
            "\u001b[34m\u001b[1mwandb\u001b[0m: \toptimizer: adam\n"
          ]
        },
        {
          "output_type": "display_data",
          "data": {
            "text/plain": [
              "<IPython.core.display.HTML object>"
            ],
            "text/html": [
              "Tracking run with wandb version 0.12.11"
            ]
          },
          "metadata": {}
        },
        {
          "output_type": "display_data",
          "data": {
            "text/plain": [
              "<IPython.core.display.HTML object>"
            ],
            "text/html": [
              "Run data is saved locally in <code>/content/wandb/run-20220401_205150-h994w06f</code>"
            ]
          },
          "metadata": {}
        },
        {
          "output_type": "display_data",
          "data": {
            "text/plain": [
              "<IPython.core.display.HTML object>"
            ],
            "text/html": [
              "Syncing run <strong><a href=\"https://wandb.ai/pratap49/A2-part-A1/runs/h994w06f\" target=\"_blank\">expert-sweep-3</a></strong> to <a href=\"https://wandb.ai/pratap49/A2-part-A1\" target=\"_blank\">Weights & Biases</a> (<a href=\"https://wandb.me/run\" target=\"_blank\">docs</a>)<br/>Sweep page:  <a href=\"https://wandb.ai/pratap49/A2-part-A1/sweeps/uww8d6oe\" target=\"_blank\">https://wandb.ai/pratap49/A2-part-A1/sweeps/uww8d6oe</a>"
            ]
          },
          "metadata": {}
        },
        {
          "output_type": "stream",
          "name": "stdout",
          "text": [
            "Epoch 1/20\n",
            "563/563 [==============================] - 20s 33ms/step - loss: 2.2160 - accuracy: 0.1832 - val_loss: 2.1684 - val_accuracy: 0.1912 - _timestamp: 1648846338.0000 - _runtime: 28.0000\n",
            "Epoch 2/20\n",
            "563/563 [==============================] - 18s 32ms/step - loss: 2.1138 - accuracy: 0.2359 - val_loss: 2.0750 - val_accuracy: 0.2312 - _timestamp: 1648846356.0000 - _runtime: 46.0000\n",
            "Epoch 3/20\n",
            "563/563 [==============================] - 15s 26ms/step - loss: 2.0647 - accuracy: 0.2579 - val_loss: 2.0431 - val_accuracy: 0.2683 - _timestamp: 1648846370.0000 - _runtime: 60.0000\n",
            "Epoch 4/20\n",
            "563/563 [==============================] - 18s 33ms/step - loss: 2.0115 - accuracy: 0.2842 - val_loss: 1.9855 - val_accuracy: 0.2883 - _timestamp: 1648846389.0000 - _runtime: 79.0000\n",
            "Epoch 5/20\n",
            "563/563 [==============================] - 20s 36ms/step - loss: 1.9491 - accuracy: 0.3127 - val_loss: 1.9401 - val_accuracy: 0.2883 - _timestamp: 1648846409.0000 - _runtime: 99.0000\n",
            "Epoch 6/20\n",
            "563/563 [==============================] - 18s 32ms/step - loss: 1.8888 - accuracy: 0.3377 - val_loss: 1.9451 - val_accuracy: 0.3013 - _timestamp: 1648846427.0000 - _runtime: 117.0000\n",
            "Epoch 7/20\n",
            "563/563 [==============================] - 20s 35ms/step - loss: 1.8245 - accuracy: 0.3657 - val_loss: 1.9179 - val_accuracy: 0.3113 - _timestamp: 1648846447.0000 - _runtime: 137.0000\n",
            "Epoch 8/20\n",
            "563/563 [==============================] - 18s 32ms/step - loss: 1.7406 - accuracy: 0.3958 - val_loss: 1.9125 - val_accuracy: 0.3183 - _timestamp: 1648846465.0000 - _runtime: 155.0000\n",
            "Epoch 9/20\n",
            "563/563 [==============================] - 16s 29ms/step - loss: 1.6356 - accuracy: 0.4415 - val_loss: 1.9558 - val_accuracy: 0.3023 - _timestamp: 1648846482.0000 - _runtime: 172.0000\n",
            "Epoch 10/20\n",
            "563/563 [==============================] - 17s 30ms/step - loss: 1.5133 - accuracy: 0.4887 - val_loss: 1.9367 - val_accuracy: 0.3303 - _timestamp: 1648846498.0000 - _runtime: 188.0000\n",
            "Epoch 11/20\n",
            "563/563 [==============================] - 16s 29ms/step - loss: 1.3592 - accuracy: 0.5460 - val_loss: 2.0495 - val_accuracy: 0.3083 - _timestamp: 1648846515.0000 - _runtime: 205.0000\n",
            "Epoch 12/20\n",
            "563/563 [==============================] - 17s 31ms/step - loss: 1.1923 - accuracy: 0.6114 - val_loss: 2.0646 - val_accuracy: 0.3293 - _timestamp: 1648846532.0000 - _runtime: 222.0000\n",
            "Epoch 13/20\n",
            "563/563 [==============================] - 16s 28ms/step - loss: 1.0206 - accuracy: 0.6767 - val_loss: 2.1286 - val_accuracy: 0.3253 - _timestamp: 1648846547.0000 - _runtime: 237.0000\n",
            "Epoch 14/20\n",
            "563/563 [==============================] - 16s 28ms/step - loss: 0.8245 - accuracy: 0.7475 - val_loss: 2.1994 - val_accuracy: 0.3293 - _timestamp: 1648846563.0000 - _runtime: 253.0000\n",
            "Epoch 15/20\n",
            "563/563 [==============================] - 15s 27ms/step - loss: 0.6683 - accuracy: 0.8052 - val_loss: 2.3488 - val_accuracy: 0.3243 - _timestamp: 1648846579.0000 - _runtime: 269.0000\n",
            "Epoch 16/20\n",
            "563/563 [==============================] - 20s 35ms/step - loss: 0.5412 - accuracy: 0.8444 - val_loss: 2.4433 - val_accuracy: 0.3133 - _timestamp: 1648846598.0000 - _runtime: 288.0000\n",
            "Epoch 17/20\n",
            "563/563 [==============================] - 18s 31ms/step - loss: 0.4360 - accuracy: 0.8773 - val_loss: 2.5243 - val_accuracy: 0.3033 - _timestamp: 1648846616.0000 - _runtime: 306.0000\n",
            "Epoch 18/20\n",
            "563/563 [==============================] - 17s 29ms/step - loss: 0.3574 - accuracy: 0.9023 - val_loss: 2.7205 - val_accuracy: 0.3023 - _timestamp: 1648846633.0000 - _runtime: 323.0000\n",
            "Epoch 19/20\n",
            "563/563 [==============================] - 18s 33ms/step - loss: 0.2964 - accuracy: 0.9174 - val_loss: 2.8236 - val_accuracy: 0.2993 - _timestamp: 1648846651.0000 - _runtime: 341.0000\n",
            "Epoch 20/20\n",
            "563/563 [==============================] - 19s 33ms/step - loss: 0.2370 - accuracy: 0.9332 - val_loss: 2.8963 - val_accuracy: 0.3033 - _timestamp: 1648846670.0000 - _runtime: 360.0000\n",
            "\n"
          ]
        },
        {
          "output_type": "display_data",
          "data": {
            "text/plain": [
              "<IPython.core.display.HTML object>"
            ],
            "text/html": [
              "Waiting for W&B process to finish... <strong style=\"color:green\">(success).</strong>"
            ]
          },
          "metadata": {}
        },
        {
          "output_type": "display_data",
          "data": {
            "text/plain": [
              "VBox(children=(Label(value='24.775 MB of 24.781 MB uploaded (0.000 MB deduped)\\r'), FloatProgress(value=0.9997…"
            ],
            "application/vnd.jupyter.widget-view+json": {
              "version_major": 2,
              "version_minor": 0,
              "model_id": "d06244abaaab47979f15198cd9fee4a5"
            }
          },
          "metadata": {}
        },
        {
          "output_type": "display_data",
          "data": {
            "text/plain": [
              "<IPython.core.display.HTML object>"
            ],
            "text/html": [
              "<style>\n",
              "    table.wandb td:nth-child(1) { padding: 0 10px; text-align: right }\n",
              "    .wandb-row { display: flex; flex-direction: row; flex-wrap: wrap; width: 100% }\n",
              "    .wandb-col { display: flex; flex-direction: column; flex-basis: 100%; flex: 1; padding: 10px; }\n",
              "    </style>\n",
              "<div class=\"wandb-row\"><div class=\"wandb-col\"><h3>Run history:</h3><br/><table class=\"wandb\"><tr><td>accuracy</td><td>▁▁▂▂▂▂▃▃▃▄▄▅▆▆▇▇▇███</td></tr><tr><td>epoch</td><td>▁▁▂▂▂▃▃▄▄▄▅▅▅▆▆▇▇▇██</td></tr><tr><td>loss</td><td>██▇▇▇▇▇▆▆▆▅▄▄▃▃▂▂▁▁▁</td></tr><tr><td>val_accuracy</td><td>▁▃▅▆▆▇▇▇▇█▇████▇▇▇▆▇</td></tr><tr><td>val_loss</td><td>▃▂▂▂▁▁▁▁▁▁▂▂▃▃▄▅▅▇▇█</td></tr></table><br/></div><div class=\"wandb-col\"><h3>Run summary:</h3><br/><table class=\"wandb\"><tr><td>accuracy</td><td>0.9332</td></tr><tr><td>best_epoch</td><td>7</td></tr><tr><td>best_val_loss</td><td>1.91252</td></tr><tr><td>epoch</td><td>19</td></tr><tr><td>loss</td><td>0.23697</td></tr><tr><td>val_accuracy</td><td>0.3033</td></tr><tr><td>val_loss</td><td>2.89629</td></tr></table><br/></div></div>"
            ]
          },
          "metadata": {}
        },
        {
          "output_type": "display_data",
          "data": {
            "text/plain": [
              "<IPython.core.display.HTML object>"
            ],
            "text/html": [
              "Synced <strong style=\"color:#cdcd00\">expert-sweep-3</strong>: <a href=\"https://wandb.ai/pratap49/A2-part-A1/runs/h994w06f\" target=\"_blank\">https://wandb.ai/pratap49/A2-part-A1/runs/h994w06f</a><br/>Synced 5 W&B file(s), 1 media file(s), 0 artifact file(s) and 3 other file(s)"
            ]
          },
          "metadata": {}
        },
        {
          "output_type": "display_data",
          "data": {
            "text/plain": [
              "<IPython.core.display.HTML object>"
            ],
            "text/html": [
              "Find logs at: <code>./wandb/run-20220401_205150-h994w06f/logs</code>"
            ]
          },
          "metadata": {}
        },
        {
          "output_type": "stream",
          "name": "stderr",
          "text": [
            "\u001b[34m\u001b[1mwandb\u001b[0m: Agent Starting Run: l7odii8b with config:\n",
            "\u001b[34m\u001b[1mwandb\u001b[0m: \tactivation: relu\n",
            "\u001b[34m\u001b[1mwandb\u001b[0m: \tbatchnormalisation: NO\n",
            "\u001b[34m\u001b[1mwandb\u001b[0m: \tbatchsize: 128\n",
            "\u001b[34m\u001b[1mwandb\u001b[0m: \tdropout: 0.3\n",
            "\u001b[34m\u001b[1mwandb\u001b[0m: \tepochs: 20\n",
            "\u001b[34m\u001b[1mwandb\u001b[0m: \tfilterorg: 0.5\n",
            "\u001b[34m\u001b[1mwandb\u001b[0m: \tflt: 32\n",
            "\u001b[34m\u001b[1mwandb\u001b[0m: \tkerneldim: 5\n",
            "\u001b[34m\u001b[1mwandb\u001b[0m: \tlr: 0.002\n",
            "\u001b[34m\u001b[1mwandb\u001b[0m: \tneurons: 64\n",
            "\u001b[34m\u001b[1mwandb\u001b[0m: \toptimizer: adam\n"
          ]
        },
        {
          "output_type": "display_data",
          "data": {
            "text/plain": [
              "<IPython.core.display.HTML object>"
            ],
            "text/html": [
              "Tracking run with wandb version 0.12.11"
            ]
          },
          "metadata": {}
        },
        {
          "output_type": "display_data",
          "data": {
            "text/plain": [
              "<IPython.core.display.HTML object>"
            ],
            "text/html": [
              "Run data is saved locally in <code>/content/wandb/run-20220401_205801-l7odii8b</code>"
            ]
          },
          "metadata": {}
        },
        {
          "output_type": "display_data",
          "data": {
            "text/plain": [
              "<IPython.core.display.HTML object>"
            ],
            "text/html": [
              "Syncing run <strong><a href=\"https://wandb.ai/pratap49/A2-part-A1/runs/l7odii8b\" target=\"_blank\">bumbling-sweep-4</a></strong> to <a href=\"https://wandb.ai/pratap49/A2-part-A1\" target=\"_blank\">Weights & Biases</a> (<a href=\"https://wandb.me/run\" target=\"_blank\">docs</a>)<br/>Sweep page:  <a href=\"https://wandb.ai/pratap49/A2-part-A1/sweeps/uww8d6oe\" target=\"_blank\">https://wandb.ai/pratap49/A2-part-A1/sweeps/uww8d6oe</a>"
            ]
          },
          "metadata": {}
        },
        {
          "output_type": "stream",
          "name": "stdout",
          "text": [
            "Epoch 1/20\n",
            "71/71 [==============================] - 11s 148ms/step - loss: 2.3038 - accuracy: 0.0963 - val_loss: 2.3026 - val_accuracy: 0.1001 - _timestamp: 1648846701.0000 - _runtime: 19.0000\n",
            "Epoch 2/20\n",
            "71/71 [==============================] - 11s 159ms/step - loss: 2.3030 - accuracy: 0.0966 - val_loss: 2.3026 - val_accuracy: 0.1001 - _timestamp: 1648846713.0000 - _runtime: 31.0000\n",
            "Epoch 3/20\n",
            "71/71 [==============================] - 10s 137ms/step - loss: 2.3028 - accuracy: 0.0945 - val_loss: 2.3026 - val_accuracy: 0.1001 - _timestamp: 1648846722.0000 - _runtime: 40.0000\n",
            "Epoch 4/20\n",
            "71/71 [==============================] - 9s 126ms/step - loss: 2.3030 - accuracy: 0.0966 - val_loss: 2.3026 - val_accuracy: 0.1021 - _timestamp: 1648846731.0000 - _runtime: 49.0000\n",
            "Epoch 5/20\n",
            "71/71 [==============================] - 10s 135ms/step - loss: 2.3028 - accuracy: 0.0941 - val_loss: 2.3026 - val_accuracy: 0.1001 - _timestamp: 1648846741.0000 - _runtime: 59.0000\n",
            "Epoch 6/20\n",
            "71/71 [==============================] - 12s 165ms/step - loss: 2.3028 - accuracy: 0.0960 - val_loss: 2.3026 - val_accuracy: 0.1001 - _timestamp: 1648846753.0000 - _runtime: 71.0000\n",
            "Epoch 7/20\n",
            "71/71 [==============================] - 12s 168ms/step - loss: 2.3028 - accuracy: 0.0965 - val_loss: 2.3026 - val_accuracy: 0.1011 - _timestamp: 1648846765.0000 - _runtime: 83.0000\n",
            "Epoch 8/20\n",
            "71/71 [==============================] - 9s 130ms/step - loss: 2.3027 - accuracy: 0.0975 - val_loss: 2.3025 - val_accuracy: 0.1021 - _timestamp: 1648846775.0000 - _runtime: 93.0000\n",
            "Epoch 9/20\n",
            "71/71 [==============================] - 10s 134ms/step - loss: 2.3028 - accuracy: 0.0887 - val_loss: 2.3026 - val_accuracy: 0.1001 - _timestamp: 1648846784.0000 - _runtime: 102.0000\n",
            "Epoch 10/20\n",
            "71/71 [==============================] - 9s 124ms/step - loss: 2.3029 - accuracy: 0.0996 - val_loss: 2.3026 - val_accuracy: 0.1001 - _timestamp: 1648846793.0000 - _runtime: 111.0000\n",
            "Epoch 11/20\n",
            "71/71 [==============================] - 11s 152ms/step - loss: 2.3029 - accuracy: 0.0980 - val_loss: 2.3026 - val_accuracy: 0.1001 - _timestamp: 1648846804.0000 - _runtime: 122.0000\n",
            "Epoch 12/20\n",
            "71/71 [==============================] - 11s 150ms/step - loss: 2.3028 - accuracy: 0.0977 - val_loss: 2.3026 - val_accuracy: 0.1001 - _timestamp: 1648846815.0000 - _runtime: 133.0000\n",
            "Epoch 13/20\n",
            "71/71 [==============================] - 9s 132ms/step - loss: 2.3028 - accuracy: 0.0939 - val_loss: 2.3026 - val_accuracy: 0.1001 - _timestamp: 1648846825.0000 - _runtime: 143.0000\n",
            "Epoch 14/20\n",
            "71/71 [==============================] - 13s 179ms/step - loss: 2.3028 - accuracy: 0.0928 - val_loss: 2.3026 - val_accuracy: 0.1001 - _timestamp: 1648846838.0000 - _runtime: 156.0000\n",
            "Epoch 15/20\n",
            "71/71 [==============================] - 10s 138ms/step - loss: 2.3028 - accuracy: 0.0989 - val_loss: 2.3026 - val_accuracy: 0.1001 - _timestamp: 1648846848.0000 - _runtime: 166.0000\n",
            "Epoch 16/20\n",
            "71/71 [==============================] - 11s 158ms/step - loss: 2.3028 - accuracy: 0.0938 - val_loss: 2.3026 - val_accuracy: 0.1001 - _timestamp: 1648846859.0000 - _runtime: 177.0000\n",
            "Epoch 17/20\n",
            "71/71 [==============================] - 10s 147ms/step - loss: 2.3028 - accuracy: 0.0977 - val_loss: 2.3026 - val_accuracy: 0.1001 - _timestamp: 1648846870.0000 - _runtime: 188.0000\n",
            "Epoch 18/20\n",
            "71/71 [==============================] - 10s 148ms/step - loss: 2.3028 - accuracy: 0.0933 - val_loss: 2.3026 - val_accuracy: 0.1001 - _timestamp: 1648846880.0000 - _runtime: 198.0000\n",
            "Epoch 19/20\n",
            "71/71 [==============================] - 10s 144ms/step - loss: 2.3028 - accuracy: 0.0951 - val_loss: 2.3026 - val_accuracy: 0.1001 - _timestamp: 1648846891.0000 - _runtime: 209.0000\n",
            "Epoch 20/20\n",
            "71/71 [==============================] - 10s 135ms/step - loss: 2.3027 - accuracy: 0.1000 - val_loss: 2.3026 - val_accuracy: 0.1001 - _timestamp: 1648846900.0000 - _runtime: 218.0000\n",
            "\n"
          ]
        },
        {
          "output_type": "display_data",
          "data": {
            "text/plain": [
              "<IPython.core.display.HTML object>"
            ],
            "text/html": [
              "Waiting for W&B process to finish... <strong style=\"color:green\">(success).</strong>"
            ]
          },
          "metadata": {}
        },
        {
          "output_type": "display_data",
          "data": {
            "text/plain": [
              "VBox(children=(Label(value='0.388 MB of 0.393 MB uploaded (0.000 MB deduped)\\r'), FloatProgress(value=0.986058…"
            ],
            "application/vnd.jupyter.widget-view+json": {
              "version_major": 2,
              "version_minor": 0,
              "model_id": "81f1caddc1ce44c7a3a1370d96cf93ed"
            }
          },
          "metadata": {}
        },
        {
          "output_type": "display_data",
          "data": {
            "text/plain": [
              "<IPython.core.display.HTML object>"
            ],
            "text/html": [
              "<style>\n",
              "    table.wandb td:nth-child(1) { padding: 0 10px; text-align: right }\n",
              "    .wandb-row { display: flex; flex-direction: row; flex-wrap: wrap; width: 100% }\n",
              "    .wandb-col { display: flex; flex-direction: column; flex-basis: 100%; flex: 1; padding: 10px; }\n",
              "    </style>\n",
              "<div class=\"wandb-row\"><div class=\"wandb-col\"><h3>Run history:</h3><br/><table class=\"wandb\"><tr><td>accuracy</td><td>▆▆▅▆▄▆▆▆▁█▇▇▄▄▇▄▇▄▅█</td></tr><tr><td>epoch</td><td>▁▁▂▂▂▃▃▄▄▄▅▅▅▆▆▇▇▇██</td></tr><tr><td>loss</td><td>█▃▂▃▁▂▂▁▂▂▂▁▂▂▁▂▂▂▂▁</td></tr><tr><td>val_accuracy</td><td>▁▁▁█▁▁▅█▁▁▁▁▁▁▁▁▁▁▁▁</td></tr><tr><td>val_loss</td><td>▆▇▆▇▇▇▆▁▇██▇▇▇███▇▇█</td></tr></table><br/></div><div class=\"wandb-col\"><h3>Run summary:</h3><br/><table class=\"wandb\"><tr><td>accuracy</td><td>0.10003</td></tr><tr><td>best_epoch</td><td>7</td></tr><tr><td>best_val_loss</td><td>2.30246</td></tr><tr><td>epoch</td><td>19</td></tr><tr><td>loss</td><td>2.3027</td></tr><tr><td>val_accuracy</td><td>0.1001</td></tr><tr><td>val_loss</td><td>2.30259</td></tr></table><br/></div></div>"
            ]
          },
          "metadata": {}
        },
        {
          "output_type": "display_data",
          "data": {
            "text/plain": [
              "<IPython.core.display.HTML object>"
            ],
            "text/html": [
              "Synced <strong style=\"color:#cdcd00\">bumbling-sweep-4</strong>: <a href=\"https://wandb.ai/pratap49/A2-part-A1/runs/l7odii8b\" target=\"_blank\">https://wandb.ai/pratap49/A2-part-A1/runs/l7odii8b</a><br/>Synced 5 W&B file(s), 1 media file(s), 0 artifact file(s) and 3 other file(s)"
            ]
          },
          "metadata": {}
        },
        {
          "output_type": "display_data",
          "data": {
            "text/plain": [
              "<IPython.core.display.HTML object>"
            ],
            "text/html": [
              "Find logs at: <code>./wandb/run-20220401_205801-l7odii8b/logs</code>"
            ]
          },
          "metadata": {}
        },
        {
          "output_type": "stream",
          "name": "stderr",
          "text": [
            "\u001b[34m\u001b[1mwandb\u001b[0m: Sweep Agent: Waiting for job.\n",
            "\u001b[34m\u001b[1mwandb\u001b[0m: Job received.\n",
            "\u001b[34m\u001b[1mwandb\u001b[0m: Agent Starting Run: 44weun1b with config:\n",
            "\u001b[34m\u001b[1mwandb\u001b[0m: \tactivation: tanh\n",
            "\u001b[34m\u001b[1mwandb\u001b[0m: \tbatchnormalisation: NO\n",
            "\u001b[34m\u001b[1mwandb\u001b[0m: \tbatchsize: 16\n",
            "\u001b[34m\u001b[1mwandb\u001b[0m: \tdropout: 0.3\n",
            "\u001b[34m\u001b[1mwandb\u001b[0m: \tepochs: 30\n",
            "\u001b[34m\u001b[1mwandb\u001b[0m: \tfilterorg: 0.5\n",
            "\u001b[34m\u001b[1mwandb\u001b[0m: \tflt: 16\n",
            "\u001b[34m\u001b[1mwandb\u001b[0m: \tkerneldim: 5\n",
            "\u001b[34m\u001b[1mwandb\u001b[0m: \tlr: 0.001\n",
            "\u001b[34m\u001b[1mwandb\u001b[0m: \tneurons: 512\n",
            "\u001b[34m\u001b[1mwandb\u001b[0m: \toptimizer: adam\n"
          ]
        },
        {
          "output_type": "display_data",
          "data": {
            "text/plain": [
              "<IPython.core.display.HTML object>"
            ],
            "text/html": [
              "Tracking run with wandb version 0.12.11"
            ]
          },
          "metadata": {}
        },
        {
          "output_type": "display_data",
          "data": {
            "text/plain": [
              "<IPython.core.display.HTML object>"
            ],
            "text/html": [
              "Run data is saved locally in <code>/content/wandb/run-20220401_210158-44weun1b</code>"
            ]
          },
          "metadata": {}
        },
        {
          "output_type": "display_data",
          "data": {
            "text/plain": [
              "<IPython.core.display.HTML object>"
            ],
            "text/html": [
              "Syncing run <strong><a href=\"https://wandb.ai/pratap49/A2-part-A1/runs/44weun1b\" target=\"_blank\">sleek-sweep-5</a></strong> to <a href=\"https://wandb.ai/pratap49/A2-part-A1\" target=\"_blank\">Weights & Biases</a> (<a href=\"https://wandb.me/run\" target=\"_blank\">docs</a>)<br/>Sweep page:  <a href=\"https://wandb.ai/pratap49/A2-part-A1/sweeps/uww8d6oe\" target=\"_blank\">https://wandb.ai/pratap49/A2-part-A1/sweeps/uww8d6oe</a>"
            ]
          },
          "metadata": {}
        },
        {
          "output_type": "stream",
          "name": "stdout",
          "text": [
            "Epoch 1/30\n",
            "563/563 [==============================] - 13s 22ms/step - loss: 2.3049 - accuracy: 0.1018 - val_loss: 2.3042 - val_accuracy: 0.1001 - _timestamp: 1648846940.0000 - _runtime: 22.0000\n",
            "Epoch 2/30\n",
            "563/563 [==============================] - 12s 22ms/step - loss: 2.3041 - accuracy: 0.0974 - val_loss: 2.3027 - val_accuracy: 0.1001 - _timestamp: 1648846952.0000 - _runtime: 34.0000\n",
            "Epoch 3/30\n",
            "563/563 [==============================] - 10s 17ms/step - loss: 2.3037 - accuracy: 0.0961 - val_loss: 2.3035 - val_accuracy: 0.1001 - _timestamp: 1648846962.0000 - _runtime: 44.0000\n",
            "Epoch 4/30\n",
            "563/563 [==============================] - 9s 16ms/step - loss: 2.3039 - accuracy: 0.0989 - val_loss: 2.3026 - val_accuracy: 0.1001 - _timestamp: 1648846970.0000 - _runtime: 52.0000\n",
            "Epoch 5/30\n",
            "563/563 [==============================] - 10s 18ms/step - loss: 2.3033 - accuracy: 0.1050 - val_loss: 2.3027 - val_accuracy: 0.1001 - _timestamp: 1648846980.0000 - _runtime: 62.0000\n",
            "Epoch 6/30\n",
            "563/563 [==============================] - 10s 17ms/step - loss: 2.3036 - accuracy: 0.0964 - val_loss: 2.3026 - val_accuracy: 0.1001 - _timestamp: 1648846990.0000 - _runtime: 72.0000\n",
            "Epoch 7/30\n",
            "563/563 [==============================] - 10s 18ms/step - loss: 2.3034 - accuracy: 0.0969 - val_loss: 2.3027 - val_accuracy: 0.1001 - _timestamp: 1648847001.0000 - _runtime: 83.0000\n",
            "Epoch 8/30\n",
            "563/563 [==============================] - 10s 17ms/step - loss: 2.3033 - accuracy: 0.0993 - val_loss: 2.3027 - val_accuracy: 0.1001 - _timestamp: 1648847010.0000 - _runtime: 92.0000\n",
            "Epoch 9/30\n",
            "563/563 [==============================] - 12s 21ms/step - loss: 2.3034 - accuracy: 0.0989 - val_loss: 2.3028 - val_accuracy: 0.1001 - _timestamp: 1648847022.0000 - _runtime: 104.0000\n",
            "Epoch 10/30\n",
            "563/563 [==============================] - 10s 18ms/step - loss: 2.3035 - accuracy: 0.1003 - val_loss: 2.3030 - val_accuracy: 0.1001 - _timestamp: 1648847032.0000 - _runtime: 114.0000\n",
            "Epoch 11/30\n",
            "563/563 [==============================] - 14s 25ms/step - loss: 2.3035 - accuracy: 0.0944 - val_loss: 2.3032 - val_accuracy: 0.1001 - _timestamp: 1648847047.0000 - _runtime: 129.0000\n",
            "Epoch 12/30\n",
            "563/563 [==============================] - 10s 19ms/step - loss: 2.3035 - accuracy: 0.0925 - val_loss: 2.3031 - val_accuracy: 0.1001 - _timestamp: 1648847057.0000 - _runtime: 139.0000\n",
            "Epoch 13/30\n",
            "563/563 [==============================] - 10s 17ms/step - loss: 2.3034 - accuracy: 0.0971 - val_loss: 2.3026 - val_accuracy: 0.1001 - _timestamp: 1648847067.0000 - _runtime: 149.0000\n",
            "Epoch 14/30\n",
            "563/563 [==============================] - 12s 22ms/step - loss: 2.3035 - accuracy: 0.0969 - val_loss: 2.3026 - val_accuracy: 0.1001 - _timestamp: 1648847079.0000 - _runtime: 161.0000\n",
            "Epoch 15/30\n",
            "563/563 [==============================] - 10s 18ms/step - loss: 2.3034 - accuracy: 0.0995 - val_loss: 2.3027 - val_accuracy: 0.1001 - _timestamp: 1648847089.0000 - _runtime: 171.0000\n",
            "Epoch 16/30\n",
            "563/563 [==============================] - 12s 21ms/step - loss: 2.3034 - accuracy: 0.0964 - val_loss: 2.3032 - val_accuracy: 0.1001 - _timestamp: 1648847101.0000 - _runtime: 183.0000\n",
            "Epoch 17/30\n",
            "563/563 [==============================] - 9s 16ms/step - loss: 2.3034 - accuracy: 0.0963 - val_loss: 2.3027 - val_accuracy: 0.1001 - _timestamp: 1648847111.0000 - _runtime: 193.0000\n",
            "Epoch 18/30\n",
            "563/563 [==============================] - 10s 19ms/step - loss: 2.3034 - accuracy: 0.0967 - val_loss: 2.3046 - val_accuracy: 0.1001 - _timestamp: 1648847121.0000 - _runtime: 203.0000\n",
            "Epoch 19/30\n",
            "563/563 [==============================] - 10s 19ms/step - loss: 2.3035 - accuracy: 0.0979 - val_loss: 2.3029 - val_accuracy: 0.0991 - _timestamp: 1648847132.0000 - _runtime: 214.0000\n",
            "Epoch 20/30\n",
            "563/563 [==============================] - 11s 20ms/step - loss: 2.3034 - accuracy: 0.0989 - val_loss: 2.3078 - val_accuracy: 0.1001 - _timestamp: 1648847143.0000 - _runtime: 225.0000\n",
            "Epoch 21/30\n",
            "563/563 [==============================] - 10s 18ms/step - loss: 2.3039 - accuracy: 0.0950 - val_loss: 2.3028 - val_accuracy: 0.1001 - _timestamp: 1648847153.0000 - _runtime: 235.0000\n",
            "Epoch 22/30\n",
            "563/563 [==============================] - 9s 17ms/step - loss: 2.3035 - accuracy: 0.0979 - val_loss: 2.3027 - val_accuracy: 0.1001 - _timestamp: 1648847163.0000 - _runtime: 245.0000\n",
            "Epoch 23/30\n",
            "563/563 [==============================] - 12s 22ms/step - loss: 2.3031 - accuracy: 0.1036 - val_loss: 2.3026 - val_accuracy: 0.1001 - _timestamp: 1648847175.0000 - _runtime: 257.0000\n",
            "Epoch 24/30\n",
            "563/563 [==============================] - 11s 19ms/step - loss: 2.3035 - accuracy: 0.0984 - val_loss: 2.3028 - val_accuracy: 0.0991 - _timestamp: 1648847186.0000 - _runtime: 268.0000\n",
            "Epoch 25/30\n",
            "563/563 [==============================] - 10s 18ms/step - loss: 2.3034 - accuracy: 0.1020 - val_loss: 2.3027 - val_accuracy: 0.1001 - _timestamp: 1648847196.0000 - _runtime: 278.0000\n",
            "Epoch 26/30\n",
            "563/563 [==============================] - 10s 18ms/step - loss: 2.3035 - accuracy: 0.0970 - val_loss: 2.3027 - val_accuracy: 0.1001 - _timestamp: 1648847206.0000 - _runtime: 288.0000\n",
            "Epoch 27/30\n",
            "563/563 [==============================] - 10s 17ms/step - loss: 2.3034 - accuracy: 0.0955 - val_loss: 2.3028 - val_accuracy: 0.1001 - _timestamp: 1648847216.0000 - _runtime: 298.0000\n",
            "Epoch 28/30\n",
            "563/563 [==============================] - 10s 17ms/step - loss: 2.3033 - accuracy: 0.0999 - val_loss: 2.3027 - val_accuracy: 0.1001 - _timestamp: 1648847226.0000 - _runtime: 308.0000\n",
            "Epoch 29/30\n",
            "563/563 [==============================] - 12s 21ms/step - loss: 2.3035 - accuracy: 0.0997 - val_loss: 2.3036 - val_accuracy: 0.0991 - _timestamp: 1648847238.0000 - _runtime: 320.0000\n",
            "Epoch 30/30\n",
            "563/563 [==============================] - 10s 17ms/step - loss: 2.3033 - accuracy: 0.0997 - val_loss: 2.3027 - val_accuracy: 0.1001 - _timestamp: 1648847248.0000 - _runtime: 330.0000\n",
            "\n"
          ]
        },
        {
          "output_type": "display_data",
          "data": {
            "text/plain": [
              "<IPython.core.display.HTML object>"
            ],
            "text/html": [
              "Waiting for W&B process to finish... <strong style=\"color:green\">(success).</strong>"
            ]
          },
          "metadata": {}
        },
        {
          "output_type": "display_data",
          "data": {
            "text/plain": [
              "VBox(children=(Label(value='0.326 MB of 0.333 MB uploaded (0.000 MB deduped)\\r'), FloatProgress(value=0.977767…"
            ],
            "application/vnd.jupyter.widget-view+json": {
              "version_major": 2,
              "version_minor": 0,
              "model_id": "74acd0a173d24954a74e683e7301b8ed"
            }
          },
          "metadata": {}
        },
        {
          "output_type": "display_data",
          "data": {
            "text/plain": [
              "<IPython.core.display.HTML object>"
            ],
            "text/html": [
              "<style>\n",
              "    table.wandb td:nth-child(1) { padding: 0 10px; text-align: right }\n",
              "    .wandb-row { display: flex; flex-direction: row; flex-wrap: wrap; width: 100% }\n",
              "    .wandb-col { display: flex; flex-direction: column; flex-basis: 100%; flex: 1; padding: 10px; }\n",
              "    </style>\n",
              "<div class=\"wandb-row\"><div class=\"wandb-col\"><h3>Run history:</h3><br/><table class=\"wandb\"><tr><td>accuracy</td><td>▆▄▃▅█▃▃▅▅▅▂▁▄▃▅▃▃▃▄▅▂▄▇▄▆▄▃▅▅▅</td></tr><tr><td>epoch</td><td>▁▁▁▂▂▂▂▃▃▃▃▄▄▄▄▅▅▅▅▆▆▆▆▇▇▇▇███</td></tr><tr><td>loss</td><td>█▅▃▄▂▃▂▂▂▂▃▃▂▃▂▂▂▂▃▂▄▂▁▃▂▃▂▂▃▂</td></tr><tr><td>val_accuracy</td><td>██████████████████▁████▁████▁█</td></tr><tr><td>val_loss</td><td>▃▁▂▁▁▁▁▁▁▂▂▂▁▁▁▂▁▄▁█▁▁▁▁▁▁▁▁▂▁</td></tr></table><br/></div><div class=\"wandb-col\"><h3>Run summary:</h3><br/><table class=\"wandb\"><tr><td>accuracy</td><td>0.0997</td></tr><tr><td>best_epoch</td><td>5</td></tr><tr><td>best_val_loss</td><td>2.30258</td></tr><tr><td>epoch</td><td>29</td></tr><tr><td>loss</td><td>2.30327</td></tr><tr><td>val_accuracy</td><td>0.1001</td></tr><tr><td>val_loss</td><td>2.30267</td></tr></table><br/></div></div>"
            ]
          },
          "metadata": {}
        },
        {
          "output_type": "display_data",
          "data": {
            "text/plain": [
              "<IPython.core.display.HTML object>"
            ],
            "text/html": [
              "Synced <strong style=\"color:#cdcd00\">sleek-sweep-5</strong>: <a href=\"https://wandb.ai/pratap49/A2-part-A1/runs/44weun1b\" target=\"_blank\">https://wandb.ai/pratap49/A2-part-A1/runs/44weun1b</a><br/>Synced 5 W&B file(s), 1 media file(s), 0 artifact file(s) and 3 other file(s)"
            ]
          },
          "metadata": {}
        },
        {
          "output_type": "display_data",
          "data": {
            "text/plain": [
              "<IPython.core.display.HTML object>"
            ],
            "text/html": [
              "Find logs at: <code>./wandb/run-20220401_210158-44weun1b/logs</code>"
            ]
          },
          "metadata": {}
        },
        {
          "output_type": "stream",
          "name": "stderr",
          "text": [
            "\u001b[34m\u001b[1mwandb\u001b[0m: Agent Starting Run: 5w8n3bx4 with config:\n",
            "\u001b[34m\u001b[1mwandb\u001b[0m: \tactivation: tanh\n",
            "\u001b[34m\u001b[1mwandb\u001b[0m: \tbatchnormalisation: YES\n",
            "\u001b[34m\u001b[1mwandb\u001b[0m: \tbatchsize: 128\n",
            "\u001b[34m\u001b[1mwandb\u001b[0m: \tdropout: 0.1\n",
            "\u001b[34m\u001b[1mwandb\u001b[0m: \tepochs: 20\n",
            "\u001b[34m\u001b[1mwandb\u001b[0m: \tfilterorg: 1\n",
            "\u001b[34m\u001b[1mwandb\u001b[0m: \tflt: 32\n",
            "\u001b[34m\u001b[1mwandb\u001b[0m: \tkerneldim: 4\n",
            "\u001b[34m\u001b[1mwandb\u001b[0m: \tlr: 0.0001\n",
            "\u001b[34m\u001b[1mwandb\u001b[0m: \tneurons: 32\n",
            "\u001b[34m\u001b[1mwandb\u001b[0m: \toptimizer: adam\n"
          ]
        },
        {
          "output_type": "display_data",
          "data": {
            "text/plain": [
              "<IPython.core.display.HTML object>"
            ],
            "text/html": [
              "Tracking run with wandb version 0.12.11"
            ]
          },
          "metadata": {}
        },
        {
          "output_type": "display_data",
          "data": {
            "text/plain": [
              "<IPython.core.display.HTML object>"
            ],
            "text/html": [
              "Run data is saved locally in <code>/content/wandb/run-20220401_210741-5w8n3bx4</code>"
            ]
          },
          "metadata": {}
        },
        {
          "output_type": "display_data",
          "data": {
            "text/plain": [
              "<IPython.core.display.HTML object>"
            ],
            "text/html": [
              "Syncing run <strong><a href=\"https://wandb.ai/pratap49/A2-part-A1/runs/5w8n3bx4\" target=\"_blank\">splendid-sweep-6</a></strong> to <a href=\"https://wandb.ai/pratap49/A2-part-A1\" target=\"_blank\">Weights & Biases</a> (<a href=\"https://wandb.me/run\" target=\"_blank\">docs</a>)<br/>Sweep page:  <a href=\"https://wandb.ai/pratap49/A2-part-A1/sweeps/uww8d6oe\" target=\"_blank\">https://wandb.ai/pratap49/A2-part-A1/sweeps/uww8d6oe</a>"
            ]
          },
          "metadata": {}
        },
        {
          "output_type": "stream",
          "name": "stdout",
          "text": [
            "Epoch 1/20\n",
            " 6/71 [=>............................] - ETA: 7s - loss: 2.7041 - accuracy: 0.0820WARNING:tensorflow:Callback method `on_train_batch_end` is slow compared to the batch time (batch time: 0.0511s vs `on_train_batch_end` time: 0.0565s). Check your callbacks.\n",
            "71/71 [==============================] - 15s 200ms/step - loss: 2.4044 - accuracy: 0.1499 - val_loss: 2.3238 - val_accuracy: 0.1171 - _timestamp: 1648847285.0000 - _runtime: 24.0000\n",
            "Epoch 2/20\n",
            "71/71 [==============================] - 12s 165ms/step - loss: 2.1723 - accuracy: 0.2289 - val_loss: 2.3600 - val_accuracy: 0.1191 - _timestamp: 1648847297.0000 - _runtime: 36.0000\n",
            "Epoch 3/20\n",
            "71/71 [==============================] - 12s 167ms/step - loss: 2.0802 - accuracy: 0.2641 - val_loss: 2.2709 - val_accuracy: 0.1642 - _timestamp: 1648847309.0000 - _runtime: 48.0000\n",
            "Epoch 4/20\n",
            "71/71 [==============================] - 10s 141ms/step - loss: 2.0217 - accuracy: 0.2894 - val_loss: 2.1631 - val_accuracy: 0.2192 - _timestamp: 1648847319.0000 - _runtime: 58.0000\n",
            "Epoch 5/20\n",
            "71/71 [==============================] - 13s 177ms/step - loss: 1.9679 - accuracy: 0.3102 - val_loss: 2.0867 - val_accuracy: 0.2523 - _timestamp: 1648847332.0000 - _runtime: 71.0000\n",
            "Epoch 6/20\n",
            "71/71 [==============================] - 11s 157ms/step - loss: 1.9232 - accuracy: 0.3266 - val_loss: 2.0613 - val_accuracy: 0.2683 - _timestamp: 1648847343.0000 - _runtime: 82.0000\n",
            "Epoch 7/20\n",
            "71/71 [==============================] - 10s 137ms/step - loss: 1.8804 - accuracy: 0.3443 - val_loss: 2.0428 - val_accuracy: 0.2743 - _timestamp: 1648847353.0000 - _runtime: 92.0000\n",
            "Epoch 8/20\n",
            "71/71 [==============================] - 11s 157ms/step - loss: 1.8404 - accuracy: 0.3650 - val_loss: 2.0289 - val_accuracy: 0.2813 - _timestamp: 1648847364.0000 - _runtime: 103.0000\n",
            "Epoch 9/20\n",
            "71/71 [==============================] - 12s 174ms/step - loss: 1.8017 - accuracy: 0.3773 - val_loss: 2.0190 - val_accuracy: 0.2803 - _timestamp: 1648847376.0000 - _runtime: 115.0000\n",
            "Epoch 10/20\n",
            "71/71 [==============================] - 12s 169ms/step - loss: 1.7625 - accuracy: 0.3979 - val_loss: 2.0215 - val_accuracy: 0.2863 - _timestamp: 1648847388.0000 - _runtime: 127.0000\n",
            "Epoch 11/20\n",
            "71/71 [==============================] - 12s 170ms/step - loss: 1.7323 - accuracy: 0.4135 - val_loss: 2.0206 - val_accuracy: 0.2863 - _timestamp: 1648847401.0000 - _runtime: 140.0000\n",
            "Epoch 12/20\n",
            "71/71 [==============================] - 11s 152ms/step - loss: 1.6877 - accuracy: 0.4243 - val_loss: 2.0170 - val_accuracy: 0.2773 - _timestamp: 1648847411.0000 - _runtime: 150.0000\n",
            "Epoch 13/20\n",
            "71/71 [==============================] - 12s 169ms/step - loss: 1.6556 - accuracy: 0.4435 - val_loss: 2.0135 - val_accuracy: 0.2793 - _timestamp: 1648847423.0000 - _runtime: 162.0000\n",
            "Epoch 14/20\n",
            "71/71 [==============================] - 10s 141ms/step - loss: 1.6234 - accuracy: 0.4528 - val_loss: 2.0164 - val_accuracy: 0.2843 - _timestamp: 1648847434.0000 - _runtime: 173.0000\n",
            "Epoch 15/20\n",
            "71/71 [==============================] - 13s 184ms/step - loss: 1.5867 - accuracy: 0.4682 - val_loss: 2.0113 - val_accuracy: 0.2813 - _timestamp: 1648847446.0000 - _runtime: 185.0000\n",
            "Epoch 16/20\n",
            "71/71 [==============================] - 12s 174ms/step - loss: 1.5579 - accuracy: 0.4826 - val_loss: 2.0269 - val_accuracy: 0.2973 - _timestamp: 1648847459.0000 - _runtime: 198.0000\n",
            "Epoch 17/20\n",
            "71/71 [==============================] - 13s 184ms/step - loss: 1.5156 - accuracy: 0.4991 - val_loss: 2.0442 - val_accuracy: 0.2803 - _timestamp: 1648847473.0000 - _runtime: 212.0000\n",
            "Epoch 18/20\n",
            "71/71 [==============================] - 12s 171ms/step - loss: 1.4778 - accuracy: 0.5177 - val_loss: 2.0363 - val_accuracy: 0.2733 - _timestamp: 1648847485.0000 - _runtime: 224.0000\n",
            "Epoch 19/20\n",
            "71/71 [==============================] - 12s 169ms/step - loss: 1.4412 - accuracy: 0.5313 - val_loss: 2.0422 - val_accuracy: 0.2903 - _timestamp: 1648847497.0000 - _runtime: 236.0000\n",
            "Epoch 20/20\n",
            "71/71 [==============================] - 10s 145ms/step - loss: 1.4143 - accuracy: 0.5407 - val_loss: 2.0555 - val_accuracy: 0.2883 - _timestamp: 1648847507.0000 - _runtime: 246.0000\n",
            "\n"
          ]
        },
        {
          "output_type": "display_data",
          "data": {
            "text/plain": [
              "<IPython.core.display.HTML object>"
            ],
            "text/html": [
              "Waiting for W&B process to finish... <strong style=\"color:green\">(success).</strong>"
            ]
          },
          "metadata": {}
        },
        {
          "output_type": "display_data",
          "data": {
            "text/plain": [
              "VBox(children=(Label(value='1.189 MB of 1.189 MB uploaded (0.000 MB deduped)\\r'), FloatProgress(value=1.0, max…"
            ],
            "application/vnd.jupyter.widget-view+json": {
              "version_major": 2,
              "version_minor": 0,
              "model_id": "9748a4000c464d39a2c377a7ee40ac19"
            }
          },
          "metadata": {}
        },
        {
          "output_type": "display_data",
          "data": {
            "text/plain": [
              "<IPython.core.display.HTML object>"
            ],
            "text/html": [
              "<style>\n",
              "    table.wandb td:nth-child(1) { padding: 0 10px; text-align: right }\n",
              "    .wandb-row { display: flex; flex-direction: row; flex-wrap: wrap; width: 100% }\n",
              "    .wandb-col { display: flex; flex-direction: column; flex-basis: 100%; flex: 1; padding: 10px; }\n",
              "    </style>\n",
              "<div class=\"wandb-row\"><div class=\"wandb-col\"><h3>Run history:</h3><br/><table class=\"wandb\"><tr><td>accuracy</td><td>▁▂▃▃▄▄▄▅▅▅▆▆▆▆▇▇▇███</td></tr><tr><td>epoch</td><td>▁▁▂▂▂▃▃▄▄▄▅▅▅▆▆▇▇▇██</td></tr><tr><td>loss</td><td>█▆▆▅▅▅▄▄▄▃▃▃▃▂▂▂▂▁▁▁</td></tr><tr><td>val_accuracy</td><td>▁▁▃▅▆▇▇▇▇██▇▇▇▇█▇▇██</td></tr><tr><td>val_loss</td><td>▇█▆▄▃▂▂▁▁▁▁▁▁▁▁▁▂▂▂▂</td></tr></table><br/></div><div class=\"wandb-col\"><h3>Run summary:</h3><br/><table class=\"wandb\"><tr><td>accuracy</td><td>0.54074</td></tr><tr><td>best_epoch</td><td>14</td></tr><tr><td>best_val_loss</td><td>2.01125</td></tr><tr><td>epoch</td><td>19</td></tr><tr><td>loss</td><td>1.41433</td></tr><tr><td>val_accuracy</td><td>0.28829</td></tr><tr><td>val_loss</td><td>2.05549</td></tr></table><br/></div></div>"
            ]
          },
          "metadata": {}
        },
        {
          "output_type": "display_data",
          "data": {
            "text/plain": [
              "<IPython.core.display.HTML object>"
            ],
            "text/html": [
              "Synced <strong style=\"color:#cdcd00\">splendid-sweep-6</strong>: <a href=\"https://wandb.ai/pratap49/A2-part-A1/runs/5w8n3bx4\" target=\"_blank\">https://wandb.ai/pratap49/A2-part-A1/runs/5w8n3bx4</a><br/>Synced 5 W&B file(s), 1 media file(s), 0 artifact file(s) and 3 other file(s)"
            ]
          },
          "metadata": {}
        },
        {
          "output_type": "display_data",
          "data": {
            "text/plain": [
              "<IPython.core.display.HTML object>"
            ],
            "text/html": [
              "Find logs at: <code>./wandb/run-20220401_210741-5w8n3bx4/logs</code>"
            ]
          },
          "metadata": {}
        },
        {
          "output_type": "stream",
          "name": "stderr",
          "text": [
            "\u001b[34m\u001b[1mwandb\u001b[0m: Agent Starting Run: nj89fuak with config:\n",
            "\u001b[34m\u001b[1mwandb\u001b[0m: \tactivation: tanh\n",
            "\u001b[34m\u001b[1mwandb\u001b[0m: \tbatchnormalisation: YES\n",
            "\u001b[34m\u001b[1mwandb\u001b[0m: \tbatchsize: 16\n",
            "\u001b[34m\u001b[1mwandb\u001b[0m: \tdropout: 0\n",
            "\u001b[34m\u001b[1mwandb\u001b[0m: \tepochs: 20\n",
            "\u001b[34m\u001b[1mwandb\u001b[0m: \tfilterorg: 0.5\n",
            "\u001b[34m\u001b[1mwandb\u001b[0m: \tflt: 16\n",
            "\u001b[34m\u001b[1mwandb\u001b[0m: \tkerneldim: 7\n",
            "\u001b[34m\u001b[1mwandb\u001b[0m: \tlr: 0.001\n",
            "\u001b[34m\u001b[1mwandb\u001b[0m: \tneurons: 64\n",
            "\u001b[34m\u001b[1mwandb\u001b[0m: \toptimizer: adam\n"
          ]
        },
        {
          "output_type": "display_data",
          "data": {
            "text/plain": [
              "<IPython.core.display.HTML object>"
            ],
            "text/html": [
              "Tracking run with wandb version 0.12.11"
            ]
          },
          "metadata": {}
        },
        {
          "output_type": "display_data",
          "data": {
            "text/plain": [
              "<IPython.core.display.HTML object>"
            ],
            "text/html": [
              "Run data is saved locally in <code>/content/wandb/run-20220401_211158-nj89fuak</code>"
            ]
          },
          "metadata": {}
        },
        {
          "output_type": "display_data",
          "data": {
            "text/plain": [
              "<IPython.core.display.HTML object>"
            ],
            "text/html": [
              "Syncing run <strong><a href=\"https://wandb.ai/pratap49/A2-part-A1/runs/nj89fuak\" target=\"_blank\">ruby-sweep-7</a></strong> to <a href=\"https://wandb.ai/pratap49/A2-part-A1\" target=\"_blank\">Weights & Biases</a> (<a href=\"https://wandb.me/run\" target=\"_blank\">docs</a>)<br/>Sweep page:  <a href=\"https://wandb.ai/pratap49/A2-part-A1/sweeps/uww8d6oe\" target=\"_blank\">https://wandb.ai/pratap49/A2-part-A1/sweeps/uww8d6oe</a>"
            ]
          },
          "metadata": {}
        },
        {
          "output_type": "stream",
          "name": "stdout",
          "text": [
            "Epoch 1/20\n",
            "563/563 [==============================] - 14s 23ms/step - loss: 2.2515 - accuracy: 0.1462 - val_loss: 2.2229 - val_accuracy: 0.1512 - _timestamp: 1648847540.0000 - _runtime: 22.0000\n",
            "Epoch 2/20\n",
            "563/563 [==============================] - 15s 26ms/step - loss: 2.2228 - accuracy: 0.1578 - val_loss: 2.2215 - val_accuracy: 0.1572 - _timestamp: 1648847555.0000 - _runtime: 37.0000\n",
            "Epoch 3/20\n",
            "563/563 [==============================] - 13s 24ms/step - loss: 2.2197 - accuracy: 0.1612 - val_loss: 2.2258 - val_accuracy: 0.1431 - _timestamp: 1648847569.0000 - _runtime: 51.0000\n",
            "Epoch 4/20\n",
            "563/563 [==============================] - 13s 23ms/step - loss: 2.2100 - accuracy: 0.1631 - val_loss: 2.2665 - val_accuracy: 0.1522 - _timestamp: 1648847582.0000 - _runtime: 64.0000\n",
            "Epoch 5/20\n",
            "563/563 [==============================] - 14s 24ms/step - loss: 2.2051 - accuracy: 0.1679 - val_loss: 2.2171 - val_accuracy: 0.1572 - _timestamp: 1648847596.0000 - _runtime: 78.0000\n",
            "Epoch 6/20\n",
            "563/563 [==============================] - 15s 26ms/step - loss: 2.1953 - accuracy: 0.1651 - val_loss: 2.2090 - val_accuracy: 0.1622 - _timestamp: 1648847611.0000 - _runtime: 93.0000\n",
            "Epoch 7/20\n",
            "563/563 [==============================] - 13s 24ms/step - loss: 2.1852 - accuracy: 0.1735 - val_loss: 2.2059 - val_accuracy: 0.1682 - _timestamp: 1648847625.0000 - _runtime: 107.0000\n",
            "Epoch 8/20\n",
            "563/563 [==============================] - 11s 20ms/step - loss: 2.1822 - accuracy: 0.1774 - val_loss: 2.1891 - val_accuracy: 0.1612 - _timestamp: 1648847636.0000 - _runtime: 118.0000\n",
            "Epoch 9/20\n",
            "563/563 [==============================] - 13s 22ms/step - loss: 2.1783 - accuracy: 0.1785 - val_loss: 2.2199 - val_accuracy: 0.1602 - _timestamp: 1648847649.0000 - _runtime: 131.0000\n",
            "Epoch 10/20\n",
            "563/563 [==============================] - 14s 24ms/step - loss: 2.1673 - accuracy: 0.1782 - val_loss: 2.1798 - val_accuracy: 0.1792 - _timestamp: 1648847663.0000 - _runtime: 145.0000\n",
            "Epoch 11/20\n",
            "563/563 [==============================] - 12s 21ms/step - loss: 2.1627 - accuracy: 0.1813 - val_loss: 2.1837 - val_accuracy: 0.1662 - _timestamp: 1648847675.0000 - _runtime: 157.0000\n",
            "Epoch 12/20\n",
            "563/563 [==============================] - 16s 28ms/step - loss: 2.1576 - accuracy: 0.1821 - val_loss: 2.1722 - val_accuracy: 0.1642 - _timestamp: 1648847691.0000 - _runtime: 173.0000\n",
            "Epoch 13/20\n",
            "563/563 [==============================] - 14s 26ms/step - loss: 2.1578 - accuracy: 0.1838 - val_loss: 2.1600 - val_accuracy: 0.1872 - _timestamp: 1648847706.0000 - _runtime: 188.0000\n",
            "Epoch 14/20\n",
            "563/563 [==============================] - 13s 23ms/step - loss: 2.1550 - accuracy: 0.1854 - val_loss: 2.1743 - val_accuracy: 0.1682 - _timestamp: 1648847719.0000 - _runtime: 201.0000\n",
            "Epoch 15/20\n",
            "563/563 [==============================] - 11s 20ms/step - loss: 2.1505 - accuracy: 0.1836 - val_loss: 2.1712 - val_accuracy: 0.1792 - _timestamp: 1648847731.0000 - _runtime: 213.0000\n",
            "Epoch 16/20\n",
            "563/563 [==============================] - 15s 26ms/step - loss: 2.1453 - accuracy: 0.1824 - val_loss: 2.1655 - val_accuracy: 0.1772 - _timestamp: 1648847746.0000 - _runtime: 228.0000\n",
            "Epoch 17/20\n",
            "563/563 [==============================] - 13s 23ms/step - loss: 2.1416 - accuracy: 0.1847 - val_loss: 2.1744 - val_accuracy: 0.1732 - _timestamp: 1648847759.0000 - _runtime: 241.0000\n",
            "Epoch 18/20\n",
            "563/563 [==============================] - 14s 25ms/step - loss: 2.1425 - accuracy: 0.1852 - val_loss: 2.1781 - val_accuracy: 0.1762 - _timestamp: 1648847774.0000 - _runtime: 256.0000\n",
            "Epoch 19/20\n",
            "563/563 [==============================] - 12s 22ms/step - loss: 2.1399 - accuracy: 0.1931 - val_loss: 2.1647 - val_accuracy: 0.1782 - _timestamp: 1648847786.0000 - _runtime: 268.0000\n",
            "Epoch 20/20\n",
            "563/563 [==============================] - 11s 20ms/step - loss: 2.1385 - accuracy: 0.1897 - val_loss: 2.1627 - val_accuracy: 0.1722 - _timestamp: 1648847798.0000 - _runtime: 280.0000\n",
            "\n"
          ]
        },
        {
          "output_type": "display_data",
          "data": {
            "text/plain": [
              "<IPython.core.display.HTML object>"
            ],
            "text/html": [
              "Waiting for W&B process to finish... <strong style=\"color:green\">(success).</strong>"
            ]
          },
          "metadata": {}
        },
        {
          "output_type": "display_data",
          "data": {
            "text/plain": [
              "VBox(children=(Label(value='0.351 MB of 0.351 MB uploaded (0.000 MB deduped)\\r'), FloatProgress(value=1.0, max…"
            ],
            "application/vnd.jupyter.widget-view+json": {
              "version_major": 2,
              "version_minor": 0,
              "model_id": "c2f01d658daa48069ec232c051cf4cad"
            }
          },
          "metadata": {}
        },
        {
          "output_type": "display_data",
          "data": {
            "text/plain": [
              "<IPython.core.display.HTML object>"
            ],
            "text/html": [
              "<style>\n",
              "    table.wandb td:nth-child(1) { padding: 0 10px; text-align: right }\n",
              "    .wandb-row { display: flex; flex-direction: row; flex-wrap: wrap; width: 100% }\n",
              "    .wandb-col { display: flex; flex-direction: column; flex-basis: 100%; flex: 1; padding: 10px; }\n",
              "    </style>\n",
              "<div class=\"wandb-row\"><div class=\"wandb-col\"><h3>Run history:</h3><br/><table class=\"wandb\"><tr><td>accuracy</td><td>▁▃▃▄▄▄▅▆▆▆▆▆▇▇▇▆▇▇██</td></tr><tr><td>epoch</td><td>▁▁▂▂▂▃▃▄▄▄▅▅▅▆▆▇▇▇██</td></tr><tr><td>loss</td><td>█▆▆▅▅▅▄▄▃▃▂▂▂▂▂▁▁▁▁▁</td></tr><tr><td>val_accuracy</td><td>▂▃▁▂▃▄▅▄▄▇▅▄█▅▇▆▆▆▇▆</td></tr><tr><td>val_loss</td><td>▅▅▅█▅▄▄▃▅▂▃▂▁▂▂▁▂▂▁▁</td></tr></table><br/></div><div class=\"wandb-col\"><h3>Run summary:</h3><br/><table class=\"wandb\"><tr><td>accuracy</td><td>0.18973</td></tr><tr><td>best_epoch</td><td>12</td></tr><tr><td>best_val_loss</td><td>2.16002</td></tr><tr><td>epoch</td><td>19</td></tr><tr><td>loss</td><td>2.13853</td></tr><tr><td>val_accuracy</td><td>0.17217</td></tr><tr><td>val_loss</td><td>2.16272</td></tr></table><br/></div></div>"
            ]
          },
          "metadata": {}
        },
        {
          "output_type": "display_data",
          "data": {
            "text/plain": [
              "<IPython.core.display.HTML object>"
            ],
            "text/html": [
              "Synced <strong style=\"color:#cdcd00\">ruby-sweep-7</strong>: <a href=\"https://wandb.ai/pratap49/A2-part-A1/runs/nj89fuak\" target=\"_blank\">https://wandb.ai/pratap49/A2-part-A1/runs/nj89fuak</a><br/>Synced 5 W&B file(s), 1 media file(s), 0 artifact file(s) and 3 other file(s)"
            ]
          },
          "metadata": {}
        },
        {
          "output_type": "display_data",
          "data": {
            "text/plain": [
              "<IPython.core.display.HTML object>"
            ],
            "text/html": [
              "Find logs at: <code>./wandb/run-20220401_211158-nj89fuak/logs</code>"
            ]
          },
          "metadata": {}
        },
        {
          "output_type": "stream",
          "name": "stderr",
          "text": [
            "\u001b[34m\u001b[1mwandb\u001b[0m: Agent Starting Run: l2ji5wn4 with config:\n",
            "\u001b[34m\u001b[1mwandb\u001b[0m: \tactivation: relu\n",
            "\u001b[34m\u001b[1mwandb\u001b[0m: \tbatchnormalisation: YES\n",
            "\u001b[34m\u001b[1mwandb\u001b[0m: \tbatchsize: 32\n",
            "\u001b[34m\u001b[1mwandb\u001b[0m: \tdropout: 0.5\n",
            "\u001b[34m\u001b[1mwandb\u001b[0m: \tepochs: 15\n",
            "\u001b[34m\u001b[1mwandb\u001b[0m: \tfilterorg: 2\n",
            "\u001b[34m\u001b[1mwandb\u001b[0m: \tflt: 64\n",
            "\u001b[34m\u001b[1mwandb\u001b[0m: \tkerneldim: 4\n",
            "\u001b[34m\u001b[1mwandb\u001b[0m: \tlr: 0.001\n",
            "\u001b[34m\u001b[1mwandb\u001b[0m: \tneurons: 64\n",
            "\u001b[34m\u001b[1mwandb\u001b[0m: \toptimizer: adam\n"
          ]
        },
        {
          "output_type": "display_data",
          "data": {
            "text/plain": [
              "<IPython.core.display.HTML object>"
            ],
            "text/html": [
              "Tracking run with wandb version 0.12.11"
            ]
          },
          "metadata": {}
        },
        {
          "output_type": "display_data",
          "data": {
            "text/plain": [
              "<IPython.core.display.HTML object>"
            ],
            "text/html": [
              "Run data is saved locally in <code>/content/wandb/run-20220401_211646-l2ji5wn4</code>"
            ]
          },
          "metadata": {}
        },
        {
          "output_type": "display_data",
          "data": {
            "text/plain": [
              "<IPython.core.display.HTML object>"
            ],
            "text/html": [
              "Syncing run <strong><a href=\"https://wandb.ai/pratap49/A2-part-A1/runs/l2ji5wn4\" target=\"_blank\">faithful-sweep-8</a></strong> to <a href=\"https://wandb.ai/pratap49/A2-part-A1\" target=\"_blank\">Weights & Biases</a> (<a href=\"https://wandb.me/run\" target=\"_blank\">docs</a>)<br/>Sweep page:  <a href=\"https://wandb.ai/pratap49/A2-part-A1/sweeps/uww8d6oe\" target=\"_blank\">https://wandb.ai/pratap49/A2-part-A1/sweeps/uww8d6oe</a>"
            ]
          },
          "metadata": {}
        },
        {
          "output_type": "stream",
          "name": "stdout",
          "text": [
            "Epoch 1/15\n",
            "  6/282 [..............................] - ETA: 29s - loss: 5.2847 - accuracy: 0.1198WARNING:tensorflow:Callback method `on_train_batch_end` is slow compared to the batch time (batch time: 0.0409s vs `on_train_batch_end` time: 0.0759s). Check your callbacks.\n",
            "282/282 [==============================] - 51s 176ms/step - loss: 4.8673 - accuracy: 0.1498 - val_loss: 3.1578 - val_accuracy: 0.1682 - _timestamp: 1648847866.0000 - _runtime: 59.0000\n",
            "Epoch 2/15\n",
            "282/282 [==============================] - 47s 167ms/step - loss: 2.4173 - accuracy: 0.1725 - val_loss: 2.4413 - val_accuracy: 0.2112 - _timestamp: 1648847913.0000 - _runtime: 106.0000\n",
            "Epoch 3/15\n",
            "282/282 [==============================] - 46s 162ms/step - loss: 2.1990 - accuracy: 0.2229 - val_loss: 2.1593 - val_accuracy: 0.2442 - _timestamp: 1648847959.0000 - _runtime: 152.0000\n",
            "Epoch 4/15\n",
            "282/282 [==============================] - 49s 174ms/step - loss: 2.1081 - accuracy: 0.2506 - val_loss: 2.1163 - val_accuracy: 0.2342 - _timestamp: 1648848008.0000 - _runtime: 201.0000\n",
            "Epoch 5/15\n",
            "282/282 [==============================] - 46s 165ms/step - loss: 2.0797 - accuracy: 0.2656 - val_loss: 2.0888 - val_accuracy: 0.2663 - _timestamp: 1648848055.0000 - _runtime: 248.0000\n",
            "Epoch 6/15\n",
            "282/282 [==============================] - 48s 172ms/step - loss: 2.0370 - accuracy: 0.2809 - val_loss: 2.0445 - val_accuracy: 0.2683 - _timestamp: 1648848104.0000 - _runtime: 297.0000\n",
            "Epoch 7/15\n",
            "282/282 [==============================] - 49s 173ms/step - loss: 2.0130 - accuracy: 0.2928 - val_loss: 2.0568 - val_accuracy: 0.2703 - _timestamp: 1648848153.0000 - _runtime: 346.0000\n",
            "Epoch 8/15\n",
            "282/282 [==============================] - 43s 153ms/step - loss: 1.9727 - accuracy: 0.2952 - val_loss: 2.0460 - val_accuracy: 0.2663 - _timestamp: 1648848196.0000 - _runtime: 389.0000\n",
            "Epoch 9/15\n",
            "282/282 [==============================] - 49s 175ms/step - loss: 1.9556 - accuracy: 0.3129 - val_loss: 2.0194 - val_accuracy: 0.2783 - _timestamp: 1648848245.0000 - _runtime: 438.0000\n",
            "Epoch 10/15\n",
            "282/282 [==============================] - 49s 176ms/step - loss: 1.9260 - accuracy: 0.3212 - val_loss: 1.9584 - val_accuracy: 0.2963 - _timestamp: 1648848294.0000 - _runtime: 487.0000\n",
            "Epoch 11/15\n",
            "282/282 [==============================] - 46s 163ms/step - loss: 1.8808 - accuracy: 0.3306 - val_loss: 1.9829 - val_accuracy: 0.3023 - _timestamp: 1648848341.0000 - _runtime: 534.0000\n",
            "Epoch 12/15\n",
            "282/282 [==============================] - 47s 169ms/step - loss: 1.8578 - accuracy: 0.3391 - val_loss: 1.9286 - val_accuracy: 0.3333 - _timestamp: 1648848388.0000 - _runtime: 581.0000\n",
            "Epoch 13/15\n",
            "282/282 [==============================] - 48s 169ms/step - loss: 1.8096 - accuracy: 0.3573 - val_loss: 1.8660 - val_accuracy: 0.3283 - _timestamp: 1648848436.0000 - _runtime: 629.0000\n",
            "Epoch 14/15\n",
            "282/282 [==============================] - 49s 172ms/step - loss: 1.7757 - accuracy: 0.3796 - val_loss: 1.9794 - val_accuracy: 0.3173 - _timestamp: 1648848485.0000 - _runtime: 678.0000\n",
            "Epoch 15/15\n",
            "282/282 [==============================] - 46s 163ms/step - loss: 1.7170 - accuracy: 0.3942 - val_loss: 1.9518 - val_accuracy: 0.3283 - _timestamp: 1648848531.0000 - _runtime: 724.0000\n",
            "\n"
          ]
        },
        {
          "output_type": "display_data",
          "data": {
            "text/plain": [
              "<IPython.core.display.HTML object>"
            ],
            "text/html": [
              "Waiting for W&B process to finish... <strong style=\"color:green\">(success).</strong>"
            ]
          },
          "metadata": {}
        },
        {
          "output_type": "display_data",
          "data": {
            "text/plain": [
              "VBox(children=(Label(value='139.848 MB of 139.848 MB uploaded (0.000 MB deduped)\\r'), FloatProgress(value=1.0,…"
            ],
            "application/vnd.jupyter.widget-view+json": {
              "version_major": 2,
              "version_minor": 0,
              "model_id": "56a8d5c195d9448baae07fe85ea4e173"
            }
          },
          "metadata": {}
        },
        {
          "output_type": "display_data",
          "data": {
            "text/plain": [
              "<IPython.core.display.HTML object>"
            ],
            "text/html": [
              "<style>\n",
              "    table.wandb td:nth-child(1) { padding: 0 10px; text-align: right }\n",
              "    .wandb-row { display: flex; flex-direction: row; flex-wrap: wrap; width: 100% }\n",
              "    .wandb-col { display: flex; flex-direction: column; flex-basis: 100%; flex: 1; padding: 10px; }\n",
              "    </style>\n",
              "<div class=\"wandb-row\"><div class=\"wandb-col\"><h3>Run history:</h3><br/><table class=\"wandb\"><tr><td>accuracy</td><td>▁▂▃▄▄▅▅▅▆▆▆▆▇██</td></tr><tr><td>epoch</td><td>▁▁▂▃▃▃▄▅▅▅▆▇▇▇█</td></tr><tr><td>loss</td><td>█▃▂▂▂▂▂▂▂▁▁▁▁▁▁</td></tr><tr><td>val_accuracy</td><td>▁▃▄▄▅▅▅▅▆▆▇██▇█</td></tr><tr><td>val_loss</td><td>█▄▃▂▂▂▂▂▂▂▂▁▁▂▁</td></tr></table><br/></div><div class=\"wandb-col\"><h3>Run summary:</h3><br/><table class=\"wandb\"><tr><td>accuracy</td><td>0.39424</td></tr><tr><td>best_epoch</td><td>12</td></tr><tr><td>best_val_loss</td><td>1.86595</td></tr><tr><td>epoch</td><td>14</td></tr><tr><td>loss</td><td>1.71695</td></tr><tr><td>val_accuracy</td><td>0.32833</td></tr><tr><td>val_loss</td><td>1.95181</td></tr></table><br/></div></div>"
            ]
          },
          "metadata": {}
        },
        {
          "output_type": "display_data",
          "data": {
            "text/plain": [
              "<IPython.core.display.HTML object>"
            ],
            "text/html": [
              "Synced <strong style=\"color:#cdcd00\">faithful-sweep-8</strong>: <a href=\"https://wandb.ai/pratap49/A2-part-A1/runs/l2ji5wn4\" target=\"_blank\">https://wandb.ai/pratap49/A2-part-A1/runs/l2ji5wn4</a><br/>Synced 5 W&B file(s), 1 media file(s), 0 artifact file(s) and 3 other file(s)"
            ]
          },
          "metadata": {}
        },
        {
          "output_type": "display_data",
          "data": {
            "text/plain": [
              "<IPython.core.display.HTML object>"
            ],
            "text/html": [
              "Find logs at: <code>./wandb/run-20220401_211646-l2ji5wn4/logs</code>"
            ]
          },
          "metadata": {}
        },
        {
          "output_type": "stream",
          "name": "stderr",
          "text": [
            "\u001b[34m\u001b[1mwandb\u001b[0m: Agent Starting Run: ua5eofnk with config:\n",
            "\u001b[34m\u001b[1mwandb\u001b[0m: \tactivation: tanh\n",
            "\u001b[34m\u001b[1mwandb\u001b[0m: \tbatchnormalisation: NO\n",
            "\u001b[34m\u001b[1mwandb\u001b[0m: \tbatchsize: 32\n",
            "\u001b[34m\u001b[1mwandb\u001b[0m: \tdropout: 0.5\n",
            "\u001b[34m\u001b[1mwandb\u001b[0m: \tepochs: 20\n",
            "\u001b[34m\u001b[1mwandb\u001b[0m: \tfilterorg: 1\n",
            "\u001b[34m\u001b[1mwandb\u001b[0m: \tflt: 16\n",
            "\u001b[34m\u001b[1mwandb\u001b[0m: \tkerneldim: 5\n",
            "\u001b[34m\u001b[1mwandb\u001b[0m: \tlr: 0.002\n",
            "\u001b[34m\u001b[1mwandb\u001b[0m: \tneurons: 512\n",
            "\u001b[34m\u001b[1mwandb\u001b[0m: \toptimizer: adam\n"
          ]
        },
        {
          "output_type": "display_data",
          "data": {
            "text/plain": [
              "<IPython.core.display.HTML object>"
            ],
            "text/html": [
              "Tracking run with wandb version 0.12.11"
            ]
          },
          "metadata": {}
        },
        {
          "output_type": "display_data",
          "data": {
            "text/plain": [
              "<IPython.core.display.HTML object>"
            ],
            "text/html": [
              "Run data is saved locally in <code>/content/wandb/run-20220401_212901-ua5eofnk</code>"
            ]
          },
          "metadata": {}
        },
        {
          "output_type": "display_data",
          "data": {
            "text/plain": [
              "<IPython.core.display.HTML object>"
            ],
            "text/html": [
              "Syncing run <strong><a href=\"https://wandb.ai/pratap49/A2-part-A1/runs/ua5eofnk\" target=\"_blank\">honest-sweep-9</a></strong> to <a href=\"https://wandb.ai/pratap49/A2-part-A1\" target=\"_blank\">Weights & Biases</a> (<a href=\"https://wandb.me/run\" target=\"_blank\">docs</a>)<br/>Sweep page:  <a href=\"https://wandb.ai/pratap49/A2-part-A1/sweeps/uww8d6oe\" target=\"_blank\">https://wandb.ai/pratap49/A2-part-A1/sweeps/uww8d6oe</a>"
            ]
          },
          "metadata": {}
        },
        {
          "output_type": "stream",
          "name": "stdout",
          "text": [
            "Epoch 1/20\n",
            "282/282 [==============================] - 12s 39ms/step - loss: 2.2660 - accuracy: 0.1427 - val_loss: 2.2004 - val_accuracy: 0.1862 - _timestamp: 1648848564.0000 - _runtime: 23.0000\n",
            "Epoch 2/20\n",
            "282/282 [==============================] - 10s 37ms/step - loss: 2.1978 - accuracy: 0.1788 - val_loss: 2.1780 - val_accuracy: 0.1932 - _timestamp: 1648848574.0000 - _runtime: 33.0000\n",
            "Epoch 3/20\n",
            "282/282 [==============================] - 10s 34ms/step - loss: 2.1897 - accuracy: 0.1848 - val_loss: 2.1797 - val_accuracy: 0.1782 - _timestamp: 1648848584.0000 - _runtime: 43.0000\n",
            "Epoch 4/20\n",
            "282/282 [==============================] - 8s 30ms/step - loss: 2.1693 - accuracy: 0.1896 - val_loss: 2.1575 - val_accuracy: 0.2012 - _timestamp: 1648848592.0000 - _runtime: 51.0000\n",
            "Epoch 5/20\n",
            "282/282 [==============================] - 11s 39ms/step - loss: 2.1663 - accuracy: 0.1957 - val_loss: 2.1374 - val_accuracy: 0.1932 - _timestamp: 1648848603.0000 - _runtime: 62.0000\n",
            "Epoch 6/20\n",
            "282/282 [==============================] - 9s 32ms/step - loss: 2.1613 - accuracy: 0.1984 - val_loss: 2.1362 - val_accuracy: 0.2022 - _timestamp: 1648848612.0000 - _runtime: 71.0000\n",
            "Epoch 7/20\n",
            "282/282 [==============================] - 11s 37ms/step - loss: 2.1478 - accuracy: 0.2035 - val_loss: 2.1389 - val_accuracy: 0.2082 - _timestamp: 1648848623.0000 - _runtime: 82.0000\n",
            "Epoch 8/20\n",
            "282/282 [==============================] - 10s 35ms/step - loss: 2.1455 - accuracy: 0.2091 - val_loss: 2.1468 - val_accuracy: 0.2072 - _timestamp: 1648848633.0000 - _runtime: 92.0000\n",
            "Epoch 9/20\n",
            "282/282 [==============================] - 11s 37ms/step - loss: 2.1337 - accuracy: 0.2076 - val_loss: 2.1168 - val_accuracy: 0.2192 - _timestamp: 1648848643.0000 - _runtime: 102.0000\n",
            "Epoch 10/20\n",
            "282/282 [==============================] - 10s 36ms/step - loss: 2.1269 - accuracy: 0.2094 - val_loss: 2.1101 - val_accuracy: 0.2302 - _timestamp: 1648848653.0000 - _runtime: 112.0000\n",
            "Epoch 11/20\n",
            "282/282 [==============================] - 10s 36ms/step - loss: 2.1215 - accuracy: 0.2145 - val_loss: 2.1021 - val_accuracy: 0.2322 - _timestamp: 1648848663.0000 - _runtime: 122.0000\n",
            "Epoch 12/20\n",
            "282/282 [==============================] - 11s 38ms/step - loss: 2.1142 - accuracy: 0.2217 - val_loss: 2.1173 - val_accuracy: 0.2082 - _timestamp: 1648848674.0000 - _runtime: 133.0000\n",
            "Epoch 13/20\n",
            "282/282 [==============================] - 10s 37ms/step - loss: 2.1077 - accuracy: 0.2155 - val_loss: 2.1404 - val_accuracy: 0.2252 - _timestamp: 1648848685.0000 - _runtime: 144.0000\n",
            "Epoch 14/20\n",
            "282/282 [==============================] - 11s 39ms/step - loss: 2.1074 - accuracy: 0.2246 - val_loss: 2.0863 - val_accuracy: 0.2342 - _timestamp: 1648848697.0000 - _runtime: 156.0000\n",
            "Epoch 15/20\n",
            "282/282 [==============================] - 12s 41ms/step - loss: 2.1051 - accuracy: 0.2205 - val_loss: 2.1036 - val_accuracy: 0.2032 - _timestamp: 1648848708.0000 - _runtime: 167.0000\n",
            "Epoch 16/20\n",
            "282/282 [==============================] - 10s 36ms/step - loss: 2.1013 - accuracy: 0.2273 - val_loss: 2.0944 - val_accuracy: 0.2212 - _timestamp: 1648848718.0000 - _runtime: 177.0000\n",
            "Epoch 17/20\n",
            "282/282 [==============================] - 10s 36ms/step - loss: 2.0819 - accuracy: 0.2291 - val_loss: 2.1131 - val_accuracy: 0.2312 - _timestamp: 1648848729.0000 - _runtime: 188.0000\n",
            "Epoch 18/20\n",
            "282/282 [==============================] - 11s 40ms/step - loss: 2.0898 - accuracy: 0.2322 - val_loss: 2.0930 - val_accuracy: 0.2092 - _timestamp: 1648848740.0000 - _runtime: 199.0000\n",
            "Epoch 19/20\n",
            "282/282 [==============================] - 10s 36ms/step - loss: 2.0893 - accuracy: 0.2292 - val_loss: 2.0917 - val_accuracy: 0.2342 - _timestamp: 1648848751.0000 - _runtime: 210.0000\n",
            "Epoch 20/20\n",
            "282/282 [==============================] - 11s 38ms/step - loss: 2.0761 - accuracy: 0.2345 - val_loss: 2.0894 - val_accuracy: 0.2252 - _timestamp: 1648848761.0000 - _runtime: 220.0000\n",
            "\n"
          ]
        },
        {
          "output_type": "display_data",
          "data": {
            "text/plain": [
              "<IPython.core.display.HTML object>"
            ],
            "text/html": [
              "Waiting for W&B process to finish... <strong style=\"color:green\">(success).</strong>"
            ]
          },
          "metadata": {}
        },
        {
          "output_type": "display_data",
          "data": {
            "text/plain": [
              "VBox(children=(Label(value='1.360 MB of 1.360 MB uploaded (0.000 MB deduped)\\r'), FloatProgress(value=1.0, max…"
            ],
            "application/vnd.jupyter.widget-view+json": {
              "version_major": 2,
              "version_minor": 0,
              "model_id": "d6c3c57d62554b06923133eefff3c57a"
            }
          },
          "metadata": {}
        },
        {
          "output_type": "display_data",
          "data": {
            "text/plain": [
              "<IPython.core.display.HTML object>"
            ],
            "text/html": [
              "<style>\n",
              "    table.wandb td:nth-child(1) { padding: 0 10px; text-align: right }\n",
              "    .wandb-row { display: flex; flex-direction: row; flex-wrap: wrap; width: 100% }\n",
              "    .wandb-col { display: flex; flex-direction: column; flex-basis: 100%; flex: 1; padding: 10px; }\n",
              "    </style>\n",
              "<div class=\"wandb-row\"><div class=\"wandb-col\"><h3>Run history:</h3><br/><table class=\"wandb\"><tr><td>accuracy</td><td>▁▄▄▅▅▅▆▆▆▆▆▇▇▇▇▇████</td></tr><tr><td>epoch</td><td>▁▁▂▂▂▃▃▄▄▄▅▅▅▆▆▇▇▇██</td></tr><tr><td>loss</td><td>█▅▅▄▄▄▄▄▃▃▃▂▂▂▂▂▁▂▁▁</td></tr><tr><td>val_accuracy</td><td>▂▃▁▄▃▄▅▅▆██▅▇█▄▆█▅█▇</td></tr><tr><td>val_loss</td><td>█▇▇▅▄▄▄▅▃▂▂▃▄▁▂▁▃▁▁▁</td></tr></table><br/></div><div class=\"wandb-col\"><h3>Run summary:</h3><br/><table class=\"wandb\"><tr><td>accuracy</td><td>0.23452</td></tr><tr><td>best_epoch</td><td>13</td></tr><tr><td>best_val_loss</td><td>2.08631</td></tr><tr><td>epoch</td><td>19</td></tr><tr><td>loss</td><td>2.07608</td></tr><tr><td>val_accuracy</td><td>0.22523</td></tr><tr><td>val_loss</td><td>2.08938</td></tr></table><br/></div></div>"
            ]
          },
          "metadata": {}
        },
        {
          "output_type": "display_data",
          "data": {
            "text/plain": [
              "<IPython.core.display.HTML object>"
            ],
            "text/html": [
              "Synced <strong style=\"color:#cdcd00\">honest-sweep-9</strong>: <a href=\"https://wandb.ai/pratap49/A2-part-A1/runs/ua5eofnk\" target=\"_blank\">https://wandb.ai/pratap49/A2-part-A1/runs/ua5eofnk</a><br/>Synced 5 W&B file(s), 1 media file(s), 0 artifact file(s) and 3 other file(s)"
            ]
          },
          "metadata": {}
        },
        {
          "output_type": "display_data",
          "data": {
            "text/plain": [
              "<IPython.core.display.HTML object>"
            ],
            "text/html": [
              "Find logs at: <code>./wandb/run-20220401_212901-ua5eofnk/logs</code>"
            ]
          },
          "metadata": {}
        },
        {
          "output_type": "stream",
          "name": "stderr",
          "text": [
            "\u001b[34m\u001b[1mwandb\u001b[0m: Agent Starting Run: bdjaz8k1 with config:\n",
            "\u001b[34m\u001b[1mwandb\u001b[0m: \tactivation: elu\n",
            "\u001b[34m\u001b[1mwandb\u001b[0m: \tbatchnormalisation: YES\n",
            "\u001b[34m\u001b[1mwandb\u001b[0m: \tbatchsize: 16\n",
            "\u001b[34m\u001b[1mwandb\u001b[0m: \tdropout: 0.25\n",
            "\u001b[34m\u001b[1mwandb\u001b[0m: \tepochs: 15\n",
            "\u001b[34m\u001b[1mwandb\u001b[0m: \tfilterorg: 2\n",
            "\u001b[34m\u001b[1mwandb\u001b[0m: \tflt: 16\n",
            "\u001b[34m\u001b[1mwandb\u001b[0m: \tkerneldim: 5\n",
            "\u001b[34m\u001b[1mwandb\u001b[0m: \tlr: 0.0003\n",
            "\u001b[34m\u001b[1mwandb\u001b[0m: \tneurons: 32\n",
            "\u001b[34m\u001b[1mwandb\u001b[0m: \toptimizer: adam\n"
          ]
        },
        {
          "output_type": "display_data",
          "data": {
            "text/plain": [
              "<IPython.core.display.HTML object>"
            ],
            "text/html": [
              "Tracking run with wandb version 0.12.11"
            ]
          },
          "metadata": {}
        },
        {
          "output_type": "display_data",
          "data": {
            "text/plain": [
              "<IPython.core.display.HTML object>"
            ],
            "text/html": [
              "Run data is saved locally in <code>/content/wandb/run-20220401_213253-bdjaz8k1</code>"
            ]
          },
          "metadata": {}
        },
        {
          "output_type": "display_data",
          "data": {
            "text/plain": [
              "<IPython.core.display.HTML object>"
            ],
            "text/html": [
              "Syncing run <strong><a href=\"https://wandb.ai/pratap49/A2-part-A1/runs/bdjaz8k1\" target=\"_blank\">dainty-sweep-10</a></strong> to <a href=\"https://wandb.ai/pratap49/A2-part-A1\" target=\"_blank\">Weights & Biases</a> (<a href=\"https://wandb.me/run\" target=\"_blank\">docs</a>)<br/>Sweep page:  <a href=\"https://wandb.ai/pratap49/A2-part-A1/sweeps/uww8d6oe\" target=\"_blank\">https://wandb.ai/pratap49/A2-part-A1/sweeps/uww8d6oe</a>"
            ]
          },
          "metadata": {}
        },
        {
          "output_type": "stream",
          "name": "stdout",
          "text": [
            "Epoch 1/15\n",
            "  5/563 [..............................] - ETA: 26s - loss: 2.9200 - accuracy: 0.1250 WARNING:tensorflow:Callback method `on_train_batch_end` is slow compared to the batch time (batch time: 0.0120s vs `on_train_batch_end` time: 0.0295s). Check your callbacks.\n",
            "563/563 [==============================] - 18s 30ms/step - loss: 2.4168 - accuracy: 0.2101 - val_loss: 2.1618 - val_accuracy: 0.2503 - _timestamp: 1648848801.0000 - _runtime: 28.0000\n",
            "Epoch 2/15\n",
            "563/563 [==============================] - 16s 29ms/step - loss: 2.1418 - accuracy: 0.2691 - val_loss: 1.9887 - val_accuracy: 0.2783 - _timestamp: 1648848817.0000 - _runtime: 44.0000\n",
            "Epoch 3/15\n",
            "563/563 [==============================] - 16s 29ms/step - loss: 1.9969 - accuracy: 0.3090 - val_loss: 1.9876 - val_accuracy: 0.2983 - _timestamp: 1648848833.0000 - _runtime: 60.0000\n",
            "Epoch 4/15\n",
            "563/563 [==============================] - 17s 30ms/step - loss: 1.8754 - accuracy: 0.3499 - val_loss: 1.9466 - val_accuracy: 0.3063 - _timestamp: 1648848850.0000 - _runtime: 77.0000\n",
            "Epoch 5/15\n",
            "563/563 [==============================] - 18s 33ms/step - loss: 1.7408 - accuracy: 0.3918 - val_loss: 2.0133 - val_accuracy: 0.3393 - _timestamp: 1648848869.0000 - _runtime: 96.0000\n",
            "Epoch 6/15\n",
            "563/563 [==============================] - 17s 31ms/step - loss: 1.5878 - accuracy: 0.4463 - val_loss: 1.9311 - val_accuracy: 0.3423 - _timestamp: 1648848886.0000 - _runtime: 113.0000\n",
            "Epoch 7/15\n",
            "563/563 [==============================] - 15s 26ms/step - loss: 1.4040 - accuracy: 0.5129 - val_loss: 2.0062 - val_accuracy: 0.3443 - _timestamp: 1648848901.0000 - _runtime: 128.0000\n",
            "Epoch 8/15\n",
            "563/563 [==============================] - 17s 30ms/step - loss: 1.1761 - accuracy: 0.5955 - val_loss: 2.1071 - val_accuracy: 0.3504 - _timestamp: 1648848918.0000 - _runtime: 145.0000\n",
            "Epoch 9/15\n",
            "563/563 [==============================] - 17s 30ms/step - loss: 0.9086 - accuracy: 0.6966 - val_loss: 2.1320 - val_accuracy: 0.3463 - _timestamp: 1648848935.0000 - _runtime: 162.0000\n",
            "Epoch 10/15\n",
            "563/563 [==============================] - 16s 28ms/step - loss: 0.5973 - accuracy: 0.8094 - val_loss: 2.3588 - val_accuracy: 0.3233 - _timestamp: 1648848952.0000 - _runtime: 179.0000\n",
            "Epoch 11/15\n",
            "563/563 [==============================] - 18s 32ms/step - loss: 0.3925 - accuracy: 0.8824 - val_loss: 2.5504 - val_accuracy: 0.3263 - _timestamp: 1648848969.0000 - _runtime: 196.0000\n",
            "Epoch 12/15\n",
            "563/563 [==============================] - 15s 27ms/step - loss: 0.2476 - accuracy: 0.9311 - val_loss: 2.7684 - val_accuracy: 0.3353 - _timestamp: 1648848985.0000 - _runtime: 212.0000\n",
            "Epoch 13/15\n",
            "563/563 [==============================] - 19s 33ms/step - loss: 0.2075 - accuracy: 0.9382 - val_loss: 2.8817 - val_accuracy: 0.3093 - _timestamp: 1648849003.0000 - _runtime: 230.0000\n",
            "Epoch 14/15\n",
            "563/563 [==============================] - 16s 28ms/step - loss: 0.1807 - accuracy: 0.9451 - val_loss: 3.1475 - val_accuracy: 0.3143 - _timestamp: 1648849019.0000 - _runtime: 246.0000\n",
            "Epoch 15/15\n",
            "563/563 [==============================] - 19s 33ms/step - loss: 0.1583 - accuracy: 0.9493 - val_loss: 3.3530 - val_accuracy: 0.3003 - _timestamp: 1648849039.0000 - _runtime: 266.0000\n",
            "\n"
          ]
        },
        {
          "output_type": "display_data",
          "data": {
            "text/plain": [
              "<IPython.core.display.HTML object>"
            ],
            "text/html": [
              "Waiting for W&B process to finish... <strong style=\"color:green\">(success).</strong>"
            ]
          },
          "metadata": {}
        },
        {
          "output_type": "display_data",
          "data": {
            "text/plain": [
              "VBox(children=(Label(value='13.555 MB of 13.555 MB uploaded (0.000 MB deduped)\\r'), FloatProgress(value=1.0, m…"
            ],
            "application/vnd.jupyter.widget-view+json": {
              "version_major": 2,
              "version_minor": 0,
              "model_id": "6f71476c84b94bb7a876e452b9e12425"
            }
          },
          "metadata": {}
        },
        {
          "output_type": "display_data",
          "data": {
            "text/plain": [
              "<IPython.core.display.HTML object>"
            ],
            "text/html": [
              "<style>\n",
              "    table.wandb td:nth-child(1) { padding: 0 10px; text-align: right }\n",
              "    .wandb-row { display: flex; flex-direction: row; flex-wrap: wrap; width: 100% }\n",
              "    .wandb-col { display: flex; flex-direction: column; flex-basis: 100%; flex: 1; padding: 10px; }\n",
              "    </style>\n",
              "<div class=\"wandb-row\"><div class=\"wandb-col\"><h3>Run history:</h3><br/><table class=\"wandb\"><tr><td>accuracy</td><td>▁▂▂▂▃▃▄▅▆▇▇████</td></tr><tr><td>epoch</td><td>▁▁▂▃▃▃▄▅▅▅▆▇▇▇█</td></tr><tr><td>loss</td><td>█▇▇▆▆▅▅▄▃▂▂▁▁▁▁</td></tr><tr><td>val_accuracy</td><td>▁▃▄▅▇▇███▆▆▇▅▅▅</td></tr><tr><td>val_loss</td><td>▂▁▁▁▁▁▁▂▂▃▄▅▆▇█</td></tr></table><br/></div><div class=\"wandb-col\"><h3>Run summary:</h3><br/><table class=\"wandb\"><tr><td>accuracy</td><td>0.94932</td></tr><tr><td>best_epoch</td><td>5</td></tr><tr><td>best_val_loss</td><td>1.93112</td></tr><tr><td>epoch</td><td>14</td></tr><tr><td>loss</td><td>0.15832</td></tr><tr><td>val_accuracy</td><td>0.3003</td></tr><tr><td>val_loss</td><td>3.353</td></tr></table><br/></div></div>"
            ]
          },
          "metadata": {}
        },
        {
          "output_type": "display_data",
          "data": {
            "text/plain": [
              "<IPython.core.display.HTML object>"
            ],
            "text/html": [
              "Synced <strong style=\"color:#cdcd00\">dainty-sweep-10</strong>: <a href=\"https://wandb.ai/pratap49/A2-part-A1/runs/bdjaz8k1\" target=\"_blank\">https://wandb.ai/pratap49/A2-part-A1/runs/bdjaz8k1</a><br/>Synced 5 W&B file(s), 1 media file(s), 0 artifact file(s) and 3 other file(s)"
            ]
          },
          "metadata": {}
        },
        {
          "output_type": "display_data",
          "data": {
            "text/plain": [
              "<IPython.core.display.HTML object>"
            ],
            "text/html": [
              "Find logs at: <code>./wandb/run-20220401_213253-bdjaz8k1/logs</code>"
            ]
          },
          "metadata": {}
        },
        {
          "output_type": "stream",
          "name": "stderr",
          "text": [
            "\u001b[34m\u001b[1mwandb\u001b[0m: Agent Starting Run: k4z3zrga with config:\n",
            "\u001b[34m\u001b[1mwandb\u001b[0m: \tactivation: sigmoid\n",
            "\u001b[34m\u001b[1mwandb\u001b[0m: \tbatchnormalisation: YES\n",
            "\u001b[34m\u001b[1mwandb\u001b[0m: \tbatchsize: 32\n",
            "\u001b[34m\u001b[1mwandb\u001b[0m: \tdropout: 0.2\n",
            "\u001b[34m\u001b[1mwandb\u001b[0m: \tepochs: 30\n",
            "\u001b[34m\u001b[1mwandb\u001b[0m: \tfilterorg: 2\n",
            "\u001b[34m\u001b[1mwandb\u001b[0m: \tflt: 64\n",
            "\u001b[34m\u001b[1mwandb\u001b[0m: \tkerneldim: 7\n",
            "\u001b[34m\u001b[1mwandb\u001b[0m: \tlr: 0.001\n",
            "\u001b[34m\u001b[1mwandb\u001b[0m: \tneurons: 32\n",
            "\u001b[34m\u001b[1mwandb\u001b[0m: \toptimizer: adam\n"
          ]
        },
        {
          "output_type": "display_data",
          "data": {
            "text/plain": [
              "<IPython.core.display.HTML object>"
            ],
            "text/html": [
              "Tracking run with wandb version 0.12.11"
            ]
          },
          "metadata": {}
        },
        {
          "output_type": "display_data",
          "data": {
            "text/plain": [
              "<IPython.core.display.HTML object>"
            ],
            "text/html": [
              "Run data is saved locally in <code>/content/wandb/run-20220401_213727-k4z3zrga</code>"
            ]
          },
          "metadata": {}
        },
        {
          "output_type": "display_data",
          "data": {
            "text/plain": [
              "<IPython.core.display.HTML object>"
            ],
            "text/html": [
              "Syncing run <strong><a href=\"https://wandb.ai/pratap49/A2-part-A1/runs/k4z3zrga\" target=\"_blank\">deep-sweep-11</a></strong> to <a href=\"https://wandb.ai/pratap49/A2-part-A1\" target=\"_blank\">Weights & Biases</a> (<a href=\"https://wandb.me/run\" target=\"_blank\">docs</a>)<br/>Sweep page:  <a href=\"https://wandb.ai/pratap49/A2-part-A1/sweeps/uww8d6oe\" target=\"_blank\">https://wandb.ai/pratap49/A2-part-A1/sweeps/uww8d6oe</a>"
            ]
          },
          "metadata": {}
        },
        {
          "output_type": "stream",
          "name": "stdout",
          "text": [
            "Epoch 1/30\n",
            "  6/282 [..............................] - ETA: 34s - loss: 2.6659 - accuracy: 0.0729WARNING:tensorflow:Callback method `on_train_batch_end` is slow compared to the batch time (batch time: 0.0449s vs `on_train_batch_end` time: 0.1170s). Check your callbacks.\n",
            "282/282 [==============================] - 60s 204ms/step - loss: 2.2068 - accuracy: 0.1910 - val_loss: 2.1594 - val_accuracy: 0.2182 - _timestamp: 1648849115.0000 - _runtime: 67.0000\n",
            "Epoch 2/30\n",
            "282/282 [==============================] - 55s 194ms/step - loss: 2.1165 - accuracy: 0.2333 - val_loss: 2.1065 - val_accuracy: 0.2452 - _timestamp: 1648849170.0000 - _runtime: 122.0000\n",
            "Epoch 3/30\n",
            "282/282 [==============================] - 55s 195ms/step - loss: 2.0629 - accuracy: 0.2595 - val_loss: 2.1000 - val_accuracy: 0.2422 - _timestamp: 1648849225.0000 - _runtime: 177.0000\n",
            "Epoch 4/30\n",
            "282/282 [==============================] - 60s 212ms/step - loss: 2.0210 - accuracy: 0.2781 - val_loss: 2.0967 - val_accuracy: 0.2352 - _timestamp: 1648849285.0000 - _runtime: 237.0000\n",
            "Epoch 5/30\n",
            "282/282 [==============================] - 57s 203ms/step - loss: 1.9775 - accuracy: 0.3004 - val_loss: 2.0149 - val_accuracy: 0.2873 - _timestamp: 1648849342.0000 - _runtime: 294.0000\n",
            "Epoch 6/30\n",
            "282/282 [==============================] - 52s 185ms/step - loss: 1.9405 - accuracy: 0.3218 - val_loss: 2.0244 - val_accuracy: 0.2803 - _timestamp: 1648849395.0000 - _runtime: 347.0000\n",
            "Epoch 7/30\n",
            "282/282 [==============================] - 51s 183ms/step - loss: 1.8902 - accuracy: 0.3337 - val_loss: 1.9645 - val_accuracy: 0.3053 - _timestamp: 1648849445.0000 - _runtime: 397.0000\n",
            "Epoch 8/30\n",
            "282/282 [==============================] - 57s 204ms/step - loss: 1.8434 - accuracy: 0.3565 - val_loss: 1.9681 - val_accuracy: 0.2973 - _timestamp: 1648849504.0000 - _runtime: 456.0000\n",
            "Epoch 9/30\n",
            "282/282 [==============================] - 56s 200ms/step - loss: 1.7885 - accuracy: 0.3826 - val_loss: 1.9528 - val_accuracy: 0.3043 - _timestamp: 1648849560.0000 - _runtime: 512.0000\n",
            "Epoch 10/30\n",
            "282/282 [==============================] - 55s 196ms/step - loss: 1.7245 - accuracy: 0.4030 - val_loss: 1.9336 - val_accuracy: 0.2983 - _timestamp: 1648849616.0000 - _runtime: 568.0000\n",
            "Epoch 11/30\n",
            "282/282 [==============================] - 58s 206ms/step - loss: 1.7321 - accuracy: 0.3976 - val_loss: 1.8955 - val_accuracy: 0.3443 - _timestamp: 1648849674.0000 - _runtime: 626.0000\n",
            "Epoch 12/30\n",
            "282/282 [==============================] - 54s 193ms/step - loss: 1.5785 - accuracy: 0.4588 - val_loss: 1.8937 - val_accuracy: 0.3373 - _timestamp: 1648849728.0000 - _runtime: 680.0000\n",
            "Epoch 13/30\n",
            "282/282 [==============================] - 55s 196ms/step - loss: 1.4377 - accuracy: 0.5210 - val_loss: 1.9193 - val_accuracy: 0.3413 - _timestamp: 1648849784.0000 - _runtime: 736.0000\n",
            "Epoch 14/30\n",
            "282/282 [==============================] - 56s 200ms/step - loss: 1.4007 - accuracy: 0.5310 - val_loss: 2.0121 - val_accuracy: 0.3193 - _timestamp: 1648849841.0000 - _runtime: 793.0000\n",
            "Epoch 15/30\n",
            "282/282 [==============================] - 55s 197ms/step - loss: 1.1836 - accuracy: 0.6132 - val_loss: 2.0330 - val_accuracy: 0.3253 - _timestamp: 1648849896.0000 - _runtime: 848.0000\n",
            "Epoch 16/30\n",
            "282/282 [==============================] - 59s 210ms/step - loss: 1.1283 - accuracy: 0.6387 - val_loss: 2.1966 - val_accuracy: 0.2913 - _timestamp: 1648849956.0000 - _runtime: 908.0000\n",
            "Epoch 17/30\n",
            "282/282 [==============================] - 55s 196ms/step - loss: 0.8016 - accuracy: 0.7638 - val_loss: 2.1919 - val_accuracy: 0.3113 - _timestamp: 1648850011.0000 - _runtime: 963.0000\n",
            "Epoch 18/30\n",
            "282/282 [==============================] - 54s 191ms/step - loss: 0.6926 - accuracy: 0.7988 - val_loss: 2.2602 - val_accuracy: 0.3203 - _timestamp: 1648850065.0000 - _runtime: 1017.0000\n",
            "Epoch 19/30\n",
            "282/282 [==============================] - 57s 203ms/step - loss: 0.5158 - accuracy: 0.8581 - val_loss: 2.3175 - val_accuracy: 0.3273 - _timestamp: 1648850123.0000 - _runtime: 1075.0000\n",
            "Epoch 20/30\n",
            "282/282 [==============================] - 55s 196ms/step - loss: 0.3099 - accuracy: 0.9248 - val_loss: 2.4385 - val_accuracy: 0.3163 - _timestamp: 1648850178.0000 - _runtime: 1130.0000\n",
            "Epoch 21/30\n",
            "282/282 [==============================] - 55s 195ms/step - loss: 0.2715 - accuracy: 0.9336 - val_loss: 2.5795 - val_accuracy: 0.3053 - _timestamp: 1648850233.0000 - _runtime: 1185.0000\n",
            "Epoch 22/30\n",
            "282/282 [==============================] - 56s 199ms/step - loss: 0.1784 - accuracy: 0.9605 - val_loss: 2.5607 - val_accuracy: 0.3243 - _timestamp: 1648850290.0000 - _runtime: 1242.0000\n",
            "Epoch 23/30\n",
            "282/282 [==============================] - 56s 199ms/step - loss: 0.1499 - accuracy: 0.9650 - val_loss: 2.7174 - val_accuracy: 0.3203 - _timestamp: 1648850346.0000 - _runtime: 1298.0000\n",
            "Epoch 24/30\n",
            "282/282 [==============================] - 55s 197ms/step - loss: 0.0961 - accuracy: 0.9793 - val_loss: 2.8760 - val_accuracy: 0.3293 - _timestamp: 1648850401.0000 - _runtime: 1353.0000\n",
            "Epoch 25/30\n",
            "282/282 [==============================] - 58s 207ms/step - loss: 0.0869 - accuracy: 0.9817 - val_loss: 2.8554 - val_accuracy: 0.2993 - _timestamp: 1648850460.0000 - _runtime: 1412.0000\n",
            "Epoch 26/30\n",
            "282/282 [==============================] - 57s 203ms/step - loss: 0.0793 - accuracy: 0.9808 - val_loss: 3.0104 - val_accuracy: 0.3073 - _timestamp: 1648850517.0000 - _runtime: 1469.0000\n",
            "Epoch 27/30\n",
            "282/282 [==============================] - 53s 188ms/step - loss: 0.1752 - accuracy: 0.9470 - val_loss: 3.1089 - val_accuracy: 0.3113 - _timestamp: 1648850570.0000 - _runtime: 1522.0000\n",
            "Epoch 28/30\n",
            "282/282 [==============================] - 55s 196ms/step - loss: 0.1058 - accuracy: 0.9712 - val_loss: 3.0608 - val_accuracy: 0.3033 - _timestamp: 1648850625.0000 - _runtime: 1577.0000\n",
            "Epoch 29/30\n",
            "282/282 [==============================] - 52s 185ms/step - loss: 0.1753 - accuracy: 0.9463 - val_loss: 3.0570 - val_accuracy: 0.3093 - _timestamp: 1648850677.0000 - _runtime: 1629.0000\n",
            "Epoch 30/30\n",
            "282/282 [==============================] - 57s 201ms/step - loss: 0.0949 - accuracy: 0.9764 - val_loss: 3.0521 - val_accuracy: 0.3253 - _timestamp: 1648850734.0000 - _runtime: 1686.0000\n",
            "\n"
          ]
        },
        {
          "output_type": "display_data",
          "data": {
            "text/plain": [
              "<IPython.core.display.HTML object>"
            ],
            "text/html": [
              "Waiting for W&B process to finish... <strong style=\"color:green\">(success).</strong>"
            ]
          },
          "metadata": {}
        },
        {
          "output_type": "display_data",
          "data": {
            "text/plain": [
              "VBox(children=(Label(value='391.265 MB of 391.265 MB uploaded (0.000 MB deduped)\\r'), FloatProgress(value=1.0,…"
            ],
            "application/vnd.jupyter.widget-view+json": {
              "version_major": 2,
              "version_minor": 0,
              "model_id": "e02a1091c1a34359a31055253491032b"
            }
          },
          "metadata": {}
        },
        {
          "output_type": "display_data",
          "data": {
            "text/plain": [
              "<IPython.core.display.HTML object>"
            ],
            "text/html": [
              "<style>\n",
              "    table.wandb td:nth-child(1) { padding: 0 10px; text-align: right }\n",
              "    .wandb-row { display: flex; flex-direction: row; flex-wrap: wrap; width: 100% }\n",
              "    .wandb-col { display: flex; flex-direction: column; flex-basis: 100%; flex: 1; padding: 10px; }\n",
              "    </style>\n",
              "<div class=\"wandb-row\"><div class=\"wandb-col\"><h3>Run history:</h3><br/><table class=\"wandb\"><tr><td>accuracy</td><td>▁▁▂▂▂▂▂▂▃▃▃▃▄▄▅▅▆▆▇▇██████████</td></tr><tr><td>epoch</td><td>▁▁▁▂▂▂▂▃▃▃▃▄▄▄▄▅▅▅▅▆▆▆▆▇▇▇▇███</td></tr><tr><td>loss</td><td>███▇▇▇▇▇▇▆▆▆▅▅▅▄▃▃▂▂▂▁▁▁▁▁▁▁▁▁</td></tr><tr><td>val_accuracy</td><td>▁▂▂▂▅▄▆▅▆▅███▇▇▅▆▇▇▆▆▇▇▇▅▆▆▆▆▇</td></tr><tr><td>val_loss</td><td>▃▂▂▂▂▂▁▁▁▁▁▁▁▂▂▃▃▃▃▄▅▅▆▇▇▇████</td></tr></table><br/></div><div class=\"wandb-col\"><h3>Run summary:</h3><br/><table class=\"wandb\"><tr><td>accuracy</td><td>0.97644</td></tr><tr><td>best_epoch</td><td>11</td></tr><tr><td>best_val_loss</td><td>1.8937</td></tr><tr><td>epoch</td><td>29</td></tr><tr><td>loss</td><td>0.09492</td></tr><tr><td>val_accuracy</td><td>0.32533</td></tr><tr><td>val_loss</td><td>3.05213</td></tr></table><br/></div></div>"
            ]
          },
          "metadata": {}
        },
        {
          "output_type": "display_data",
          "data": {
            "text/plain": [
              "<IPython.core.display.HTML object>"
            ],
            "text/html": [
              "Synced <strong style=\"color:#cdcd00\">deep-sweep-11</strong>: <a href=\"https://wandb.ai/pratap49/A2-part-A1/runs/k4z3zrga\" target=\"_blank\">https://wandb.ai/pratap49/A2-part-A1/runs/k4z3zrga</a><br/>Synced 5 W&B file(s), 1 media file(s), 0 artifact file(s) and 3 other file(s)"
            ]
          },
          "metadata": {}
        },
        {
          "output_type": "display_data",
          "data": {
            "text/plain": [
              "<IPython.core.display.HTML object>"
            ],
            "text/html": [
              "Find logs at: <code>./wandb/run-20220401_213727-k4z3zrga/logs</code>"
            ]
          },
          "metadata": {}
        },
        {
          "output_type": "stream",
          "name": "stderr",
          "text": [
            "\u001b[34m\u001b[1mwandb\u001b[0m: Agent Starting Run: 6mjjt4r2 with config:\n",
            "\u001b[34m\u001b[1mwandb\u001b[0m: \tactivation: elu\n",
            "\u001b[34m\u001b[1mwandb\u001b[0m: \tbatchnormalisation: NO\n",
            "\u001b[34m\u001b[1mwandb\u001b[0m: \tbatchsize: 32\n",
            "\u001b[34m\u001b[1mwandb\u001b[0m: \tdropout: 0.5\n",
            "\u001b[34m\u001b[1mwandb\u001b[0m: \tepochs: 20\n",
            "\u001b[34m\u001b[1mwandb\u001b[0m: \tfilterorg: 0.5\n",
            "\u001b[34m\u001b[1mwandb\u001b[0m: \tflt: 16\n",
            "\u001b[34m\u001b[1mwandb\u001b[0m: \tkerneldim: 7\n",
            "\u001b[34m\u001b[1mwandb\u001b[0m: \tlr: 0.0003\n",
            "\u001b[34m\u001b[1mwandb\u001b[0m: \tneurons: 20\n",
            "\u001b[34m\u001b[1mwandb\u001b[0m: \toptimizer: adam\n"
          ]
        },
        {
          "output_type": "display_data",
          "data": {
            "text/plain": [
              "<IPython.core.display.HTML object>"
            ],
            "text/html": [
              "Tracking run with wandb version 0.12.11"
            ]
          },
          "metadata": {}
        },
        {
          "output_type": "display_data",
          "data": {
            "text/plain": [
              "<IPython.core.display.HTML object>"
            ],
            "text/html": [
              "Run data is saved locally in <code>/content/wandb/run-20220401_220545-6mjjt4r2</code>"
            ]
          },
          "metadata": {}
        },
        {
          "output_type": "display_data",
          "data": {
            "text/plain": [
              "<IPython.core.display.HTML object>"
            ],
            "text/html": [
              "Syncing run <strong><a href=\"https://wandb.ai/pratap49/A2-part-A1/runs/6mjjt4r2\" target=\"_blank\">fragrant-sweep-12</a></strong> to <a href=\"https://wandb.ai/pratap49/A2-part-A1\" target=\"_blank\">Weights & Biases</a> (<a href=\"https://wandb.me/run\" target=\"_blank\">docs</a>)<br/>Sweep page:  <a href=\"https://wandb.ai/pratap49/A2-part-A1/sweeps/uww8d6oe\" target=\"_blank\">https://wandb.ai/pratap49/A2-part-A1/sweeps/uww8d6oe</a>"
            ]
          },
          "metadata": {}
        },
        {
          "output_type": "stream",
          "name": "stdout",
          "text": [
            "Epoch 1/20\n",
            "282/282 [==============================] - 15s 50ms/step - loss: 2.3028 - accuracy: 0.0954 - val_loss: 2.3026 - val_accuracy: 0.1001 - _timestamp: 1648850770.0000 - _runtime: 25.0000\n",
            "Epoch 2/20\n",
            "282/282 [==============================] - 12s 42ms/step - loss: 2.3028 - accuracy: 0.0939 - val_loss: 2.3026 - val_accuracy: 0.1001 - _timestamp: 1648850782.0000 - _runtime: 37.0000\n",
            "Epoch 3/20\n",
            "282/282 [==============================] - 8s 29ms/step - loss: 2.3028 - accuracy: 0.0954 - val_loss: 2.3026 - val_accuracy: 0.1001 - _timestamp: 1648850790.0000 - _runtime: 45.0000\n",
            "Epoch 4/20\n",
            "282/282 [==============================] - 12s 41ms/step - loss: 2.3028 - accuracy: 0.0955 - val_loss: 2.3026 - val_accuracy: 0.1001 - _timestamp: 1648850802.0000 - _runtime: 57.0000\n",
            "Epoch 5/20\n",
            "282/282 [==============================] - 9s 30ms/step - loss: 2.3028 - accuracy: 0.0956 - val_loss: 2.3026 - val_accuracy: 0.1001 - _timestamp: 1648850811.0000 - _runtime: 66.0000\n",
            "Epoch 6/20\n",
            "282/282 [==============================] - 9s 33ms/step - loss: 2.3028 - accuracy: 0.0964 - val_loss: 2.3026 - val_accuracy: 0.1001 - _timestamp: 1648850820.0000 - _runtime: 75.0000\n",
            "Epoch 7/20\n",
            "282/282 [==============================] - 10s 35ms/step - loss: 2.3028 - accuracy: 0.0938 - val_loss: 2.3026 - val_accuracy: 0.1001 - _timestamp: 1648850830.0000 - _runtime: 85.0000\n",
            "Epoch 8/20\n",
            "282/282 [==============================] - 10s 34ms/step - loss: 2.3028 - accuracy: 0.0944 - val_loss: 2.3026 - val_accuracy: 0.1001 - _timestamp: 1648850840.0000 - _runtime: 95.0000\n",
            "Epoch 9/20\n",
            "282/282 [==============================] - 10s 36ms/step - loss: 2.3027 - accuracy: 0.0960 - val_loss: 2.3026 - val_accuracy: 0.1001 - _timestamp: 1648850850.0000 - _runtime: 105.0000\n",
            "Epoch 10/20\n",
            "282/282 [==============================] - 11s 39ms/step - loss: 2.3028 - accuracy: 0.0980 - val_loss: 2.3026 - val_accuracy: 0.1001 - _timestamp: 1648850861.0000 - _runtime: 116.0000\n",
            "Epoch 11/20\n",
            "282/282 [==============================] - 9s 33ms/step - loss: 2.3028 - accuracy: 0.0983 - val_loss: 2.3026 - val_accuracy: 0.1001 - _timestamp: 1648850870.0000 - _runtime: 125.0000\n",
            "Epoch 12/20\n",
            "282/282 [==============================] - 10s 34ms/step - loss: 2.3028 - accuracy: 0.0946 - val_loss: 2.3026 - val_accuracy: 0.1001 - _timestamp: 1648850880.0000 - _runtime: 135.0000\n",
            "Epoch 13/20\n",
            "282/282 [==============================] - 9s 32ms/step - loss: 2.3027 - accuracy: 0.0900 - val_loss: 2.3026 - val_accuracy: 0.1001 - _timestamp: 1648850889.0000 - _runtime: 144.0000\n",
            "Epoch 14/20\n",
            "282/282 [==============================] - 9s 31ms/step - loss: 2.3028 - accuracy: 0.0961 - val_loss: 2.3026 - val_accuracy: 0.1001 - _timestamp: 1648850898.0000 - _runtime: 153.0000\n",
            "Epoch 15/20\n",
            "282/282 [==============================] - 9s 32ms/step - loss: 2.3028 - accuracy: 0.0934 - val_loss: 2.3026 - val_accuracy: 0.1001 - _timestamp: 1648850907.0000 - _runtime: 162.0000\n",
            "Epoch 16/20\n",
            "282/282 [==============================] - 9s 32ms/step - loss: 2.3027 - accuracy: 0.0924 - val_loss: 2.3026 - val_accuracy: 0.1001 - _timestamp: 1648850916.0000 - _runtime: 171.0000\n",
            "Epoch 17/20\n",
            "282/282 [==============================] - 11s 39ms/step - loss: 2.3027 - accuracy: 0.0977 - val_loss: 2.3026 - val_accuracy: 0.1001 - _timestamp: 1648850927.0000 - _runtime: 182.0000\n",
            "Epoch 18/20\n",
            "282/282 [==============================] - 9s 30ms/step - loss: 2.3028 - accuracy: 0.0960 - val_loss: 2.3026 - val_accuracy: 0.1001 - _timestamp: 1648850936.0000 - _runtime: 191.0000\n",
            "Epoch 19/20\n",
            "282/282 [==============================] - 9s 33ms/step - loss: 2.3028 - accuracy: 0.0974 - val_loss: 2.3026 - val_accuracy: 0.1001 - _timestamp: 1648850946.0000 - _runtime: 201.0000\n",
            "Epoch 20/20\n",
            "282/282 [==============================] - 10s 34ms/step - loss: 2.3028 - accuracy: 0.0974 - val_loss: 2.3026 - val_accuracy: 0.1001 - _timestamp: 1648850955.0000 - _runtime: 210.0000\n",
            "\n"
          ]
        },
        {
          "output_type": "display_data",
          "data": {
            "text/plain": [
              "<IPython.core.display.HTML object>"
            ],
            "text/html": [
              "Waiting for W&B process to finish... <strong style=\"color:green\">(success).</strong>"
            ]
          },
          "metadata": {}
        },
        {
          "output_type": "display_data",
          "data": {
            "text/plain": [
              "VBox(children=(Label(value='0.139 MB of 0.139 MB uploaded (0.000 MB deduped)\\r'), FloatProgress(value=1.0, max…"
            ],
            "application/vnd.jupyter.widget-view+json": {
              "version_major": 2,
              "version_minor": 0,
              "model_id": "0744d93194174bf985f520610f98a427"
            }
          },
          "metadata": {}
        },
        {
          "output_type": "display_data",
          "data": {
            "text/plain": [
              "<IPython.core.display.HTML object>"
            ],
            "text/html": [
              "<style>\n",
              "    table.wandb td:nth-child(1) { padding: 0 10px; text-align: right }\n",
              "    .wandb-row { display: flex; flex-direction: row; flex-wrap: wrap; width: 100% }\n",
              "    .wandb-col { display: flex; flex-direction: column; flex-basis: 100%; flex: 1; padding: 10px; }\n",
              "    </style>\n",
              "<div class=\"wandb-row\"><div class=\"wandb-col\"><h3>Run history:</h3><br/><table class=\"wandb\"><tr><td>accuracy</td><td>▆▄▆▆▆▆▄▅▆██▅▁▆▄▃█▆▇▇</td></tr><tr><td>epoch</td><td>▁▁▂▂▂▃▃▄▄▄▅▅▅▆▆▇▇▇██</td></tr><tr><td>loss</td><td>█▄▅▅▄▄▃▄▂▄▄▃▁▃▃▂▁▃▃▅</td></tr><tr><td>val_accuracy</td><td>▁▁▁▁▁▁▁▁▁▁▁▁▁▁▁▁▁▁▁▁</td></tr><tr><td>val_loss</td><td>▁▁▁▂▂▆▁▄▃▃▂▅▂▆▃▂█▅▂▂</td></tr></table><br/></div><div class=\"wandb-col\"><h3>Run summary:</h3><br/><table class=\"wandb\"><tr><td>accuracy</td><td>0.09737</td></tr><tr><td>best_epoch</td><td>0</td></tr><tr><td>best_val_loss</td><td>2.30256</td></tr><tr><td>epoch</td><td>19</td></tr><tr><td>loss</td><td>2.30279</td></tr><tr><td>val_accuracy</td><td>0.1001</td></tr><tr><td>val_loss</td><td>2.30256</td></tr></table><br/></div></div>"
            ]
          },
          "metadata": {}
        },
        {
          "output_type": "display_data",
          "data": {
            "text/plain": [
              "<IPython.core.display.HTML object>"
            ],
            "text/html": [
              "Synced <strong style=\"color:#cdcd00\">fragrant-sweep-12</strong>: <a href=\"https://wandb.ai/pratap49/A2-part-A1/runs/6mjjt4r2\" target=\"_blank\">https://wandb.ai/pratap49/A2-part-A1/runs/6mjjt4r2</a><br/>Synced 5 W&B file(s), 1 media file(s), 0 artifact file(s) and 3 other file(s)"
            ]
          },
          "metadata": {}
        },
        {
          "output_type": "display_data",
          "data": {
            "text/plain": [
              "<IPython.core.display.HTML object>"
            ],
            "text/html": [
              "Find logs at: <code>./wandb/run-20220401_220545-6mjjt4r2/logs</code>"
            ]
          },
          "metadata": {}
        },
        {
          "output_type": "stream",
          "name": "stderr",
          "text": [
            "\u001b[34m\u001b[1mwandb\u001b[0m: Sweep Agent: Waiting for job.\n",
            "\u001b[34m\u001b[1mwandb\u001b[0m: Job received.\n",
            "\u001b[34m\u001b[1mwandb\u001b[0m: Agent Starting Run: mvxmd6c9 with config:\n",
            "\u001b[34m\u001b[1mwandb\u001b[0m: \tactivation: sigmoid\n",
            "\u001b[34m\u001b[1mwandb\u001b[0m: \tbatchnormalisation: NO\n",
            "\u001b[34m\u001b[1mwandb\u001b[0m: \tbatchsize: 64\n",
            "\u001b[34m\u001b[1mwandb\u001b[0m: \tdropout: 0.25\n",
            "\u001b[34m\u001b[1mwandb\u001b[0m: \tepochs: 20\n",
            "\u001b[34m\u001b[1mwandb\u001b[0m: \tfilterorg: 0.5\n",
            "\u001b[34m\u001b[1mwandb\u001b[0m: \tflt: 32\n",
            "\u001b[34m\u001b[1mwandb\u001b[0m: \tkerneldim: 7\n",
            "\u001b[34m\u001b[1mwandb\u001b[0m: \tlr: 0.001\n",
            "\u001b[34m\u001b[1mwandb\u001b[0m: \tneurons: 20\n",
            "\u001b[34m\u001b[1mwandb\u001b[0m: \toptimizer: adam\n"
          ]
        },
        {
          "output_type": "display_data",
          "data": {
            "text/plain": [
              "<IPython.core.display.HTML object>"
            ],
            "text/html": [
              "Tracking run with wandb version 0.12.11"
            ]
          },
          "metadata": {}
        },
        {
          "output_type": "display_data",
          "data": {
            "text/plain": [
              "<IPython.core.display.HTML object>"
            ],
            "text/html": [
              "Run data is saved locally in <code>/content/wandb/run-20220401_220935-mvxmd6c9</code>"
            ]
          },
          "metadata": {}
        },
        {
          "output_type": "display_data",
          "data": {
            "text/plain": [
              "<IPython.core.display.HTML object>"
            ],
            "text/html": [
              "Syncing run <strong><a href=\"https://wandb.ai/pratap49/A2-part-A1/runs/mvxmd6c9\" target=\"_blank\">swept-sweep-13</a></strong> to <a href=\"https://wandb.ai/pratap49/A2-part-A1\" target=\"_blank\">Weights & Biases</a> (<a href=\"https://wandb.me/run\" target=\"_blank\">docs</a>)<br/>Sweep page:  <a href=\"https://wandb.ai/pratap49/A2-part-A1/sweeps/uww8d6oe\" target=\"_blank\">https://wandb.ai/pratap49/A2-part-A1/sweeps/uww8d6oe</a>"
            ]
          },
          "metadata": {}
        },
        {
          "output_type": "stream",
          "name": "stdout",
          "text": [
            "Epoch 1/20\n",
            "  6/141 [>.............................] - ETA: 21s - loss: 2.3798 - accuracy: 0.1276WARNING:tensorflow:Callback method `on_train_batch_end` is slow compared to the batch time (batch time: 0.0311s vs `on_train_batch_end` time: 0.1090s). Check your callbacks.\n",
            "141/141 [==============================] - 16s 102ms/step - loss: 2.3254 - accuracy: 0.1088 - val_loss: 2.2909 - val_accuracy: 0.1181 - _timestamp: 1648851000.0000 - _runtime: 25.0000\n",
            "Epoch 2/20\n",
            "141/141 [==============================] - 11s 81ms/step - loss: 2.2851 - accuracy: 0.1179 - val_loss: 2.2754 - val_accuracy: 0.1181 - _timestamp: 1648851012.0000 - _runtime: 37.0000\n",
            "Epoch 3/20\n",
            "141/141 [==============================] - 11s 79ms/step - loss: 2.2723 - accuracy: 0.1280 - val_loss: 2.2647 - val_accuracy: 0.1221 - _timestamp: 1648851023.0000 - _runtime: 48.0000\n",
            "Epoch 4/20\n",
            "141/141 [==============================] - 15s 108ms/step - loss: 2.2630 - accuracy: 0.1324 - val_loss: 2.2523 - val_accuracy: 0.1341 - _timestamp: 1648851038.0000 - _runtime: 63.0000\n",
            "Epoch 5/20\n",
            "141/141 [==============================] - 13s 90ms/step - loss: 2.2619 - accuracy: 0.1340 - val_loss: 2.2441 - val_accuracy: 0.1321 - _timestamp: 1648851051.0000 - _runtime: 76.0000\n",
            "Epoch 6/20\n",
            "141/141 [==============================] - 12s 84ms/step - loss: 2.2571 - accuracy: 0.1345 - val_loss: 2.2472 - val_accuracy: 0.1411 - _timestamp: 1648851063.0000 - _runtime: 88.0000\n",
            "Epoch 7/20\n",
            "141/141 [==============================] - 12s 84ms/step - loss: 2.2532 - accuracy: 0.1378 - val_loss: 2.2419 - val_accuracy: 0.1401 - _timestamp: 1648851074.0000 - _runtime: 99.0000\n",
            "Epoch 8/20\n",
            "141/141 [==============================] - 14s 96ms/step - loss: 2.2525 - accuracy: 0.1425 - val_loss: 2.2415 - val_accuracy: 0.1361 - _timestamp: 1648851088.0000 - _runtime: 113.0000\n",
            "Epoch 9/20\n",
            "141/141 [==============================] - 12s 83ms/step - loss: 2.2472 - accuracy: 0.1415 - val_loss: 2.2412 - val_accuracy: 0.1502 - _timestamp: 1648851100.0000 - _runtime: 125.0000\n",
            "Epoch 10/20\n",
            "141/141 [==============================] - 14s 98ms/step - loss: 2.2409 - accuracy: 0.1445 - val_loss: 2.2394 - val_accuracy: 0.1491 - _timestamp: 1648851114.0000 - _runtime: 139.0000\n",
            "Epoch 11/20\n",
            "141/141 [==============================] - 13s 90ms/step - loss: 2.2414 - accuracy: 0.1410 - val_loss: 2.2302 - val_accuracy: 0.1491 - _timestamp: 1648851127.0000 - _runtime: 152.0000\n",
            "Epoch 12/20\n",
            "141/141 [==============================] - 12s 87ms/step - loss: 2.2327 - accuracy: 0.1509 - val_loss: 2.2244 - val_accuracy: 0.1351 - _timestamp: 1648851139.0000 - _runtime: 164.0000\n",
            "Epoch 13/20\n",
            "141/141 [==============================] - 12s 86ms/step - loss: 2.2373 - accuracy: 0.1474 - val_loss: 2.2447 - val_accuracy: 0.1502 - _timestamp: 1648851152.0000 - _runtime: 177.0000\n",
            "Epoch 14/20\n",
            "141/141 [==============================] - 13s 95ms/step - loss: 2.2356 - accuracy: 0.1489 - val_loss: 2.2248 - val_accuracy: 0.1622 - _timestamp: 1648851165.0000 - _runtime: 190.0000\n",
            "Epoch 15/20\n",
            "141/141 [==============================] - 13s 92ms/step - loss: 2.2284 - accuracy: 0.1518 - val_loss: 2.2343 - val_accuracy: 0.1512 - _timestamp: 1648851178.0000 - _runtime: 203.0000\n",
            "Epoch 16/20\n",
            "141/141 [==============================] - 11s 78ms/step - loss: 2.2262 - accuracy: 0.1564 - val_loss: 2.2259 - val_accuracy: 0.1451 - _timestamp: 1648851189.0000 - _runtime: 214.0000\n",
            "Epoch 17/20\n",
            "141/141 [==============================] - 12s 87ms/step - loss: 2.2269 - accuracy: 0.1525 - val_loss: 2.2347 - val_accuracy: 0.1502 - _timestamp: 1648851202.0000 - _runtime: 227.0000\n",
            "Epoch 18/20\n",
            "141/141 [==============================] - 12s 85ms/step - loss: 2.2189 - accuracy: 0.1585 - val_loss: 2.2360 - val_accuracy: 0.1491 - _timestamp: 1648851214.0000 - _runtime: 239.0000\n",
            "Epoch 19/20\n",
            "141/141 [==============================] - 13s 90ms/step - loss: 2.2151 - accuracy: 0.1616 - val_loss: 2.2180 - val_accuracy: 0.1612 - _timestamp: 1648851227.0000 - _runtime: 252.0000\n",
            "Epoch 20/20\n",
            "141/141 [==============================] - 12s 85ms/step - loss: 2.2080 - accuracy: 0.1579 - val_loss: 2.2144 - val_accuracy: 0.1582 - _timestamp: 1648851239.0000 - _runtime: 264.0000\n",
            "\n"
          ]
        },
        {
          "output_type": "display_data",
          "data": {
            "text/plain": [
              "<IPython.core.display.HTML object>"
            ],
            "text/html": [
              "Waiting for W&B process to finish... <strong style=\"color:green\">(success).</strong>"
            ]
          },
          "metadata": {}
        },
        {
          "output_type": "display_data",
          "data": {
            "text/plain": [
              "VBox(children=(Label(value='0.582 MB of 0.582 MB uploaded (0.000 MB deduped)\\r'), FloatProgress(value=1.0, max…"
            ],
            "application/vnd.jupyter.widget-view+json": {
              "version_major": 2,
              "version_minor": 0,
              "model_id": "7c196d6a59f14fdd9b492c8194e67b7f"
            }
          },
          "metadata": {}
        },
        {
          "output_type": "display_data",
          "data": {
            "text/plain": [
              "<IPython.core.display.HTML object>"
            ],
            "text/html": [
              "<style>\n",
              "    table.wandb td:nth-child(1) { padding: 0 10px; text-align: right }\n",
              "    .wandb-row { display: flex; flex-direction: row; flex-wrap: wrap; width: 100% }\n",
              "    .wandb-col { display: flex; flex-direction: column; flex-basis: 100%; flex: 1; padding: 10px; }\n",
              "    </style>\n",
              "<div class=\"wandb-row\"><div class=\"wandb-col\"><h3>Run history:</h3><br/><table class=\"wandb\"><tr><td>accuracy</td><td>▁▂▄▄▄▄▅▅▅▆▅▇▆▆▇▇▇███</td></tr><tr><td>epoch</td><td>▁▁▂▂▂▃▃▄▄▄▅▅▅▆▆▇▇▇██</td></tr><tr><td>loss</td><td>█▆▅▄▄▄▄▄▃▃▃▂▃▃▂▂▂▂▁▁</td></tr><tr><td>val_accuracy</td><td>▁▁▂▄▃▅▅▄▆▆▆▄▆█▆▅▆▆█▇</td></tr><tr><td>val_loss</td><td>█▇▆▄▄▄▄▃▃▃▂▂▄▂▃▂▃▃▁▁</td></tr></table><br/></div><div class=\"wandb-col\"><h3>Run summary:</h3><br/><table class=\"wandb\"><tr><td>accuracy</td><td>0.15794</td></tr><tr><td>best_epoch</td><td>19</td></tr><tr><td>best_val_loss</td><td>2.21441</td></tr><tr><td>epoch</td><td>19</td></tr><tr><td>loss</td><td>2.20797</td></tr><tr><td>val_accuracy</td><td>0.15816</td></tr><tr><td>val_loss</td><td>2.21441</td></tr></table><br/></div></div>"
            ]
          },
          "metadata": {}
        },
        {
          "output_type": "display_data",
          "data": {
            "text/plain": [
              "<IPython.core.display.HTML object>"
            ],
            "text/html": [
              "Synced <strong style=\"color:#cdcd00\">swept-sweep-13</strong>: <a href=\"https://wandb.ai/pratap49/A2-part-A1/runs/mvxmd6c9\" target=\"_blank\">https://wandb.ai/pratap49/A2-part-A1/runs/mvxmd6c9</a><br/>Synced 5 W&B file(s), 1 media file(s), 0 artifact file(s) and 3 other file(s)"
            ]
          },
          "metadata": {}
        },
        {
          "output_type": "display_data",
          "data": {
            "text/plain": [
              "<IPython.core.display.HTML object>"
            ],
            "text/html": [
              "Find logs at: <code>./wandb/run-20220401_220935-mvxmd6c9/logs</code>"
            ]
          },
          "metadata": {}
        },
        {
          "output_type": "stream",
          "name": "stderr",
          "text": [
            "\u001b[34m\u001b[1mwandb\u001b[0m: Agent Starting Run: 2j0eflvy with config:\n",
            "\u001b[34m\u001b[1mwandb\u001b[0m: \tactivation: tanh\n",
            "\u001b[34m\u001b[1mwandb\u001b[0m: \tbatchnormalisation: YES\n",
            "\u001b[34m\u001b[1mwandb\u001b[0m: \tbatchsize: 128\n",
            "\u001b[34m\u001b[1mwandb\u001b[0m: \tdropout: 0.3\n",
            "\u001b[34m\u001b[1mwandb\u001b[0m: \tepochs: 20\n",
            "\u001b[34m\u001b[1mwandb\u001b[0m: \tfilterorg: 1\n",
            "\u001b[34m\u001b[1mwandb\u001b[0m: \tflt: 64\n",
            "\u001b[34m\u001b[1mwandb\u001b[0m: \tkerneldim: 4\n",
            "\u001b[34m\u001b[1mwandb\u001b[0m: \tlr: 0.0003\n",
            "\u001b[34m\u001b[1mwandb\u001b[0m: \tneurons: 20\n",
            "\u001b[34m\u001b[1mwandb\u001b[0m: \toptimizer: adam\n"
          ]
        },
        {
          "output_type": "display_data",
          "data": {
            "text/plain": [
              "<IPython.core.display.HTML object>"
            ],
            "text/html": [
              "Tracking run with wandb version 0.12.11"
            ]
          },
          "metadata": {}
        },
        {
          "output_type": "display_data",
          "data": {
            "text/plain": [
              "<IPython.core.display.HTML object>"
            ],
            "text/html": [
              "Run data is saved locally in <code>/content/wandb/run-20220401_221411-2j0eflvy</code>"
            ]
          },
          "metadata": {}
        },
        {
          "output_type": "display_data",
          "data": {
            "text/plain": [
              "<IPython.core.display.HTML object>"
            ],
            "text/html": [
              "Syncing run <strong><a href=\"https://wandb.ai/pratap49/A2-part-A1/runs/2j0eflvy\" target=\"_blank\">noble-sweep-14</a></strong> to <a href=\"https://wandb.ai/pratap49/A2-part-A1\" target=\"_blank\">Weights & Biases</a> (<a href=\"https://wandb.me/run\" target=\"_blank\">docs</a>)<br/>Sweep page:  <a href=\"https://wandb.ai/pratap49/A2-part-A1/sweeps/uww8d6oe\" target=\"_blank\">https://wandb.ai/pratap49/A2-part-A1/sweeps/uww8d6oe</a>"
            ]
          },
          "metadata": {}
        },
        {
          "output_type": "stream",
          "name": "stdout",
          "text": [
            "Epoch 1/20\n",
            "\n"
          ]
        },
        {
          "output_type": "display_data",
          "data": {
            "text/plain": [
              "<IPython.core.display.HTML object>"
            ],
            "text/html": [
              "Waiting for W&B process to finish... <strong style=\"color:red\">(failed 1).</strong> Press Control-C to abort syncing."
            ]
          },
          "metadata": {}
        },
        {
          "output_type": "display_data",
          "data": {
            "text/plain": [
              "VBox(children=(Label(value='0.008 MB of 0.008 MB uploaded (0.000 MB deduped)\\r'), FloatProgress(value=1.0, max…"
            ],
            "application/vnd.jupyter.widget-view+json": {
              "version_major": 2,
              "version_minor": 0,
              "model_id": "8523a989a931435db23f0df08eaf2e85"
            }
          },
          "metadata": {}
        },
        {
          "output_type": "display_data",
          "data": {
            "text/plain": [
              "<IPython.core.display.HTML object>"
            ],
            "text/html": [
              "Synced <strong style=\"color:#cdcd00\">noble-sweep-14</strong>: <a href=\"https://wandb.ai/pratap49/A2-part-A1/runs/2j0eflvy\" target=\"_blank\">https://wandb.ai/pratap49/A2-part-A1/runs/2j0eflvy</a><br/>Synced 5 W&B file(s), 0 media file(s), 0 artifact file(s) and 1 other file(s)"
            ]
          },
          "metadata": {}
        },
        {
          "output_type": "display_data",
          "data": {
            "text/plain": [
              "<IPython.core.display.HTML object>"
            ],
            "text/html": [
              "Find logs at: <code>./wandb/run-20220401_221411-2j0eflvy/logs</code>"
            ]
          },
          "metadata": {}
        },
        {
          "output_type": "stream",
          "name": "stderr",
          "text": [
            "Run 2j0eflvy errored: ResourceExhaustedError()\n",
            "\u001b[34m\u001b[1mwandb\u001b[0m: \u001b[32m\u001b[41mERROR\u001b[0m Run 2j0eflvy errored: ResourceExhaustedError()\n",
            "\u001b[34m\u001b[1mwandb\u001b[0m: Agent Starting Run: jiaww4i0 with config:\n",
            "\u001b[34m\u001b[1mwandb\u001b[0m: \tactivation: sigmoid\n",
            "\u001b[34m\u001b[1mwandb\u001b[0m: \tbatchnormalisation: NO\n",
            "\u001b[34m\u001b[1mwandb\u001b[0m: \tbatchsize: 64\n",
            "\u001b[34m\u001b[1mwandb\u001b[0m: \tdropout: 0.2\n",
            "\u001b[34m\u001b[1mwandb\u001b[0m: \tepochs: 30\n",
            "\u001b[34m\u001b[1mwandb\u001b[0m: \tfilterorg: 2\n",
            "\u001b[34m\u001b[1mwandb\u001b[0m: \tflt: 16\n",
            "\u001b[34m\u001b[1mwandb\u001b[0m: \tkerneldim: 4\n",
            "\u001b[34m\u001b[1mwandb\u001b[0m: \tlr: 0.002\n",
            "\u001b[34m\u001b[1mwandb\u001b[0m: \tneurons: 20\n",
            "\u001b[34m\u001b[1mwandb\u001b[0m: \toptimizer: adam\n"
          ]
        },
        {
          "output_type": "display_data",
          "data": {
            "text/plain": [
              "<IPython.core.display.HTML object>"
            ],
            "text/html": [
              "Tracking run with wandb version 0.12.11"
            ]
          },
          "metadata": {}
        },
        {
          "output_type": "display_data",
          "data": {
            "text/plain": [
              "<IPython.core.display.HTML object>"
            ],
            "text/html": [
              "Run data is saved locally in <code>/content/wandb/run-20220401_221442-jiaww4i0</code>"
            ]
          },
          "metadata": {}
        },
        {
          "output_type": "display_data",
          "data": {
            "text/plain": [
              "<IPython.core.display.HTML object>"
            ],
            "text/html": [
              "Syncing run <strong><a href=\"https://wandb.ai/pratap49/A2-part-A1/runs/jiaww4i0\" target=\"_blank\">lively-sweep-15</a></strong> to <a href=\"https://wandb.ai/pratap49/A2-part-A1\" target=\"_blank\">Weights & Biases</a> (<a href=\"https://wandb.me/run\" target=\"_blank\">docs</a>)<br/>Sweep page:  <a href=\"https://wandb.ai/pratap49/A2-part-A1/sweeps/uww8d6oe\" target=\"_blank\">https://wandb.ai/pratap49/A2-part-A1/sweeps/uww8d6oe</a>"
            ]
          },
          "metadata": {}
        },
        {
          "output_type": "stream",
          "name": "stdout",
          "text": [
            "Epoch 1/30\n",
            "  6/141 [>.............................] - ETA: 11s - loss: 2.3722 - accuracy: 0.0938WARNING:tensorflow:Callback method `on_train_batch_end` is slow compared to the batch time (batch time: 0.0259s vs `on_train_batch_end` time: 0.0536s). Check your callbacks.\n",
            "141/141 [==============================] - 14s 91ms/step - loss: 2.2703 - accuracy: 0.1443 - val_loss: 2.2449 - val_accuracy: 0.1812 - _timestamp: 1648851305.0000 - _runtime: 23.0000\n",
            "Epoch 2/30\n",
            "141/141 [==============================] - 10s 70ms/step - loss: 2.2524 - accuracy: 0.1621 - val_loss: 2.2819 - val_accuracy: 0.1301 - _timestamp: 1648851315.0000 - _runtime: 33.0000\n",
            "Epoch 3/30\n",
            "141/141 [==============================] - 12s 84ms/step - loss: 2.2991 - accuracy: 0.1138 - val_loss: 2.2908 - val_accuracy: 0.1141 - _timestamp: 1648851327.0000 - _runtime: 45.0000\n",
            "Epoch 4/30\n",
            "141/141 [==============================] - 10s 71ms/step - loss: 2.2971 - accuracy: 0.1066 - val_loss: 2.2988 - val_accuracy: 0.1081 - _timestamp: 1648851337.0000 - _runtime: 55.0000\n",
            "Epoch 5/30\n",
            "141/141 [==============================] - 9s 66ms/step - loss: 2.3026 - accuracy: 0.0989 - val_loss: 2.2928 - val_accuracy: 0.1111 - _timestamp: 1648851347.0000 - _runtime: 65.0000\n",
            "Epoch 6/30\n",
            "141/141 [==============================] - 10s 74ms/step - loss: 2.3080 - accuracy: 0.1036 - val_loss: 2.3899 - val_accuracy: 0.1031 - _timestamp: 1648851357.0000 - _runtime: 75.0000\n",
            "Epoch 7/30\n",
            "141/141 [==============================] - 9s 64ms/step - loss: 2.3093 - accuracy: 0.0966 - val_loss: 2.3051 - val_accuracy: 0.0981 - _timestamp: 1648851366.0000 - _runtime: 84.0000\n",
            "Epoch 8/30\n",
            "141/141 [==============================] - 10s 73ms/step - loss: 2.3070 - accuracy: 0.0953 - val_loss: 2.3040 - val_accuracy: 0.1011 - _timestamp: 1648851377.0000 - _runtime: 95.0000\n",
            "Epoch 9/30\n",
            "141/141 [==============================] - 11s 79ms/step - loss: 2.3051 - accuracy: 0.0959 - val_loss: 2.3052 - val_accuracy: 0.1001 - _timestamp: 1648851388.0000 - _runtime: 106.0000\n",
            "Epoch 10/30\n",
            "141/141 [==============================] - 11s 80ms/step - loss: 2.3053 - accuracy: 0.0978 - val_loss: 2.3046 - val_accuracy: 0.1001 - _timestamp: 1648851399.0000 - _runtime: 117.0000\n",
            "Epoch 11/30\n",
            "141/141 [==============================] - 10s 71ms/step - loss: 2.3054 - accuracy: 0.0947 - val_loss: 2.3037 - val_accuracy: 0.1001 - _timestamp: 1648851409.0000 - _runtime: 127.0000\n",
            "Epoch 12/30\n",
            "141/141 [==============================] - 10s 74ms/step - loss: 2.3048 - accuracy: 0.0981 - val_loss: 2.3043 - val_accuracy: 0.1001 - _timestamp: 1648851420.0000 - _runtime: 138.0000\n",
            "Epoch 13/30\n",
            "141/141 [==============================] - 14s 103ms/step - loss: 2.3050 - accuracy: 0.0956 - val_loss: 2.3043 - val_accuracy: 0.1001 - _timestamp: 1648851434.0000 - _runtime: 152.0000\n",
            "Epoch 14/30\n",
            "141/141 [==============================] - 10s 75ms/step - loss: 2.3051 - accuracy: 0.0998 - val_loss: 2.3038 - val_accuracy: 0.0991 - _timestamp: 1648851445.0000 - _runtime: 163.0000\n",
            "Epoch 15/30\n",
            "141/141 [==============================] - 12s 84ms/step - loss: 2.3043 - accuracy: 0.0990 - val_loss: 2.3053 - val_accuracy: 0.1001 - _timestamp: 1648851457.0000 - _runtime: 175.0000\n",
            "Epoch 16/30\n",
            "141/141 [==============================] - 11s 80ms/step - loss: 2.3054 - accuracy: 0.0953 - val_loss: 2.3038 - val_accuracy: 0.1001 - _timestamp: 1648851468.0000 - _runtime: 186.0000\n",
            "Epoch 17/30\n",
            "141/141 [==============================] - 12s 89ms/step - loss: 2.3052 - accuracy: 0.0980 - val_loss: 2.3037 - val_accuracy: 0.1001 - _timestamp: 1648851481.0000 - _runtime: 199.0000\n",
            "Epoch 18/30\n",
            "141/141 [==============================] - 12s 83ms/step - loss: 2.3052 - accuracy: 0.0914 - val_loss: 2.3042 - val_accuracy: 0.0991 - _timestamp: 1648851493.0000 - _runtime: 211.0000\n",
            "Epoch 19/30\n",
            "141/141 [==============================] - 11s 76ms/step - loss: 2.3046 - accuracy: 0.0953 - val_loss: 2.3032 - val_accuracy: 0.1001 - _timestamp: 1648851503.0000 - _runtime: 221.0000\n",
            "Epoch 20/30\n",
            "141/141 [==============================] - 10s 68ms/step - loss: 2.3052 - accuracy: 0.1023 - val_loss: 2.3056 - val_accuracy: 0.1001 - _timestamp: 1648851513.0000 - _runtime: 231.0000\n",
            "Epoch 21/30\n",
            "141/141 [==============================] - 10s 73ms/step - loss: 2.3052 - accuracy: 0.0966 - val_loss: 2.3039 - val_accuracy: 0.1001 - _timestamp: 1648851523.0000 - _runtime: 241.0000\n",
            "Epoch 22/30\n",
            "141/141 [==============================] - 11s 81ms/step - loss: 2.3047 - accuracy: 0.1016 - val_loss: 2.3040 - val_accuracy: 0.1001 - _timestamp: 1648851535.0000 - _runtime: 253.0000\n",
            "Epoch 23/30\n",
            "141/141 [==============================] - 11s 75ms/step - loss: 2.3054 - accuracy: 0.0957 - val_loss: 2.3036 - val_accuracy: 0.1001 - _timestamp: 1648851546.0000 - _runtime: 264.0000\n",
            "Epoch 24/30\n",
            "141/141 [==============================] - 11s 76ms/step - loss: 2.3049 - accuracy: 0.1046 - val_loss: 2.3039 - val_accuracy: 0.0991 - _timestamp: 1648851557.0000 - _runtime: 275.0000\n",
            "Epoch 25/30\n",
            "141/141 [==============================] - 9s 61ms/step - loss: 2.3050 - accuracy: 0.0970 - val_loss: 2.3043 - val_accuracy: 0.1001 - _timestamp: 1648851566.0000 - _runtime: 284.0000\n",
            "Epoch 26/30\n",
            "141/141 [==============================] - 11s 78ms/step - loss: 2.3053 - accuracy: 0.0961 - val_loss: 2.3042 - val_accuracy: 0.1001 - _timestamp: 1648851577.0000 - _runtime: 295.0000\n",
            "Epoch 27/30\n",
            "141/141 [==============================] - 11s 75ms/step - loss: 2.3049 - accuracy: 0.0958 - val_loss: 2.3036 - val_accuracy: 0.1001 - _timestamp: 1648851587.0000 - _runtime: 305.0000\n",
            "Epoch 28/30\n",
            "141/141 [==============================] - 12s 83ms/step - loss: 2.3048 - accuracy: 0.0950 - val_loss: 2.3046 - val_accuracy: 0.1001 - _timestamp: 1648851599.0000 - _runtime: 317.0000\n",
            "Epoch 29/30\n",
            "141/141 [==============================] - 12s 87ms/step - loss: 2.3051 - accuracy: 0.0965 - val_loss: 2.3043 - val_accuracy: 0.1001 - _timestamp: 1648851611.0000 - _runtime: 329.0000\n",
            "Epoch 30/30\n",
            "141/141 [==============================] - 11s 76ms/step - loss: 2.3048 - accuracy: 0.0979 - val_loss: 2.3050 - val_accuracy: 0.1001 - _timestamp: 1648851622.0000 - _runtime: 340.0000\n",
            "\n"
          ]
        },
        {
          "output_type": "display_data",
          "data": {
            "text/plain": [
              "<IPython.core.display.HTML object>"
            ],
            "text/html": [
              "Waiting for W&B process to finish... <strong style=\"color:green\">(success).</strong>"
            ]
          },
          "metadata": {}
        },
        {
          "output_type": "display_data",
          "data": {
            "text/plain": [
              "VBox(children=(Label(value='9.068 MB of 9.068 MB uploaded (0.000 MB deduped)\\r'), FloatProgress(value=1.0, max…"
            ],
            "application/vnd.jupyter.widget-view+json": {
              "version_major": 2,
              "version_minor": 0,
              "model_id": "3925d3c2357e4de9bb80f7243e8ba82b"
            }
          },
          "metadata": {}
        },
        {
          "output_type": "display_data",
          "data": {
            "text/plain": [
              "<IPython.core.display.HTML object>"
            ],
            "text/html": [
              "<style>\n",
              "    table.wandb td:nth-child(1) { padding: 0 10px; text-align: right }\n",
              "    .wandb-row { display: flex; flex-direction: row; flex-wrap: wrap; width: 100% }\n",
              "    .wandb-col { display: flex; flex-direction: column; flex-basis: 100%; flex: 1; padding: 10px; }\n",
              "    </style>\n",
              "<div class=\"wandb-row\"><div class=\"wandb-col\"><h3>Run history:</h3><br/><table class=\"wandb\"><tr><td>accuracy</td><td>▆█▃▃▂▂▂▁▁▂▁▂▁▂▂▁▂▁▁▂▂▂▁▂▂▁▁▁▂▂</td></tr><tr><td>epoch</td><td>▁▁▁▂▂▂▂▃▃▃▃▄▄▄▄▅▅▅▅▆▆▆▆▇▇▇▇███</td></tr><tr><td>loss</td><td>▃▁▇▇▇███▇██▇▇▇▇█▇▇▇▇▇▇█▇▇█▇▇▇▇</td></tr><tr><td>val_accuracy</td><td>█▄▂▂▂▁▁▁▁▁▁▁▁▁▁▁▁▁▁▁▁▁▁▁▁▁▁▁▁▁</td></tr><tr><td>val_loss</td><td>▁▃▃▄▃█▄▄▄▄▄▄▄▄▄▄▄▄▄▄▄▄▄▄▄▄▄▄▄▄</td></tr></table><br/></div><div class=\"wandb-col\"><h3>Run summary:</h3><br/><table class=\"wandb\"><tr><td>accuracy</td><td>0.09792</td></tr><tr><td>best_epoch</td><td>0</td></tr><tr><td>best_val_loss</td><td>2.24488</td></tr><tr><td>epoch</td><td>29</td></tr><tr><td>loss</td><td>2.30482</td></tr><tr><td>val_accuracy</td><td>0.1001</td></tr><tr><td>val_loss</td><td>2.30501</td></tr></table><br/></div></div>"
            ]
          },
          "metadata": {}
        },
        {
          "output_type": "display_data",
          "data": {
            "text/plain": [
              "<IPython.core.display.HTML object>"
            ],
            "text/html": [
              "Synced <strong style=\"color:#cdcd00\">lively-sweep-15</strong>: <a href=\"https://wandb.ai/pratap49/A2-part-A1/runs/jiaww4i0\" target=\"_blank\">https://wandb.ai/pratap49/A2-part-A1/runs/jiaww4i0</a><br/>Synced 5 W&B file(s), 1 media file(s), 0 artifact file(s) and 3 other file(s)"
            ]
          },
          "metadata": {}
        },
        {
          "output_type": "display_data",
          "data": {
            "text/plain": [
              "<IPython.core.display.HTML object>"
            ],
            "text/html": [
              "Find logs at: <code>./wandb/run-20220401_221442-jiaww4i0/logs</code>"
            ]
          },
          "metadata": {}
        },
        {
          "output_type": "stream",
          "name": "stderr",
          "text": [
            "\u001b[34m\u001b[1mwandb\u001b[0m: Agent Starting Run: u03l3b0w with config:\n",
            "\u001b[34m\u001b[1mwandb\u001b[0m: \tactivation: sigmoid\n",
            "\u001b[34m\u001b[1mwandb\u001b[0m: \tbatchnormalisation: NO\n",
            "\u001b[34m\u001b[1mwandb\u001b[0m: \tbatchsize: 64\n",
            "\u001b[34m\u001b[1mwandb\u001b[0m: \tdropout: 0.3\n",
            "\u001b[34m\u001b[1mwandb\u001b[0m: \tepochs: 20\n",
            "\u001b[34m\u001b[1mwandb\u001b[0m: \tfilterorg: 1\n",
            "\u001b[34m\u001b[1mwandb\u001b[0m: \tflt: 16\n",
            "\u001b[34m\u001b[1mwandb\u001b[0m: \tkerneldim: 7\n",
            "\u001b[34m\u001b[1mwandb\u001b[0m: \tlr: 0.004\n",
            "\u001b[34m\u001b[1mwandb\u001b[0m: \tneurons: 64\n",
            "\u001b[34m\u001b[1mwandb\u001b[0m: \toptimizer: adam\n"
          ]
        },
        {
          "output_type": "display_data",
          "data": {
            "text/plain": [
              "<IPython.core.display.HTML object>"
            ],
            "text/html": [
              "Tracking run with wandb version 0.12.11"
            ]
          },
          "metadata": {}
        },
        {
          "output_type": "display_data",
          "data": {
            "text/plain": [
              "<IPython.core.display.HTML object>"
            ],
            "text/html": [
              "Run data is saved locally in <code>/content/wandb/run-20220401_222126-u03l3b0w</code>"
            ]
          },
          "metadata": {}
        },
        {
          "output_type": "display_data",
          "data": {
            "text/plain": [
              "<IPython.core.display.HTML object>"
            ],
            "text/html": [
              "Syncing run <strong><a href=\"https://wandb.ai/pratap49/A2-part-A1/runs/u03l3b0w\" target=\"_blank\">eternal-sweep-16</a></strong> to <a href=\"https://wandb.ai/pratap49/A2-part-A1\" target=\"_blank\">Weights & Biases</a> (<a href=\"https://wandb.me/run\" target=\"_blank\">docs</a>)<br/>Sweep page:  <a href=\"https://wandb.ai/pratap49/A2-part-A1/sweeps/uww8d6oe\" target=\"_blank\">https://wandb.ai/pratap49/A2-part-A1/sweeps/uww8d6oe</a>"
            ]
          },
          "metadata": {}
        },
        {
          "output_type": "stream",
          "name": "stdout",
          "text": [
            "Epoch 1/20\n",
            "  6/141 [>.............................] - ETA: 10s - loss: 2.4013 - accuracy: 0.0911WARNING:tensorflow:Callback method `on_train_batch_end` is slow compared to the batch time (batch time: 0.0277s vs `on_train_batch_end` time: 0.0439s). Check your callbacks.\n",
            "141/141 [==============================] - 13s 81ms/step - loss: 2.3168 - accuracy: 0.1001 - val_loss: 2.3144 - val_accuracy: 0.1001 - _timestamp: 1648851709.0000 - _runtime: 23.0000\n",
            "Epoch 2/20\n",
            "141/141 [==============================] - 10s 72ms/step - loss: 2.3142 - accuracy: 0.0961 - val_loss: 2.3090 - val_accuracy: 0.1001 - _timestamp: 1648851719.0000 - _runtime: 33.0000\n",
            "Epoch 3/20\n",
            "141/141 [==============================] - 8s 59ms/step - loss: 2.3160 - accuracy: 0.0951 - val_loss: 2.3066 - val_accuracy: 0.1001 - _timestamp: 1648851728.0000 - _runtime: 42.0000\n",
            "Epoch 4/20\n",
            "141/141 [==============================] - 9s 63ms/step - loss: 2.3123 - accuracy: 0.0969 - val_loss: 2.3127 - val_accuracy: 0.1001 - _timestamp: 1648851737.0000 - _runtime: 51.0000\n",
            "Epoch 5/20\n",
            "141/141 [==============================] - 8s 58ms/step - loss: 2.3136 - accuracy: 0.1065 - val_loss: 2.3151 - val_accuracy: 0.1001 - _timestamp: 1648851745.0000 - _runtime: 59.0000\n",
            "Epoch 6/20\n",
            "141/141 [==============================] - 8s 54ms/step - loss: 2.3136 - accuracy: 0.0978 - val_loss: 2.3043 - val_accuracy: 0.1001 - _timestamp: 1648851752.0000 - _runtime: 66.0000\n",
            "Epoch 7/20\n",
            "141/141 [==============================] - 10s 69ms/step - loss: 2.3129 - accuracy: 0.0998 - val_loss: 2.3192 - val_accuracy: 0.1001 - _timestamp: 1648851762.0000 - _runtime: 76.0000\n",
            "Epoch 8/20\n",
            "141/141 [==============================] - 9s 64ms/step - loss: 2.3173 - accuracy: 0.0970 - val_loss: 2.3128 - val_accuracy: 0.1001 - _timestamp: 1648851771.0000 - _runtime: 85.0000\n",
            "Epoch 9/20\n",
            "141/141 [==============================] - 8s 54ms/step - loss: 2.3118 - accuracy: 0.1048 - val_loss: 2.3203 - val_accuracy: 0.1001 - _timestamp: 1648851779.0000 - _runtime: 93.0000\n",
            "Epoch 10/20\n",
            "141/141 [==============================] - 10s 70ms/step - loss: 2.3144 - accuracy: 0.0970 - val_loss: 2.3094 - val_accuracy: 0.1001 - _timestamp: 1648851789.0000 - _runtime: 103.0000\n",
            "Epoch 11/20\n",
            "141/141 [==============================] - 10s 68ms/step - loss: 2.3102 - accuracy: 0.0973 - val_loss: 2.3135 - val_accuracy: 0.1001 - _timestamp: 1648851798.0000 - _runtime: 112.0000\n",
            "Epoch 12/20\n",
            "141/141 [==============================] - 10s 71ms/step - loss: 2.3122 - accuracy: 0.1003 - val_loss: 2.3244 - val_accuracy: 0.1001 - _timestamp: 1648851808.0000 - _runtime: 122.0000\n",
            "Epoch 13/20\n",
            "141/141 [==============================] - 10s 69ms/step - loss: 2.3143 - accuracy: 0.1034 - val_loss: 2.3148 - val_accuracy: 0.1001 - _timestamp: 1648851818.0000 - _runtime: 132.0000\n",
            "Epoch 14/20\n",
            "141/141 [==============================] - 11s 78ms/step - loss: 2.3134 - accuracy: 0.0941 - val_loss: 2.3099 - val_accuracy: 0.1001 - _timestamp: 1648851829.0000 - _runtime: 143.0000\n",
            "Epoch 15/20\n",
            "141/141 [==============================] - 9s 67ms/step - loss: 2.3116 - accuracy: 0.0963 - val_loss: 2.3110 - val_accuracy: 0.1001 - _timestamp: 1648851839.0000 - _runtime: 153.0000\n",
            "Epoch 16/20\n",
            "141/141 [==============================] - 11s 78ms/step - loss: 2.3102 - accuracy: 0.1027 - val_loss: 2.3085 - val_accuracy: 0.1001 - _timestamp: 1648851850.0000 - _runtime: 164.0000\n",
            "Epoch 17/20\n",
            "141/141 [==============================] - 9s 63ms/step - loss: 2.3093 - accuracy: 0.0997 - val_loss: 2.3086 - val_accuracy: 0.1001 - _timestamp: 1648851859.0000 - _runtime: 173.0000\n",
            "Epoch 18/20\n",
            "141/141 [==============================] - 11s 77ms/step - loss: 2.3101 - accuracy: 0.0998 - val_loss: 2.3102 - val_accuracy: 0.1001 - _timestamp: 1648851870.0000 - _runtime: 184.0000\n",
            "Epoch 19/20\n",
            "141/141 [==============================] - 10s 71ms/step - loss: 2.3108 - accuracy: 0.0985 - val_loss: 2.3085 - val_accuracy: 0.1001 - _timestamp: 1648851880.0000 - _runtime: 194.0000\n",
            "Epoch 20/20\n",
            "141/141 [==============================] - 10s 68ms/step - loss: 2.3083 - accuracy: 0.1020 - val_loss: 2.3041 - val_accuracy: 0.1001 - _timestamp: 1648851890.0000 - _runtime: 204.0000\n",
            "\n"
          ]
        },
        {
          "output_type": "display_data",
          "data": {
            "text/plain": [
              "<IPython.core.display.HTML object>"
            ],
            "text/html": [
              "Waiting for W&B process to finish... <strong style=\"color:green\">(success).</strong>"
            ]
          },
          "metadata": {}
        },
        {
          "output_type": "display_data",
          "data": {
            "text/plain": [
              "VBox(children=(Label(value='0.764 MB of 0.770 MB uploaded (0.000 MB deduped)\\r'), FloatProgress(value=0.992555…"
            ],
            "application/vnd.jupyter.widget-view+json": {
              "version_major": 2,
              "version_minor": 0,
              "model_id": "4c1dee721c794084a9f63d01a1ac6c53"
            }
          },
          "metadata": {}
        },
        {
          "output_type": "display_data",
          "data": {
            "text/plain": [
              "<IPython.core.display.HTML object>"
            ],
            "text/html": [
              "<style>\n",
              "    table.wandb td:nth-child(1) { padding: 0 10px; text-align: right }\n",
              "    .wandb-row { display: flex; flex-direction: row; flex-wrap: wrap; width: 100% }\n",
              "    .wandb-col { display: flex; flex-direction: column; flex-basis: 100%; flex: 1; padding: 10px; }\n",
              "    </style>\n",
              "<div class=\"wandb-row\"><div class=\"wandb-col\"><h3>Run history:</h3><br/><table class=\"wandb\"><tr><td>accuracy</td><td>▄▂▂▃█▃▄▃▇▃▃▄▆▁▂▆▄▄▃▅</td></tr><tr><td>epoch</td><td>▁▁▂▂▂▃▃▄▄▄▅▅▅▆▆▇▇▇██</td></tr><tr><td>loss</td><td>█▆▇▄▅▅▅█▄▆▃▄▆▅▄▃▂▂▃▁</td></tr><tr><td>val_accuracy</td><td>▁▁▁▁▁▁▁▁▁▁▁▁▁▁▁▁▁▁▁▁</td></tr><tr><td>val_loss</td><td>▅▃▂▄▅▁▆▄▇▃▄█▅▃▃▂▃▃▃▁</td></tr></table><br/></div><div class=\"wandb-col\"><h3>Run summary:</h3><br/><table class=\"wandb\"><tr><td>accuracy</td><td>0.10203</td></tr><tr><td>best_epoch</td><td>19</td></tr><tr><td>best_val_loss</td><td>2.30412</td></tr><tr><td>epoch</td><td>19</td></tr><tr><td>loss</td><td>2.30826</td></tr><tr><td>val_accuracy</td><td>0.1001</td></tr><tr><td>val_loss</td><td>2.30412</td></tr></table><br/></div></div>"
            ]
          },
          "metadata": {}
        },
        {
          "output_type": "display_data",
          "data": {
            "text/plain": [
              "<IPython.core.display.HTML object>"
            ],
            "text/html": [
              "Synced <strong style=\"color:#cdcd00\">eternal-sweep-16</strong>: <a href=\"https://wandb.ai/pratap49/A2-part-A1/runs/u03l3b0w\" target=\"_blank\">https://wandb.ai/pratap49/A2-part-A1/runs/u03l3b0w</a><br/>Synced 5 W&B file(s), 1 media file(s), 0 artifact file(s) and 3 other file(s)"
            ]
          },
          "metadata": {}
        },
        {
          "output_type": "display_data",
          "data": {
            "text/plain": [
              "<IPython.core.display.HTML object>"
            ],
            "text/html": [
              "Find logs at: <code>./wandb/run-20220401_222126-u03l3b0w/logs</code>"
            ]
          },
          "metadata": {}
        },
        {
          "output_type": "stream",
          "name": "stderr",
          "text": [
            "\u001b[34m\u001b[1mwandb\u001b[0m: Agent Starting Run: xn8hejh3 with config:\n",
            "\u001b[34m\u001b[1mwandb\u001b[0m: \tactivation: sigmoid\n",
            "\u001b[34m\u001b[1mwandb\u001b[0m: \tbatchnormalisation: YES\n",
            "\u001b[34m\u001b[1mwandb\u001b[0m: \tbatchsize: 16\n",
            "\u001b[34m\u001b[1mwandb\u001b[0m: \tdropout: 0\n",
            "\u001b[34m\u001b[1mwandb\u001b[0m: \tepochs: 20\n",
            "\u001b[34m\u001b[1mwandb\u001b[0m: \tfilterorg: 0.5\n",
            "\u001b[34m\u001b[1mwandb\u001b[0m: \tflt: 16\n",
            "\u001b[34m\u001b[1mwandb\u001b[0m: \tkerneldim: 4\n",
            "\u001b[34m\u001b[1mwandb\u001b[0m: \tlr: 0.003\n",
            "\u001b[34m\u001b[1mwandb\u001b[0m: \tneurons: 32\n",
            "\u001b[34m\u001b[1mwandb\u001b[0m: \toptimizer: adam\n"
          ]
        },
        {
          "output_type": "display_data",
          "data": {
            "text/plain": [
              "<IPython.core.display.HTML object>"
            ],
            "text/html": [
              "Tracking run with wandb version 0.12.11"
            ]
          },
          "metadata": {}
        },
        {
          "output_type": "display_data",
          "data": {
            "text/plain": [
              "<IPython.core.display.HTML object>"
            ],
            "text/html": [
              "Run data is saved locally in <code>/content/wandb/run-20220401_222501-xn8hejh3</code>"
            ]
          },
          "metadata": {}
        },
        {
          "output_type": "display_data",
          "data": {
            "text/plain": [
              "<IPython.core.display.HTML object>"
            ],
            "text/html": [
              "Syncing run <strong><a href=\"https://wandb.ai/pratap49/A2-part-A1/runs/xn8hejh3\" target=\"_blank\">royal-sweep-17</a></strong> to <a href=\"https://wandb.ai/pratap49/A2-part-A1\" target=\"_blank\">Weights & Biases</a> (<a href=\"https://wandb.me/run\" target=\"_blank\">docs</a>)<br/>Sweep page:  <a href=\"https://wandb.ai/pratap49/A2-part-A1/sweeps/uww8d6oe\" target=\"_blank\">https://wandb.ai/pratap49/A2-part-A1/sweeps/uww8d6oe</a>"
            ]
          },
          "metadata": {}
        },
        {
          "output_type": "stream",
          "name": "stdout",
          "text": [
            "\n"
          ]
        },
        {
          "output_type": "display_data",
          "data": {
            "text/plain": [
              "<IPython.core.display.HTML object>"
            ],
            "text/html": [
              "Waiting for W&B process to finish... <strong style=\"color:red\">(failed 1).</strong> Press Control-C to abort syncing."
            ]
          },
          "metadata": {}
        },
        {
          "output_type": "display_data",
          "data": {
            "text/plain": [
              "VBox(children=(Label(value='0.009 MB of 0.009 MB uploaded (0.000 MB deduped)\\r'), FloatProgress(value=1.0, max…"
            ],
            "application/vnd.jupyter.widget-view+json": {
              "version_major": 2,
              "version_minor": 0,
              "model_id": "a87f155ef0074e85b4a3fe49983eddd5"
            }
          },
          "metadata": {}
        },
        {
          "output_type": "display_data",
          "data": {
            "text/plain": [
              "<IPython.core.display.HTML object>"
            ],
            "text/html": [
              "Synced <strong style=\"color:#cdcd00\">royal-sweep-17</strong>: <a href=\"https://wandb.ai/pratap49/A2-part-A1/runs/xn8hejh3\" target=\"_blank\">https://wandb.ai/pratap49/A2-part-A1/runs/xn8hejh3</a><br/>Synced 4 W&B file(s), 0 media file(s), 0 artifact file(s) and 0 other file(s)"
            ]
          },
          "metadata": {}
        },
        {
          "output_type": "display_data",
          "data": {
            "text/plain": [
              "<IPython.core.display.HTML object>"
            ],
            "text/html": [
              "Find logs at: <code>./wandb/run-20220401_222501-xn8hejh3/logs</code>"
            ]
          },
          "metadata": {}
        },
        {
          "output_type": "stream",
          "name": "stderr",
          "text": [
            "Run xn8hejh3 errored: InternalError()\n",
            "\u001b[34m\u001b[1mwandb\u001b[0m: \u001b[32m\u001b[41mERROR\u001b[0m Run xn8hejh3 errored: InternalError()\n",
            "\u001b[34m\u001b[1mwandb\u001b[0m: Agent Starting Run: 901snmht with config:\n",
            "\u001b[34m\u001b[1mwandb\u001b[0m: \tactivation: elu\n",
            "\u001b[34m\u001b[1mwandb\u001b[0m: \tbatchnormalisation: NO\n",
            "\u001b[34m\u001b[1mwandb\u001b[0m: \tbatchsize: 32\n",
            "\u001b[34m\u001b[1mwandb\u001b[0m: \tdropout: 0.1\n",
            "\u001b[34m\u001b[1mwandb\u001b[0m: \tepochs: 20\n",
            "\u001b[34m\u001b[1mwandb\u001b[0m: \tfilterorg: 2\n",
            "\u001b[34m\u001b[1mwandb\u001b[0m: \tflt: 32\n",
            "\u001b[34m\u001b[1mwandb\u001b[0m: \tkerneldim: 7\n",
            "\u001b[34m\u001b[1mwandb\u001b[0m: \tlr: 0.002\n",
            "\u001b[34m\u001b[1mwandb\u001b[0m: \tneurons: 128\n",
            "\u001b[34m\u001b[1mwandb\u001b[0m: \toptimizer: adam\n"
          ]
        },
        {
          "output_type": "display_data",
          "data": {
            "text/plain": [
              "<IPython.core.display.HTML object>"
            ],
            "text/html": [
              "Tracking run with wandb version 0.12.11"
            ]
          },
          "metadata": {}
        },
        {
          "output_type": "display_data",
          "data": {
            "text/plain": [
              "<IPython.core.display.HTML object>"
            ],
            "text/html": [
              "Run data is saved locally in <code>/content/wandb/run-20220401_222527-901snmht</code>"
            ]
          },
          "metadata": {}
        },
        {
          "output_type": "display_data",
          "data": {
            "text/plain": [
              "<IPython.core.display.HTML object>"
            ],
            "text/html": [
              "Syncing run <strong><a href=\"https://wandb.ai/pratap49/A2-part-A1/runs/901snmht\" target=\"_blank\">fiery-sweep-18</a></strong> to <a href=\"https://wandb.ai/pratap49/A2-part-A1\" target=\"_blank\">Weights & Biases</a> (<a href=\"https://wandb.me/run\" target=\"_blank\">docs</a>)<br/>Sweep page:  <a href=\"https://wandb.ai/pratap49/A2-part-A1/sweeps/uww8d6oe\" target=\"_blank\">https://wandb.ai/pratap49/A2-part-A1/sweeps/uww8d6oe</a>"
            ]
          },
          "metadata": {}
        },
        {
          "output_type": "stream",
          "name": "stdout",
          "text": [
            "\n"
          ]
        },
        {
          "output_type": "display_data",
          "data": {
            "text/plain": [
              "<IPython.core.display.HTML object>"
            ],
            "text/html": [
              "Waiting for W&B process to finish... <strong style=\"color:red\">(failed 1).</strong> Press Control-C to abort syncing."
            ]
          },
          "metadata": {}
        },
        {
          "output_type": "display_data",
          "data": {
            "text/plain": [
              "VBox(children=(Label(value='0.001 MB of 0.009 MB uploaded (0.000 MB deduped)\\r'), FloatProgress(value=0.072568…"
            ],
            "application/vnd.jupyter.widget-view+json": {
              "version_major": 2,
              "version_minor": 0,
              "model_id": "16fd5bed29c840eda53af78b0331bd78"
            }
          },
          "metadata": {}
        },
        {
          "output_type": "display_data",
          "data": {
            "text/plain": [
              "<IPython.core.display.HTML object>"
            ],
            "text/html": [
              "Synced <strong style=\"color:#cdcd00\">fiery-sweep-18</strong>: <a href=\"https://wandb.ai/pratap49/A2-part-A1/runs/901snmht\" target=\"_blank\">https://wandb.ai/pratap49/A2-part-A1/runs/901snmht</a><br/>Synced 4 W&B file(s), 0 media file(s), 0 artifact file(s) and 0 other file(s)"
            ]
          },
          "metadata": {}
        },
        {
          "output_type": "display_data",
          "data": {
            "text/plain": [
              "<IPython.core.display.HTML object>"
            ],
            "text/html": [
              "Find logs at: <code>./wandb/run-20220401_222527-901snmht/logs</code>"
            ]
          },
          "metadata": {}
        },
        {
          "output_type": "stream",
          "name": "stderr",
          "text": [
            "Run 901snmht errored: InternalError()\n",
            "\u001b[34m\u001b[1mwandb\u001b[0m: \u001b[32m\u001b[41mERROR\u001b[0m Run 901snmht errored: InternalError()\n",
            "\u001b[34m\u001b[1mwandb\u001b[0m: Agent Starting Run: 1q2c488k with config:\n",
            "\u001b[34m\u001b[1mwandb\u001b[0m: \tactivation: sigmoid\n",
            "\u001b[34m\u001b[1mwandb\u001b[0m: \tbatchnormalisation: YES\n",
            "\u001b[34m\u001b[1mwandb\u001b[0m: \tbatchsize: 16\n",
            "\u001b[34m\u001b[1mwandb\u001b[0m: \tdropout: 0.25\n",
            "\u001b[34m\u001b[1mwandb\u001b[0m: \tepochs: 30\n",
            "\u001b[34m\u001b[1mwandb\u001b[0m: \tfilterorg: 2\n",
            "\u001b[34m\u001b[1mwandb\u001b[0m: \tflt: 64\n",
            "\u001b[34m\u001b[1mwandb\u001b[0m: \tkerneldim: 5\n",
            "\u001b[34m\u001b[1mwandb\u001b[0m: \tlr: 0.001\n",
            "\u001b[34m\u001b[1mwandb\u001b[0m: \tneurons: 20\n",
            "\u001b[34m\u001b[1mwandb\u001b[0m: \toptimizer: adam\n"
          ]
        },
        {
          "output_type": "display_data",
          "data": {
            "text/plain": [
              "<IPython.core.display.HTML object>"
            ],
            "text/html": [
              "Tracking run with wandb version 0.12.11"
            ]
          },
          "metadata": {}
        },
        {
          "output_type": "display_data",
          "data": {
            "text/plain": [
              "<IPython.core.display.HTML object>"
            ],
            "text/html": [
              "Run data is saved locally in <code>/content/wandb/run-20220401_222554-1q2c488k</code>"
            ]
          },
          "metadata": {}
        },
        {
          "output_type": "display_data",
          "data": {
            "text/plain": [
              "<IPython.core.display.HTML object>"
            ],
            "text/html": [
              "Syncing run <strong><a href=\"https://wandb.ai/pratap49/A2-part-A1/runs/1q2c488k\" target=\"_blank\">icy-sweep-19</a></strong> to <a href=\"https://wandb.ai/pratap49/A2-part-A1\" target=\"_blank\">Weights & Biases</a> (<a href=\"https://wandb.me/run\" target=\"_blank\">docs</a>)<br/>Sweep page:  <a href=\"https://wandb.ai/pratap49/A2-part-A1/sweeps/uww8d6oe\" target=\"_blank\">https://wandb.ai/pratap49/A2-part-A1/sweeps/uww8d6oe</a>"
            ]
          },
          "metadata": {}
        },
        {
          "output_type": "stream",
          "name": "stdout",
          "text": [
            "\n"
          ]
        },
        {
          "output_type": "display_data",
          "data": {
            "text/plain": [
              "<IPython.core.display.HTML object>"
            ],
            "text/html": [
              "Waiting for W&B process to finish... <strong style=\"color:red\">(failed 1).</strong> Press Control-C to abort syncing."
            ]
          },
          "metadata": {}
        },
        {
          "output_type": "display_data",
          "data": {
            "text/plain": [
              "VBox(children=(Label(value='0.001 MB of 0.009 MB uploaded (0.000 MB deduped)\\r'), FloatProgress(value=0.072530…"
            ],
            "application/vnd.jupyter.widget-view+json": {
              "version_major": 2,
              "version_minor": 0,
              "model_id": "b39b13c5109944b1ba15c5638ba196c0"
            }
          },
          "metadata": {}
        },
        {
          "output_type": "display_data",
          "data": {
            "text/plain": [
              "<IPython.core.display.HTML object>"
            ],
            "text/html": [
              "Synced <strong style=\"color:#cdcd00\">icy-sweep-19</strong>: <a href=\"https://wandb.ai/pratap49/A2-part-A1/runs/1q2c488k\" target=\"_blank\">https://wandb.ai/pratap49/A2-part-A1/runs/1q2c488k</a><br/>Synced 4 W&B file(s), 0 media file(s), 0 artifact file(s) and 0 other file(s)"
            ]
          },
          "metadata": {}
        },
        {
          "output_type": "display_data",
          "data": {
            "text/plain": [
              "<IPython.core.display.HTML object>"
            ],
            "text/html": [
              "Find logs at: <code>./wandb/run-20220401_222554-1q2c488k/logs</code>"
            ]
          },
          "metadata": {}
        },
        {
          "output_type": "stream",
          "name": "stderr",
          "text": [
            "Run 1q2c488k errored: InternalError()\n",
            "\u001b[34m\u001b[1mwandb\u001b[0m: \u001b[32m\u001b[41mERROR\u001b[0m Run 1q2c488k errored: InternalError()\n",
            "\u001b[34m\u001b[1mwandb\u001b[0m: Agent Starting Run: p13gz0wt with config:\n",
            "\u001b[34m\u001b[1mwandb\u001b[0m: \tactivation: sigmoid\n",
            "\u001b[34m\u001b[1mwandb\u001b[0m: \tbatchnormalisation: YES\n",
            "\u001b[34m\u001b[1mwandb\u001b[0m: \tbatchsize: 32\n",
            "\u001b[34m\u001b[1mwandb\u001b[0m: \tdropout: 0.2\n",
            "\u001b[34m\u001b[1mwandb\u001b[0m: \tepochs: 30\n",
            "\u001b[34m\u001b[1mwandb\u001b[0m: \tfilterorg: 0.5\n",
            "\u001b[34m\u001b[1mwandb\u001b[0m: \tflt: 64\n",
            "\u001b[34m\u001b[1mwandb\u001b[0m: \tkerneldim: 5\n",
            "\u001b[34m\u001b[1mwandb\u001b[0m: \tlr: 0.001\n",
            "\u001b[34m\u001b[1mwandb\u001b[0m: \tneurons: 20\n",
            "\u001b[34m\u001b[1mwandb\u001b[0m: \toptimizer: adam\n"
          ]
        },
        {
          "output_type": "display_data",
          "data": {
            "text/plain": [
              "<IPython.core.display.HTML object>"
            ],
            "text/html": [
              "Tracking run with wandb version 0.12.11"
            ]
          },
          "metadata": {}
        },
        {
          "output_type": "display_data",
          "data": {
            "text/plain": [
              "<IPython.core.display.HTML object>"
            ],
            "text/html": [
              "Run data is saved locally in <code>/content/wandb/run-20220401_222619-p13gz0wt</code>"
            ]
          },
          "metadata": {}
        },
        {
          "output_type": "display_data",
          "data": {
            "text/plain": [
              "<IPython.core.display.HTML object>"
            ],
            "text/html": [
              "Syncing run <strong><a href=\"https://wandb.ai/pratap49/A2-part-A1/runs/p13gz0wt\" target=\"_blank\">brisk-sweep-20</a></strong> to <a href=\"https://wandb.ai/pratap49/A2-part-A1\" target=\"_blank\">Weights & Biases</a> (<a href=\"https://wandb.me/run\" target=\"_blank\">docs</a>)<br/>Sweep page:  <a href=\"https://wandb.ai/pratap49/A2-part-A1/sweeps/uww8d6oe\" target=\"_blank\">https://wandb.ai/pratap49/A2-part-A1/sweeps/uww8d6oe</a>"
            ]
          },
          "metadata": {}
        },
        {
          "output_type": "stream",
          "name": "stdout",
          "text": [
            "\n"
          ]
        },
        {
          "output_type": "display_data",
          "data": {
            "text/plain": [
              "<IPython.core.display.HTML object>"
            ],
            "text/html": [
              "Waiting for W&B process to finish... <strong style=\"color:red\">(failed 1).</strong> Press Control-C to abort syncing."
            ]
          },
          "metadata": {}
        },
        {
          "output_type": "display_data",
          "data": {
            "text/plain": [
              "VBox(children=(Label(value='0.001 MB of 0.001 MB uploaded (0.000 MB deduped)\\r'), FloatProgress(value=1.0, max…"
            ],
            "application/vnd.jupyter.widget-view+json": {
              "version_major": 2,
              "version_minor": 0,
              "model_id": "43849d117d8e48c9aa2e0e5e7114a367"
            }
          },
          "metadata": {}
        },
        {
          "output_type": "display_data",
          "data": {
            "text/plain": [
              "<IPython.core.display.HTML object>"
            ],
            "text/html": [
              "Synced <strong style=\"color:#cdcd00\">brisk-sweep-20</strong>: <a href=\"https://wandb.ai/pratap49/A2-part-A1/runs/p13gz0wt\" target=\"_blank\">https://wandb.ai/pratap49/A2-part-A1/runs/p13gz0wt</a><br/>Synced 4 W&B file(s), 0 media file(s), 0 artifact file(s) and 0 other file(s)"
            ]
          },
          "metadata": {}
        },
        {
          "output_type": "display_data",
          "data": {
            "text/plain": [
              "<IPython.core.display.HTML object>"
            ],
            "text/html": [
              "Find logs at: <code>./wandb/run-20220401_222619-p13gz0wt/logs</code>"
            ]
          },
          "metadata": {}
        },
        {
          "output_type": "stream",
          "name": "stderr",
          "text": [
            "Run p13gz0wt errored: InternalError()\n",
            "\u001b[34m\u001b[1mwandb\u001b[0m: \u001b[32m\u001b[41mERROR\u001b[0m Run p13gz0wt errored: InternalError()\n"
          ]
        }
      ],
      "source": [
        "sweep_id = wandb.sweep(sweep_config,project='A2-part-A1')\n",
        "wandb.agent(sweep_id,conlay,project='A2-part-A1')"
      ]
    },
    {
      "cell_type": "code",
      "execution_count": 52,
      "metadata": {
        "id": "a9AsXTWp3_Zs"
      },
      "outputs": [],
      "source": [
        "def conlayss():\n",
        "  # wandb.init(config=sweep_config, magic=True)    \n",
        "  cnn = models.Sequential([\n",
        "                     \n",
        "    layers.Conv2D(32, kernel_size=(3,3), activation='relu', input_shape=(224, 224, 3)),\n",
        "    layers.MaxPooling2D((2,2)),\n",
        "    \n",
        "    layers.Conv2D(64,  kernel_size=(3,3), activation='relu'),\n",
        "    layers.MaxPooling2D((2,2)),\n",
        "\n",
        "    layers.Conv2D(64, kernel_size=(3,3), activation='relu'),\n",
        "    layers.MaxPooling2D((2,2)),\n",
        "\n",
        "    layers.Conv2D(64,  kernel_size=(3,3), activation='relu'),\n",
        "    layers.MaxPooling2D((2,2)),\n",
        "\n",
        "    layers.Conv2D(64,  kernel_size=(3,3), activation='relu'),\n",
        "    layers.MaxPooling2D((2,2)),\n",
        "    layers.Flatten(),\n",
        "    layers.Dropout(0.2),\n",
        "\n",
        "    \n",
        "    layers.Dense(30, activation='relu'),\n",
        "    layers.Dense(10, activation='softmax')\n",
        "  ])\n",
        "  #gc.collect()\n",
        "  # heyGPU=torch.cuda.is_available()\n",
        "  # if heyGPU: cnnModel=cnnModel.cuda()\n",
        "  print(\"start\")\n",
        "  train_dataset = tf.data.Dataset.from_tensor_slices((x_train, y_train))\n",
        "  train_dataset = train_dataset.shuffle(buffer_size=1024).batch(64)\n",
        "\n",
        "    # Prepare the validation dataset.\n",
        "  val_dataset = tf.data.Dataset.from_tensor_slices((x_val, y_val))\n",
        "  val_dataset = val_dataset.batch(64)\n",
        "  print(\"end\")\n",
        "  cnn.compile(optimizer='adam',\n",
        "              loss='sparse_categorical_crossentropy',\n",
        "              metrics=['accuracy'])\n",
        "  cnn.fit(train_dataset,val_dataset,batch_size=64 ,epochs=10)\n",
        "  del cnn\n",
        "  # torch.cuda.empty_cache()"
      ]
    },
    {
      "cell_type": "code",
      "source": [
        "y_train[5]"
      ],
      "metadata": {
        "colab": {
          "base_uri": "https://localhost:8080/"
        },
        "id": "pPkEwKpnrbwt",
        "outputId": "99249a1a-7d6c-4592-e274-f33f20348202"
      },
      "execution_count": null,
      "outputs": [
        {
          "output_type": "execute_result",
          "data": {
            "text/plain": [
              "0"
            ]
          },
          "metadata": {},
          "execution_count": 32
        }
      ]
    },
    {
      "cell_type": "code",
      "execution_count": 53,
      "metadata": {
        "colab": {
          "base_uri": "https://localhost:8080/",
          "height": 363
        },
        "id": "NGLxT2nRRFit",
        "outputId": "53968568-10ce-4ea0-b18f-6b3736ae1ab8"
      },
      "outputs": [
        {
          "output_type": "stream",
          "name": "stdout",
          "text": [
            "start\n"
          ]
        },
        {
          "output_type": "error",
          "ename": "InternalError",
          "evalue": "ignored",
          "traceback": [
            "\u001b[0;31m---------------------------------------------------------------------------\u001b[0m",
            "\u001b[0;31mInternalError\u001b[0m                             Traceback (most recent call last)",
            "\u001b[0;32m<ipython-input-53-f4c9d0c40b70>\u001b[0m in \u001b[0;36m<module>\u001b[0;34m()\u001b[0m\n\u001b[0;32m----> 1\u001b[0;31m \u001b[0mconlayss\u001b[0m\u001b[0;34m(\u001b[0m\u001b[0;34m)\u001b[0m\u001b[0;34m\u001b[0m\u001b[0;34m\u001b[0m\u001b[0m\n\u001b[0m",
            "\u001b[0;32m<ipython-input-52-cc01d55ec0b8>\u001b[0m in \u001b[0;36mconlayss\u001b[0;34m()\u001b[0m\n\u001b[1;32m     28\u001b[0m   \u001b[0;31m# if heyGPU: cnnModel=cnnModel.cuda()\u001b[0m\u001b[0;34m\u001b[0m\u001b[0;34m\u001b[0m\u001b[0;34m\u001b[0m\u001b[0m\n\u001b[1;32m     29\u001b[0m   \u001b[0mprint\u001b[0m\u001b[0;34m(\u001b[0m\u001b[0;34m\"start\"\u001b[0m\u001b[0;34m)\u001b[0m\u001b[0;34m\u001b[0m\u001b[0;34m\u001b[0m\u001b[0m\n\u001b[0;32m---> 30\u001b[0;31m   \u001b[0mtrain_dataset\u001b[0m \u001b[0;34m=\u001b[0m \u001b[0mtf\u001b[0m\u001b[0;34m.\u001b[0m\u001b[0mdata\u001b[0m\u001b[0;34m.\u001b[0m\u001b[0mDataset\u001b[0m\u001b[0;34m.\u001b[0m\u001b[0mfrom_tensor_slices\u001b[0m\u001b[0;34m(\u001b[0m\u001b[0;34m(\u001b[0m\u001b[0mx_train\u001b[0m\u001b[0;34m,\u001b[0m \u001b[0my_train\u001b[0m\u001b[0;34m)\u001b[0m\u001b[0;34m)\u001b[0m\u001b[0;34m\u001b[0m\u001b[0;34m\u001b[0m\u001b[0m\n\u001b[0m\u001b[1;32m     31\u001b[0m   \u001b[0mtrain_dataset\u001b[0m \u001b[0;34m=\u001b[0m \u001b[0mtrain_dataset\u001b[0m\u001b[0;34m.\u001b[0m\u001b[0mshuffle\u001b[0m\u001b[0;34m(\u001b[0m\u001b[0mbuffer_size\u001b[0m\u001b[0;34m=\u001b[0m\u001b[0;36m1024\u001b[0m\u001b[0;34m)\u001b[0m\u001b[0;34m.\u001b[0m\u001b[0mbatch\u001b[0m\u001b[0;34m(\u001b[0m\u001b[0;36m64\u001b[0m\u001b[0;34m)\u001b[0m\u001b[0;34m\u001b[0m\u001b[0;34m\u001b[0m\u001b[0m\n\u001b[1;32m     32\u001b[0m \u001b[0;34m\u001b[0m\u001b[0m\n",
            "\u001b[0;32m/usr/local/lib/python3.7/dist-packages/tensorflow/python/data/ops/dataset_ops.py\u001b[0m in \u001b[0;36mfrom_tensor_slices\u001b[0;34m(tensors, name)\u001b[0m\n\u001b[1;32m    791\u001b[0m       \u001b[0mDataset\u001b[0m\u001b[0;34m:\u001b[0m \u001b[0mA\u001b[0m\u001b[0;31m \u001b[0m\u001b[0;31m`\u001b[0m\u001b[0mDataset\u001b[0m\u001b[0;31m`\u001b[0m\u001b[0;34m.\u001b[0m\u001b[0;34m\u001b[0m\u001b[0;34m\u001b[0m\u001b[0m\n\u001b[1;32m    792\u001b[0m     \"\"\"\n\u001b[0;32m--> 793\u001b[0;31m     \u001b[0;32mreturn\u001b[0m \u001b[0mTensorSliceDataset\u001b[0m\u001b[0;34m(\u001b[0m\u001b[0mtensors\u001b[0m\u001b[0;34m,\u001b[0m \u001b[0mname\u001b[0m\u001b[0;34m=\u001b[0m\u001b[0mname\u001b[0m\u001b[0;34m)\u001b[0m\u001b[0;34m\u001b[0m\u001b[0;34m\u001b[0m\u001b[0m\n\u001b[0m\u001b[1;32m    794\u001b[0m \u001b[0;34m\u001b[0m\u001b[0m\n\u001b[1;32m    795\u001b[0m   \u001b[0;32mclass\u001b[0m \u001b[0m_GeneratorState\u001b[0m\u001b[0;34m(\u001b[0m\u001b[0mobject\u001b[0m\u001b[0;34m)\u001b[0m\u001b[0;34m:\u001b[0m\u001b[0;34m\u001b[0m\u001b[0;34m\u001b[0m\u001b[0m\n",
            "\u001b[0;32m/usr/local/lib/python3.7/dist-packages/tensorflow/python/data/ops/dataset_ops.py\u001b[0m in \u001b[0;36m__init__\u001b[0;34m(self, element, is_files, name)\u001b[0m\n\u001b[1;32m   4475\u001b[0m   \u001b[0;32mdef\u001b[0m \u001b[0m__init__\u001b[0m\u001b[0;34m(\u001b[0m\u001b[0mself\u001b[0m\u001b[0;34m,\u001b[0m \u001b[0melement\u001b[0m\u001b[0;34m,\u001b[0m \u001b[0mis_files\u001b[0m\u001b[0;34m=\u001b[0m\u001b[0;32mFalse\u001b[0m\u001b[0;34m,\u001b[0m \u001b[0mname\u001b[0m\u001b[0;34m=\u001b[0m\u001b[0;32mNone\u001b[0m\u001b[0;34m)\u001b[0m\u001b[0;34m:\u001b[0m\u001b[0;34m\u001b[0m\u001b[0;34m\u001b[0m\u001b[0m\n\u001b[1;32m   4476\u001b[0m     \u001b[0;34m\"\"\"See `Dataset.from_tensor_slices()` for details.\"\"\"\u001b[0m\u001b[0;34m\u001b[0m\u001b[0;34m\u001b[0m\u001b[0m\n\u001b[0;32m-> 4477\u001b[0;31m     \u001b[0melement\u001b[0m \u001b[0;34m=\u001b[0m \u001b[0mstructure\u001b[0m\u001b[0;34m.\u001b[0m\u001b[0mnormalize_element\u001b[0m\u001b[0;34m(\u001b[0m\u001b[0melement\u001b[0m\u001b[0;34m)\u001b[0m\u001b[0;34m\u001b[0m\u001b[0;34m\u001b[0m\u001b[0m\n\u001b[0m\u001b[1;32m   4478\u001b[0m     \u001b[0mbatched_spec\u001b[0m \u001b[0;34m=\u001b[0m \u001b[0mstructure\u001b[0m\u001b[0;34m.\u001b[0m\u001b[0mtype_spec_from_value\u001b[0m\u001b[0;34m(\u001b[0m\u001b[0melement\u001b[0m\u001b[0;34m)\u001b[0m\u001b[0;34m\u001b[0m\u001b[0;34m\u001b[0m\u001b[0m\n\u001b[1;32m   4479\u001b[0m     \u001b[0mself\u001b[0m\u001b[0;34m.\u001b[0m\u001b[0m_tensors\u001b[0m \u001b[0;34m=\u001b[0m \u001b[0mstructure\u001b[0m\u001b[0;34m.\u001b[0m\u001b[0mto_batched_tensor_list\u001b[0m\u001b[0;34m(\u001b[0m\u001b[0mbatched_spec\u001b[0m\u001b[0;34m,\u001b[0m \u001b[0melement\u001b[0m\u001b[0;34m)\u001b[0m\u001b[0;34m\u001b[0m\u001b[0;34m\u001b[0m\u001b[0m\n",
            "\u001b[0;32m/usr/local/lib/python3.7/dist-packages/tensorflow/python/data/util/structure.py\u001b[0m in \u001b[0;36mnormalize_element\u001b[0;34m(element, element_signature)\u001b[0m\n\u001b[1;32m    123\u001b[0m           \u001b[0mdtype\u001b[0m \u001b[0;34m=\u001b[0m \u001b[0mgetattr\u001b[0m\u001b[0;34m(\u001b[0m\u001b[0mspec\u001b[0m\u001b[0;34m,\u001b[0m \u001b[0;34m\"dtype\"\u001b[0m\u001b[0;34m,\u001b[0m \u001b[0;32mNone\u001b[0m\u001b[0;34m)\u001b[0m\u001b[0;34m\u001b[0m\u001b[0;34m\u001b[0m\u001b[0m\n\u001b[1;32m    124\u001b[0m           normalized_components.append(\n\u001b[0;32m--> 125\u001b[0;31m               ops.convert_to_tensor(t, name=\"component_%d\" % i, dtype=dtype))\n\u001b[0m\u001b[1;32m    126\u001b[0m   \u001b[0;32mreturn\u001b[0m \u001b[0mnest\u001b[0m\u001b[0;34m.\u001b[0m\u001b[0mpack_sequence_as\u001b[0m\u001b[0;34m(\u001b[0m\u001b[0mpack_as\u001b[0m\u001b[0;34m,\u001b[0m \u001b[0mnormalized_components\u001b[0m\u001b[0;34m)\u001b[0m\u001b[0;34m\u001b[0m\u001b[0;34m\u001b[0m\u001b[0m\n\u001b[1;32m    127\u001b[0m \u001b[0;34m\u001b[0m\u001b[0m\n",
            "\u001b[0;32m/usr/local/lib/python3.7/dist-packages/tensorflow/python/profiler/trace.py\u001b[0m in \u001b[0;36mwrapped\u001b[0;34m(*args, **kwargs)\u001b[0m\n\u001b[1;32m    181\u001b[0m         \u001b[0;32mwith\u001b[0m \u001b[0mTrace\u001b[0m\u001b[0;34m(\u001b[0m\u001b[0mtrace_name\u001b[0m\u001b[0;34m,\u001b[0m \u001b[0;34m**\u001b[0m\u001b[0mtrace_kwargs\u001b[0m\u001b[0;34m)\u001b[0m\u001b[0;34m:\u001b[0m\u001b[0;34m\u001b[0m\u001b[0;34m\u001b[0m\u001b[0m\n\u001b[1;32m    182\u001b[0m           \u001b[0;32mreturn\u001b[0m \u001b[0mfunc\u001b[0m\u001b[0;34m(\u001b[0m\u001b[0;34m*\u001b[0m\u001b[0margs\u001b[0m\u001b[0;34m,\u001b[0m \u001b[0;34m**\u001b[0m\u001b[0mkwargs\u001b[0m\u001b[0;34m)\u001b[0m\u001b[0;34m\u001b[0m\u001b[0;34m\u001b[0m\u001b[0m\n\u001b[0;32m--> 183\u001b[0;31m       \u001b[0;32mreturn\u001b[0m \u001b[0mfunc\u001b[0m\u001b[0;34m(\u001b[0m\u001b[0;34m*\u001b[0m\u001b[0margs\u001b[0m\u001b[0;34m,\u001b[0m \u001b[0;34m**\u001b[0m\u001b[0mkwargs\u001b[0m\u001b[0;34m)\u001b[0m\u001b[0;34m\u001b[0m\u001b[0;34m\u001b[0m\u001b[0m\n\u001b[0m\u001b[1;32m    184\u001b[0m \u001b[0;34m\u001b[0m\u001b[0m\n\u001b[1;32m    185\u001b[0m     \u001b[0;32mreturn\u001b[0m \u001b[0mwrapped\u001b[0m\u001b[0;34m\u001b[0m\u001b[0;34m\u001b[0m\u001b[0m\n",
            "\u001b[0;32m/usr/local/lib/python3.7/dist-packages/tensorflow/python/framework/ops.py\u001b[0m in \u001b[0;36mconvert_to_tensor\u001b[0;34m(value, dtype, name, as_ref, preferred_dtype, dtype_hint, ctx, accepted_result_types)\u001b[0m\n\u001b[1;32m   1693\u001b[0m \u001b[0;34m\u001b[0m\u001b[0m\n\u001b[1;32m   1694\u001b[0m     \u001b[0;32mif\u001b[0m \u001b[0mret\u001b[0m \u001b[0;32mis\u001b[0m \u001b[0;32mNone\u001b[0m\u001b[0;34m:\u001b[0m\u001b[0;34m\u001b[0m\u001b[0;34m\u001b[0m\u001b[0m\n\u001b[0;32m-> 1695\u001b[0;31m       \u001b[0mret\u001b[0m \u001b[0;34m=\u001b[0m \u001b[0mconversion_func\u001b[0m\u001b[0;34m(\u001b[0m\u001b[0mvalue\u001b[0m\u001b[0;34m,\u001b[0m \u001b[0mdtype\u001b[0m\u001b[0;34m=\u001b[0m\u001b[0mdtype\u001b[0m\u001b[0;34m,\u001b[0m \u001b[0mname\u001b[0m\u001b[0;34m=\u001b[0m\u001b[0mname\u001b[0m\u001b[0;34m,\u001b[0m \u001b[0mas_ref\u001b[0m\u001b[0;34m=\u001b[0m\u001b[0mas_ref\u001b[0m\u001b[0;34m)\u001b[0m\u001b[0;34m\u001b[0m\u001b[0;34m\u001b[0m\u001b[0m\n\u001b[0m\u001b[1;32m   1696\u001b[0m \u001b[0;34m\u001b[0m\u001b[0m\n\u001b[1;32m   1697\u001b[0m     \u001b[0;32mif\u001b[0m \u001b[0mret\u001b[0m \u001b[0;32mis\u001b[0m \u001b[0mNotImplemented\u001b[0m\u001b[0;34m:\u001b[0m\u001b[0;34m\u001b[0m\u001b[0;34m\u001b[0m\u001b[0m\n",
            "\u001b[0;32m/usr/local/lib/python3.7/dist-packages/tensorflow/python/framework/tensor_conversion_registry.py\u001b[0m in \u001b[0;36m_default_conversion_function\u001b[0;34m(***failed resolving arguments***)\u001b[0m\n\u001b[1;32m     46\u001b[0m \u001b[0;32mdef\u001b[0m \u001b[0m_default_conversion_function\u001b[0m\u001b[0;34m(\u001b[0m\u001b[0mvalue\u001b[0m\u001b[0;34m,\u001b[0m \u001b[0mdtype\u001b[0m\u001b[0;34m,\u001b[0m \u001b[0mname\u001b[0m\u001b[0;34m,\u001b[0m \u001b[0mas_ref\u001b[0m\u001b[0;34m)\u001b[0m\u001b[0;34m:\u001b[0m\u001b[0;34m\u001b[0m\u001b[0;34m\u001b[0m\u001b[0m\n\u001b[1;32m     47\u001b[0m   \u001b[0;32mdel\u001b[0m \u001b[0mas_ref\u001b[0m  \u001b[0;31m# Unused.\u001b[0m\u001b[0;34m\u001b[0m\u001b[0;34m\u001b[0m\u001b[0m\n\u001b[0;32m---> 48\u001b[0;31m   \u001b[0;32mreturn\u001b[0m \u001b[0mconstant_op\u001b[0m\u001b[0;34m.\u001b[0m\u001b[0mconstant\u001b[0m\u001b[0;34m(\u001b[0m\u001b[0mvalue\u001b[0m\u001b[0;34m,\u001b[0m \u001b[0mdtype\u001b[0m\u001b[0;34m,\u001b[0m \u001b[0mname\u001b[0m\u001b[0;34m=\u001b[0m\u001b[0mname\u001b[0m\u001b[0;34m)\u001b[0m\u001b[0;34m\u001b[0m\u001b[0;34m\u001b[0m\u001b[0m\n\u001b[0m\u001b[1;32m     49\u001b[0m \u001b[0;34m\u001b[0m\u001b[0m\n\u001b[1;32m     50\u001b[0m \u001b[0;34m\u001b[0m\u001b[0m\n",
            "\u001b[0;32m/usr/local/lib/python3.7/dist-packages/tensorflow/python/framework/constant_op.py\u001b[0m in \u001b[0;36mconstant\u001b[0;34m(value, dtype, shape, name)\u001b[0m\n\u001b[1;32m    266\u001b[0m   \"\"\"\n\u001b[1;32m    267\u001b[0m   return _constant_impl(value, dtype, shape, name, verify_shape=False,\n\u001b[0;32m--> 268\u001b[0;31m                         allow_broadcast=True)\n\u001b[0m\u001b[1;32m    269\u001b[0m \u001b[0;34m\u001b[0m\u001b[0m\n\u001b[1;32m    270\u001b[0m \u001b[0;34m\u001b[0m\u001b[0m\n",
            "\u001b[0;32m/usr/local/lib/python3.7/dist-packages/tensorflow/python/framework/constant_op.py\u001b[0m in \u001b[0;36m_constant_impl\u001b[0;34m(value, dtype, shape, name, verify_shape, allow_broadcast)\u001b[0m\n\u001b[1;32m    277\u001b[0m       \u001b[0;32mwith\u001b[0m \u001b[0mtrace\u001b[0m\u001b[0;34m.\u001b[0m\u001b[0mTrace\u001b[0m\u001b[0;34m(\u001b[0m\u001b[0;34m\"tf.constant\"\u001b[0m\u001b[0;34m)\u001b[0m\u001b[0;34m:\u001b[0m\u001b[0;34m\u001b[0m\u001b[0;34m\u001b[0m\u001b[0m\n\u001b[1;32m    278\u001b[0m         \u001b[0;32mreturn\u001b[0m \u001b[0m_constant_eager_impl\u001b[0m\u001b[0;34m(\u001b[0m\u001b[0mctx\u001b[0m\u001b[0;34m,\u001b[0m \u001b[0mvalue\u001b[0m\u001b[0;34m,\u001b[0m \u001b[0mdtype\u001b[0m\u001b[0;34m,\u001b[0m \u001b[0mshape\u001b[0m\u001b[0;34m,\u001b[0m \u001b[0mverify_shape\u001b[0m\u001b[0;34m)\u001b[0m\u001b[0;34m\u001b[0m\u001b[0;34m\u001b[0m\u001b[0m\n\u001b[0;32m--> 279\u001b[0;31m     \u001b[0;32mreturn\u001b[0m \u001b[0m_constant_eager_impl\u001b[0m\u001b[0;34m(\u001b[0m\u001b[0mctx\u001b[0m\u001b[0;34m,\u001b[0m \u001b[0mvalue\u001b[0m\u001b[0;34m,\u001b[0m \u001b[0mdtype\u001b[0m\u001b[0;34m,\u001b[0m \u001b[0mshape\u001b[0m\u001b[0;34m,\u001b[0m \u001b[0mverify_shape\u001b[0m\u001b[0;34m)\u001b[0m\u001b[0;34m\u001b[0m\u001b[0;34m\u001b[0m\u001b[0m\n\u001b[0m\u001b[1;32m    280\u001b[0m \u001b[0;34m\u001b[0m\u001b[0m\n\u001b[1;32m    281\u001b[0m   \u001b[0mg\u001b[0m \u001b[0;34m=\u001b[0m \u001b[0mops\u001b[0m\u001b[0;34m.\u001b[0m\u001b[0mget_default_graph\u001b[0m\u001b[0;34m(\u001b[0m\u001b[0;34m)\u001b[0m\u001b[0;34m\u001b[0m\u001b[0;34m\u001b[0m\u001b[0m\n",
            "\u001b[0;32m/usr/local/lib/python3.7/dist-packages/tensorflow/python/framework/constant_op.py\u001b[0m in \u001b[0;36m_constant_eager_impl\u001b[0;34m(ctx, value, dtype, shape, verify_shape)\u001b[0m\n\u001b[1;32m    302\u001b[0m \u001b[0;32mdef\u001b[0m \u001b[0m_constant_eager_impl\u001b[0m\u001b[0;34m(\u001b[0m\u001b[0mctx\u001b[0m\u001b[0;34m,\u001b[0m \u001b[0mvalue\u001b[0m\u001b[0;34m,\u001b[0m \u001b[0mdtype\u001b[0m\u001b[0;34m,\u001b[0m \u001b[0mshape\u001b[0m\u001b[0;34m,\u001b[0m \u001b[0mverify_shape\u001b[0m\u001b[0;34m)\u001b[0m\u001b[0;34m:\u001b[0m\u001b[0;34m\u001b[0m\u001b[0;34m\u001b[0m\u001b[0m\n\u001b[1;32m    303\u001b[0m   \u001b[0;34m\"\"\"Creates a constant on the current device.\"\"\"\u001b[0m\u001b[0;34m\u001b[0m\u001b[0;34m\u001b[0m\u001b[0m\n\u001b[0;32m--> 304\u001b[0;31m   \u001b[0mt\u001b[0m \u001b[0;34m=\u001b[0m \u001b[0mconvert_to_eager_tensor\u001b[0m\u001b[0;34m(\u001b[0m\u001b[0mvalue\u001b[0m\u001b[0;34m,\u001b[0m \u001b[0mctx\u001b[0m\u001b[0;34m,\u001b[0m \u001b[0mdtype\u001b[0m\u001b[0;34m)\u001b[0m\u001b[0;34m\u001b[0m\u001b[0;34m\u001b[0m\u001b[0m\n\u001b[0m\u001b[1;32m    305\u001b[0m   \u001b[0;32mif\u001b[0m \u001b[0mshape\u001b[0m \u001b[0;32mis\u001b[0m \u001b[0;32mNone\u001b[0m\u001b[0;34m:\u001b[0m\u001b[0;34m\u001b[0m\u001b[0;34m\u001b[0m\u001b[0m\n\u001b[1;32m    306\u001b[0m     \u001b[0;32mreturn\u001b[0m \u001b[0mt\u001b[0m\u001b[0;34m\u001b[0m\u001b[0;34m\u001b[0m\u001b[0m\n",
            "\u001b[0;32m/usr/local/lib/python3.7/dist-packages/tensorflow/python/framework/constant_op.py\u001b[0m in \u001b[0;36mconvert_to_eager_tensor\u001b[0;34m(value, ctx, dtype)\u001b[0m\n\u001b[1;32m    100\u001b[0m       \u001b[0mdtype\u001b[0m \u001b[0;34m=\u001b[0m \u001b[0mdtypes\u001b[0m\u001b[0;34m.\u001b[0m\u001b[0mas_dtype\u001b[0m\u001b[0;34m(\u001b[0m\u001b[0mdtype\u001b[0m\u001b[0;34m)\u001b[0m\u001b[0;34m.\u001b[0m\u001b[0mas_datatype_enum\u001b[0m\u001b[0;34m\u001b[0m\u001b[0;34m\u001b[0m\u001b[0m\n\u001b[1;32m    101\u001b[0m   \u001b[0mctx\u001b[0m\u001b[0;34m.\u001b[0m\u001b[0mensure_initialized\u001b[0m\u001b[0;34m(\u001b[0m\u001b[0;34m)\u001b[0m\u001b[0;34m\u001b[0m\u001b[0;34m\u001b[0m\u001b[0m\n\u001b[0;32m--> 102\u001b[0;31m   \u001b[0;32mreturn\u001b[0m \u001b[0mops\u001b[0m\u001b[0;34m.\u001b[0m\u001b[0mEagerTensor\u001b[0m\u001b[0;34m(\u001b[0m\u001b[0mvalue\u001b[0m\u001b[0;34m,\u001b[0m \u001b[0mctx\u001b[0m\u001b[0;34m.\u001b[0m\u001b[0mdevice_name\u001b[0m\u001b[0;34m,\u001b[0m \u001b[0mdtype\u001b[0m\u001b[0;34m)\u001b[0m\u001b[0;34m\u001b[0m\u001b[0;34m\u001b[0m\u001b[0m\n\u001b[0m\u001b[1;32m    103\u001b[0m \u001b[0;34m\u001b[0m\u001b[0m\n\u001b[1;32m    104\u001b[0m \u001b[0;34m\u001b[0m\u001b[0m\n",
            "\u001b[0;31mInternalError\u001b[0m: Failed copying input tensor from /job:localhost/replica:0/task:0/device:CPU:0 to /job:localhost/replica:0/task:0/device:GPU:0 in order to run _EagerConst: Dst tensor is not initialized."
          ]
        }
      ],
      "source": [
        "conlayss()"
      ]
    },
    {
      "cell_type": "code",
      "execution_count": null,
      "metadata": {
        "id": "NGX6W2UTRH-G"
      },
      "outputs": [],
      "source": [
        ""
      ]
    },
    {
      "cell_type": "code",
      "source": [
        ""
      ],
      "metadata": {
        "id": "OQXJuv-LEIpR"
      },
      "execution_count": null,
      "outputs": []
    }
  ],
  "metadata": {
    "accelerator": "GPU",
    "colab": {
      "collapsed_sections": [],
      "name": "CNN_updated.ipynb",
      "provenance": [],
      "machine_shape": "hm",
      "include_colab_link": true
    },
    "kernelspec": {
      "display_name": "Python 3",
      "name": "python3"
    },
    "language_info": {
      "name": "python"
    },
    "widgets": {
      "application/vnd.jupyter.widget-state+json": {
        "7ef836d7b07d48b0aa4079eb1da31960": {
          "model_module": "@jupyter-widgets/controls",
          "model_name": "VBoxModel",
          "model_module_version": "1.5.0",
          "state": {
            "_dom_classes": [],
            "_model_module": "@jupyter-widgets/controls",
            "_model_module_version": "1.5.0",
            "_model_name": "VBoxModel",
            "_view_count": null,
            "_view_module": "@jupyter-widgets/controls",
            "_view_module_version": "1.5.0",
            "_view_name": "VBoxView",
            "box_style": "",
            "children": [
              "IPY_MODEL_48be3102d11842ffa32572b9f6013420",
              "IPY_MODEL_d3370a9fb4404249ab7f8705f0bb9a37"
            ],
            "layout": "IPY_MODEL_81711802aac64c35893055b905a81079"
          }
        },
        "48be3102d11842ffa32572b9f6013420": {
          "model_module": "@jupyter-widgets/controls",
          "model_name": "LabelModel",
          "model_module_version": "1.5.0",
          "state": {
            "_dom_classes": [],
            "_model_module": "@jupyter-widgets/controls",
            "_model_module_version": "1.5.0",
            "_model_name": "LabelModel",
            "_view_count": null,
            "_view_module": "@jupyter-widgets/controls",
            "_view_module_version": "1.5.0",
            "_view_name": "LabelView",
            "description": "",
            "description_tooltip": null,
            "layout": "IPY_MODEL_9e07bf8ef80a4685aa6085be38003e75",
            "placeholder": "​",
            "style": "IPY_MODEL_46b5fd882e5147d1bfc541fb3914f37c",
            "value": "0.008 MB of 0.008 MB uploaded (0.000 MB deduped)\r"
          }
        },
        "d3370a9fb4404249ab7f8705f0bb9a37": {
          "model_module": "@jupyter-widgets/controls",
          "model_name": "FloatProgressModel",
          "model_module_version": "1.5.0",
          "state": {
            "_dom_classes": [],
            "_model_module": "@jupyter-widgets/controls",
            "_model_module_version": "1.5.0",
            "_model_name": "FloatProgressModel",
            "_view_count": null,
            "_view_module": "@jupyter-widgets/controls",
            "_view_module_version": "1.5.0",
            "_view_name": "ProgressView",
            "bar_style": "",
            "description": "",
            "description_tooltip": null,
            "layout": "IPY_MODEL_e8c76d0c95804f0fa56ccccbfba4de06",
            "max": 1,
            "min": 0,
            "orientation": "horizontal",
            "style": "IPY_MODEL_07d908bba3884461a7a03e0023c0202a",
            "value": 1
          }
        },
        "81711802aac64c35893055b905a81079": {
          "model_module": "@jupyter-widgets/base",
          "model_name": "LayoutModel",
          "model_module_version": "1.2.0",
          "state": {
            "_model_module": "@jupyter-widgets/base",
            "_model_module_version": "1.2.0",
            "_model_name": "LayoutModel",
            "_view_count": null,
            "_view_module": "@jupyter-widgets/base",
            "_view_module_version": "1.2.0",
            "_view_name": "LayoutView",
            "align_content": null,
            "align_items": null,
            "align_self": null,
            "border": null,
            "bottom": null,
            "display": null,
            "flex": null,
            "flex_flow": null,
            "grid_area": null,
            "grid_auto_columns": null,
            "grid_auto_flow": null,
            "grid_auto_rows": null,
            "grid_column": null,
            "grid_gap": null,
            "grid_row": null,
            "grid_template_areas": null,
            "grid_template_columns": null,
            "grid_template_rows": null,
            "height": null,
            "justify_content": null,
            "justify_items": null,
            "left": null,
            "margin": null,
            "max_height": null,
            "max_width": null,
            "min_height": null,
            "min_width": null,
            "object_fit": null,
            "object_position": null,
            "order": null,
            "overflow": null,
            "overflow_x": null,
            "overflow_y": null,
            "padding": null,
            "right": null,
            "top": null,
            "visibility": null,
            "width": null
          }
        },
        "9e07bf8ef80a4685aa6085be38003e75": {
          "model_module": "@jupyter-widgets/base",
          "model_name": "LayoutModel",
          "model_module_version": "1.2.0",
          "state": {
            "_model_module": "@jupyter-widgets/base",
            "_model_module_version": "1.2.0",
            "_model_name": "LayoutModel",
            "_view_count": null,
            "_view_module": "@jupyter-widgets/base",
            "_view_module_version": "1.2.0",
            "_view_name": "LayoutView",
            "align_content": null,
            "align_items": null,
            "align_self": null,
            "border": null,
            "bottom": null,
            "display": null,
            "flex": null,
            "flex_flow": null,
            "grid_area": null,
            "grid_auto_columns": null,
            "grid_auto_flow": null,
            "grid_auto_rows": null,
            "grid_column": null,
            "grid_gap": null,
            "grid_row": null,
            "grid_template_areas": null,
            "grid_template_columns": null,
            "grid_template_rows": null,
            "height": null,
            "justify_content": null,
            "justify_items": null,
            "left": null,
            "margin": null,
            "max_height": null,
            "max_width": null,
            "min_height": null,
            "min_width": null,
            "object_fit": null,
            "object_position": null,
            "order": null,
            "overflow": null,
            "overflow_x": null,
            "overflow_y": null,
            "padding": null,
            "right": null,
            "top": null,
            "visibility": null,
            "width": null
          }
        },
        "46b5fd882e5147d1bfc541fb3914f37c": {
          "model_module": "@jupyter-widgets/controls",
          "model_name": "DescriptionStyleModel",
          "model_module_version": "1.5.0",
          "state": {
            "_model_module": "@jupyter-widgets/controls",
            "_model_module_version": "1.5.0",
            "_model_name": "DescriptionStyleModel",
            "_view_count": null,
            "_view_module": "@jupyter-widgets/base",
            "_view_module_version": "1.2.0",
            "_view_name": "StyleView",
            "description_width": ""
          }
        },
        "e8c76d0c95804f0fa56ccccbfba4de06": {
          "model_module": "@jupyter-widgets/base",
          "model_name": "LayoutModel",
          "model_module_version": "1.2.0",
          "state": {
            "_model_module": "@jupyter-widgets/base",
            "_model_module_version": "1.2.0",
            "_model_name": "LayoutModel",
            "_view_count": null,
            "_view_module": "@jupyter-widgets/base",
            "_view_module_version": "1.2.0",
            "_view_name": "LayoutView",
            "align_content": null,
            "align_items": null,
            "align_self": null,
            "border": null,
            "bottom": null,
            "display": null,
            "flex": null,
            "flex_flow": null,
            "grid_area": null,
            "grid_auto_columns": null,
            "grid_auto_flow": null,
            "grid_auto_rows": null,
            "grid_column": null,
            "grid_gap": null,
            "grid_row": null,
            "grid_template_areas": null,
            "grid_template_columns": null,
            "grid_template_rows": null,
            "height": null,
            "justify_content": null,
            "justify_items": null,
            "left": null,
            "margin": null,
            "max_height": null,
            "max_width": null,
            "min_height": null,
            "min_width": null,
            "object_fit": null,
            "object_position": null,
            "order": null,
            "overflow": null,
            "overflow_x": null,
            "overflow_y": null,
            "padding": null,
            "right": null,
            "top": null,
            "visibility": null,
            "width": null
          }
        },
        "07d908bba3884461a7a03e0023c0202a": {
          "model_module": "@jupyter-widgets/controls",
          "model_name": "ProgressStyleModel",
          "model_module_version": "1.5.0",
          "state": {
            "_model_module": "@jupyter-widgets/controls",
            "_model_module_version": "1.5.0",
            "_model_name": "ProgressStyleModel",
            "_view_count": null,
            "_view_module": "@jupyter-widgets/base",
            "_view_module_version": "1.2.0",
            "_view_name": "StyleView",
            "bar_color": null,
            "description_width": ""
          }
        },
        "2859c50f464f402f87b482c965bd8472": {
          "model_module": "@jupyter-widgets/controls",
          "model_name": "VBoxModel",
          "model_module_version": "1.5.0",
          "state": {
            "_dom_classes": [],
            "_model_module": "@jupyter-widgets/controls",
            "_model_module_version": "1.5.0",
            "_model_name": "VBoxModel",
            "_view_count": null,
            "_view_module": "@jupyter-widgets/controls",
            "_view_module_version": "1.5.0",
            "_view_name": "VBoxView",
            "box_style": "",
            "children": [
              "IPY_MODEL_08de017162be454c9a89135b085d2476",
              "IPY_MODEL_c09289f627f7491d9ffc78a655f91a5c"
            ],
            "layout": "IPY_MODEL_f283b7063d5845679936bfc5ee2ec5af"
          }
        },
        "08de017162be454c9a89135b085d2476": {
          "model_module": "@jupyter-widgets/controls",
          "model_name": "LabelModel",
          "model_module_version": "1.5.0",
          "state": {
            "_dom_classes": [],
            "_model_module": "@jupyter-widgets/controls",
            "_model_module_version": "1.5.0",
            "_model_name": "LabelModel",
            "_view_count": null,
            "_view_module": "@jupyter-widgets/controls",
            "_view_module_version": "1.5.0",
            "_view_name": "LabelView",
            "description": "",
            "description_tooltip": null,
            "layout": "IPY_MODEL_0f9928f5244c4e73bc58c9d3b8e38e67",
            "placeholder": "​",
            "style": "IPY_MODEL_e6b9ca42b8894affac91b4c12b27070a",
            "value": "0.638 MB of 0.638 MB uploaded (0.000 MB deduped)\r"
          }
        },
        "c09289f627f7491d9ffc78a655f91a5c": {
          "model_module": "@jupyter-widgets/controls",
          "model_name": "FloatProgressModel",
          "model_module_version": "1.5.0",
          "state": {
            "_dom_classes": [],
            "_model_module": "@jupyter-widgets/controls",
            "_model_module_version": "1.5.0",
            "_model_name": "FloatProgressModel",
            "_view_count": null,
            "_view_module": "@jupyter-widgets/controls",
            "_view_module_version": "1.5.0",
            "_view_name": "ProgressView",
            "bar_style": "",
            "description": "",
            "description_tooltip": null,
            "layout": "IPY_MODEL_de72964ecb3a475e9b0d0096c22b3dfe",
            "max": 1,
            "min": 0,
            "orientation": "horizontal",
            "style": "IPY_MODEL_6bf1d039932f4325a7c98939105e93fa",
            "value": 1
          }
        },
        "f283b7063d5845679936bfc5ee2ec5af": {
          "model_module": "@jupyter-widgets/base",
          "model_name": "LayoutModel",
          "model_module_version": "1.2.0",
          "state": {
            "_model_module": "@jupyter-widgets/base",
            "_model_module_version": "1.2.0",
            "_model_name": "LayoutModel",
            "_view_count": null,
            "_view_module": "@jupyter-widgets/base",
            "_view_module_version": "1.2.0",
            "_view_name": "LayoutView",
            "align_content": null,
            "align_items": null,
            "align_self": null,
            "border": null,
            "bottom": null,
            "display": null,
            "flex": null,
            "flex_flow": null,
            "grid_area": null,
            "grid_auto_columns": null,
            "grid_auto_flow": null,
            "grid_auto_rows": null,
            "grid_column": null,
            "grid_gap": null,
            "grid_row": null,
            "grid_template_areas": null,
            "grid_template_columns": null,
            "grid_template_rows": null,
            "height": null,
            "justify_content": null,
            "justify_items": null,
            "left": null,
            "margin": null,
            "max_height": null,
            "max_width": null,
            "min_height": null,
            "min_width": null,
            "object_fit": null,
            "object_position": null,
            "order": null,
            "overflow": null,
            "overflow_x": null,
            "overflow_y": null,
            "padding": null,
            "right": null,
            "top": null,
            "visibility": null,
            "width": null
          }
        },
        "0f9928f5244c4e73bc58c9d3b8e38e67": {
          "model_module": "@jupyter-widgets/base",
          "model_name": "LayoutModel",
          "model_module_version": "1.2.0",
          "state": {
            "_model_module": "@jupyter-widgets/base",
            "_model_module_version": "1.2.0",
            "_model_name": "LayoutModel",
            "_view_count": null,
            "_view_module": "@jupyter-widgets/base",
            "_view_module_version": "1.2.0",
            "_view_name": "LayoutView",
            "align_content": null,
            "align_items": null,
            "align_self": null,
            "border": null,
            "bottom": null,
            "display": null,
            "flex": null,
            "flex_flow": null,
            "grid_area": null,
            "grid_auto_columns": null,
            "grid_auto_flow": null,
            "grid_auto_rows": null,
            "grid_column": null,
            "grid_gap": null,
            "grid_row": null,
            "grid_template_areas": null,
            "grid_template_columns": null,
            "grid_template_rows": null,
            "height": null,
            "justify_content": null,
            "justify_items": null,
            "left": null,
            "margin": null,
            "max_height": null,
            "max_width": null,
            "min_height": null,
            "min_width": null,
            "object_fit": null,
            "object_position": null,
            "order": null,
            "overflow": null,
            "overflow_x": null,
            "overflow_y": null,
            "padding": null,
            "right": null,
            "top": null,
            "visibility": null,
            "width": null
          }
        },
        "e6b9ca42b8894affac91b4c12b27070a": {
          "model_module": "@jupyter-widgets/controls",
          "model_name": "DescriptionStyleModel",
          "model_module_version": "1.5.0",
          "state": {
            "_model_module": "@jupyter-widgets/controls",
            "_model_module_version": "1.5.0",
            "_model_name": "DescriptionStyleModel",
            "_view_count": null,
            "_view_module": "@jupyter-widgets/base",
            "_view_module_version": "1.2.0",
            "_view_name": "StyleView",
            "description_width": ""
          }
        },
        "de72964ecb3a475e9b0d0096c22b3dfe": {
          "model_module": "@jupyter-widgets/base",
          "model_name": "LayoutModel",
          "model_module_version": "1.2.0",
          "state": {
            "_model_module": "@jupyter-widgets/base",
            "_model_module_version": "1.2.0",
            "_model_name": "LayoutModel",
            "_view_count": null,
            "_view_module": "@jupyter-widgets/base",
            "_view_module_version": "1.2.0",
            "_view_name": "LayoutView",
            "align_content": null,
            "align_items": null,
            "align_self": null,
            "border": null,
            "bottom": null,
            "display": null,
            "flex": null,
            "flex_flow": null,
            "grid_area": null,
            "grid_auto_columns": null,
            "grid_auto_flow": null,
            "grid_auto_rows": null,
            "grid_column": null,
            "grid_gap": null,
            "grid_row": null,
            "grid_template_areas": null,
            "grid_template_columns": null,
            "grid_template_rows": null,
            "height": null,
            "justify_content": null,
            "justify_items": null,
            "left": null,
            "margin": null,
            "max_height": null,
            "max_width": null,
            "min_height": null,
            "min_width": null,
            "object_fit": null,
            "object_position": null,
            "order": null,
            "overflow": null,
            "overflow_x": null,
            "overflow_y": null,
            "padding": null,
            "right": null,
            "top": null,
            "visibility": null,
            "width": null
          }
        },
        "6bf1d039932f4325a7c98939105e93fa": {
          "model_module": "@jupyter-widgets/controls",
          "model_name": "ProgressStyleModel",
          "model_module_version": "1.5.0",
          "state": {
            "_model_module": "@jupyter-widgets/controls",
            "_model_module_version": "1.5.0",
            "_model_name": "ProgressStyleModel",
            "_view_count": null,
            "_view_module": "@jupyter-widgets/base",
            "_view_module_version": "1.2.0",
            "_view_name": "StyleView",
            "bar_color": null,
            "description_width": ""
          }
        },
        "e6984f92fdff440f8ad8336a67ff246d": {
          "model_module": "@jupyter-widgets/controls",
          "model_name": "VBoxModel",
          "model_module_version": "1.5.0",
          "state": {
            "_dom_classes": [],
            "_model_module": "@jupyter-widgets/controls",
            "_model_module_version": "1.5.0",
            "_model_name": "VBoxModel",
            "_view_count": null,
            "_view_module": "@jupyter-widgets/controls",
            "_view_module_version": "1.5.0",
            "_view_name": "VBoxView",
            "box_style": "",
            "children": [
              "IPY_MODEL_6242032b10ad41c6abc827d9496f5c81",
              "IPY_MODEL_493d5028d3114cdd950e853f86e4e678"
            ],
            "layout": "IPY_MODEL_91608ce1381849bd93a0e9b9f49b6ea4"
          }
        },
        "6242032b10ad41c6abc827d9496f5c81": {
          "model_module": "@jupyter-widgets/controls",
          "model_name": "LabelModel",
          "model_module_version": "1.5.0",
          "state": {
            "_dom_classes": [],
            "_model_module": "@jupyter-widgets/controls",
            "_model_module_version": "1.5.0",
            "_model_name": "LabelModel",
            "_view_count": null,
            "_view_module": "@jupyter-widgets/controls",
            "_view_module_version": "1.5.0",
            "_view_name": "LabelView",
            "description": "",
            "description_tooltip": null,
            "layout": "IPY_MODEL_115680f71313498dab0801ced2b5c471",
            "placeholder": "​",
            "style": "IPY_MODEL_32b56d1bb6994c219a1272a1d286251f",
            "value": "11.397 MB of 11.397 MB uploaded (0.000 MB deduped)\r"
          }
        },
        "493d5028d3114cdd950e853f86e4e678": {
          "model_module": "@jupyter-widgets/controls",
          "model_name": "FloatProgressModel",
          "model_module_version": "1.5.0",
          "state": {
            "_dom_classes": [],
            "_model_module": "@jupyter-widgets/controls",
            "_model_module_version": "1.5.0",
            "_model_name": "FloatProgressModel",
            "_view_count": null,
            "_view_module": "@jupyter-widgets/controls",
            "_view_module_version": "1.5.0",
            "_view_name": "ProgressView",
            "bar_style": "",
            "description": "",
            "description_tooltip": null,
            "layout": "IPY_MODEL_a384a83101084bcca76e3497bdfba0f1",
            "max": 1,
            "min": 0,
            "orientation": "horizontal",
            "style": "IPY_MODEL_089159ee13f74f4b84016cb0a1db2aa4",
            "value": 1
          }
        },
        "91608ce1381849bd93a0e9b9f49b6ea4": {
          "model_module": "@jupyter-widgets/base",
          "model_name": "LayoutModel",
          "model_module_version": "1.2.0",
          "state": {
            "_model_module": "@jupyter-widgets/base",
            "_model_module_version": "1.2.0",
            "_model_name": "LayoutModel",
            "_view_count": null,
            "_view_module": "@jupyter-widgets/base",
            "_view_module_version": "1.2.0",
            "_view_name": "LayoutView",
            "align_content": null,
            "align_items": null,
            "align_self": null,
            "border": null,
            "bottom": null,
            "display": null,
            "flex": null,
            "flex_flow": null,
            "grid_area": null,
            "grid_auto_columns": null,
            "grid_auto_flow": null,
            "grid_auto_rows": null,
            "grid_column": null,
            "grid_gap": null,
            "grid_row": null,
            "grid_template_areas": null,
            "grid_template_columns": null,
            "grid_template_rows": null,
            "height": null,
            "justify_content": null,
            "justify_items": null,
            "left": null,
            "margin": null,
            "max_height": null,
            "max_width": null,
            "min_height": null,
            "min_width": null,
            "object_fit": null,
            "object_position": null,
            "order": null,
            "overflow": null,
            "overflow_x": null,
            "overflow_y": null,
            "padding": null,
            "right": null,
            "top": null,
            "visibility": null,
            "width": null
          }
        },
        "115680f71313498dab0801ced2b5c471": {
          "model_module": "@jupyter-widgets/base",
          "model_name": "LayoutModel",
          "model_module_version": "1.2.0",
          "state": {
            "_model_module": "@jupyter-widgets/base",
            "_model_module_version": "1.2.0",
            "_model_name": "LayoutModel",
            "_view_count": null,
            "_view_module": "@jupyter-widgets/base",
            "_view_module_version": "1.2.0",
            "_view_name": "LayoutView",
            "align_content": null,
            "align_items": null,
            "align_self": null,
            "border": null,
            "bottom": null,
            "display": null,
            "flex": null,
            "flex_flow": null,
            "grid_area": null,
            "grid_auto_columns": null,
            "grid_auto_flow": null,
            "grid_auto_rows": null,
            "grid_column": null,
            "grid_gap": null,
            "grid_row": null,
            "grid_template_areas": null,
            "grid_template_columns": null,
            "grid_template_rows": null,
            "height": null,
            "justify_content": null,
            "justify_items": null,
            "left": null,
            "margin": null,
            "max_height": null,
            "max_width": null,
            "min_height": null,
            "min_width": null,
            "object_fit": null,
            "object_position": null,
            "order": null,
            "overflow": null,
            "overflow_x": null,
            "overflow_y": null,
            "padding": null,
            "right": null,
            "top": null,
            "visibility": null,
            "width": null
          }
        },
        "32b56d1bb6994c219a1272a1d286251f": {
          "model_module": "@jupyter-widgets/controls",
          "model_name": "DescriptionStyleModel",
          "model_module_version": "1.5.0",
          "state": {
            "_model_module": "@jupyter-widgets/controls",
            "_model_module_version": "1.5.0",
            "_model_name": "DescriptionStyleModel",
            "_view_count": null,
            "_view_module": "@jupyter-widgets/base",
            "_view_module_version": "1.2.0",
            "_view_name": "StyleView",
            "description_width": ""
          }
        },
        "a384a83101084bcca76e3497bdfba0f1": {
          "model_module": "@jupyter-widgets/base",
          "model_name": "LayoutModel",
          "model_module_version": "1.2.0",
          "state": {
            "_model_module": "@jupyter-widgets/base",
            "_model_module_version": "1.2.0",
            "_model_name": "LayoutModel",
            "_view_count": null,
            "_view_module": "@jupyter-widgets/base",
            "_view_module_version": "1.2.0",
            "_view_name": "LayoutView",
            "align_content": null,
            "align_items": null,
            "align_self": null,
            "border": null,
            "bottom": null,
            "display": null,
            "flex": null,
            "flex_flow": null,
            "grid_area": null,
            "grid_auto_columns": null,
            "grid_auto_flow": null,
            "grid_auto_rows": null,
            "grid_column": null,
            "grid_gap": null,
            "grid_row": null,
            "grid_template_areas": null,
            "grid_template_columns": null,
            "grid_template_rows": null,
            "height": null,
            "justify_content": null,
            "justify_items": null,
            "left": null,
            "margin": null,
            "max_height": null,
            "max_width": null,
            "min_height": null,
            "min_width": null,
            "object_fit": null,
            "object_position": null,
            "order": null,
            "overflow": null,
            "overflow_x": null,
            "overflow_y": null,
            "padding": null,
            "right": null,
            "top": null,
            "visibility": null,
            "width": null
          }
        },
        "089159ee13f74f4b84016cb0a1db2aa4": {
          "model_module": "@jupyter-widgets/controls",
          "model_name": "ProgressStyleModel",
          "model_module_version": "1.5.0",
          "state": {
            "_model_module": "@jupyter-widgets/controls",
            "_model_module_version": "1.5.0",
            "_model_name": "ProgressStyleModel",
            "_view_count": null,
            "_view_module": "@jupyter-widgets/base",
            "_view_module_version": "1.2.0",
            "_view_name": "StyleView",
            "bar_color": null,
            "description_width": ""
          }
        },
        "d06244abaaab47979f15198cd9fee4a5": {
          "model_module": "@jupyter-widgets/controls",
          "model_name": "VBoxModel",
          "model_module_version": "1.5.0",
          "state": {
            "_dom_classes": [],
            "_model_module": "@jupyter-widgets/controls",
            "_model_module_version": "1.5.0",
            "_model_name": "VBoxModel",
            "_view_count": null,
            "_view_module": "@jupyter-widgets/controls",
            "_view_module_version": "1.5.0",
            "_view_name": "VBoxView",
            "box_style": "",
            "children": [
              "IPY_MODEL_28845748209b48d8a09a413c4ef64580",
              "IPY_MODEL_fbc148c281f64588a23368e905992bdf"
            ],
            "layout": "IPY_MODEL_512d4acb73814696b15b2b7725d48c4f"
          }
        },
        "28845748209b48d8a09a413c4ef64580": {
          "model_module": "@jupyter-widgets/controls",
          "model_name": "LabelModel",
          "model_module_version": "1.5.0",
          "state": {
            "_dom_classes": [],
            "_model_module": "@jupyter-widgets/controls",
            "_model_module_version": "1.5.0",
            "_model_name": "LabelModel",
            "_view_count": null,
            "_view_module": "@jupyter-widgets/controls",
            "_view_module_version": "1.5.0",
            "_view_name": "LabelView",
            "description": "",
            "description_tooltip": null,
            "layout": "IPY_MODEL_d9f6166bf36a4249b64b8d5b246480e4",
            "placeholder": "​",
            "style": "IPY_MODEL_99795eb23b2442f98f1590c8e82470d1",
            "value": "24.793 MB of 24.793 MB uploaded (0.000 MB deduped)\r"
          }
        },
        "fbc148c281f64588a23368e905992bdf": {
          "model_module": "@jupyter-widgets/controls",
          "model_name": "FloatProgressModel",
          "model_module_version": "1.5.0",
          "state": {
            "_dom_classes": [],
            "_model_module": "@jupyter-widgets/controls",
            "_model_module_version": "1.5.0",
            "_model_name": "FloatProgressModel",
            "_view_count": null,
            "_view_module": "@jupyter-widgets/controls",
            "_view_module_version": "1.5.0",
            "_view_name": "ProgressView",
            "bar_style": "",
            "description": "",
            "description_tooltip": null,
            "layout": "IPY_MODEL_dd25a2dc791640b385e18e7367920797",
            "max": 1,
            "min": 0,
            "orientation": "horizontal",
            "style": "IPY_MODEL_f71eab71ad114b6995e5c69d92d2c11b",
            "value": 1
          }
        },
        "512d4acb73814696b15b2b7725d48c4f": {
          "model_module": "@jupyter-widgets/base",
          "model_name": "LayoutModel",
          "model_module_version": "1.2.0",
          "state": {
            "_model_module": "@jupyter-widgets/base",
            "_model_module_version": "1.2.0",
            "_model_name": "LayoutModel",
            "_view_count": null,
            "_view_module": "@jupyter-widgets/base",
            "_view_module_version": "1.2.0",
            "_view_name": "LayoutView",
            "align_content": null,
            "align_items": null,
            "align_self": null,
            "border": null,
            "bottom": null,
            "display": null,
            "flex": null,
            "flex_flow": null,
            "grid_area": null,
            "grid_auto_columns": null,
            "grid_auto_flow": null,
            "grid_auto_rows": null,
            "grid_column": null,
            "grid_gap": null,
            "grid_row": null,
            "grid_template_areas": null,
            "grid_template_columns": null,
            "grid_template_rows": null,
            "height": null,
            "justify_content": null,
            "justify_items": null,
            "left": null,
            "margin": null,
            "max_height": null,
            "max_width": null,
            "min_height": null,
            "min_width": null,
            "object_fit": null,
            "object_position": null,
            "order": null,
            "overflow": null,
            "overflow_x": null,
            "overflow_y": null,
            "padding": null,
            "right": null,
            "top": null,
            "visibility": null,
            "width": null
          }
        },
        "d9f6166bf36a4249b64b8d5b246480e4": {
          "model_module": "@jupyter-widgets/base",
          "model_name": "LayoutModel",
          "model_module_version": "1.2.0",
          "state": {
            "_model_module": "@jupyter-widgets/base",
            "_model_module_version": "1.2.0",
            "_model_name": "LayoutModel",
            "_view_count": null,
            "_view_module": "@jupyter-widgets/base",
            "_view_module_version": "1.2.0",
            "_view_name": "LayoutView",
            "align_content": null,
            "align_items": null,
            "align_self": null,
            "border": null,
            "bottom": null,
            "display": null,
            "flex": null,
            "flex_flow": null,
            "grid_area": null,
            "grid_auto_columns": null,
            "grid_auto_flow": null,
            "grid_auto_rows": null,
            "grid_column": null,
            "grid_gap": null,
            "grid_row": null,
            "grid_template_areas": null,
            "grid_template_columns": null,
            "grid_template_rows": null,
            "height": null,
            "justify_content": null,
            "justify_items": null,
            "left": null,
            "margin": null,
            "max_height": null,
            "max_width": null,
            "min_height": null,
            "min_width": null,
            "object_fit": null,
            "object_position": null,
            "order": null,
            "overflow": null,
            "overflow_x": null,
            "overflow_y": null,
            "padding": null,
            "right": null,
            "top": null,
            "visibility": null,
            "width": null
          }
        },
        "99795eb23b2442f98f1590c8e82470d1": {
          "model_module": "@jupyter-widgets/controls",
          "model_name": "DescriptionStyleModel",
          "model_module_version": "1.5.0",
          "state": {
            "_model_module": "@jupyter-widgets/controls",
            "_model_module_version": "1.5.0",
            "_model_name": "DescriptionStyleModel",
            "_view_count": null,
            "_view_module": "@jupyter-widgets/base",
            "_view_module_version": "1.2.0",
            "_view_name": "StyleView",
            "description_width": ""
          }
        },
        "dd25a2dc791640b385e18e7367920797": {
          "model_module": "@jupyter-widgets/base",
          "model_name": "LayoutModel",
          "model_module_version": "1.2.0",
          "state": {
            "_model_module": "@jupyter-widgets/base",
            "_model_module_version": "1.2.0",
            "_model_name": "LayoutModel",
            "_view_count": null,
            "_view_module": "@jupyter-widgets/base",
            "_view_module_version": "1.2.0",
            "_view_name": "LayoutView",
            "align_content": null,
            "align_items": null,
            "align_self": null,
            "border": null,
            "bottom": null,
            "display": null,
            "flex": null,
            "flex_flow": null,
            "grid_area": null,
            "grid_auto_columns": null,
            "grid_auto_flow": null,
            "grid_auto_rows": null,
            "grid_column": null,
            "grid_gap": null,
            "grid_row": null,
            "grid_template_areas": null,
            "grid_template_columns": null,
            "grid_template_rows": null,
            "height": null,
            "justify_content": null,
            "justify_items": null,
            "left": null,
            "margin": null,
            "max_height": null,
            "max_width": null,
            "min_height": null,
            "min_width": null,
            "object_fit": null,
            "object_position": null,
            "order": null,
            "overflow": null,
            "overflow_x": null,
            "overflow_y": null,
            "padding": null,
            "right": null,
            "top": null,
            "visibility": null,
            "width": null
          }
        },
        "f71eab71ad114b6995e5c69d92d2c11b": {
          "model_module": "@jupyter-widgets/controls",
          "model_name": "ProgressStyleModel",
          "model_module_version": "1.5.0",
          "state": {
            "_model_module": "@jupyter-widgets/controls",
            "_model_module_version": "1.5.0",
            "_model_name": "ProgressStyleModel",
            "_view_count": null,
            "_view_module": "@jupyter-widgets/base",
            "_view_module_version": "1.2.0",
            "_view_name": "StyleView",
            "bar_color": null,
            "description_width": ""
          }
        },
        "81f1caddc1ce44c7a3a1370d96cf93ed": {
          "model_module": "@jupyter-widgets/controls",
          "model_name": "VBoxModel",
          "model_module_version": "1.5.0",
          "state": {
            "_dom_classes": [],
            "_model_module": "@jupyter-widgets/controls",
            "_model_module_version": "1.5.0",
            "_model_name": "VBoxModel",
            "_view_count": null,
            "_view_module": "@jupyter-widgets/controls",
            "_view_module_version": "1.5.0",
            "_view_name": "VBoxView",
            "box_style": "",
            "children": [
              "IPY_MODEL_1341faa7cdfc442faabf35fcfa888a1a",
              "IPY_MODEL_e95390e99489476d8d44f54650d0f6d7"
            ],
            "layout": "IPY_MODEL_e397631db2914b348d18e2b1f848852c"
          }
        },
        "1341faa7cdfc442faabf35fcfa888a1a": {
          "model_module": "@jupyter-widgets/controls",
          "model_name": "LabelModel",
          "model_module_version": "1.5.0",
          "state": {
            "_dom_classes": [],
            "_model_module": "@jupyter-widgets/controls",
            "_model_module_version": "1.5.0",
            "_model_name": "LabelModel",
            "_view_count": null,
            "_view_module": "@jupyter-widgets/controls",
            "_view_module_version": "1.5.0",
            "_view_name": "LabelView",
            "description": "",
            "description_tooltip": null,
            "layout": "IPY_MODEL_9ec7ba7f5e2347e6b5032dc1f448b42e",
            "placeholder": "​",
            "style": "IPY_MODEL_aff84d3298a343b9afde61a302f7252d",
            "value": "0.404 MB of 0.404 MB uploaded (0.000 MB deduped)\r"
          }
        },
        "e95390e99489476d8d44f54650d0f6d7": {
          "model_module": "@jupyter-widgets/controls",
          "model_name": "FloatProgressModel",
          "model_module_version": "1.5.0",
          "state": {
            "_dom_classes": [],
            "_model_module": "@jupyter-widgets/controls",
            "_model_module_version": "1.5.0",
            "_model_name": "FloatProgressModel",
            "_view_count": null,
            "_view_module": "@jupyter-widgets/controls",
            "_view_module_version": "1.5.0",
            "_view_name": "ProgressView",
            "bar_style": "",
            "description": "",
            "description_tooltip": null,
            "layout": "IPY_MODEL_4f2da2de42f34e09959472c652da3ea4",
            "max": 1,
            "min": 0,
            "orientation": "horizontal",
            "style": "IPY_MODEL_d7211bba52be4c01ab3f64e0a960a912",
            "value": 1
          }
        },
        "e397631db2914b348d18e2b1f848852c": {
          "model_module": "@jupyter-widgets/base",
          "model_name": "LayoutModel",
          "model_module_version": "1.2.0",
          "state": {
            "_model_module": "@jupyter-widgets/base",
            "_model_module_version": "1.2.0",
            "_model_name": "LayoutModel",
            "_view_count": null,
            "_view_module": "@jupyter-widgets/base",
            "_view_module_version": "1.2.0",
            "_view_name": "LayoutView",
            "align_content": null,
            "align_items": null,
            "align_self": null,
            "border": null,
            "bottom": null,
            "display": null,
            "flex": null,
            "flex_flow": null,
            "grid_area": null,
            "grid_auto_columns": null,
            "grid_auto_flow": null,
            "grid_auto_rows": null,
            "grid_column": null,
            "grid_gap": null,
            "grid_row": null,
            "grid_template_areas": null,
            "grid_template_columns": null,
            "grid_template_rows": null,
            "height": null,
            "justify_content": null,
            "justify_items": null,
            "left": null,
            "margin": null,
            "max_height": null,
            "max_width": null,
            "min_height": null,
            "min_width": null,
            "object_fit": null,
            "object_position": null,
            "order": null,
            "overflow": null,
            "overflow_x": null,
            "overflow_y": null,
            "padding": null,
            "right": null,
            "top": null,
            "visibility": null,
            "width": null
          }
        },
        "9ec7ba7f5e2347e6b5032dc1f448b42e": {
          "model_module": "@jupyter-widgets/base",
          "model_name": "LayoutModel",
          "model_module_version": "1.2.0",
          "state": {
            "_model_module": "@jupyter-widgets/base",
            "_model_module_version": "1.2.0",
            "_model_name": "LayoutModel",
            "_view_count": null,
            "_view_module": "@jupyter-widgets/base",
            "_view_module_version": "1.2.0",
            "_view_name": "LayoutView",
            "align_content": null,
            "align_items": null,
            "align_self": null,
            "border": null,
            "bottom": null,
            "display": null,
            "flex": null,
            "flex_flow": null,
            "grid_area": null,
            "grid_auto_columns": null,
            "grid_auto_flow": null,
            "grid_auto_rows": null,
            "grid_column": null,
            "grid_gap": null,
            "grid_row": null,
            "grid_template_areas": null,
            "grid_template_columns": null,
            "grid_template_rows": null,
            "height": null,
            "justify_content": null,
            "justify_items": null,
            "left": null,
            "margin": null,
            "max_height": null,
            "max_width": null,
            "min_height": null,
            "min_width": null,
            "object_fit": null,
            "object_position": null,
            "order": null,
            "overflow": null,
            "overflow_x": null,
            "overflow_y": null,
            "padding": null,
            "right": null,
            "top": null,
            "visibility": null,
            "width": null
          }
        },
        "aff84d3298a343b9afde61a302f7252d": {
          "model_module": "@jupyter-widgets/controls",
          "model_name": "DescriptionStyleModel",
          "model_module_version": "1.5.0",
          "state": {
            "_model_module": "@jupyter-widgets/controls",
            "_model_module_version": "1.5.0",
            "_model_name": "DescriptionStyleModel",
            "_view_count": null,
            "_view_module": "@jupyter-widgets/base",
            "_view_module_version": "1.2.0",
            "_view_name": "StyleView",
            "description_width": ""
          }
        },
        "4f2da2de42f34e09959472c652da3ea4": {
          "model_module": "@jupyter-widgets/base",
          "model_name": "LayoutModel",
          "model_module_version": "1.2.0",
          "state": {
            "_model_module": "@jupyter-widgets/base",
            "_model_module_version": "1.2.0",
            "_model_name": "LayoutModel",
            "_view_count": null,
            "_view_module": "@jupyter-widgets/base",
            "_view_module_version": "1.2.0",
            "_view_name": "LayoutView",
            "align_content": null,
            "align_items": null,
            "align_self": null,
            "border": null,
            "bottom": null,
            "display": null,
            "flex": null,
            "flex_flow": null,
            "grid_area": null,
            "grid_auto_columns": null,
            "grid_auto_flow": null,
            "grid_auto_rows": null,
            "grid_column": null,
            "grid_gap": null,
            "grid_row": null,
            "grid_template_areas": null,
            "grid_template_columns": null,
            "grid_template_rows": null,
            "height": null,
            "justify_content": null,
            "justify_items": null,
            "left": null,
            "margin": null,
            "max_height": null,
            "max_width": null,
            "min_height": null,
            "min_width": null,
            "object_fit": null,
            "object_position": null,
            "order": null,
            "overflow": null,
            "overflow_x": null,
            "overflow_y": null,
            "padding": null,
            "right": null,
            "top": null,
            "visibility": null,
            "width": null
          }
        },
        "d7211bba52be4c01ab3f64e0a960a912": {
          "model_module": "@jupyter-widgets/controls",
          "model_name": "ProgressStyleModel",
          "model_module_version": "1.5.0",
          "state": {
            "_model_module": "@jupyter-widgets/controls",
            "_model_module_version": "1.5.0",
            "_model_name": "ProgressStyleModel",
            "_view_count": null,
            "_view_module": "@jupyter-widgets/base",
            "_view_module_version": "1.2.0",
            "_view_name": "StyleView",
            "bar_color": null,
            "description_width": ""
          }
        },
        "74acd0a173d24954a74e683e7301b8ed": {
          "model_module": "@jupyter-widgets/controls",
          "model_name": "VBoxModel",
          "model_module_version": "1.5.0",
          "state": {
            "_dom_classes": [],
            "_model_module": "@jupyter-widgets/controls",
            "_model_module_version": "1.5.0",
            "_model_name": "VBoxModel",
            "_view_count": null,
            "_view_module": "@jupyter-widgets/controls",
            "_view_module_version": "1.5.0",
            "_view_name": "VBoxView",
            "box_style": "",
            "children": [
              "IPY_MODEL_4bff6a53d65647a6bd73650c503b9945",
              "IPY_MODEL_3a9c561b40fa4f5d909f4bfccb8ba221"
            ],
            "layout": "IPY_MODEL_455f9b5b19f84105b511d4c0d020a464"
          }
        },
        "4bff6a53d65647a6bd73650c503b9945": {
          "model_module": "@jupyter-widgets/controls",
          "model_name": "LabelModel",
          "model_module_version": "1.5.0",
          "state": {
            "_dom_classes": [],
            "_model_module": "@jupyter-widgets/controls",
            "_model_module_version": "1.5.0",
            "_model_name": "LabelModel",
            "_view_count": null,
            "_view_module": "@jupyter-widgets/controls",
            "_view_module_version": "1.5.0",
            "_view_name": "LabelView",
            "description": "",
            "description_tooltip": null,
            "layout": "IPY_MODEL_e220c0eae32d4d16bd87c2a088acaa5b",
            "placeholder": "​",
            "style": "IPY_MODEL_9f4a5de1787e47c58d5a9a67dd8b5e33",
            "value": "0.349 MB of 0.349 MB uploaded (0.000 MB deduped)\r"
          }
        },
        "3a9c561b40fa4f5d909f4bfccb8ba221": {
          "model_module": "@jupyter-widgets/controls",
          "model_name": "FloatProgressModel",
          "model_module_version": "1.5.0",
          "state": {
            "_dom_classes": [],
            "_model_module": "@jupyter-widgets/controls",
            "_model_module_version": "1.5.0",
            "_model_name": "FloatProgressModel",
            "_view_count": null,
            "_view_module": "@jupyter-widgets/controls",
            "_view_module_version": "1.5.0",
            "_view_name": "ProgressView",
            "bar_style": "",
            "description": "",
            "description_tooltip": null,
            "layout": "IPY_MODEL_8fd6f021f68443b3936ca735e9fb6c9b",
            "max": 1,
            "min": 0,
            "orientation": "horizontal",
            "style": "IPY_MODEL_cd19127d57144721b1323f1a059845da",
            "value": 1
          }
        },
        "455f9b5b19f84105b511d4c0d020a464": {
          "model_module": "@jupyter-widgets/base",
          "model_name": "LayoutModel",
          "model_module_version": "1.2.0",
          "state": {
            "_model_module": "@jupyter-widgets/base",
            "_model_module_version": "1.2.0",
            "_model_name": "LayoutModel",
            "_view_count": null,
            "_view_module": "@jupyter-widgets/base",
            "_view_module_version": "1.2.0",
            "_view_name": "LayoutView",
            "align_content": null,
            "align_items": null,
            "align_self": null,
            "border": null,
            "bottom": null,
            "display": null,
            "flex": null,
            "flex_flow": null,
            "grid_area": null,
            "grid_auto_columns": null,
            "grid_auto_flow": null,
            "grid_auto_rows": null,
            "grid_column": null,
            "grid_gap": null,
            "grid_row": null,
            "grid_template_areas": null,
            "grid_template_columns": null,
            "grid_template_rows": null,
            "height": null,
            "justify_content": null,
            "justify_items": null,
            "left": null,
            "margin": null,
            "max_height": null,
            "max_width": null,
            "min_height": null,
            "min_width": null,
            "object_fit": null,
            "object_position": null,
            "order": null,
            "overflow": null,
            "overflow_x": null,
            "overflow_y": null,
            "padding": null,
            "right": null,
            "top": null,
            "visibility": null,
            "width": null
          }
        },
        "e220c0eae32d4d16bd87c2a088acaa5b": {
          "model_module": "@jupyter-widgets/base",
          "model_name": "LayoutModel",
          "model_module_version": "1.2.0",
          "state": {
            "_model_module": "@jupyter-widgets/base",
            "_model_module_version": "1.2.0",
            "_model_name": "LayoutModel",
            "_view_count": null,
            "_view_module": "@jupyter-widgets/base",
            "_view_module_version": "1.2.0",
            "_view_name": "LayoutView",
            "align_content": null,
            "align_items": null,
            "align_self": null,
            "border": null,
            "bottom": null,
            "display": null,
            "flex": null,
            "flex_flow": null,
            "grid_area": null,
            "grid_auto_columns": null,
            "grid_auto_flow": null,
            "grid_auto_rows": null,
            "grid_column": null,
            "grid_gap": null,
            "grid_row": null,
            "grid_template_areas": null,
            "grid_template_columns": null,
            "grid_template_rows": null,
            "height": null,
            "justify_content": null,
            "justify_items": null,
            "left": null,
            "margin": null,
            "max_height": null,
            "max_width": null,
            "min_height": null,
            "min_width": null,
            "object_fit": null,
            "object_position": null,
            "order": null,
            "overflow": null,
            "overflow_x": null,
            "overflow_y": null,
            "padding": null,
            "right": null,
            "top": null,
            "visibility": null,
            "width": null
          }
        },
        "9f4a5de1787e47c58d5a9a67dd8b5e33": {
          "model_module": "@jupyter-widgets/controls",
          "model_name": "DescriptionStyleModel",
          "model_module_version": "1.5.0",
          "state": {
            "_model_module": "@jupyter-widgets/controls",
            "_model_module_version": "1.5.0",
            "_model_name": "DescriptionStyleModel",
            "_view_count": null,
            "_view_module": "@jupyter-widgets/base",
            "_view_module_version": "1.2.0",
            "_view_name": "StyleView",
            "description_width": ""
          }
        },
        "8fd6f021f68443b3936ca735e9fb6c9b": {
          "model_module": "@jupyter-widgets/base",
          "model_name": "LayoutModel",
          "model_module_version": "1.2.0",
          "state": {
            "_model_module": "@jupyter-widgets/base",
            "_model_module_version": "1.2.0",
            "_model_name": "LayoutModel",
            "_view_count": null,
            "_view_module": "@jupyter-widgets/base",
            "_view_module_version": "1.2.0",
            "_view_name": "LayoutView",
            "align_content": null,
            "align_items": null,
            "align_self": null,
            "border": null,
            "bottom": null,
            "display": null,
            "flex": null,
            "flex_flow": null,
            "grid_area": null,
            "grid_auto_columns": null,
            "grid_auto_flow": null,
            "grid_auto_rows": null,
            "grid_column": null,
            "grid_gap": null,
            "grid_row": null,
            "grid_template_areas": null,
            "grid_template_columns": null,
            "grid_template_rows": null,
            "height": null,
            "justify_content": null,
            "justify_items": null,
            "left": null,
            "margin": null,
            "max_height": null,
            "max_width": null,
            "min_height": null,
            "min_width": null,
            "object_fit": null,
            "object_position": null,
            "order": null,
            "overflow": null,
            "overflow_x": null,
            "overflow_y": null,
            "padding": null,
            "right": null,
            "top": null,
            "visibility": null,
            "width": null
          }
        },
        "cd19127d57144721b1323f1a059845da": {
          "model_module": "@jupyter-widgets/controls",
          "model_name": "ProgressStyleModel",
          "model_module_version": "1.5.0",
          "state": {
            "_model_module": "@jupyter-widgets/controls",
            "_model_module_version": "1.5.0",
            "_model_name": "ProgressStyleModel",
            "_view_count": null,
            "_view_module": "@jupyter-widgets/base",
            "_view_module_version": "1.2.0",
            "_view_name": "StyleView",
            "bar_color": null,
            "description_width": ""
          }
        },
        "9748a4000c464d39a2c377a7ee40ac19": {
          "model_module": "@jupyter-widgets/controls",
          "model_name": "VBoxModel",
          "model_module_version": "1.5.0",
          "state": {
            "_dom_classes": [],
            "_model_module": "@jupyter-widgets/controls",
            "_model_module_version": "1.5.0",
            "_model_name": "VBoxModel",
            "_view_count": null,
            "_view_module": "@jupyter-widgets/controls",
            "_view_module_version": "1.5.0",
            "_view_name": "VBoxView",
            "box_style": "",
            "children": [
              "IPY_MODEL_f19baa779fb34104b31bddf9883848b3",
              "IPY_MODEL_d1306c46b5c243eb8981b92a455a8888"
            ],
            "layout": "IPY_MODEL_f4a43c9fa05a452ea32ecb7c6377badb"
          }
        },
        "f19baa779fb34104b31bddf9883848b3": {
          "model_module": "@jupyter-widgets/controls",
          "model_name": "LabelModel",
          "model_module_version": "1.5.0",
          "state": {
            "_dom_classes": [],
            "_model_module": "@jupyter-widgets/controls",
            "_model_module_version": "1.5.0",
            "_model_name": "LabelModel",
            "_view_count": null,
            "_view_module": "@jupyter-widgets/controls",
            "_view_module_version": "1.5.0",
            "_view_name": "LabelView",
            "description": "",
            "description_tooltip": null,
            "layout": "IPY_MODEL_90ff1a1d769d4822aca902719ca6d99f",
            "placeholder": "​",
            "style": "IPY_MODEL_c2288d3408784dffbcc0263707f6d152",
            "value": "1.207 MB of 1.207 MB uploaded (0.000 MB deduped)\r"
          }
        },
        "d1306c46b5c243eb8981b92a455a8888": {
          "model_module": "@jupyter-widgets/controls",
          "model_name": "FloatProgressModel",
          "model_module_version": "1.5.0",
          "state": {
            "_dom_classes": [],
            "_model_module": "@jupyter-widgets/controls",
            "_model_module_version": "1.5.0",
            "_model_name": "FloatProgressModel",
            "_view_count": null,
            "_view_module": "@jupyter-widgets/controls",
            "_view_module_version": "1.5.0",
            "_view_name": "ProgressView",
            "bar_style": "",
            "description": "",
            "description_tooltip": null,
            "layout": "IPY_MODEL_7ee6363c38a6421b969e6472c969d7a7",
            "max": 1,
            "min": 0,
            "orientation": "horizontal",
            "style": "IPY_MODEL_bb5e23d8b1d84ad6895e48ab4187b32f",
            "value": 1
          }
        },
        "f4a43c9fa05a452ea32ecb7c6377badb": {
          "model_module": "@jupyter-widgets/base",
          "model_name": "LayoutModel",
          "model_module_version": "1.2.0",
          "state": {
            "_model_module": "@jupyter-widgets/base",
            "_model_module_version": "1.2.0",
            "_model_name": "LayoutModel",
            "_view_count": null,
            "_view_module": "@jupyter-widgets/base",
            "_view_module_version": "1.2.0",
            "_view_name": "LayoutView",
            "align_content": null,
            "align_items": null,
            "align_self": null,
            "border": null,
            "bottom": null,
            "display": null,
            "flex": null,
            "flex_flow": null,
            "grid_area": null,
            "grid_auto_columns": null,
            "grid_auto_flow": null,
            "grid_auto_rows": null,
            "grid_column": null,
            "grid_gap": null,
            "grid_row": null,
            "grid_template_areas": null,
            "grid_template_columns": null,
            "grid_template_rows": null,
            "height": null,
            "justify_content": null,
            "justify_items": null,
            "left": null,
            "margin": null,
            "max_height": null,
            "max_width": null,
            "min_height": null,
            "min_width": null,
            "object_fit": null,
            "object_position": null,
            "order": null,
            "overflow": null,
            "overflow_x": null,
            "overflow_y": null,
            "padding": null,
            "right": null,
            "top": null,
            "visibility": null,
            "width": null
          }
        },
        "90ff1a1d769d4822aca902719ca6d99f": {
          "model_module": "@jupyter-widgets/base",
          "model_name": "LayoutModel",
          "model_module_version": "1.2.0",
          "state": {
            "_model_module": "@jupyter-widgets/base",
            "_model_module_version": "1.2.0",
            "_model_name": "LayoutModel",
            "_view_count": null,
            "_view_module": "@jupyter-widgets/base",
            "_view_module_version": "1.2.0",
            "_view_name": "LayoutView",
            "align_content": null,
            "align_items": null,
            "align_self": null,
            "border": null,
            "bottom": null,
            "display": null,
            "flex": null,
            "flex_flow": null,
            "grid_area": null,
            "grid_auto_columns": null,
            "grid_auto_flow": null,
            "grid_auto_rows": null,
            "grid_column": null,
            "grid_gap": null,
            "grid_row": null,
            "grid_template_areas": null,
            "grid_template_columns": null,
            "grid_template_rows": null,
            "height": null,
            "justify_content": null,
            "justify_items": null,
            "left": null,
            "margin": null,
            "max_height": null,
            "max_width": null,
            "min_height": null,
            "min_width": null,
            "object_fit": null,
            "object_position": null,
            "order": null,
            "overflow": null,
            "overflow_x": null,
            "overflow_y": null,
            "padding": null,
            "right": null,
            "top": null,
            "visibility": null,
            "width": null
          }
        },
        "c2288d3408784dffbcc0263707f6d152": {
          "model_module": "@jupyter-widgets/controls",
          "model_name": "DescriptionStyleModel",
          "model_module_version": "1.5.0",
          "state": {
            "_model_module": "@jupyter-widgets/controls",
            "_model_module_version": "1.5.0",
            "_model_name": "DescriptionStyleModel",
            "_view_count": null,
            "_view_module": "@jupyter-widgets/base",
            "_view_module_version": "1.2.0",
            "_view_name": "StyleView",
            "description_width": ""
          }
        },
        "7ee6363c38a6421b969e6472c969d7a7": {
          "model_module": "@jupyter-widgets/base",
          "model_name": "LayoutModel",
          "model_module_version": "1.2.0",
          "state": {
            "_model_module": "@jupyter-widgets/base",
            "_model_module_version": "1.2.0",
            "_model_name": "LayoutModel",
            "_view_count": null,
            "_view_module": "@jupyter-widgets/base",
            "_view_module_version": "1.2.0",
            "_view_name": "LayoutView",
            "align_content": null,
            "align_items": null,
            "align_self": null,
            "border": null,
            "bottom": null,
            "display": null,
            "flex": null,
            "flex_flow": null,
            "grid_area": null,
            "grid_auto_columns": null,
            "grid_auto_flow": null,
            "grid_auto_rows": null,
            "grid_column": null,
            "grid_gap": null,
            "grid_row": null,
            "grid_template_areas": null,
            "grid_template_columns": null,
            "grid_template_rows": null,
            "height": null,
            "justify_content": null,
            "justify_items": null,
            "left": null,
            "margin": null,
            "max_height": null,
            "max_width": null,
            "min_height": null,
            "min_width": null,
            "object_fit": null,
            "object_position": null,
            "order": null,
            "overflow": null,
            "overflow_x": null,
            "overflow_y": null,
            "padding": null,
            "right": null,
            "top": null,
            "visibility": null,
            "width": null
          }
        },
        "bb5e23d8b1d84ad6895e48ab4187b32f": {
          "model_module": "@jupyter-widgets/controls",
          "model_name": "ProgressStyleModel",
          "model_module_version": "1.5.0",
          "state": {
            "_model_module": "@jupyter-widgets/controls",
            "_model_module_version": "1.5.0",
            "_model_name": "ProgressStyleModel",
            "_view_count": null,
            "_view_module": "@jupyter-widgets/base",
            "_view_module_version": "1.2.0",
            "_view_name": "StyleView",
            "bar_color": null,
            "description_width": ""
          }
        },
        "c2f01d658daa48069ec232c051cf4cad": {
          "model_module": "@jupyter-widgets/controls",
          "model_name": "VBoxModel",
          "model_module_version": "1.5.0",
          "state": {
            "_dom_classes": [],
            "_model_module": "@jupyter-widgets/controls",
            "_model_module_version": "1.5.0",
            "_model_name": "VBoxModel",
            "_view_count": null,
            "_view_module": "@jupyter-widgets/controls",
            "_view_module_version": "1.5.0",
            "_view_name": "VBoxView",
            "box_style": "",
            "children": [
              "IPY_MODEL_1b9ba0c943354d69931dc0253692fd07",
              "IPY_MODEL_ee0707f141d943b0855bbee972de0a07"
            ],
            "layout": "IPY_MODEL_a05ed90b333a435bbd48f7d35712ba38"
          }
        },
        "1b9ba0c943354d69931dc0253692fd07": {
          "model_module": "@jupyter-widgets/controls",
          "model_name": "LabelModel",
          "model_module_version": "1.5.0",
          "state": {
            "_dom_classes": [],
            "_model_module": "@jupyter-widgets/controls",
            "_model_module_version": "1.5.0",
            "_model_name": "LabelModel",
            "_view_count": null,
            "_view_module": "@jupyter-widgets/controls",
            "_view_module_version": "1.5.0",
            "_view_name": "LabelView",
            "description": "",
            "description_tooltip": null,
            "layout": "IPY_MODEL_3473abbec5c44e21bdd5aff52e810074",
            "placeholder": "​",
            "style": "IPY_MODEL_745969201704481ab15b123426f55c10",
            "value": "0.370 MB of 0.370 MB uploaded (0.000 MB deduped)\r"
          }
        },
        "ee0707f141d943b0855bbee972de0a07": {
          "model_module": "@jupyter-widgets/controls",
          "model_name": "FloatProgressModel",
          "model_module_version": "1.5.0",
          "state": {
            "_dom_classes": [],
            "_model_module": "@jupyter-widgets/controls",
            "_model_module_version": "1.5.0",
            "_model_name": "FloatProgressModel",
            "_view_count": null,
            "_view_module": "@jupyter-widgets/controls",
            "_view_module_version": "1.5.0",
            "_view_name": "ProgressView",
            "bar_style": "",
            "description": "",
            "description_tooltip": null,
            "layout": "IPY_MODEL_b80f15c313c14a3a9c31dd3dc1660866",
            "max": 1,
            "min": 0,
            "orientation": "horizontal",
            "style": "IPY_MODEL_961f8d3e9851406388eb02369c03cd67",
            "value": 1
          }
        },
        "a05ed90b333a435bbd48f7d35712ba38": {
          "model_module": "@jupyter-widgets/base",
          "model_name": "LayoutModel",
          "model_module_version": "1.2.0",
          "state": {
            "_model_module": "@jupyter-widgets/base",
            "_model_module_version": "1.2.0",
            "_model_name": "LayoutModel",
            "_view_count": null,
            "_view_module": "@jupyter-widgets/base",
            "_view_module_version": "1.2.0",
            "_view_name": "LayoutView",
            "align_content": null,
            "align_items": null,
            "align_self": null,
            "border": null,
            "bottom": null,
            "display": null,
            "flex": null,
            "flex_flow": null,
            "grid_area": null,
            "grid_auto_columns": null,
            "grid_auto_flow": null,
            "grid_auto_rows": null,
            "grid_column": null,
            "grid_gap": null,
            "grid_row": null,
            "grid_template_areas": null,
            "grid_template_columns": null,
            "grid_template_rows": null,
            "height": null,
            "justify_content": null,
            "justify_items": null,
            "left": null,
            "margin": null,
            "max_height": null,
            "max_width": null,
            "min_height": null,
            "min_width": null,
            "object_fit": null,
            "object_position": null,
            "order": null,
            "overflow": null,
            "overflow_x": null,
            "overflow_y": null,
            "padding": null,
            "right": null,
            "top": null,
            "visibility": null,
            "width": null
          }
        },
        "3473abbec5c44e21bdd5aff52e810074": {
          "model_module": "@jupyter-widgets/base",
          "model_name": "LayoutModel",
          "model_module_version": "1.2.0",
          "state": {
            "_model_module": "@jupyter-widgets/base",
            "_model_module_version": "1.2.0",
            "_model_name": "LayoutModel",
            "_view_count": null,
            "_view_module": "@jupyter-widgets/base",
            "_view_module_version": "1.2.0",
            "_view_name": "LayoutView",
            "align_content": null,
            "align_items": null,
            "align_self": null,
            "border": null,
            "bottom": null,
            "display": null,
            "flex": null,
            "flex_flow": null,
            "grid_area": null,
            "grid_auto_columns": null,
            "grid_auto_flow": null,
            "grid_auto_rows": null,
            "grid_column": null,
            "grid_gap": null,
            "grid_row": null,
            "grid_template_areas": null,
            "grid_template_columns": null,
            "grid_template_rows": null,
            "height": null,
            "justify_content": null,
            "justify_items": null,
            "left": null,
            "margin": null,
            "max_height": null,
            "max_width": null,
            "min_height": null,
            "min_width": null,
            "object_fit": null,
            "object_position": null,
            "order": null,
            "overflow": null,
            "overflow_x": null,
            "overflow_y": null,
            "padding": null,
            "right": null,
            "top": null,
            "visibility": null,
            "width": null
          }
        },
        "745969201704481ab15b123426f55c10": {
          "model_module": "@jupyter-widgets/controls",
          "model_name": "DescriptionStyleModel",
          "model_module_version": "1.5.0",
          "state": {
            "_model_module": "@jupyter-widgets/controls",
            "_model_module_version": "1.5.0",
            "_model_name": "DescriptionStyleModel",
            "_view_count": null,
            "_view_module": "@jupyter-widgets/base",
            "_view_module_version": "1.2.0",
            "_view_name": "StyleView",
            "description_width": ""
          }
        },
        "b80f15c313c14a3a9c31dd3dc1660866": {
          "model_module": "@jupyter-widgets/base",
          "model_name": "LayoutModel",
          "model_module_version": "1.2.0",
          "state": {
            "_model_module": "@jupyter-widgets/base",
            "_model_module_version": "1.2.0",
            "_model_name": "LayoutModel",
            "_view_count": null,
            "_view_module": "@jupyter-widgets/base",
            "_view_module_version": "1.2.0",
            "_view_name": "LayoutView",
            "align_content": null,
            "align_items": null,
            "align_self": null,
            "border": null,
            "bottom": null,
            "display": null,
            "flex": null,
            "flex_flow": null,
            "grid_area": null,
            "grid_auto_columns": null,
            "grid_auto_flow": null,
            "grid_auto_rows": null,
            "grid_column": null,
            "grid_gap": null,
            "grid_row": null,
            "grid_template_areas": null,
            "grid_template_columns": null,
            "grid_template_rows": null,
            "height": null,
            "justify_content": null,
            "justify_items": null,
            "left": null,
            "margin": null,
            "max_height": null,
            "max_width": null,
            "min_height": null,
            "min_width": null,
            "object_fit": null,
            "object_position": null,
            "order": null,
            "overflow": null,
            "overflow_x": null,
            "overflow_y": null,
            "padding": null,
            "right": null,
            "top": null,
            "visibility": null,
            "width": null
          }
        },
        "961f8d3e9851406388eb02369c03cd67": {
          "model_module": "@jupyter-widgets/controls",
          "model_name": "ProgressStyleModel",
          "model_module_version": "1.5.0",
          "state": {
            "_model_module": "@jupyter-widgets/controls",
            "_model_module_version": "1.5.0",
            "_model_name": "ProgressStyleModel",
            "_view_count": null,
            "_view_module": "@jupyter-widgets/base",
            "_view_module_version": "1.2.0",
            "_view_name": "StyleView",
            "bar_color": null,
            "description_width": ""
          }
        },
        "56a8d5c195d9448baae07fe85ea4e173": {
          "model_module": "@jupyter-widgets/controls",
          "model_name": "VBoxModel",
          "model_module_version": "1.5.0",
          "state": {
            "_dom_classes": [],
            "_model_module": "@jupyter-widgets/controls",
            "_model_module_version": "1.5.0",
            "_model_name": "VBoxModel",
            "_view_count": null,
            "_view_module": "@jupyter-widgets/controls",
            "_view_module_version": "1.5.0",
            "_view_name": "VBoxView",
            "box_style": "",
            "children": [
              "IPY_MODEL_71eb07d9ab3f4a15b92bd1f01e6d52a3",
              "IPY_MODEL_46606fb455704448a944775e55398a11"
            ],
            "layout": "IPY_MODEL_3ab9d71e015846bca9bf1de1d1c00b0e"
          }
        },
        "71eb07d9ab3f4a15b92bd1f01e6d52a3": {
          "model_module": "@jupyter-widgets/controls",
          "model_name": "LabelModel",
          "model_module_version": "1.5.0",
          "state": {
            "_dom_classes": [],
            "_model_module": "@jupyter-widgets/controls",
            "_model_module_version": "1.5.0",
            "_model_name": "LabelModel",
            "_view_count": null,
            "_view_module": "@jupyter-widgets/controls",
            "_view_module_version": "1.5.0",
            "_view_name": "LabelView",
            "description": "",
            "description_tooltip": null,
            "layout": "IPY_MODEL_1b81e4fe8d514f0c95bbf6d098939ba9",
            "placeholder": "​",
            "style": "IPY_MODEL_bae906885555439fac4ef0c9c6ec2457",
            "value": "139.865 MB of 139.865 MB uploaded (0.000 MB deduped)\r"
          }
        },
        "46606fb455704448a944775e55398a11": {
          "model_module": "@jupyter-widgets/controls",
          "model_name": "FloatProgressModel",
          "model_module_version": "1.5.0",
          "state": {
            "_dom_classes": [],
            "_model_module": "@jupyter-widgets/controls",
            "_model_module_version": "1.5.0",
            "_model_name": "FloatProgressModel",
            "_view_count": null,
            "_view_module": "@jupyter-widgets/controls",
            "_view_module_version": "1.5.0",
            "_view_name": "ProgressView",
            "bar_style": "",
            "description": "",
            "description_tooltip": null,
            "layout": "IPY_MODEL_258e79f6ed574169b70fed8ab18f2423",
            "max": 1,
            "min": 0,
            "orientation": "horizontal",
            "style": "IPY_MODEL_b1a65bcbf177411db8fce1af057d2a51",
            "value": 1
          }
        },
        "3ab9d71e015846bca9bf1de1d1c00b0e": {
          "model_module": "@jupyter-widgets/base",
          "model_name": "LayoutModel",
          "model_module_version": "1.2.0",
          "state": {
            "_model_module": "@jupyter-widgets/base",
            "_model_module_version": "1.2.0",
            "_model_name": "LayoutModel",
            "_view_count": null,
            "_view_module": "@jupyter-widgets/base",
            "_view_module_version": "1.2.0",
            "_view_name": "LayoutView",
            "align_content": null,
            "align_items": null,
            "align_self": null,
            "border": null,
            "bottom": null,
            "display": null,
            "flex": null,
            "flex_flow": null,
            "grid_area": null,
            "grid_auto_columns": null,
            "grid_auto_flow": null,
            "grid_auto_rows": null,
            "grid_column": null,
            "grid_gap": null,
            "grid_row": null,
            "grid_template_areas": null,
            "grid_template_columns": null,
            "grid_template_rows": null,
            "height": null,
            "justify_content": null,
            "justify_items": null,
            "left": null,
            "margin": null,
            "max_height": null,
            "max_width": null,
            "min_height": null,
            "min_width": null,
            "object_fit": null,
            "object_position": null,
            "order": null,
            "overflow": null,
            "overflow_x": null,
            "overflow_y": null,
            "padding": null,
            "right": null,
            "top": null,
            "visibility": null,
            "width": null
          }
        },
        "1b81e4fe8d514f0c95bbf6d098939ba9": {
          "model_module": "@jupyter-widgets/base",
          "model_name": "LayoutModel",
          "model_module_version": "1.2.0",
          "state": {
            "_model_module": "@jupyter-widgets/base",
            "_model_module_version": "1.2.0",
            "_model_name": "LayoutModel",
            "_view_count": null,
            "_view_module": "@jupyter-widgets/base",
            "_view_module_version": "1.2.0",
            "_view_name": "LayoutView",
            "align_content": null,
            "align_items": null,
            "align_self": null,
            "border": null,
            "bottom": null,
            "display": null,
            "flex": null,
            "flex_flow": null,
            "grid_area": null,
            "grid_auto_columns": null,
            "grid_auto_flow": null,
            "grid_auto_rows": null,
            "grid_column": null,
            "grid_gap": null,
            "grid_row": null,
            "grid_template_areas": null,
            "grid_template_columns": null,
            "grid_template_rows": null,
            "height": null,
            "justify_content": null,
            "justify_items": null,
            "left": null,
            "margin": null,
            "max_height": null,
            "max_width": null,
            "min_height": null,
            "min_width": null,
            "object_fit": null,
            "object_position": null,
            "order": null,
            "overflow": null,
            "overflow_x": null,
            "overflow_y": null,
            "padding": null,
            "right": null,
            "top": null,
            "visibility": null,
            "width": null
          }
        },
        "bae906885555439fac4ef0c9c6ec2457": {
          "model_module": "@jupyter-widgets/controls",
          "model_name": "DescriptionStyleModel",
          "model_module_version": "1.5.0",
          "state": {
            "_model_module": "@jupyter-widgets/controls",
            "_model_module_version": "1.5.0",
            "_model_name": "DescriptionStyleModel",
            "_view_count": null,
            "_view_module": "@jupyter-widgets/base",
            "_view_module_version": "1.2.0",
            "_view_name": "StyleView",
            "description_width": ""
          }
        },
        "258e79f6ed574169b70fed8ab18f2423": {
          "model_module": "@jupyter-widgets/base",
          "model_name": "LayoutModel",
          "model_module_version": "1.2.0",
          "state": {
            "_model_module": "@jupyter-widgets/base",
            "_model_module_version": "1.2.0",
            "_model_name": "LayoutModel",
            "_view_count": null,
            "_view_module": "@jupyter-widgets/base",
            "_view_module_version": "1.2.0",
            "_view_name": "LayoutView",
            "align_content": null,
            "align_items": null,
            "align_self": null,
            "border": null,
            "bottom": null,
            "display": null,
            "flex": null,
            "flex_flow": null,
            "grid_area": null,
            "grid_auto_columns": null,
            "grid_auto_flow": null,
            "grid_auto_rows": null,
            "grid_column": null,
            "grid_gap": null,
            "grid_row": null,
            "grid_template_areas": null,
            "grid_template_columns": null,
            "grid_template_rows": null,
            "height": null,
            "justify_content": null,
            "justify_items": null,
            "left": null,
            "margin": null,
            "max_height": null,
            "max_width": null,
            "min_height": null,
            "min_width": null,
            "object_fit": null,
            "object_position": null,
            "order": null,
            "overflow": null,
            "overflow_x": null,
            "overflow_y": null,
            "padding": null,
            "right": null,
            "top": null,
            "visibility": null,
            "width": null
          }
        },
        "b1a65bcbf177411db8fce1af057d2a51": {
          "model_module": "@jupyter-widgets/controls",
          "model_name": "ProgressStyleModel",
          "model_module_version": "1.5.0",
          "state": {
            "_model_module": "@jupyter-widgets/controls",
            "_model_module_version": "1.5.0",
            "_model_name": "ProgressStyleModel",
            "_view_count": null,
            "_view_module": "@jupyter-widgets/base",
            "_view_module_version": "1.2.0",
            "_view_name": "StyleView",
            "bar_color": null,
            "description_width": ""
          }
        },
        "d6c3c57d62554b06923133eefff3c57a": {
          "model_module": "@jupyter-widgets/controls",
          "model_name": "VBoxModel",
          "model_module_version": "1.5.0",
          "state": {
            "_dom_classes": [],
            "_model_module": "@jupyter-widgets/controls",
            "_model_module_version": "1.5.0",
            "_model_name": "VBoxModel",
            "_view_count": null,
            "_view_module": "@jupyter-widgets/controls",
            "_view_module_version": "1.5.0",
            "_view_name": "VBoxView",
            "box_style": "",
            "children": [
              "IPY_MODEL_5159a1bb3cb047198680f21f10cbf84c",
              "IPY_MODEL_c723fb8375de48f2a949cee9f3418a32"
            ],
            "layout": "IPY_MODEL_4e4c2393cdfe434dbb0818b172017167"
          }
        },
        "5159a1bb3cb047198680f21f10cbf84c": {
          "model_module": "@jupyter-widgets/controls",
          "model_name": "LabelModel",
          "model_module_version": "1.5.0",
          "state": {
            "_dom_classes": [],
            "_model_module": "@jupyter-widgets/controls",
            "_model_module_version": "1.5.0",
            "_model_name": "LabelModel",
            "_view_count": null,
            "_view_module": "@jupyter-widgets/controls",
            "_view_module_version": "1.5.0",
            "_view_name": "LabelView",
            "description": "",
            "description_tooltip": null,
            "layout": "IPY_MODEL_22f16912516647809c623ece60681144",
            "placeholder": "​",
            "style": "IPY_MODEL_2ca8eba2cd194fc3a4741d4484e29389",
            "value": "1.377 MB of 1.377 MB uploaded (0.000 MB deduped)\r"
          }
        },
        "c723fb8375de48f2a949cee9f3418a32": {
          "model_module": "@jupyter-widgets/controls",
          "model_name": "FloatProgressModel",
          "model_module_version": "1.5.0",
          "state": {
            "_dom_classes": [],
            "_model_module": "@jupyter-widgets/controls",
            "_model_module_version": "1.5.0",
            "_model_name": "FloatProgressModel",
            "_view_count": null,
            "_view_module": "@jupyter-widgets/controls",
            "_view_module_version": "1.5.0",
            "_view_name": "ProgressView",
            "bar_style": "",
            "description": "",
            "description_tooltip": null,
            "layout": "IPY_MODEL_f03108308a2240ebbd5dfc2001310a05",
            "max": 1,
            "min": 0,
            "orientation": "horizontal",
            "style": "IPY_MODEL_71a370bed96e430b83e3be467ad3c297",
            "value": 1
          }
        },
        "4e4c2393cdfe434dbb0818b172017167": {
          "model_module": "@jupyter-widgets/base",
          "model_name": "LayoutModel",
          "model_module_version": "1.2.0",
          "state": {
            "_model_module": "@jupyter-widgets/base",
            "_model_module_version": "1.2.0",
            "_model_name": "LayoutModel",
            "_view_count": null,
            "_view_module": "@jupyter-widgets/base",
            "_view_module_version": "1.2.0",
            "_view_name": "LayoutView",
            "align_content": null,
            "align_items": null,
            "align_self": null,
            "border": null,
            "bottom": null,
            "display": null,
            "flex": null,
            "flex_flow": null,
            "grid_area": null,
            "grid_auto_columns": null,
            "grid_auto_flow": null,
            "grid_auto_rows": null,
            "grid_column": null,
            "grid_gap": null,
            "grid_row": null,
            "grid_template_areas": null,
            "grid_template_columns": null,
            "grid_template_rows": null,
            "height": null,
            "justify_content": null,
            "justify_items": null,
            "left": null,
            "margin": null,
            "max_height": null,
            "max_width": null,
            "min_height": null,
            "min_width": null,
            "object_fit": null,
            "object_position": null,
            "order": null,
            "overflow": null,
            "overflow_x": null,
            "overflow_y": null,
            "padding": null,
            "right": null,
            "top": null,
            "visibility": null,
            "width": null
          }
        },
        "22f16912516647809c623ece60681144": {
          "model_module": "@jupyter-widgets/base",
          "model_name": "LayoutModel",
          "model_module_version": "1.2.0",
          "state": {
            "_model_module": "@jupyter-widgets/base",
            "_model_module_version": "1.2.0",
            "_model_name": "LayoutModel",
            "_view_count": null,
            "_view_module": "@jupyter-widgets/base",
            "_view_module_version": "1.2.0",
            "_view_name": "LayoutView",
            "align_content": null,
            "align_items": null,
            "align_self": null,
            "border": null,
            "bottom": null,
            "display": null,
            "flex": null,
            "flex_flow": null,
            "grid_area": null,
            "grid_auto_columns": null,
            "grid_auto_flow": null,
            "grid_auto_rows": null,
            "grid_column": null,
            "grid_gap": null,
            "grid_row": null,
            "grid_template_areas": null,
            "grid_template_columns": null,
            "grid_template_rows": null,
            "height": null,
            "justify_content": null,
            "justify_items": null,
            "left": null,
            "margin": null,
            "max_height": null,
            "max_width": null,
            "min_height": null,
            "min_width": null,
            "object_fit": null,
            "object_position": null,
            "order": null,
            "overflow": null,
            "overflow_x": null,
            "overflow_y": null,
            "padding": null,
            "right": null,
            "top": null,
            "visibility": null,
            "width": null
          }
        },
        "2ca8eba2cd194fc3a4741d4484e29389": {
          "model_module": "@jupyter-widgets/controls",
          "model_name": "DescriptionStyleModel",
          "model_module_version": "1.5.0",
          "state": {
            "_model_module": "@jupyter-widgets/controls",
            "_model_module_version": "1.5.0",
            "_model_name": "DescriptionStyleModel",
            "_view_count": null,
            "_view_module": "@jupyter-widgets/base",
            "_view_module_version": "1.2.0",
            "_view_name": "StyleView",
            "description_width": ""
          }
        },
        "f03108308a2240ebbd5dfc2001310a05": {
          "model_module": "@jupyter-widgets/base",
          "model_name": "LayoutModel",
          "model_module_version": "1.2.0",
          "state": {
            "_model_module": "@jupyter-widgets/base",
            "_model_module_version": "1.2.0",
            "_model_name": "LayoutModel",
            "_view_count": null,
            "_view_module": "@jupyter-widgets/base",
            "_view_module_version": "1.2.0",
            "_view_name": "LayoutView",
            "align_content": null,
            "align_items": null,
            "align_self": null,
            "border": null,
            "bottom": null,
            "display": null,
            "flex": null,
            "flex_flow": null,
            "grid_area": null,
            "grid_auto_columns": null,
            "grid_auto_flow": null,
            "grid_auto_rows": null,
            "grid_column": null,
            "grid_gap": null,
            "grid_row": null,
            "grid_template_areas": null,
            "grid_template_columns": null,
            "grid_template_rows": null,
            "height": null,
            "justify_content": null,
            "justify_items": null,
            "left": null,
            "margin": null,
            "max_height": null,
            "max_width": null,
            "min_height": null,
            "min_width": null,
            "object_fit": null,
            "object_position": null,
            "order": null,
            "overflow": null,
            "overflow_x": null,
            "overflow_y": null,
            "padding": null,
            "right": null,
            "top": null,
            "visibility": null,
            "width": null
          }
        },
        "71a370bed96e430b83e3be467ad3c297": {
          "model_module": "@jupyter-widgets/controls",
          "model_name": "ProgressStyleModel",
          "model_module_version": "1.5.0",
          "state": {
            "_model_module": "@jupyter-widgets/controls",
            "_model_module_version": "1.5.0",
            "_model_name": "ProgressStyleModel",
            "_view_count": null,
            "_view_module": "@jupyter-widgets/base",
            "_view_module_version": "1.2.0",
            "_view_name": "StyleView",
            "bar_color": null,
            "description_width": ""
          }
        },
        "6f71476c84b94bb7a876e452b9e12425": {
          "model_module": "@jupyter-widgets/controls",
          "model_name": "VBoxModel",
          "model_module_version": "1.5.0",
          "state": {
            "_dom_classes": [],
            "_model_module": "@jupyter-widgets/controls",
            "_model_module_version": "1.5.0",
            "_model_name": "VBoxModel",
            "_view_count": null,
            "_view_module": "@jupyter-widgets/controls",
            "_view_module_version": "1.5.0",
            "_view_name": "VBoxView",
            "box_style": "",
            "children": [
              "IPY_MODEL_5081d438e77b418cb733fc9d2a2099dc",
              "IPY_MODEL_d172303e8f4e4c79933b977c59e42fb8"
            ],
            "layout": "IPY_MODEL_0455390dd3a04ee28403a1f24c9b8167"
          }
        },
        "5081d438e77b418cb733fc9d2a2099dc": {
          "model_module": "@jupyter-widgets/controls",
          "model_name": "LabelModel",
          "model_module_version": "1.5.0",
          "state": {
            "_dom_classes": [],
            "_model_module": "@jupyter-widgets/controls",
            "_model_module_version": "1.5.0",
            "_model_name": "LabelModel",
            "_view_count": null,
            "_view_module": "@jupyter-widgets/controls",
            "_view_module_version": "1.5.0",
            "_view_name": "LabelView",
            "description": "",
            "description_tooltip": null,
            "layout": "IPY_MODEL_524c9be1226941029b00b8756893cfe0",
            "placeholder": "​",
            "style": "IPY_MODEL_bb833f3da1bb46f8a85ad550fb5daa65",
            "value": "13.571 MB of 13.571 MB uploaded (0.000 MB deduped)\r"
          }
        },
        "d172303e8f4e4c79933b977c59e42fb8": {
          "model_module": "@jupyter-widgets/controls",
          "model_name": "FloatProgressModel",
          "model_module_version": "1.5.0",
          "state": {
            "_dom_classes": [],
            "_model_module": "@jupyter-widgets/controls",
            "_model_module_version": "1.5.0",
            "_model_name": "FloatProgressModel",
            "_view_count": null,
            "_view_module": "@jupyter-widgets/controls",
            "_view_module_version": "1.5.0",
            "_view_name": "ProgressView",
            "bar_style": "",
            "description": "",
            "description_tooltip": null,
            "layout": "IPY_MODEL_a4c8667167eb4799a054766d5ec63af0",
            "max": 1,
            "min": 0,
            "orientation": "horizontal",
            "style": "IPY_MODEL_5cc76f65e6c14a4d805a73f03b3369ce",
            "value": 1
          }
        },
        "0455390dd3a04ee28403a1f24c9b8167": {
          "model_module": "@jupyter-widgets/base",
          "model_name": "LayoutModel",
          "model_module_version": "1.2.0",
          "state": {
            "_model_module": "@jupyter-widgets/base",
            "_model_module_version": "1.2.0",
            "_model_name": "LayoutModel",
            "_view_count": null,
            "_view_module": "@jupyter-widgets/base",
            "_view_module_version": "1.2.0",
            "_view_name": "LayoutView",
            "align_content": null,
            "align_items": null,
            "align_self": null,
            "border": null,
            "bottom": null,
            "display": null,
            "flex": null,
            "flex_flow": null,
            "grid_area": null,
            "grid_auto_columns": null,
            "grid_auto_flow": null,
            "grid_auto_rows": null,
            "grid_column": null,
            "grid_gap": null,
            "grid_row": null,
            "grid_template_areas": null,
            "grid_template_columns": null,
            "grid_template_rows": null,
            "height": null,
            "justify_content": null,
            "justify_items": null,
            "left": null,
            "margin": null,
            "max_height": null,
            "max_width": null,
            "min_height": null,
            "min_width": null,
            "object_fit": null,
            "object_position": null,
            "order": null,
            "overflow": null,
            "overflow_x": null,
            "overflow_y": null,
            "padding": null,
            "right": null,
            "top": null,
            "visibility": null,
            "width": null
          }
        },
        "524c9be1226941029b00b8756893cfe0": {
          "model_module": "@jupyter-widgets/base",
          "model_name": "LayoutModel",
          "model_module_version": "1.2.0",
          "state": {
            "_model_module": "@jupyter-widgets/base",
            "_model_module_version": "1.2.0",
            "_model_name": "LayoutModel",
            "_view_count": null,
            "_view_module": "@jupyter-widgets/base",
            "_view_module_version": "1.2.0",
            "_view_name": "LayoutView",
            "align_content": null,
            "align_items": null,
            "align_self": null,
            "border": null,
            "bottom": null,
            "display": null,
            "flex": null,
            "flex_flow": null,
            "grid_area": null,
            "grid_auto_columns": null,
            "grid_auto_flow": null,
            "grid_auto_rows": null,
            "grid_column": null,
            "grid_gap": null,
            "grid_row": null,
            "grid_template_areas": null,
            "grid_template_columns": null,
            "grid_template_rows": null,
            "height": null,
            "justify_content": null,
            "justify_items": null,
            "left": null,
            "margin": null,
            "max_height": null,
            "max_width": null,
            "min_height": null,
            "min_width": null,
            "object_fit": null,
            "object_position": null,
            "order": null,
            "overflow": null,
            "overflow_x": null,
            "overflow_y": null,
            "padding": null,
            "right": null,
            "top": null,
            "visibility": null,
            "width": null
          }
        },
        "bb833f3da1bb46f8a85ad550fb5daa65": {
          "model_module": "@jupyter-widgets/controls",
          "model_name": "DescriptionStyleModel",
          "model_module_version": "1.5.0",
          "state": {
            "_model_module": "@jupyter-widgets/controls",
            "_model_module_version": "1.5.0",
            "_model_name": "DescriptionStyleModel",
            "_view_count": null,
            "_view_module": "@jupyter-widgets/base",
            "_view_module_version": "1.2.0",
            "_view_name": "StyleView",
            "description_width": ""
          }
        },
        "a4c8667167eb4799a054766d5ec63af0": {
          "model_module": "@jupyter-widgets/base",
          "model_name": "LayoutModel",
          "model_module_version": "1.2.0",
          "state": {
            "_model_module": "@jupyter-widgets/base",
            "_model_module_version": "1.2.0",
            "_model_name": "LayoutModel",
            "_view_count": null,
            "_view_module": "@jupyter-widgets/base",
            "_view_module_version": "1.2.0",
            "_view_name": "LayoutView",
            "align_content": null,
            "align_items": null,
            "align_self": null,
            "border": null,
            "bottom": null,
            "display": null,
            "flex": null,
            "flex_flow": null,
            "grid_area": null,
            "grid_auto_columns": null,
            "grid_auto_flow": null,
            "grid_auto_rows": null,
            "grid_column": null,
            "grid_gap": null,
            "grid_row": null,
            "grid_template_areas": null,
            "grid_template_columns": null,
            "grid_template_rows": null,
            "height": null,
            "justify_content": null,
            "justify_items": null,
            "left": null,
            "margin": null,
            "max_height": null,
            "max_width": null,
            "min_height": null,
            "min_width": null,
            "object_fit": null,
            "object_position": null,
            "order": null,
            "overflow": null,
            "overflow_x": null,
            "overflow_y": null,
            "padding": null,
            "right": null,
            "top": null,
            "visibility": null,
            "width": null
          }
        },
        "5cc76f65e6c14a4d805a73f03b3369ce": {
          "model_module": "@jupyter-widgets/controls",
          "model_name": "ProgressStyleModel",
          "model_module_version": "1.5.0",
          "state": {
            "_model_module": "@jupyter-widgets/controls",
            "_model_module_version": "1.5.0",
            "_model_name": "ProgressStyleModel",
            "_view_count": null,
            "_view_module": "@jupyter-widgets/base",
            "_view_module_version": "1.2.0",
            "_view_name": "StyleView",
            "bar_color": null,
            "description_width": ""
          }
        },
        "e02a1091c1a34359a31055253491032b": {
          "model_module": "@jupyter-widgets/controls",
          "model_name": "VBoxModel",
          "model_module_version": "1.5.0",
          "state": {
            "_dom_classes": [],
            "_model_module": "@jupyter-widgets/controls",
            "_model_module_version": "1.5.0",
            "_model_name": "VBoxModel",
            "_view_count": null,
            "_view_module": "@jupyter-widgets/controls",
            "_view_module_version": "1.5.0",
            "_view_name": "VBoxView",
            "box_style": "",
            "children": [
              "IPY_MODEL_b17d7fc956f7449887df9eba2d3436cb",
              "IPY_MODEL_0e4879bc2a094538aafc363fded9a2cf"
            ],
            "layout": "IPY_MODEL_3696f15e7f59459282ffbc2b7c11c3de"
          }
        },
        "b17d7fc956f7449887df9eba2d3436cb": {
          "model_module": "@jupyter-widgets/controls",
          "model_name": "LabelModel",
          "model_module_version": "1.5.0",
          "state": {
            "_dom_classes": [],
            "_model_module": "@jupyter-widgets/controls",
            "_model_module_version": "1.5.0",
            "_model_name": "LabelModel",
            "_view_count": null,
            "_view_module": "@jupyter-widgets/controls",
            "_view_module_version": "1.5.0",
            "_view_name": "LabelView",
            "description": "",
            "description_tooltip": null,
            "layout": "IPY_MODEL_9a047ad741c14888a73b939a5f967ca3",
            "placeholder": "​",
            "style": "IPY_MODEL_60f16a332e9e43ef9fade08c3e68d2bb",
            "value": "391.290 MB of 391.290 MB uploaded (0.000 MB deduped)\r"
          }
        },
        "0e4879bc2a094538aafc363fded9a2cf": {
          "model_module": "@jupyter-widgets/controls",
          "model_name": "FloatProgressModel",
          "model_module_version": "1.5.0",
          "state": {
            "_dom_classes": [],
            "_model_module": "@jupyter-widgets/controls",
            "_model_module_version": "1.5.0",
            "_model_name": "FloatProgressModel",
            "_view_count": null,
            "_view_module": "@jupyter-widgets/controls",
            "_view_module_version": "1.5.0",
            "_view_name": "ProgressView",
            "bar_style": "",
            "description": "",
            "description_tooltip": null,
            "layout": "IPY_MODEL_a8f656463f0b4ff285343d045c0553b2",
            "max": 1,
            "min": 0,
            "orientation": "horizontal",
            "style": "IPY_MODEL_de5e73070bab4ba7a6bb6ca901556db5",
            "value": 1
          }
        },
        "3696f15e7f59459282ffbc2b7c11c3de": {
          "model_module": "@jupyter-widgets/base",
          "model_name": "LayoutModel",
          "model_module_version": "1.2.0",
          "state": {
            "_model_module": "@jupyter-widgets/base",
            "_model_module_version": "1.2.0",
            "_model_name": "LayoutModel",
            "_view_count": null,
            "_view_module": "@jupyter-widgets/base",
            "_view_module_version": "1.2.0",
            "_view_name": "LayoutView",
            "align_content": null,
            "align_items": null,
            "align_self": null,
            "border": null,
            "bottom": null,
            "display": null,
            "flex": null,
            "flex_flow": null,
            "grid_area": null,
            "grid_auto_columns": null,
            "grid_auto_flow": null,
            "grid_auto_rows": null,
            "grid_column": null,
            "grid_gap": null,
            "grid_row": null,
            "grid_template_areas": null,
            "grid_template_columns": null,
            "grid_template_rows": null,
            "height": null,
            "justify_content": null,
            "justify_items": null,
            "left": null,
            "margin": null,
            "max_height": null,
            "max_width": null,
            "min_height": null,
            "min_width": null,
            "object_fit": null,
            "object_position": null,
            "order": null,
            "overflow": null,
            "overflow_x": null,
            "overflow_y": null,
            "padding": null,
            "right": null,
            "top": null,
            "visibility": null,
            "width": null
          }
        },
        "9a047ad741c14888a73b939a5f967ca3": {
          "model_module": "@jupyter-widgets/base",
          "model_name": "LayoutModel",
          "model_module_version": "1.2.0",
          "state": {
            "_model_module": "@jupyter-widgets/base",
            "_model_module_version": "1.2.0",
            "_model_name": "LayoutModel",
            "_view_count": null,
            "_view_module": "@jupyter-widgets/base",
            "_view_module_version": "1.2.0",
            "_view_name": "LayoutView",
            "align_content": null,
            "align_items": null,
            "align_self": null,
            "border": null,
            "bottom": null,
            "display": null,
            "flex": null,
            "flex_flow": null,
            "grid_area": null,
            "grid_auto_columns": null,
            "grid_auto_flow": null,
            "grid_auto_rows": null,
            "grid_column": null,
            "grid_gap": null,
            "grid_row": null,
            "grid_template_areas": null,
            "grid_template_columns": null,
            "grid_template_rows": null,
            "height": null,
            "justify_content": null,
            "justify_items": null,
            "left": null,
            "margin": null,
            "max_height": null,
            "max_width": null,
            "min_height": null,
            "min_width": null,
            "object_fit": null,
            "object_position": null,
            "order": null,
            "overflow": null,
            "overflow_x": null,
            "overflow_y": null,
            "padding": null,
            "right": null,
            "top": null,
            "visibility": null,
            "width": null
          }
        },
        "60f16a332e9e43ef9fade08c3e68d2bb": {
          "model_module": "@jupyter-widgets/controls",
          "model_name": "DescriptionStyleModel",
          "model_module_version": "1.5.0",
          "state": {
            "_model_module": "@jupyter-widgets/controls",
            "_model_module_version": "1.5.0",
            "_model_name": "DescriptionStyleModel",
            "_view_count": null,
            "_view_module": "@jupyter-widgets/base",
            "_view_module_version": "1.2.0",
            "_view_name": "StyleView",
            "description_width": ""
          }
        },
        "a8f656463f0b4ff285343d045c0553b2": {
          "model_module": "@jupyter-widgets/base",
          "model_name": "LayoutModel",
          "model_module_version": "1.2.0",
          "state": {
            "_model_module": "@jupyter-widgets/base",
            "_model_module_version": "1.2.0",
            "_model_name": "LayoutModel",
            "_view_count": null,
            "_view_module": "@jupyter-widgets/base",
            "_view_module_version": "1.2.0",
            "_view_name": "LayoutView",
            "align_content": null,
            "align_items": null,
            "align_self": null,
            "border": null,
            "bottom": null,
            "display": null,
            "flex": null,
            "flex_flow": null,
            "grid_area": null,
            "grid_auto_columns": null,
            "grid_auto_flow": null,
            "grid_auto_rows": null,
            "grid_column": null,
            "grid_gap": null,
            "grid_row": null,
            "grid_template_areas": null,
            "grid_template_columns": null,
            "grid_template_rows": null,
            "height": null,
            "justify_content": null,
            "justify_items": null,
            "left": null,
            "margin": null,
            "max_height": null,
            "max_width": null,
            "min_height": null,
            "min_width": null,
            "object_fit": null,
            "object_position": null,
            "order": null,
            "overflow": null,
            "overflow_x": null,
            "overflow_y": null,
            "padding": null,
            "right": null,
            "top": null,
            "visibility": null,
            "width": null
          }
        },
        "de5e73070bab4ba7a6bb6ca901556db5": {
          "model_module": "@jupyter-widgets/controls",
          "model_name": "ProgressStyleModel",
          "model_module_version": "1.5.0",
          "state": {
            "_model_module": "@jupyter-widgets/controls",
            "_model_module_version": "1.5.0",
            "_model_name": "ProgressStyleModel",
            "_view_count": null,
            "_view_module": "@jupyter-widgets/base",
            "_view_module_version": "1.2.0",
            "_view_name": "StyleView",
            "bar_color": null,
            "description_width": ""
          }
        },
        "0744d93194174bf985f520610f98a427": {
          "model_module": "@jupyter-widgets/controls",
          "model_name": "VBoxModel",
          "model_module_version": "1.5.0",
          "state": {
            "_dom_classes": [],
            "_model_module": "@jupyter-widgets/controls",
            "_model_module_version": "1.5.0",
            "_model_name": "VBoxModel",
            "_view_count": null,
            "_view_module": "@jupyter-widgets/controls",
            "_view_module_version": "1.5.0",
            "_view_name": "VBoxView",
            "box_style": "",
            "children": [
              "IPY_MODEL_1cb683cc09984e68b7c33c0c5283ce0f",
              "IPY_MODEL_6a9569537bb648099c4b361d9b8893b0"
            ],
            "layout": "IPY_MODEL_24367485f09f4befbe28cba5e0178955"
          }
        },
        "1cb683cc09984e68b7c33c0c5283ce0f": {
          "model_module": "@jupyter-widgets/controls",
          "model_name": "LabelModel",
          "model_module_version": "1.5.0",
          "state": {
            "_dom_classes": [],
            "_model_module": "@jupyter-widgets/controls",
            "_model_module_version": "1.5.0",
            "_model_name": "LabelModel",
            "_view_count": null,
            "_view_module": "@jupyter-widgets/controls",
            "_view_module_version": "1.5.0",
            "_view_name": "LabelView",
            "description": "",
            "description_tooltip": null,
            "layout": "IPY_MODEL_67e2aeacdc324da2839316a62547c091",
            "placeholder": "​",
            "style": "IPY_MODEL_26a6b39d51fa478f8b0a7a94c0fae41b",
            "value": "0.286 MB of 0.286 MB uploaded (0.000 MB deduped)\r"
          }
        },
        "6a9569537bb648099c4b361d9b8893b0": {
          "model_module": "@jupyter-widgets/controls",
          "model_name": "FloatProgressModel",
          "model_module_version": "1.5.0",
          "state": {
            "_dom_classes": [],
            "_model_module": "@jupyter-widgets/controls",
            "_model_module_version": "1.5.0",
            "_model_name": "FloatProgressModel",
            "_view_count": null,
            "_view_module": "@jupyter-widgets/controls",
            "_view_module_version": "1.5.0",
            "_view_name": "ProgressView",
            "bar_style": "",
            "description": "",
            "description_tooltip": null,
            "layout": "IPY_MODEL_6e5115b23428424a839252d08b4914b2",
            "max": 1,
            "min": 0,
            "orientation": "horizontal",
            "style": "IPY_MODEL_e5ccd4cfbdfa49adadec2ccb5f27b13f",
            "value": 1
          }
        },
        "24367485f09f4befbe28cba5e0178955": {
          "model_module": "@jupyter-widgets/base",
          "model_name": "LayoutModel",
          "model_module_version": "1.2.0",
          "state": {
            "_model_module": "@jupyter-widgets/base",
            "_model_module_version": "1.2.0",
            "_model_name": "LayoutModel",
            "_view_count": null,
            "_view_module": "@jupyter-widgets/base",
            "_view_module_version": "1.2.0",
            "_view_name": "LayoutView",
            "align_content": null,
            "align_items": null,
            "align_self": null,
            "border": null,
            "bottom": null,
            "display": null,
            "flex": null,
            "flex_flow": null,
            "grid_area": null,
            "grid_auto_columns": null,
            "grid_auto_flow": null,
            "grid_auto_rows": null,
            "grid_column": null,
            "grid_gap": null,
            "grid_row": null,
            "grid_template_areas": null,
            "grid_template_columns": null,
            "grid_template_rows": null,
            "height": null,
            "justify_content": null,
            "justify_items": null,
            "left": null,
            "margin": null,
            "max_height": null,
            "max_width": null,
            "min_height": null,
            "min_width": null,
            "object_fit": null,
            "object_position": null,
            "order": null,
            "overflow": null,
            "overflow_x": null,
            "overflow_y": null,
            "padding": null,
            "right": null,
            "top": null,
            "visibility": null,
            "width": null
          }
        },
        "67e2aeacdc324da2839316a62547c091": {
          "model_module": "@jupyter-widgets/base",
          "model_name": "LayoutModel",
          "model_module_version": "1.2.0",
          "state": {
            "_model_module": "@jupyter-widgets/base",
            "_model_module_version": "1.2.0",
            "_model_name": "LayoutModel",
            "_view_count": null,
            "_view_module": "@jupyter-widgets/base",
            "_view_module_version": "1.2.0",
            "_view_name": "LayoutView",
            "align_content": null,
            "align_items": null,
            "align_self": null,
            "border": null,
            "bottom": null,
            "display": null,
            "flex": null,
            "flex_flow": null,
            "grid_area": null,
            "grid_auto_columns": null,
            "grid_auto_flow": null,
            "grid_auto_rows": null,
            "grid_column": null,
            "grid_gap": null,
            "grid_row": null,
            "grid_template_areas": null,
            "grid_template_columns": null,
            "grid_template_rows": null,
            "height": null,
            "justify_content": null,
            "justify_items": null,
            "left": null,
            "margin": null,
            "max_height": null,
            "max_width": null,
            "min_height": null,
            "min_width": null,
            "object_fit": null,
            "object_position": null,
            "order": null,
            "overflow": null,
            "overflow_x": null,
            "overflow_y": null,
            "padding": null,
            "right": null,
            "top": null,
            "visibility": null,
            "width": null
          }
        },
        "26a6b39d51fa478f8b0a7a94c0fae41b": {
          "model_module": "@jupyter-widgets/controls",
          "model_name": "DescriptionStyleModel",
          "model_module_version": "1.5.0",
          "state": {
            "_model_module": "@jupyter-widgets/controls",
            "_model_module_version": "1.5.0",
            "_model_name": "DescriptionStyleModel",
            "_view_count": null,
            "_view_module": "@jupyter-widgets/base",
            "_view_module_version": "1.2.0",
            "_view_name": "StyleView",
            "description_width": ""
          }
        },
        "6e5115b23428424a839252d08b4914b2": {
          "model_module": "@jupyter-widgets/base",
          "model_name": "LayoutModel",
          "model_module_version": "1.2.0",
          "state": {
            "_model_module": "@jupyter-widgets/base",
            "_model_module_version": "1.2.0",
            "_model_name": "LayoutModel",
            "_view_count": null,
            "_view_module": "@jupyter-widgets/base",
            "_view_module_version": "1.2.0",
            "_view_name": "LayoutView",
            "align_content": null,
            "align_items": null,
            "align_self": null,
            "border": null,
            "bottom": null,
            "display": null,
            "flex": null,
            "flex_flow": null,
            "grid_area": null,
            "grid_auto_columns": null,
            "grid_auto_flow": null,
            "grid_auto_rows": null,
            "grid_column": null,
            "grid_gap": null,
            "grid_row": null,
            "grid_template_areas": null,
            "grid_template_columns": null,
            "grid_template_rows": null,
            "height": null,
            "justify_content": null,
            "justify_items": null,
            "left": null,
            "margin": null,
            "max_height": null,
            "max_width": null,
            "min_height": null,
            "min_width": null,
            "object_fit": null,
            "object_position": null,
            "order": null,
            "overflow": null,
            "overflow_x": null,
            "overflow_y": null,
            "padding": null,
            "right": null,
            "top": null,
            "visibility": null,
            "width": null
          }
        },
        "e5ccd4cfbdfa49adadec2ccb5f27b13f": {
          "model_module": "@jupyter-widgets/controls",
          "model_name": "ProgressStyleModel",
          "model_module_version": "1.5.0",
          "state": {
            "_model_module": "@jupyter-widgets/controls",
            "_model_module_version": "1.5.0",
            "_model_name": "ProgressStyleModel",
            "_view_count": null,
            "_view_module": "@jupyter-widgets/base",
            "_view_module_version": "1.2.0",
            "_view_name": "StyleView",
            "bar_color": null,
            "description_width": ""
          }
        },
        "7c196d6a59f14fdd9b492c8194e67b7f": {
          "model_module": "@jupyter-widgets/controls",
          "model_name": "VBoxModel",
          "model_module_version": "1.5.0",
          "state": {
            "_dom_classes": [],
            "_model_module": "@jupyter-widgets/controls",
            "_model_module_version": "1.5.0",
            "_model_name": "VBoxModel",
            "_view_count": null,
            "_view_module": "@jupyter-widgets/controls",
            "_view_module_version": "1.5.0",
            "_view_name": "VBoxView",
            "box_style": "",
            "children": [
              "IPY_MODEL_ca4f7f5f6872436f8a097c38c1463755",
              "IPY_MODEL_e504ca266378488d8cadd64d6d9dc75c"
            ],
            "layout": "IPY_MODEL_f4d20963145d42e980019a5d3068822d"
          }
        },
        "ca4f7f5f6872436f8a097c38c1463755": {
          "model_module": "@jupyter-widgets/controls",
          "model_name": "LabelModel",
          "model_module_version": "1.5.0",
          "state": {
            "_dom_classes": [],
            "_model_module": "@jupyter-widgets/controls",
            "_model_module_version": "1.5.0",
            "_model_name": "LabelModel",
            "_view_count": null,
            "_view_module": "@jupyter-widgets/controls",
            "_view_module_version": "1.5.0",
            "_view_name": "LabelView",
            "description": "",
            "description_tooltip": null,
            "layout": "IPY_MODEL_50032a92382d475296cdc2f3c6d8334c",
            "placeholder": "​",
            "style": "IPY_MODEL_953a8fc6cf044af4a5f695a9142dd9a0",
            "value": "0.600 MB of 0.600 MB uploaded (0.000 MB deduped)\r"
          }
        },
        "e504ca266378488d8cadd64d6d9dc75c": {
          "model_module": "@jupyter-widgets/controls",
          "model_name": "FloatProgressModel",
          "model_module_version": "1.5.0",
          "state": {
            "_dom_classes": [],
            "_model_module": "@jupyter-widgets/controls",
            "_model_module_version": "1.5.0",
            "_model_name": "FloatProgressModel",
            "_view_count": null,
            "_view_module": "@jupyter-widgets/controls",
            "_view_module_version": "1.5.0",
            "_view_name": "ProgressView",
            "bar_style": "",
            "description": "",
            "description_tooltip": null,
            "layout": "IPY_MODEL_944c7f4408204f5888d6e9afa981a361",
            "max": 1,
            "min": 0,
            "orientation": "horizontal",
            "style": "IPY_MODEL_a125ca28788a4f23af2a3ba4af8d4ee5",
            "value": 1
          }
        },
        "f4d20963145d42e980019a5d3068822d": {
          "model_module": "@jupyter-widgets/base",
          "model_name": "LayoutModel",
          "model_module_version": "1.2.0",
          "state": {
            "_model_module": "@jupyter-widgets/base",
            "_model_module_version": "1.2.0",
            "_model_name": "LayoutModel",
            "_view_count": null,
            "_view_module": "@jupyter-widgets/base",
            "_view_module_version": "1.2.0",
            "_view_name": "LayoutView",
            "align_content": null,
            "align_items": null,
            "align_self": null,
            "border": null,
            "bottom": null,
            "display": null,
            "flex": null,
            "flex_flow": null,
            "grid_area": null,
            "grid_auto_columns": null,
            "grid_auto_flow": null,
            "grid_auto_rows": null,
            "grid_column": null,
            "grid_gap": null,
            "grid_row": null,
            "grid_template_areas": null,
            "grid_template_columns": null,
            "grid_template_rows": null,
            "height": null,
            "justify_content": null,
            "justify_items": null,
            "left": null,
            "margin": null,
            "max_height": null,
            "max_width": null,
            "min_height": null,
            "min_width": null,
            "object_fit": null,
            "object_position": null,
            "order": null,
            "overflow": null,
            "overflow_x": null,
            "overflow_y": null,
            "padding": null,
            "right": null,
            "top": null,
            "visibility": null,
            "width": null
          }
        },
        "50032a92382d475296cdc2f3c6d8334c": {
          "model_module": "@jupyter-widgets/base",
          "model_name": "LayoutModel",
          "model_module_version": "1.2.0",
          "state": {
            "_model_module": "@jupyter-widgets/base",
            "_model_module_version": "1.2.0",
            "_model_name": "LayoutModel",
            "_view_count": null,
            "_view_module": "@jupyter-widgets/base",
            "_view_module_version": "1.2.0",
            "_view_name": "LayoutView",
            "align_content": null,
            "align_items": null,
            "align_self": null,
            "border": null,
            "bottom": null,
            "display": null,
            "flex": null,
            "flex_flow": null,
            "grid_area": null,
            "grid_auto_columns": null,
            "grid_auto_flow": null,
            "grid_auto_rows": null,
            "grid_column": null,
            "grid_gap": null,
            "grid_row": null,
            "grid_template_areas": null,
            "grid_template_columns": null,
            "grid_template_rows": null,
            "height": null,
            "justify_content": null,
            "justify_items": null,
            "left": null,
            "margin": null,
            "max_height": null,
            "max_width": null,
            "min_height": null,
            "min_width": null,
            "object_fit": null,
            "object_position": null,
            "order": null,
            "overflow": null,
            "overflow_x": null,
            "overflow_y": null,
            "padding": null,
            "right": null,
            "top": null,
            "visibility": null,
            "width": null
          }
        },
        "953a8fc6cf044af4a5f695a9142dd9a0": {
          "model_module": "@jupyter-widgets/controls",
          "model_name": "DescriptionStyleModel",
          "model_module_version": "1.5.0",
          "state": {
            "_model_module": "@jupyter-widgets/controls",
            "_model_module_version": "1.5.0",
            "_model_name": "DescriptionStyleModel",
            "_view_count": null,
            "_view_module": "@jupyter-widgets/base",
            "_view_module_version": "1.2.0",
            "_view_name": "StyleView",
            "description_width": ""
          }
        },
        "944c7f4408204f5888d6e9afa981a361": {
          "model_module": "@jupyter-widgets/base",
          "model_name": "LayoutModel",
          "model_module_version": "1.2.0",
          "state": {
            "_model_module": "@jupyter-widgets/base",
            "_model_module_version": "1.2.0",
            "_model_name": "LayoutModel",
            "_view_count": null,
            "_view_module": "@jupyter-widgets/base",
            "_view_module_version": "1.2.0",
            "_view_name": "LayoutView",
            "align_content": null,
            "align_items": null,
            "align_self": null,
            "border": null,
            "bottom": null,
            "display": null,
            "flex": null,
            "flex_flow": null,
            "grid_area": null,
            "grid_auto_columns": null,
            "grid_auto_flow": null,
            "grid_auto_rows": null,
            "grid_column": null,
            "grid_gap": null,
            "grid_row": null,
            "grid_template_areas": null,
            "grid_template_columns": null,
            "grid_template_rows": null,
            "height": null,
            "justify_content": null,
            "justify_items": null,
            "left": null,
            "margin": null,
            "max_height": null,
            "max_width": null,
            "min_height": null,
            "min_width": null,
            "object_fit": null,
            "object_position": null,
            "order": null,
            "overflow": null,
            "overflow_x": null,
            "overflow_y": null,
            "padding": null,
            "right": null,
            "top": null,
            "visibility": null,
            "width": null
          }
        },
        "a125ca28788a4f23af2a3ba4af8d4ee5": {
          "model_module": "@jupyter-widgets/controls",
          "model_name": "ProgressStyleModel",
          "model_module_version": "1.5.0",
          "state": {
            "_model_module": "@jupyter-widgets/controls",
            "_model_module_version": "1.5.0",
            "_model_name": "ProgressStyleModel",
            "_view_count": null,
            "_view_module": "@jupyter-widgets/base",
            "_view_module_version": "1.2.0",
            "_view_name": "StyleView",
            "bar_color": null,
            "description_width": ""
          }
        },
        "8523a989a931435db23f0df08eaf2e85": {
          "model_module": "@jupyter-widgets/controls",
          "model_name": "VBoxModel",
          "model_module_version": "1.5.0",
          "state": {
            "_dom_classes": [],
            "_model_module": "@jupyter-widgets/controls",
            "_model_module_version": "1.5.0",
            "_model_name": "VBoxModel",
            "_view_count": null,
            "_view_module": "@jupyter-widgets/controls",
            "_view_module_version": "1.5.0",
            "_view_name": "VBoxView",
            "box_style": "",
            "children": [
              "IPY_MODEL_0d03f18498bb4af1aa70f8690236bb90",
              "IPY_MODEL_ffd2d6f0af634c689ad89a856fd26b99"
            ],
            "layout": "IPY_MODEL_765d5aaa3d754a5f91104af8dcce5ee3"
          }
        },
        "0d03f18498bb4af1aa70f8690236bb90": {
          "model_module": "@jupyter-widgets/controls",
          "model_name": "LabelModel",
          "model_module_version": "1.5.0",
          "state": {
            "_dom_classes": [],
            "_model_module": "@jupyter-widgets/controls",
            "_model_module_version": "1.5.0",
            "_model_name": "LabelModel",
            "_view_count": null,
            "_view_module": "@jupyter-widgets/controls",
            "_view_module_version": "1.5.0",
            "_view_name": "LabelView",
            "description": "",
            "description_tooltip": null,
            "layout": "IPY_MODEL_a5e3c427e076429eb6cd9e43e4129769",
            "placeholder": "​",
            "style": "IPY_MODEL_e164dab733cc49128ff58ddf8385ab8c",
            "value": "0.017 MB of 0.017 MB uploaded (0.000 MB deduped)\r"
          }
        },
        "ffd2d6f0af634c689ad89a856fd26b99": {
          "model_module": "@jupyter-widgets/controls",
          "model_name": "FloatProgressModel",
          "model_module_version": "1.5.0",
          "state": {
            "_dom_classes": [],
            "_model_module": "@jupyter-widgets/controls",
            "_model_module_version": "1.5.0",
            "_model_name": "FloatProgressModel",
            "_view_count": null,
            "_view_module": "@jupyter-widgets/controls",
            "_view_module_version": "1.5.0",
            "_view_name": "ProgressView",
            "bar_style": "",
            "description": "",
            "description_tooltip": null,
            "layout": "IPY_MODEL_e22b7003927c437aa223adb0039c61fb",
            "max": 1,
            "min": 0,
            "orientation": "horizontal",
            "style": "IPY_MODEL_2b4265c7ea404f99b11a50a29a637184",
            "value": 1
          }
        },
        "765d5aaa3d754a5f91104af8dcce5ee3": {
          "model_module": "@jupyter-widgets/base",
          "model_name": "LayoutModel",
          "model_module_version": "1.2.0",
          "state": {
            "_model_module": "@jupyter-widgets/base",
            "_model_module_version": "1.2.0",
            "_model_name": "LayoutModel",
            "_view_count": null,
            "_view_module": "@jupyter-widgets/base",
            "_view_module_version": "1.2.0",
            "_view_name": "LayoutView",
            "align_content": null,
            "align_items": null,
            "align_self": null,
            "border": null,
            "bottom": null,
            "display": null,
            "flex": null,
            "flex_flow": null,
            "grid_area": null,
            "grid_auto_columns": null,
            "grid_auto_flow": null,
            "grid_auto_rows": null,
            "grid_column": null,
            "grid_gap": null,
            "grid_row": null,
            "grid_template_areas": null,
            "grid_template_columns": null,
            "grid_template_rows": null,
            "height": null,
            "justify_content": null,
            "justify_items": null,
            "left": null,
            "margin": null,
            "max_height": null,
            "max_width": null,
            "min_height": null,
            "min_width": null,
            "object_fit": null,
            "object_position": null,
            "order": null,
            "overflow": null,
            "overflow_x": null,
            "overflow_y": null,
            "padding": null,
            "right": null,
            "top": null,
            "visibility": null,
            "width": null
          }
        },
        "a5e3c427e076429eb6cd9e43e4129769": {
          "model_module": "@jupyter-widgets/base",
          "model_name": "LayoutModel",
          "model_module_version": "1.2.0",
          "state": {
            "_model_module": "@jupyter-widgets/base",
            "_model_module_version": "1.2.0",
            "_model_name": "LayoutModel",
            "_view_count": null,
            "_view_module": "@jupyter-widgets/base",
            "_view_module_version": "1.2.0",
            "_view_name": "LayoutView",
            "align_content": null,
            "align_items": null,
            "align_self": null,
            "border": null,
            "bottom": null,
            "display": null,
            "flex": null,
            "flex_flow": null,
            "grid_area": null,
            "grid_auto_columns": null,
            "grid_auto_flow": null,
            "grid_auto_rows": null,
            "grid_column": null,
            "grid_gap": null,
            "grid_row": null,
            "grid_template_areas": null,
            "grid_template_columns": null,
            "grid_template_rows": null,
            "height": null,
            "justify_content": null,
            "justify_items": null,
            "left": null,
            "margin": null,
            "max_height": null,
            "max_width": null,
            "min_height": null,
            "min_width": null,
            "object_fit": null,
            "object_position": null,
            "order": null,
            "overflow": null,
            "overflow_x": null,
            "overflow_y": null,
            "padding": null,
            "right": null,
            "top": null,
            "visibility": null,
            "width": null
          }
        },
        "e164dab733cc49128ff58ddf8385ab8c": {
          "model_module": "@jupyter-widgets/controls",
          "model_name": "DescriptionStyleModel",
          "model_module_version": "1.5.0",
          "state": {
            "_model_module": "@jupyter-widgets/controls",
            "_model_module_version": "1.5.0",
            "_model_name": "DescriptionStyleModel",
            "_view_count": null,
            "_view_module": "@jupyter-widgets/base",
            "_view_module_version": "1.2.0",
            "_view_name": "StyleView",
            "description_width": ""
          }
        },
        "e22b7003927c437aa223adb0039c61fb": {
          "model_module": "@jupyter-widgets/base",
          "model_name": "LayoutModel",
          "model_module_version": "1.2.0",
          "state": {
            "_model_module": "@jupyter-widgets/base",
            "_model_module_version": "1.2.0",
            "_model_name": "LayoutModel",
            "_view_count": null,
            "_view_module": "@jupyter-widgets/base",
            "_view_module_version": "1.2.0",
            "_view_name": "LayoutView",
            "align_content": null,
            "align_items": null,
            "align_self": null,
            "border": null,
            "bottom": null,
            "display": null,
            "flex": null,
            "flex_flow": null,
            "grid_area": null,
            "grid_auto_columns": null,
            "grid_auto_flow": null,
            "grid_auto_rows": null,
            "grid_column": null,
            "grid_gap": null,
            "grid_row": null,
            "grid_template_areas": null,
            "grid_template_columns": null,
            "grid_template_rows": null,
            "height": null,
            "justify_content": null,
            "justify_items": null,
            "left": null,
            "margin": null,
            "max_height": null,
            "max_width": null,
            "min_height": null,
            "min_width": null,
            "object_fit": null,
            "object_position": null,
            "order": null,
            "overflow": null,
            "overflow_x": null,
            "overflow_y": null,
            "padding": null,
            "right": null,
            "top": null,
            "visibility": null,
            "width": null
          }
        },
        "2b4265c7ea404f99b11a50a29a637184": {
          "model_module": "@jupyter-widgets/controls",
          "model_name": "ProgressStyleModel",
          "model_module_version": "1.5.0",
          "state": {
            "_model_module": "@jupyter-widgets/controls",
            "_model_module_version": "1.5.0",
            "_model_name": "ProgressStyleModel",
            "_view_count": null,
            "_view_module": "@jupyter-widgets/base",
            "_view_module_version": "1.2.0",
            "_view_name": "StyleView",
            "bar_color": null,
            "description_width": ""
          }
        },
        "3925d3c2357e4de9bb80f7243e8ba82b": {
          "model_module": "@jupyter-widgets/controls",
          "model_name": "VBoxModel",
          "model_module_version": "1.5.0",
          "state": {
            "_dom_classes": [],
            "_model_module": "@jupyter-widgets/controls",
            "_model_module_version": "1.5.0",
            "_model_name": "VBoxModel",
            "_view_count": null,
            "_view_module": "@jupyter-widgets/controls",
            "_view_module_version": "1.5.0",
            "_view_name": "VBoxView",
            "box_style": "",
            "children": [
              "IPY_MODEL_0cf34df5a22b4d5cb8b353ae20f9afd7",
              "IPY_MODEL_5ed973c6087949e488aba3b7c07e887d"
            ],
            "layout": "IPY_MODEL_6e91de44c58245029d84198a4ba4b7ab"
          }
        },
        "0cf34df5a22b4d5cb8b353ae20f9afd7": {
          "model_module": "@jupyter-widgets/controls",
          "model_name": "LabelModel",
          "model_module_version": "1.5.0",
          "state": {
            "_dom_classes": [],
            "_model_module": "@jupyter-widgets/controls",
            "_model_module_version": "1.5.0",
            "_model_name": "LabelModel",
            "_view_count": null,
            "_view_module": "@jupyter-widgets/controls",
            "_view_module_version": "1.5.0",
            "_view_name": "LabelView",
            "description": "",
            "description_tooltip": null,
            "layout": "IPY_MODEL_ac56122621bc455c892ab88ab7a8751b",
            "placeholder": "​",
            "style": "IPY_MODEL_db7b445ac4794ec68ed91c82259a0d46",
            "value": "9.091 MB of 9.091 MB uploaded (0.000 MB deduped)\r"
          }
        },
        "5ed973c6087949e488aba3b7c07e887d": {
          "model_module": "@jupyter-widgets/controls",
          "model_name": "FloatProgressModel",
          "model_module_version": "1.5.0",
          "state": {
            "_dom_classes": [],
            "_model_module": "@jupyter-widgets/controls",
            "_model_module_version": "1.5.0",
            "_model_name": "FloatProgressModel",
            "_view_count": null,
            "_view_module": "@jupyter-widgets/controls",
            "_view_module_version": "1.5.0",
            "_view_name": "ProgressView",
            "bar_style": "",
            "description": "",
            "description_tooltip": null,
            "layout": "IPY_MODEL_a90b6ca5ffe04fc99e9464b32376dd0d",
            "max": 1,
            "min": 0,
            "orientation": "horizontal",
            "style": "IPY_MODEL_4e4cb636235b4713a9421588d1613a2b",
            "value": 1
          }
        },
        "6e91de44c58245029d84198a4ba4b7ab": {
          "model_module": "@jupyter-widgets/base",
          "model_name": "LayoutModel",
          "model_module_version": "1.2.0",
          "state": {
            "_model_module": "@jupyter-widgets/base",
            "_model_module_version": "1.2.0",
            "_model_name": "LayoutModel",
            "_view_count": null,
            "_view_module": "@jupyter-widgets/base",
            "_view_module_version": "1.2.0",
            "_view_name": "LayoutView",
            "align_content": null,
            "align_items": null,
            "align_self": null,
            "border": null,
            "bottom": null,
            "display": null,
            "flex": null,
            "flex_flow": null,
            "grid_area": null,
            "grid_auto_columns": null,
            "grid_auto_flow": null,
            "grid_auto_rows": null,
            "grid_column": null,
            "grid_gap": null,
            "grid_row": null,
            "grid_template_areas": null,
            "grid_template_columns": null,
            "grid_template_rows": null,
            "height": null,
            "justify_content": null,
            "justify_items": null,
            "left": null,
            "margin": null,
            "max_height": null,
            "max_width": null,
            "min_height": null,
            "min_width": null,
            "object_fit": null,
            "object_position": null,
            "order": null,
            "overflow": null,
            "overflow_x": null,
            "overflow_y": null,
            "padding": null,
            "right": null,
            "top": null,
            "visibility": null,
            "width": null
          }
        },
        "ac56122621bc455c892ab88ab7a8751b": {
          "model_module": "@jupyter-widgets/base",
          "model_name": "LayoutModel",
          "model_module_version": "1.2.0",
          "state": {
            "_model_module": "@jupyter-widgets/base",
            "_model_module_version": "1.2.0",
            "_model_name": "LayoutModel",
            "_view_count": null,
            "_view_module": "@jupyter-widgets/base",
            "_view_module_version": "1.2.0",
            "_view_name": "LayoutView",
            "align_content": null,
            "align_items": null,
            "align_self": null,
            "border": null,
            "bottom": null,
            "display": null,
            "flex": null,
            "flex_flow": null,
            "grid_area": null,
            "grid_auto_columns": null,
            "grid_auto_flow": null,
            "grid_auto_rows": null,
            "grid_column": null,
            "grid_gap": null,
            "grid_row": null,
            "grid_template_areas": null,
            "grid_template_columns": null,
            "grid_template_rows": null,
            "height": null,
            "justify_content": null,
            "justify_items": null,
            "left": null,
            "margin": null,
            "max_height": null,
            "max_width": null,
            "min_height": null,
            "min_width": null,
            "object_fit": null,
            "object_position": null,
            "order": null,
            "overflow": null,
            "overflow_x": null,
            "overflow_y": null,
            "padding": null,
            "right": null,
            "top": null,
            "visibility": null,
            "width": null
          }
        },
        "db7b445ac4794ec68ed91c82259a0d46": {
          "model_module": "@jupyter-widgets/controls",
          "model_name": "DescriptionStyleModel",
          "model_module_version": "1.5.0",
          "state": {
            "_model_module": "@jupyter-widgets/controls",
            "_model_module_version": "1.5.0",
            "_model_name": "DescriptionStyleModel",
            "_view_count": null,
            "_view_module": "@jupyter-widgets/base",
            "_view_module_version": "1.2.0",
            "_view_name": "StyleView",
            "description_width": ""
          }
        },
        "a90b6ca5ffe04fc99e9464b32376dd0d": {
          "model_module": "@jupyter-widgets/base",
          "model_name": "LayoutModel",
          "model_module_version": "1.2.0",
          "state": {
            "_model_module": "@jupyter-widgets/base",
            "_model_module_version": "1.2.0",
            "_model_name": "LayoutModel",
            "_view_count": null,
            "_view_module": "@jupyter-widgets/base",
            "_view_module_version": "1.2.0",
            "_view_name": "LayoutView",
            "align_content": null,
            "align_items": null,
            "align_self": null,
            "border": null,
            "bottom": null,
            "display": null,
            "flex": null,
            "flex_flow": null,
            "grid_area": null,
            "grid_auto_columns": null,
            "grid_auto_flow": null,
            "grid_auto_rows": null,
            "grid_column": null,
            "grid_gap": null,
            "grid_row": null,
            "grid_template_areas": null,
            "grid_template_columns": null,
            "grid_template_rows": null,
            "height": null,
            "justify_content": null,
            "justify_items": null,
            "left": null,
            "margin": null,
            "max_height": null,
            "max_width": null,
            "min_height": null,
            "min_width": null,
            "object_fit": null,
            "object_position": null,
            "order": null,
            "overflow": null,
            "overflow_x": null,
            "overflow_y": null,
            "padding": null,
            "right": null,
            "top": null,
            "visibility": null,
            "width": null
          }
        },
        "4e4cb636235b4713a9421588d1613a2b": {
          "model_module": "@jupyter-widgets/controls",
          "model_name": "ProgressStyleModel",
          "model_module_version": "1.5.0",
          "state": {
            "_model_module": "@jupyter-widgets/controls",
            "_model_module_version": "1.5.0",
            "_model_name": "ProgressStyleModel",
            "_view_count": null,
            "_view_module": "@jupyter-widgets/base",
            "_view_module_version": "1.2.0",
            "_view_name": "StyleView",
            "bar_color": null,
            "description_width": ""
          }
        },
        "4c1dee721c794084a9f63d01a1ac6c53": {
          "model_module": "@jupyter-widgets/controls",
          "model_name": "VBoxModel",
          "model_module_version": "1.5.0",
          "state": {
            "_dom_classes": [],
            "_model_module": "@jupyter-widgets/controls",
            "_model_module_version": "1.5.0",
            "_model_name": "VBoxModel",
            "_view_count": null,
            "_view_module": "@jupyter-widgets/controls",
            "_view_module_version": "1.5.0",
            "_view_name": "VBoxView",
            "box_style": "",
            "children": [
              "IPY_MODEL_d10f9f263c7e469897164c2ed6c6b7a0",
              "IPY_MODEL_5a6ee0026abe4170a86aa925c5e1d6b9"
            ],
            "layout": "IPY_MODEL_3a561972c0cc41dc95440db9a24ca278"
          }
        },
        "d10f9f263c7e469897164c2ed6c6b7a0": {
          "model_module": "@jupyter-widgets/controls",
          "model_name": "LabelModel",
          "model_module_version": "1.5.0",
          "state": {
            "_dom_classes": [],
            "_model_module": "@jupyter-widgets/controls",
            "_model_module_version": "1.5.0",
            "_model_name": "LabelModel",
            "_view_count": null,
            "_view_module": "@jupyter-widgets/controls",
            "_view_module_version": "1.5.0",
            "_view_name": "LabelView",
            "description": "",
            "description_tooltip": null,
            "layout": "IPY_MODEL_b979f7c92ebb45adb8ccbe5e958ccdce",
            "placeholder": "​",
            "style": "IPY_MODEL_d66acde74d454a1bb1b98a7f9193a527",
            "value": "0.782 MB of 0.782 MB uploaded (0.000 MB deduped)\r"
          }
        },
        "5a6ee0026abe4170a86aa925c5e1d6b9": {
          "model_module": "@jupyter-widgets/controls",
          "model_name": "FloatProgressModel",
          "model_module_version": "1.5.0",
          "state": {
            "_dom_classes": [],
            "_model_module": "@jupyter-widgets/controls",
            "_model_module_version": "1.5.0",
            "_model_name": "FloatProgressModel",
            "_view_count": null,
            "_view_module": "@jupyter-widgets/controls",
            "_view_module_version": "1.5.0",
            "_view_name": "ProgressView",
            "bar_style": "",
            "description": "",
            "description_tooltip": null,
            "layout": "IPY_MODEL_7253b8d039764b9982852094bb2f1329",
            "max": 1,
            "min": 0,
            "orientation": "horizontal",
            "style": "IPY_MODEL_a65ce3abcb174a3da1c1ed5c6bc15550",
            "value": 1
          }
        },
        "3a561972c0cc41dc95440db9a24ca278": {
          "model_module": "@jupyter-widgets/base",
          "model_name": "LayoutModel",
          "model_module_version": "1.2.0",
          "state": {
            "_model_module": "@jupyter-widgets/base",
            "_model_module_version": "1.2.0",
            "_model_name": "LayoutModel",
            "_view_count": null,
            "_view_module": "@jupyter-widgets/base",
            "_view_module_version": "1.2.0",
            "_view_name": "LayoutView",
            "align_content": null,
            "align_items": null,
            "align_self": null,
            "border": null,
            "bottom": null,
            "display": null,
            "flex": null,
            "flex_flow": null,
            "grid_area": null,
            "grid_auto_columns": null,
            "grid_auto_flow": null,
            "grid_auto_rows": null,
            "grid_column": null,
            "grid_gap": null,
            "grid_row": null,
            "grid_template_areas": null,
            "grid_template_columns": null,
            "grid_template_rows": null,
            "height": null,
            "justify_content": null,
            "justify_items": null,
            "left": null,
            "margin": null,
            "max_height": null,
            "max_width": null,
            "min_height": null,
            "min_width": null,
            "object_fit": null,
            "object_position": null,
            "order": null,
            "overflow": null,
            "overflow_x": null,
            "overflow_y": null,
            "padding": null,
            "right": null,
            "top": null,
            "visibility": null,
            "width": null
          }
        },
        "b979f7c92ebb45adb8ccbe5e958ccdce": {
          "model_module": "@jupyter-widgets/base",
          "model_name": "LayoutModel",
          "model_module_version": "1.2.0",
          "state": {
            "_model_module": "@jupyter-widgets/base",
            "_model_module_version": "1.2.0",
            "_model_name": "LayoutModel",
            "_view_count": null,
            "_view_module": "@jupyter-widgets/base",
            "_view_module_version": "1.2.0",
            "_view_name": "LayoutView",
            "align_content": null,
            "align_items": null,
            "align_self": null,
            "border": null,
            "bottom": null,
            "display": null,
            "flex": null,
            "flex_flow": null,
            "grid_area": null,
            "grid_auto_columns": null,
            "grid_auto_flow": null,
            "grid_auto_rows": null,
            "grid_column": null,
            "grid_gap": null,
            "grid_row": null,
            "grid_template_areas": null,
            "grid_template_columns": null,
            "grid_template_rows": null,
            "height": null,
            "justify_content": null,
            "justify_items": null,
            "left": null,
            "margin": null,
            "max_height": null,
            "max_width": null,
            "min_height": null,
            "min_width": null,
            "object_fit": null,
            "object_position": null,
            "order": null,
            "overflow": null,
            "overflow_x": null,
            "overflow_y": null,
            "padding": null,
            "right": null,
            "top": null,
            "visibility": null,
            "width": null
          }
        },
        "d66acde74d454a1bb1b98a7f9193a527": {
          "model_module": "@jupyter-widgets/controls",
          "model_name": "DescriptionStyleModel",
          "model_module_version": "1.5.0",
          "state": {
            "_model_module": "@jupyter-widgets/controls",
            "_model_module_version": "1.5.0",
            "_model_name": "DescriptionStyleModel",
            "_view_count": null,
            "_view_module": "@jupyter-widgets/base",
            "_view_module_version": "1.2.0",
            "_view_name": "StyleView",
            "description_width": ""
          }
        },
        "7253b8d039764b9982852094bb2f1329": {
          "model_module": "@jupyter-widgets/base",
          "model_name": "LayoutModel",
          "model_module_version": "1.2.0",
          "state": {
            "_model_module": "@jupyter-widgets/base",
            "_model_module_version": "1.2.0",
            "_model_name": "LayoutModel",
            "_view_count": null,
            "_view_module": "@jupyter-widgets/base",
            "_view_module_version": "1.2.0",
            "_view_name": "LayoutView",
            "align_content": null,
            "align_items": null,
            "align_self": null,
            "border": null,
            "bottom": null,
            "display": null,
            "flex": null,
            "flex_flow": null,
            "grid_area": null,
            "grid_auto_columns": null,
            "grid_auto_flow": null,
            "grid_auto_rows": null,
            "grid_column": null,
            "grid_gap": null,
            "grid_row": null,
            "grid_template_areas": null,
            "grid_template_columns": null,
            "grid_template_rows": null,
            "height": null,
            "justify_content": null,
            "justify_items": null,
            "left": null,
            "margin": null,
            "max_height": null,
            "max_width": null,
            "min_height": null,
            "min_width": null,
            "object_fit": null,
            "object_position": null,
            "order": null,
            "overflow": null,
            "overflow_x": null,
            "overflow_y": null,
            "padding": null,
            "right": null,
            "top": null,
            "visibility": null,
            "width": null
          }
        },
        "a65ce3abcb174a3da1c1ed5c6bc15550": {
          "model_module": "@jupyter-widgets/controls",
          "model_name": "ProgressStyleModel",
          "model_module_version": "1.5.0",
          "state": {
            "_model_module": "@jupyter-widgets/controls",
            "_model_module_version": "1.5.0",
            "_model_name": "ProgressStyleModel",
            "_view_count": null,
            "_view_module": "@jupyter-widgets/base",
            "_view_module_version": "1.2.0",
            "_view_name": "StyleView",
            "bar_color": null,
            "description_width": ""
          }
        },
        "a87f155ef0074e85b4a3fe49983eddd5": {
          "model_module": "@jupyter-widgets/controls",
          "model_name": "VBoxModel",
          "model_module_version": "1.5.0",
          "state": {
            "_dom_classes": [],
            "_model_module": "@jupyter-widgets/controls",
            "_model_module_version": "1.5.0",
            "_model_name": "VBoxModel",
            "_view_count": null,
            "_view_module": "@jupyter-widgets/controls",
            "_view_module_version": "1.5.0",
            "_view_name": "VBoxView",
            "box_style": "",
            "children": [
              "IPY_MODEL_7051dbd548a74e6aa3c8a0d6d57b1382",
              "IPY_MODEL_1088aaa847624a5d9ef13ee94896c5a0"
            ],
            "layout": "IPY_MODEL_30958e16f6804e0a9291078f69e46d1d"
          }
        },
        "7051dbd548a74e6aa3c8a0d6d57b1382": {
          "model_module": "@jupyter-widgets/controls",
          "model_name": "LabelModel",
          "model_module_version": "1.5.0",
          "state": {
            "_dom_classes": [],
            "_model_module": "@jupyter-widgets/controls",
            "_model_module_version": "1.5.0",
            "_model_name": "LabelModel",
            "_view_count": null,
            "_view_module": "@jupyter-widgets/controls",
            "_view_module_version": "1.5.0",
            "_view_name": "LabelView",
            "description": "",
            "description_tooltip": null,
            "layout": "IPY_MODEL_e2a2795f70ec4c6eba0503b79b1dd5e1",
            "placeholder": "​",
            "style": "IPY_MODEL_ee9516965d9643bf9ea56307a34751e3",
            "value": "0.009 MB of 0.009 MB uploaded (0.000 MB deduped)\r"
          }
        },
        "1088aaa847624a5d9ef13ee94896c5a0": {
          "model_module": "@jupyter-widgets/controls",
          "model_name": "FloatProgressModel",
          "model_module_version": "1.5.0",
          "state": {
            "_dom_classes": [],
            "_model_module": "@jupyter-widgets/controls",
            "_model_module_version": "1.5.0",
            "_model_name": "FloatProgressModel",
            "_view_count": null,
            "_view_module": "@jupyter-widgets/controls",
            "_view_module_version": "1.5.0",
            "_view_name": "ProgressView",
            "bar_style": "",
            "description": "",
            "description_tooltip": null,
            "layout": "IPY_MODEL_20c6d430a45f4314bab04e98cf1d8336",
            "max": 1,
            "min": 0,
            "orientation": "horizontal",
            "style": "IPY_MODEL_fb8f35cf1b8b4a45bdf2177686c9f1bb",
            "value": 1
          }
        },
        "30958e16f6804e0a9291078f69e46d1d": {
          "model_module": "@jupyter-widgets/base",
          "model_name": "LayoutModel",
          "model_module_version": "1.2.0",
          "state": {
            "_model_module": "@jupyter-widgets/base",
            "_model_module_version": "1.2.0",
            "_model_name": "LayoutModel",
            "_view_count": null,
            "_view_module": "@jupyter-widgets/base",
            "_view_module_version": "1.2.0",
            "_view_name": "LayoutView",
            "align_content": null,
            "align_items": null,
            "align_self": null,
            "border": null,
            "bottom": null,
            "display": null,
            "flex": null,
            "flex_flow": null,
            "grid_area": null,
            "grid_auto_columns": null,
            "grid_auto_flow": null,
            "grid_auto_rows": null,
            "grid_column": null,
            "grid_gap": null,
            "grid_row": null,
            "grid_template_areas": null,
            "grid_template_columns": null,
            "grid_template_rows": null,
            "height": null,
            "justify_content": null,
            "justify_items": null,
            "left": null,
            "margin": null,
            "max_height": null,
            "max_width": null,
            "min_height": null,
            "min_width": null,
            "object_fit": null,
            "object_position": null,
            "order": null,
            "overflow": null,
            "overflow_x": null,
            "overflow_y": null,
            "padding": null,
            "right": null,
            "top": null,
            "visibility": null,
            "width": null
          }
        },
        "e2a2795f70ec4c6eba0503b79b1dd5e1": {
          "model_module": "@jupyter-widgets/base",
          "model_name": "LayoutModel",
          "model_module_version": "1.2.0",
          "state": {
            "_model_module": "@jupyter-widgets/base",
            "_model_module_version": "1.2.0",
            "_model_name": "LayoutModel",
            "_view_count": null,
            "_view_module": "@jupyter-widgets/base",
            "_view_module_version": "1.2.0",
            "_view_name": "LayoutView",
            "align_content": null,
            "align_items": null,
            "align_self": null,
            "border": null,
            "bottom": null,
            "display": null,
            "flex": null,
            "flex_flow": null,
            "grid_area": null,
            "grid_auto_columns": null,
            "grid_auto_flow": null,
            "grid_auto_rows": null,
            "grid_column": null,
            "grid_gap": null,
            "grid_row": null,
            "grid_template_areas": null,
            "grid_template_columns": null,
            "grid_template_rows": null,
            "height": null,
            "justify_content": null,
            "justify_items": null,
            "left": null,
            "margin": null,
            "max_height": null,
            "max_width": null,
            "min_height": null,
            "min_width": null,
            "object_fit": null,
            "object_position": null,
            "order": null,
            "overflow": null,
            "overflow_x": null,
            "overflow_y": null,
            "padding": null,
            "right": null,
            "top": null,
            "visibility": null,
            "width": null
          }
        },
        "ee9516965d9643bf9ea56307a34751e3": {
          "model_module": "@jupyter-widgets/controls",
          "model_name": "DescriptionStyleModel",
          "model_module_version": "1.5.0",
          "state": {
            "_model_module": "@jupyter-widgets/controls",
            "_model_module_version": "1.5.0",
            "_model_name": "DescriptionStyleModel",
            "_view_count": null,
            "_view_module": "@jupyter-widgets/base",
            "_view_module_version": "1.2.0",
            "_view_name": "StyleView",
            "description_width": ""
          }
        },
        "20c6d430a45f4314bab04e98cf1d8336": {
          "model_module": "@jupyter-widgets/base",
          "model_name": "LayoutModel",
          "model_module_version": "1.2.0",
          "state": {
            "_model_module": "@jupyter-widgets/base",
            "_model_module_version": "1.2.0",
            "_model_name": "LayoutModel",
            "_view_count": null,
            "_view_module": "@jupyter-widgets/base",
            "_view_module_version": "1.2.0",
            "_view_name": "LayoutView",
            "align_content": null,
            "align_items": null,
            "align_self": null,
            "border": null,
            "bottom": null,
            "display": null,
            "flex": null,
            "flex_flow": null,
            "grid_area": null,
            "grid_auto_columns": null,
            "grid_auto_flow": null,
            "grid_auto_rows": null,
            "grid_column": null,
            "grid_gap": null,
            "grid_row": null,
            "grid_template_areas": null,
            "grid_template_columns": null,
            "grid_template_rows": null,
            "height": null,
            "justify_content": null,
            "justify_items": null,
            "left": null,
            "margin": null,
            "max_height": null,
            "max_width": null,
            "min_height": null,
            "min_width": null,
            "object_fit": null,
            "object_position": null,
            "order": null,
            "overflow": null,
            "overflow_x": null,
            "overflow_y": null,
            "padding": null,
            "right": null,
            "top": null,
            "visibility": null,
            "width": null
          }
        },
        "fb8f35cf1b8b4a45bdf2177686c9f1bb": {
          "model_module": "@jupyter-widgets/controls",
          "model_name": "ProgressStyleModel",
          "model_module_version": "1.5.0",
          "state": {
            "_model_module": "@jupyter-widgets/controls",
            "_model_module_version": "1.5.0",
            "_model_name": "ProgressStyleModel",
            "_view_count": null,
            "_view_module": "@jupyter-widgets/base",
            "_view_module_version": "1.2.0",
            "_view_name": "StyleView",
            "bar_color": null,
            "description_width": ""
          }
        },
        "16fd5bed29c840eda53af78b0331bd78": {
          "model_module": "@jupyter-widgets/controls",
          "model_name": "VBoxModel",
          "model_module_version": "1.5.0",
          "state": {
            "_dom_classes": [],
            "_model_module": "@jupyter-widgets/controls",
            "_model_module_version": "1.5.0",
            "_model_name": "VBoxModel",
            "_view_count": null,
            "_view_module": "@jupyter-widgets/controls",
            "_view_module_version": "1.5.0",
            "_view_name": "VBoxView",
            "box_style": "",
            "children": [
              "IPY_MODEL_c6974932aaa24330b1f63444e65c0873",
              "IPY_MODEL_01424fa38e6e4f2991893a41564870a6"
            ],
            "layout": "IPY_MODEL_4164e17e1e504a91935ddc2a91899d26"
          }
        },
        "c6974932aaa24330b1f63444e65c0873": {
          "model_module": "@jupyter-widgets/controls",
          "model_name": "LabelModel",
          "model_module_version": "1.5.0",
          "state": {
            "_dom_classes": [],
            "_model_module": "@jupyter-widgets/controls",
            "_model_module_version": "1.5.0",
            "_model_name": "LabelModel",
            "_view_count": null,
            "_view_module": "@jupyter-widgets/controls",
            "_view_module_version": "1.5.0",
            "_view_name": "LabelView",
            "description": "",
            "description_tooltip": null,
            "layout": "IPY_MODEL_7829bf95ede44106bf1dbd47b11504f3",
            "placeholder": "​",
            "style": "IPY_MODEL_afe4b970a09348918d208cdbf6abe6cd",
            "value": "0.009 MB of 0.009 MB uploaded (0.000 MB deduped)\r"
          }
        },
        "01424fa38e6e4f2991893a41564870a6": {
          "model_module": "@jupyter-widgets/controls",
          "model_name": "FloatProgressModel",
          "model_module_version": "1.5.0",
          "state": {
            "_dom_classes": [],
            "_model_module": "@jupyter-widgets/controls",
            "_model_module_version": "1.5.0",
            "_model_name": "FloatProgressModel",
            "_view_count": null,
            "_view_module": "@jupyter-widgets/controls",
            "_view_module_version": "1.5.0",
            "_view_name": "ProgressView",
            "bar_style": "",
            "description": "",
            "description_tooltip": null,
            "layout": "IPY_MODEL_f243fe538fa7462dbcf063530eb00ad7",
            "max": 1,
            "min": 0,
            "orientation": "horizontal",
            "style": "IPY_MODEL_cbf365dbdb5c453f8270dc4f31ba31a8",
            "value": 1
          }
        },
        "4164e17e1e504a91935ddc2a91899d26": {
          "model_module": "@jupyter-widgets/base",
          "model_name": "LayoutModel",
          "model_module_version": "1.2.0",
          "state": {
            "_model_module": "@jupyter-widgets/base",
            "_model_module_version": "1.2.0",
            "_model_name": "LayoutModel",
            "_view_count": null,
            "_view_module": "@jupyter-widgets/base",
            "_view_module_version": "1.2.0",
            "_view_name": "LayoutView",
            "align_content": null,
            "align_items": null,
            "align_self": null,
            "border": null,
            "bottom": null,
            "display": null,
            "flex": null,
            "flex_flow": null,
            "grid_area": null,
            "grid_auto_columns": null,
            "grid_auto_flow": null,
            "grid_auto_rows": null,
            "grid_column": null,
            "grid_gap": null,
            "grid_row": null,
            "grid_template_areas": null,
            "grid_template_columns": null,
            "grid_template_rows": null,
            "height": null,
            "justify_content": null,
            "justify_items": null,
            "left": null,
            "margin": null,
            "max_height": null,
            "max_width": null,
            "min_height": null,
            "min_width": null,
            "object_fit": null,
            "object_position": null,
            "order": null,
            "overflow": null,
            "overflow_x": null,
            "overflow_y": null,
            "padding": null,
            "right": null,
            "top": null,
            "visibility": null,
            "width": null
          }
        },
        "7829bf95ede44106bf1dbd47b11504f3": {
          "model_module": "@jupyter-widgets/base",
          "model_name": "LayoutModel",
          "model_module_version": "1.2.0",
          "state": {
            "_model_module": "@jupyter-widgets/base",
            "_model_module_version": "1.2.0",
            "_model_name": "LayoutModel",
            "_view_count": null,
            "_view_module": "@jupyter-widgets/base",
            "_view_module_version": "1.2.0",
            "_view_name": "LayoutView",
            "align_content": null,
            "align_items": null,
            "align_self": null,
            "border": null,
            "bottom": null,
            "display": null,
            "flex": null,
            "flex_flow": null,
            "grid_area": null,
            "grid_auto_columns": null,
            "grid_auto_flow": null,
            "grid_auto_rows": null,
            "grid_column": null,
            "grid_gap": null,
            "grid_row": null,
            "grid_template_areas": null,
            "grid_template_columns": null,
            "grid_template_rows": null,
            "height": null,
            "justify_content": null,
            "justify_items": null,
            "left": null,
            "margin": null,
            "max_height": null,
            "max_width": null,
            "min_height": null,
            "min_width": null,
            "object_fit": null,
            "object_position": null,
            "order": null,
            "overflow": null,
            "overflow_x": null,
            "overflow_y": null,
            "padding": null,
            "right": null,
            "top": null,
            "visibility": null,
            "width": null
          }
        },
        "afe4b970a09348918d208cdbf6abe6cd": {
          "model_module": "@jupyter-widgets/controls",
          "model_name": "DescriptionStyleModel",
          "model_module_version": "1.5.0",
          "state": {
            "_model_module": "@jupyter-widgets/controls",
            "_model_module_version": "1.5.0",
            "_model_name": "DescriptionStyleModel",
            "_view_count": null,
            "_view_module": "@jupyter-widgets/base",
            "_view_module_version": "1.2.0",
            "_view_name": "StyleView",
            "description_width": ""
          }
        },
        "f243fe538fa7462dbcf063530eb00ad7": {
          "model_module": "@jupyter-widgets/base",
          "model_name": "LayoutModel",
          "model_module_version": "1.2.0",
          "state": {
            "_model_module": "@jupyter-widgets/base",
            "_model_module_version": "1.2.0",
            "_model_name": "LayoutModel",
            "_view_count": null,
            "_view_module": "@jupyter-widgets/base",
            "_view_module_version": "1.2.0",
            "_view_name": "LayoutView",
            "align_content": null,
            "align_items": null,
            "align_self": null,
            "border": null,
            "bottom": null,
            "display": null,
            "flex": null,
            "flex_flow": null,
            "grid_area": null,
            "grid_auto_columns": null,
            "grid_auto_flow": null,
            "grid_auto_rows": null,
            "grid_column": null,
            "grid_gap": null,
            "grid_row": null,
            "grid_template_areas": null,
            "grid_template_columns": null,
            "grid_template_rows": null,
            "height": null,
            "justify_content": null,
            "justify_items": null,
            "left": null,
            "margin": null,
            "max_height": null,
            "max_width": null,
            "min_height": null,
            "min_width": null,
            "object_fit": null,
            "object_position": null,
            "order": null,
            "overflow": null,
            "overflow_x": null,
            "overflow_y": null,
            "padding": null,
            "right": null,
            "top": null,
            "visibility": null,
            "width": null
          }
        },
        "cbf365dbdb5c453f8270dc4f31ba31a8": {
          "model_module": "@jupyter-widgets/controls",
          "model_name": "ProgressStyleModel",
          "model_module_version": "1.5.0",
          "state": {
            "_model_module": "@jupyter-widgets/controls",
            "_model_module_version": "1.5.0",
            "_model_name": "ProgressStyleModel",
            "_view_count": null,
            "_view_module": "@jupyter-widgets/base",
            "_view_module_version": "1.2.0",
            "_view_name": "StyleView",
            "bar_color": null,
            "description_width": ""
          }
        },
        "b39b13c5109944b1ba15c5638ba196c0": {
          "model_module": "@jupyter-widgets/controls",
          "model_name": "VBoxModel",
          "model_module_version": "1.5.0",
          "state": {
            "_dom_classes": [],
            "_model_module": "@jupyter-widgets/controls",
            "_model_module_version": "1.5.0",
            "_model_name": "VBoxModel",
            "_view_count": null,
            "_view_module": "@jupyter-widgets/controls",
            "_view_module_version": "1.5.0",
            "_view_name": "VBoxView",
            "box_style": "",
            "children": [
              "IPY_MODEL_6ba1ffdf43044c0382f4b85bd25b4e9a",
              "IPY_MODEL_29a9c47a8f9446b7a4c13e866b1515aa"
            ],
            "layout": "IPY_MODEL_74d902273da943d8a4f9c40d4e06736f"
          }
        },
        "6ba1ffdf43044c0382f4b85bd25b4e9a": {
          "model_module": "@jupyter-widgets/controls",
          "model_name": "LabelModel",
          "model_module_version": "1.5.0",
          "state": {
            "_dom_classes": [],
            "_model_module": "@jupyter-widgets/controls",
            "_model_module_version": "1.5.0",
            "_model_name": "LabelModel",
            "_view_count": null,
            "_view_module": "@jupyter-widgets/controls",
            "_view_module_version": "1.5.0",
            "_view_name": "LabelView",
            "description": "",
            "description_tooltip": null,
            "layout": "IPY_MODEL_fb1a75542045407c9e729016cfa05d73",
            "placeholder": "​",
            "style": "IPY_MODEL_17323977debd4d3fbf7dce6036a55f5d",
            "value": "0.009 MB of 0.009 MB uploaded (0.000 MB deduped)\r"
          }
        },
        "29a9c47a8f9446b7a4c13e866b1515aa": {
          "model_module": "@jupyter-widgets/controls",
          "model_name": "FloatProgressModel",
          "model_module_version": "1.5.0",
          "state": {
            "_dom_classes": [],
            "_model_module": "@jupyter-widgets/controls",
            "_model_module_version": "1.5.0",
            "_model_name": "FloatProgressModel",
            "_view_count": null,
            "_view_module": "@jupyter-widgets/controls",
            "_view_module_version": "1.5.0",
            "_view_name": "ProgressView",
            "bar_style": "",
            "description": "",
            "description_tooltip": null,
            "layout": "IPY_MODEL_3199526c666e489390a07ba17026c81e",
            "max": 1,
            "min": 0,
            "orientation": "horizontal",
            "style": "IPY_MODEL_0a5a7c5b8e0d4b7c96afe51405c9a55a",
            "value": 1
          }
        },
        "74d902273da943d8a4f9c40d4e06736f": {
          "model_module": "@jupyter-widgets/base",
          "model_name": "LayoutModel",
          "model_module_version": "1.2.0",
          "state": {
            "_model_module": "@jupyter-widgets/base",
            "_model_module_version": "1.2.0",
            "_model_name": "LayoutModel",
            "_view_count": null,
            "_view_module": "@jupyter-widgets/base",
            "_view_module_version": "1.2.0",
            "_view_name": "LayoutView",
            "align_content": null,
            "align_items": null,
            "align_self": null,
            "border": null,
            "bottom": null,
            "display": null,
            "flex": null,
            "flex_flow": null,
            "grid_area": null,
            "grid_auto_columns": null,
            "grid_auto_flow": null,
            "grid_auto_rows": null,
            "grid_column": null,
            "grid_gap": null,
            "grid_row": null,
            "grid_template_areas": null,
            "grid_template_columns": null,
            "grid_template_rows": null,
            "height": null,
            "justify_content": null,
            "justify_items": null,
            "left": null,
            "margin": null,
            "max_height": null,
            "max_width": null,
            "min_height": null,
            "min_width": null,
            "object_fit": null,
            "object_position": null,
            "order": null,
            "overflow": null,
            "overflow_x": null,
            "overflow_y": null,
            "padding": null,
            "right": null,
            "top": null,
            "visibility": null,
            "width": null
          }
        },
        "fb1a75542045407c9e729016cfa05d73": {
          "model_module": "@jupyter-widgets/base",
          "model_name": "LayoutModel",
          "model_module_version": "1.2.0",
          "state": {
            "_model_module": "@jupyter-widgets/base",
            "_model_module_version": "1.2.0",
            "_model_name": "LayoutModel",
            "_view_count": null,
            "_view_module": "@jupyter-widgets/base",
            "_view_module_version": "1.2.0",
            "_view_name": "LayoutView",
            "align_content": null,
            "align_items": null,
            "align_self": null,
            "border": null,
            "bottom": null,
            "display": null,
            "flex": null,
            "flex_flow": null,
            "grid_area": null,
            "grid_auto_columns": null,
            "grid_auto_flow": null,
            "grid_auto_rows": null,
            "grid_column": null,
            "grid_gap": null,
            "grid_row": null,
            "grid_template_areas": null,
            "grid_template_columns": null,
            "grid_template_rows": null,
            "height": null,
            "justify_content": null,
            "justify_items": null,
            "left": null,
            "margin": null,
            "max_height": null,
            "max_width": null,
            "min_height": null,
            "min_width": null,
            "object_fit": null,
            "object_position": null,
            "order": null,
            "overflow": null,
            "overflow_x": null,
            "overflow_y": null,
            "padding": null,
            "right": null,
            "top": null,
            "visibility": null,
            "width": null
          }
        },
        "17323977debd4d3fbf7dce6036a55f5d": {
          "model_module": "@jupyter-widgets/controls",
          "model_name": "DescriptionStyleModel",
          "model_module_version": "1.5.0",
          "state": {
            "_model_module": "@jupyter-widgets/controls",
            "_model_module_version": "1.5.0",
            "_model_name": "DescriptionStyleModel",
            "_view_count": null,
            "_view_module": "@jupyter-widgets/base",
            "_view_module_version": "1.2.0",
            "_view_name": "StyleView",
            "description_width": ""
          }
        },
        "3199526c666e489390a07ba17026c81e": {
          "model_module": "@jupyter-widgets/base",
          "model_name": "LayoutModel",
          "model_module_version": "1.2.0",
          "state": {
            "_model_module": "@jupyter-widgets/base",
            "_model_module_version": "1.2.0",
            "_model_name": "LayoutModel",
            "_view_count": null,
            "_view_module": "@jupyter-widgets/base",
            "_view_module_version": "1.2.0",
            "_view_name": "LayoutView",
            "align_content": null,
            "align_items": null,
            "align_self": null,
            "border": null,
            "bottom": null,
            "display": null,
            "flex": null,
            "flex_flow": null,
            "grid_area": null,
            "grid_auto_columns": null,
            "grid_auto_flow": null,
            "grid_auto_rows": null,
            "grid_column": null,
            "grid_gap": null,
            "grid_row": null,
            "grid_template_areas": null,
            "grid_template_columns": null,
            "grid_template_rows": null,
            "height": null,
            "justify_content": null,
            "justify_items": null,
            "left": null,
            "margin": null,
            "max_height": null,
            "max_width": null,
            "min_height": null,
            "min_width": null,
            "object_fit": null,
            "object_position": null,
            "order": null,
            "overflow": null,
            "overflow_x": null,
            "overflow_y": null,
            "padding": null,
            "right": null,
            "top": null,
            "visibility": null,
            "width": null
          }
        },
        "0a5a7c5b8e0d4b7c96afe51405c9a55a": {
          "model_module": "@jupyter-widgets/controls",
          "model_name": "ProgressStyleModel",
          "model_module_version": "1.5.0",
          "state": {
            "_model_module": "@jupyter-widgets/controls",
            "_model_module_version": "1.5.0",
            "_model_name": "ProgressStyleModel",
            "_view_count": null,
            "_view_module": "@jupyter-widgets/base",
            "_view_module_version": "1.2.0",
            "_view_name": "StyleView",
            "bar_color": null,
            "description_width": ""
          }
        },
        "43849d117d8e48c9aa2e0e5e7114a367": {
          "model_module": "@jupyter-widgets/controls",
          "model_name": "VBoxModel",
          "model_module_version": "1.5.0",
          "state": {
            "_dom_classes": [],
            "_model_module": "@jupyter-widgets/controls",
            "_model_module_version": "1.5.0",
            "_model_name": "VBoxModel",
            "_view_count": null,
            "_view_module": "@jupyter-widgets/controls",
            "_view_module_version": "1.5.0",
            "_view_name": "VBoxView",
            "box_style": "",
            "children": [
              "IPY_MODEL_28e2aa445ec84ea3a16e208ea7bb94a8",
              "IPY_MODEL_9796bc3855ba4c9fb105faffe81930b6"
            ],
            "layout": "IPY_MODEL_04c8c306a13b4ca99201d640da3f7539"
          }
        },
        "28e2aa445ec84ea3a16e208ea7bb94a8": {
          "model_module": "@jupyter-widgets/controls",
          "model_name": "LabelModel",
          "model_module_version": "1.5.0",
          "state": {
            "_dom_classes": [],
            "_model_module": "@jupyter-widgets/controls",
            "_model_module_version": "1.5.0",
            "_model_name": "LabelModel",
            "_view_count": null,
            "_view_module": "@jupyter-widgets/controls",
            "_view_module_version": "1.5.0",
            "_view_name": "LabelView",
            "description": "",
            "description_tooltip": null,
            "layout": "IPY_MODEL_ddeb92e0583943be86aee062184e02d2",
            "placeholder": "​",
            "style": "IPY_MODEL_c2bf72aefb10495496dc92e3488a2b37",
            "value": "0.009 MB of 0.009 MB uploaded (0.000 MB deduped)\r"
          }
        },
        "9796bc3855ba4c9fb105faffe81930b6": {
          "model_module": "@jupyter-widgets/controls",
          "model_name": "FloatProgressModel",
          "model_module_version": "1.5.0",
          "state": {
            "_dom_classes": [],
            "_model_module": "@jupyter-widgets/controls",
            "_model_module_version": "1.5.0",
            "_model_name": "FloatProgressModel",
            "_view_count": null,
            "_view_module": "@jupyter-widgets/controls",
            "_view_module_version": "1.5.0",
            "_view_name": "ProgressView",
            "bar_style": "",
            "description": "",
            "description_tooltip": null,
            "layout": "IPY_MODEL_ef2d9ade793f40b397a816a6015521a5",
            "max": 1,
            "min": 0,
            "orientation": "horizontal",
            "style": "IPY_MODEL_23c80f9028f543c98503987badd5ea97",
            "value": 1
          }
        },
        "04c8c306a13b4ca99201d640da3f7539": {
          "model_module": "@jupyter-widgets/base",
          "model_name": "LayoutModel",
          "model_module_version": "1.2.0",
          "state": {
            "_model_module": "@jupyter-widgets/base",
            "_model_module_version": "1.2.0",
            "_model_name": "LayoutModel",
            "_view_count": null,
            "_view_module": "@jupyter-widgets/base",
            "_view_module_version": "1.2.0",
            "_view_name": "LayoutView",
            "align_content": null,
            "align_items": null,
            "align_self": null,
            "border": null,
            "bottom": null,
            "display": null,
            "flex": null,
            "flex_flow": null,
            "grid_area": null,
            "grid_auto_columns": null,
            "grid_auto_flow": null,
            "grid_auto_rows": null,
            "grid_column": null,
            "grid_gap": null,
            "grid_row": null,
            "grid_template_areas": null,
            "grid_template_columns": null,
            "grid_template_rows": null,
            "height": null,
            "justify_content": null,
            "justify_items": null,
            "left": null,
            "margin": null,
            "max_height": null,
            "max_width": null,
            "min_height": null,
            "min_width": null,
            "object_fit": null,
            "object_position": null,
            "order": null,
            "overflow": null,
            "overflow_x": null,
            "overflow_y": null,
            "padding": null,
            "right": null,
            "top": null,
            "visibility": null,
            "width": null
          }
        },
        "ddeb92e0583943be86aee062184e02d2": {
          "model_module": "@jupyter-widgets/base",
          "model_name": "LayoutModel",
          "model_module_version": "1.2.0",
          "state": {
            "_model_module": "@jupyter-widgets/base",
            "_model_module_version": "1.2.0",
            "_model_name": "LayoutModel",
            "_view_count": null,
            "_view_module": "@jupyter-widgets/base",
            "_view_module_version": "1.2.0",
            "_view_name": "LayoutView",
            "align_content": null,
            "align_items": null,
            "align_self": null,
            "border": null,
            "bottom": null,
            "display": null,
            "flex": null,
            "flex_flow": null,
            "grid_area": null,
            "grid_auto_columns": null,
            "grid_auto_flow": null,
            "grid_auto_rows": null,
            "grid_column": null,
            "grid_gap": null,
            "grid_row": null,
            "grid_template_areas": null,
            "grid_template_columns": null,
            "grid_template_rows": null,
            "height": null,
            "justify_content": null,
            "justify_items": null,
            "left": null,
            "margin": null,
            "max_height": null,
            "max_width": null,
            "min_height": null,
            "min_width": null,
            "object_fit": null,
            "object_position": null,
            "order": null,
            "overflow": null,
            "overflow_x": null,
            "overflow_y": null,
            "padding": null,
            "right": null,
            "top": null,
            "visibility": null,
            "width": null
          }
        },
        "c2bf72aefb10495496dc92e3488a2b37": {
          "model_module": "@jupyter-widgets/controls",
          "model_name": "DescriptionStyleModel",
          "model_module_version": "1.5.0",
          "state": {
            "_model_module": "@jupyter-widgets/controls",
            "_model_module_version": "1.5.0",
            "_model_name": "DescriptionStyleModel",
            "_view_count": null,
            "_view_module": "@jupyter-widgets/base",
            "_view_module_version": "1.2.0",
            "_view_name": "StyleView",
            "description_width": ""
          }
        },
        "ef2d9ade793f40b397a816a6015521a5": {
          "model_module": "@jupyter-widgets/base",
          "model_name": "LayoutModel",
          "model_module_version": "1.2.0",
          "state": {
            "_model_module": "@jupyter-widgets/base",
            "_model_module_version": "1.2.0",
            "_model_name": "LayoutModel",
            "_view_count": null,
            "_view_module": "@jupyter-widgets/base",
            "_view_module_version": "1.2.0",
            "_view_name": "LayoutView",
            "align_content": null,
            "align_items": null,
            "align_self": null,
            "border": null,
            "bottom": null,
            "display": null,
            "flex": null,
            "flex_flow": null,
            "grid_area": null,
            "grid_auto_columns": null,
            "grid_auto_flow": null,
            "grid_auto_rows": null,
            "grid_column": null,
            "grid_gap": null,
            "grid_row": null,
            "grid_template_areas": null,
            "grid_template_columns": null,
            "grid_template_rows": null,
            "height": null,
            "justify_content": null,
            "justify_items": null,
            "left": null,
            "margin": null,
            "max_height": null,
            "max_width": null,
            "min_height": null,
            "min_width": null,
            "object_fit": null,
            "object_position": null,
            "order": null,
            "overflow": null,
            "overflow_x": null,
            "overflow_y": null,
            "padding": null,
            "right": null,
            "top": null,
            "visibility": null,
            "width": null
          }
        },
        "23c80f9028f543c98503987badd5ea97": {
          "model_module": "@jupyter-widgets/controls",
          "model_name": "ProgressStyleModel",
          "model_module_version": "1.5.0",
          "state": {
            "_model_module": "@jupyter-widgets/controls",
            "_model_module_version": "1.5.0",
            "_model_name": "ProgressStyleModel",
            "_view_count": null,
            "_view_module": "@jupyter-widgets/base",
            "_view_module_version": "1.2.0",
            "_view_name": "StyleView",
            "bar_color": null,
            "description_width": ""
          }
        }
      }
    }
  },
  "nbformat": 4,
  "nbformat_minor": 0
}