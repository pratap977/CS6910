{
  "cells": [
    {
      "cell_type": "markdown",
      "metadata": {
        "id": "view-in-github",
        "colab_type": "text"
      },
      "source": [
        "<a href=\"https://colab.research.google.com/github/pratap977/CS6910/blob/main/CNN_updated.ipynb\" target=\"_parent\"><img src=\"https://colab.research.google.com/assets/colab-badge.svg\" alt=\"Open In Colab\"/></a>"
      ]
    },
    {
      "cell_type": "code",
      "execution_count": 1,
      "metadata": {
        "colab": {
          "base_uri": "https://localhost:8080/"
        },
        "id": "Pi9WL14qDlap",
        "outputId": "6597b804-9c90-40a0-a75f-f4990aa6cd94"
      },
      "outputs": [
        {
          "output_type": "stream",
          "name": "stdout",
          "text": [
            "Requirement already satisfied: split-folders in /usr/local/lib/python3.7/dist-packages (0.5.1)\n"
          ]
        }
      ],
      "source": [
        "!pip install split-folders"
      ]
    },
    {
      "cell_type": "code",
      "execution_count": 2,
      "metadata": {
        "colab": {
          "base_uri": "https://localhost:8080/"
        },
        "id": "ZsLNl8DPsUf7",
        "outputId": "a10c90b1-9013-4e50-e361-cd60af4ebd44"
      },
      "outputs": [
        {
          "output_type": "stream",
          "name": "stdout",
          "text": [
            "Requirement already satisfied: wandb in /usr/local/lib/python3.7/dist-packages (0.12.11)\n",
            "Requirement already satisfied: shortuuid>=0.5.0 in /usr/local/lib/python3.7/dist-packages (from wandb) (1.0.8)\n",
            "Requirement already satisfied: PyYAML in /usr/local/lib/python3.7/dist-packages (from wandb) (3.13)\n",
            "Requirement already satisfied: requests<3,>=2.0.0 in /usr/local/lib/python3.7/dist-packages (from wandb) (2.23.0)\n",
            "Requirement already satisfied: pathtools in /usr/local/lib/python3.7/dist-packages (from wandb) (0.1.2)\n",
            "Requirement already satisfied: Click!=8.0.0,>=7.0 in /usr/local/lib/python3.7/dist-packages (from wandb) (7.1.2)\n",
            "Requirement already satisfied: psutil>=5.0.0 in /usr/local/lib/python3.7/dist-packages (from wandb) (5.4.8)\n",
            "Requirement already satisfied: six>=1.13.0 in /usr/local/lib/python3.7/dist-packages (from wandb) (1.15.0)\n",
            "Requirement already satisfied: sentry-sdk>=1.0.0 in /usr/local/lib/python3.7/dist-packages (from wandb) (1.5.8)\n",
            "Requirement already satisfied: setproctitle in /usr/local/lib/python3.7/dist-packages (from wandb) (1.2.2)\n",
            "Requirement already satisfied: python-dateutil>=2.6.1 in /usr/local/lib/python3.7/dist-packages (from wandb) (2.8.2)\n",
            "Requirement already satisfied: docker-pycreds>=0.4.0 in /usr/local/lib/python3.7/dist-packages (from wandb) (0.4.0)\n",
            "Requirement already satisfied: promise<3,>=2.0 in /usr/local/lib/python3.7/dist-packages (from wandb) (2.3)\n",
            "Requirement already satisfied: protobuf>=3.12.0 in /usr/local/lib/python3.7/dist-packages (from wandb) (3.17.3)\n",
            "Requirement already satisfied: GitPython>=1.0.0 in /usr/local/lib/python3.7/dist-packages (from wandb) (3.1.27)\n",
            "Requirement already satisfied: yaspin>=1.0.0 in /usr/local/lib/python3.7/dist-packages (from wandb) (2.1.0)\n",
            "Requirement already satisfied: typing-extensions>=3.7.4.3 in /usr/local/lib/python3.7/dist-packages (from GitPython>=1.0.0->wandb) (3.10.0.2)\n",
            "Requirement already satisfied: gitdb<5,>=4.0.1 in /usr/local/lib/python3.7/dist-packages (from GitPython>=1.0.0->wandb) (4.0.9)\n",
            "Requirement already satisfied: smmap<6,>=3.0.1 in /usr/local/lib/python3.7/dist-packages (from gitdb<5,>=4.0.1->GitPython>=1.0.0->wandb) (5.0.0)\n",
            "Requirement already satisfied: chardet<4,>=3.0.2 in /usr/local/lib/python3.7/dist-packages (from requests<3,>=2.0.0->wandb) (3.0.4)\n",
            "Requirement already satisfied: idna<3,>=2.5 in /usr/local/lib/python3.7/dist-packages (from requests<3,>=2.0.0->wandb) (2.10)\n",
            "Requirement already satisfied: urllib3!=1.25.0,!=1.25.1,<1.26,>=1.21.1 in /usr/local/lib/python3.7/dist-packages (from requests<3,>=2.0.0->wandb) (1.24.3)\n",
            "Requirement already satisfied: certifi>=2017.4.17 in /usr/local/lib/python3.7/dist-packages (from requests<3,>=2.0.0->wandb) (2021.10.8)\n",
            "Requirement already satisfied: termcolor<2.0.0,>=1.1.0 in /usr/local/lib/python3.7/dist-packages (from yaspin>=1.0.0->wandb) (1.1.0)\n"
          ]
        }
      ],
      "source": [
        "!pip install wandb"
      ]
    },
    {
      "cell_type": "code",
      "execution_count": 5,
      "metadata": {
        "id": "Z3tj1G_AegWC"
      },
      "outputs": [],
      "source": [
        "import numpy as np\n",
        "import tensorflow as tf\n",
        "from tensorflow import keras\n",
        "from PIL import Image as im\n",
        "import math as mh\n",
        "from matplotlib import pyplot\n",
        "from tensorflow.keras.layers import Conv2D,MaxPooling2D,Activation,Dense,Flatten\n",
        "from keras.preprocessing.image import load_img as im\n",
        "from keras.preprocessing.image import save_img as sim\n",
        "# import torch"
      ]
    },
    {
      "cell_type": "code",
      "execution_count": 6,
      "metadata": {
        "id": "jZw-_BVUeyta"
      },
      "outputs": [],
      "source": [
        "import os\n",
        "from random import shuffle\n",
        "import numpy as np\n",
        "import splitfolders\n",
        "from PIL import Image\n",
        "from torchvision import transforms\n",
        "import numpy"
      ]
    },
    {
      "cell_type": "code",
      "execution_count": 7,
      "metadata": {
        "id": "Cv5SXYUde0pE"
      },
      "outputs": [],
      "source": [
        "from tensorflow.keras.preprocessing import image\n",
        "from tensorflow.keras import layers,models\n",
        "import wandb"
      ]
    },
    {
      "cell_type": "code",
      "execution_count": null,
      "metadata": {
        "id": "IPxXfL98e2DR"
      },
      "outputs": [],
      "source": [
        "# for small dataset having 1000 images \n",
        "src_url = \"https://storage.googleapis.com/wandb_datasets/nature_1K.zip\"\n",
        "src_zip = \"nature_1K.zip\""
      ]
    },
    {
      "cell_type": "code",
      "execution_count": 5,
      "metadata": {
        "id": "XezFYYnTXi1R"
      },
      "outputs": [],
      "source": [
        "src_url = \"https://storage.googleapis.com/wandb_datasets/nature_12K.zip\"\n",
        "src_zip = \"nature_12K.zip\""
      ]
    },
    {
      "cell_type": "code",
      "execution_count": 6,
      "metadata": {
        "id": "jJA5ny1-e4_j"
      },
      "outputs": [],
      "source": [
        "%%capture\n",
        "!curl -SL $src_url > $src_zip\n",
        "!unzip $src_zip"
      ]
    },
    {
      "cell_type": "code",
      "execution_count": null,
      "metadata": {
        "id": "xo2NOD5WacZz"
      },
      "outputs": [],
      "source": [
        "%%capture\n",
        "!curl -SL $src_url1 > $src_zip1\n",
        "!unzip $src_zip1"
      ]
    },
    {
      "cell_type": "code",
      "execution_count": 5,
      "metadata": {
        "id": "D5ck8Kp6e75b"
      },
      "outputs": [],
      "source": [
        "data_folders=\"/content/inaturalist_12K/train\""
      ]
    },
    {
      "cell_type": "code",
      "execution_count": 6,
      "metadata": {
        "colab": {
          "base_uri": "https://localhost:8080/"
        },
        "id": "FZY--9ijD7SW",
        "outputId": "d2225724-b242-46cc-d736-bf914483d550"
      },
      "outputs": [
        {
          "output_type": "stream",
          "name": "stderr",
          "text": [
            "Copying files: 9999 files [00:36, 277.48 files/s]\n"
          ]
        }
      ],
      "source": [
        "splitfolders.ratio(data_folders, output=\"outputfin\", seed=1337, ratio=(.8, .2), group_prefix=None)"
      ]
    },
    {
      "cell_type": "code",
      "execution_count": 7,
      "metadata": {
        "id": "bywllD_yFSUB"
      },
      "outputs": [],
      "source": [
        "!rm -rf nature_12K.zip"
      ]
    },
    {
      "cell_type": "code",
      "source": [
        "!rm -rf inaturalist_12K/train"
      ],
      "metadata": {
        "id": "xrWcxsAW8YrL"
      },
      "execution_count": 8,
      "outputs": []
    },
    {
      "cell_type": "code",
      "execution_count": 8,
      "metadata": {
        "id": "vZS3VCnVfF7z"
      },
      "outputs": [],
      "source": [
        "class_labels = os.listdir(\"/content/outputfin/train\")"
      ]
    },
    {
      "cell_type": "code",
      "execution_count": 9,
      "metadata": {
        "colab": {
          "base_uri": "https://localhost:8080/"
        },
        "id": "ElFVBdKffHf3",
        "outputId": "e2ffcb54-4a08-40cc-acbc-764d099ba726"
      },
      "outputs": [
        {
          "output_type": "execute_result",
          "data": {
            "text/plain": [
              "{'Amphibia': 8,\n",
              " 'Animalia': 6,\n",
              " 'Arachnida': 9,\n",
              " 'Aves': 7,\n",
              " 'Fungi': 0,\n",
              " 'Insecta': 5,\n",
              " 'Mammalia': 1,\n",
              " 'Mollusca': 4,\n",
              " 'Plantae': 3,\n",
              " 'Reptilia': 2}"
            ]
          },
          "metadata": {},
          "execution_count": 9
        }
      ],
      "source": [
        "lab={l:i for l,i in zip(class_labels,range(10))}\n",
        "lab"
      ]
    },
    {
      "cell_type": "code",
      "source": [
        "data_augmentation  = transforms.Compose([\n",
        "        transforms.CenterCrop(224),\n",
        "        transforms.ToTensor(),\n",
        "        transforms.Normalize([0.485, 0.456, 0.406], [0.229, 0.224, 0.225])\n",
        "    ])"
      ],
      "metadata": {
        "id": "d2hRRc3-lfHX"
      },
      "execution_count": 10,
      "outputs": []
    },
    {
      "cell_type": "code",
      "execution_count": 11,
      "metadata": {
        "id": "PCIhL2R8H3sm"
      },
      "outputs": [],
      "source": [
        "imgs_tr = []\n",
        "filenames = []\n",
        "\n",
        "truth_tr = []\n",
        "for l in class_labels:\n",
        "  if l.startswith(\".\"):\n",
        "    continue\n",
        "  imgs_per_class = os.listdir(os.path.join(\"/content/outputfin/train\", l))\n",
        "  for img in imgs_per_class:\n",
        "    \n",
        "    filenames.append(img.split(\".\")[0])\n",
        "    \n",
        "    img_path = os.path.join(\"/content/outputfin/train\", l, img)\n",
        "    # img = image.load_img(img_path, target_size=(224, 224))\n",
        "    # img = image.img_to_array(img)\n",
        "    img=Image.open(img_path)\n",
        "    img = img.resize((224,224))\n",
        "    if img.mode == 'L':\n",
        "                continue\n",
        "    normalized_image = data_augmentation(img)\n",
        "    truth_tr.append(lab[l])\n",
        "    # don't forget to rescale test images to match the range of inputs\n",
        "    # to the network\n",
        "    # img = img/255.0\n",
        "    imgs_tr.append(numpy.asarray(normalized_image).transpose(1,2,0))\n",
        "x_train=np.asarray(imgs_tr)\n",
        "y_train=np.asarray(truth_tr)\n",
        "del imgs_tr\n",
        "del truth_tr"
      ]
    },
    {
      "cell_type": "code",
      "source": [
        "imgs_val = []\n",
        "filenames = []\n",
        "\n",
        "truth_val = []\n",
        "for l in class_labels:\n",
        "  if l.startswith(\".\"):\n",
        "    continue\n",
        "  imgs_per_class = os.listdir(os.path.join(\"/content/outputfin/val\", l))\n",
        "  for img in imgs_per_class:\n",
        "    \n",
        "    filenames.append(img.split(\".\")[0])\n",
        "    \n",
        "    img_path = os.path.join(\"/content/outputfin/val\", l, img)\n",
        "    # img = image.load_img(img_path, target_size=(299, 299))\n",
        "    # img = image.img_to_array(img)\n",
        "    img=Image.open(img_path)\n",
        "    img = img.resize((224,224))\n",
        "    if img.mode == 'L':\n",
        "                continue\n",
        "    normalized_image = data_augmentation(img)\n",
        "    truth_val.append(lab[l])\n",
        "    # don't forget to rescale test images to match the range of inputs\n",
        "    # to the network\n",
        "    # img = img/255.0\n",
        "    imgs_val.append(numpy.asarray(normalized_image).transpose(1,2,0))\n",
        "x_val=np.asarray(imgs_val)\n",
        "y_val=np.asarray(truth_val)\n",
        "del imgs_val\n",
        "del truth_val"
      ],
      "metadata": {
        "id": "ib73P80mmWQ4"
      },
      "execution_count": 12,
      "outputs": []
    },
    {
      "cell_type": "code",
      "execution_count": 20,
      "metadata": {
        "id": "Brmo1GBkfLV3"
      },
      "outputs": [],
      "source": [
        "imgs_val = []\n",
        "filenames = []\n",
        "\n",
        "truth_val = []\n",
        "for l in class_labels:\n",
        "  if l.startswith(\".\"):\n",
        "    continue\n",
        "  imgs_per_class = os.listdir(os.path.join(\"/content/inaturalist_12K/val\", l))\n",
        "  for img in imgs_per_class:\n",
        "    \n",
        "    filenames.append(img.split(\".\")[0])\n",
        "    truth_val.append(lab[l])\n",
        "    img_path = os.path.join(\"/content/inaturalist_12K/val\", l, img)\n",
        "    img = image.load_img(img_path, target_size=(299, 299))\n",
        "    img = image.img_to_array(img)\n",
        "    # don't forget to rescale test images to match the range of inputs\n",
        "    # to the network\n",
        "    img = img/255.0\n",
        "    imgs_val.append(img)"
      ]
    },
    {
      "cell_type": "code",
      "execution_count": null,
      "metadata": {
        "id": "8uBcgIDmfQ0H"
      },
      "outputs": [],
      "source": [
        "x_train=np.asarray(imgs_tr)\n",
        "y_train=np.asarray(truth_tr)\n",
        "# x_val=np.asarray(imgs_val)\n",
        "# y_val=np.asarray(truth_val)"
      ]
    },
    {
      "cell_type": "code",
      "execution_count": null,
      "metadata": {
        "id": "YaBReU4CJGR4"
      },
      "outputs": [],
      "source": [
        "y_train.shape"
      ]
    },
    {
      "cell_type": "code",
      "execution_count": null,
      "metadata": {
        "id": "FRfSssGXg45d"
      },
      "outputs": [],
      "source": [
        "sweep_config = {\n",
        "                  'method': 'grid',\n",
        "                  'metric':{\n",
        "                            'name':'accuracy',\n",
        "                            'goal':'maximize'\n",
        "                            },\n",
        "                  'parameters': {\n",
        "                                'filsize'   : {'values': [32, 64, 96, 128, 256]},\n",
        "                                'kersize'   :{'values':[3,5,7,9]},\n",
        "                                'dropout'   :{'values':[0.1,0.3,0.4]}, \n",
        "                                'denseunits':{'values':[256,100,50,60]}, \n",
        "                                'epochs'    :{'values':[5,10,20,30]},                          \n",
        "                              }\n",
        "              }"
      ]
    },
    {
      "cell_type": "code",
      "execution_count": 14,
      "metadata": {
        "id": "alh7y9MId7CR"
      },
      "outputs": [],
      "source": [
        "sweep_config = {\n",
        "                  'method'    : \"random\",\n",
        "                  'metric':{\n",
        "                            'name':'val_accuracy',\n",
        "                            'goal':'maximize'\n",
        "                            },\n",
        "                  'parameters': {\n",
        "                                  'flt'                 : {'values' :[32, 64,16]  },\n",
        "                                  'filterorg'               : {'values' :[1,2,0.5] },\n",
        "                                  'kerneldim'               : {'values' :[3,4,5,7]  },\n",
        "                                  'activation'              : {'values' :['sigmoid','relu','tanh','elu'] },\n",
        "                                  'neurons'                 : {'values' :[20,30] },\n",
        "                                  'optimizer'               : {'values' :['sgd','adam','rmsprop'] },\n",
        "                                  'lr'                      : {'values' :[1e-3,1e-4,2e-3,3e-3,4e-3,3e-4] },\n",
        "                                  'epochs'                  : {'values' :[5] },\n",
        "                                  'batchsize'               : {'values' :[16,32,64,128] },\n",
        "                                  'dropout'                 : {'values' :[0.2,0.25,0.3,0,0.1,0.5] },\n",
        "                                  'batchnormalisation'       : {'values' :['YES','NO']} ,\n",
        "                                }\n",
        "                }"
      ]
    },
    {
      "cell_type": "code",
      "execution_count": null,
      "metadata": {
        "colab": {
          "base_uri": "https://localhost:8080/"
        },
        "id": "6_3PPBL668DH",
        "outputId": "9d008253-ea9d-40d6-a9da-29674627ecaf"
      },
      "outputs": [
        {
          "data": {
            "text/plain": [
              "{'method': 'grid',\n",
              " 'metric': {'goal': 'maximize', 'name': 'accuracy'},\n",
              " 'parameters': {'denseunits': {'values': [256, 100, 50, 60]},\n",
              "  'dropout': {'values': [0.1, 0.3, 0.4]},\n",
              "  'epochs': {'values': [5, 10, 20, 30]},\n",
              "  'filsize': {'values': [32, 64, 96, 128, 256]},\n",
              "  'kersize': {'values': [3, 5, 7, 9]}}}"
            ]
          },
          "execution_count": 31,
          "metadata": {
            "tags": []
          },
          "output_type": "execute_result"
        }
      ],
      "source": [
        "sweep_config"
      ]
    },
    {
      "cell_type": "code",
      "source": [
        "def create_CNN(fil,ker,activ,batchnormalisation,dropout,neurons):\n",
        "  cnn=models.Sequential()\n",
        "  cnn.add(layers.Conv2D(filters=fil[0], kernel_size=(ker[0], ker[0]), activation=activ[0],input_shape=(224, 224, 3)))\n",
        "  cnn.add(layers.MaxPooling2D((2, 2)))\n",
        "  if(batchnormalisation=='YES'):\n",
        "    cnn.add(layers.BatchNormalization())\n",
        "        \n",
        "        \n",
        "  cnn.add(layers.Conv2D(filters=fil[1], kernel_size=(ker[1], ker[1]), activation=activ[1]))\n",
        "  cnn.add(layers.MaxPooling2D((2, 2)))\n",
        "  if(batchnormalisation=='YES'):\n",
        "    cnn.add(layers.BatchNormalization())\n",
        "                                                  \n",
        "  cnn.add(layers.Conv2D(filters=fil[2], kernel_size=(ker[2], ker[2]), activation=activ[2]))\n",
        "  cnn.add(layers.MaxPooling2D((2, 2)))\n",
        "  if(batchnormalisation=='YES'):\n",
        "    cnn.add(layers.BatchNormalization())\n",
        "         \n",
        "  cnn.add(layers.Conv2D(filters=fil[3], kernel_size=(ker[3], ker[3]), activation=activ[3]))\n",
        "  cnn.add(layers.MaxPooling2D((2, 2)))\n",
        "  if(batchnormalisation=='YES'):\n",
        "    cnn.add(layers.BatchNormalization())\n",
        "\n",
        "  cnn.add(layers.Conv2D(filters=fil[4], kernel_size=(ker[4], ker[4]), activation=activ[4]))\n",
        "  cnn.add(layers.MaxPooling2D((2, 2)))\n",
        "  \n",
        "  if(batchnormalisation=='YES'):\n",
        "    cnn.add(layers.BatchNormalization())\n",
        "\n",
        "  cnn.add(layers.Flatten())\n",
        "  if(dropout!=0):\n",
        "    cnn.add(layers.Dropout(dropout))\n",
        "  cnn.add(layers.Dense(neurons, activation=activ[5]))\n",
        "  cnn.add(layers.Dense(10, activation='softmax'))\n",
        "  return cnn"
      ],
      "metadata": {
        "id": "PH4BMWe5i90H"
      },
      "execution_count": 13,
      "outputs": []
    },
    {
      "cell_type": "code",
      "execution_count": 15,
      "metadata": {
        "id": "cUkprxMmffUx"
      },
      "outputs": [],
      "source": [
        "def conlay():\n",
        "  wandb.init(config=sweep_config, magic=True)  \n",
        "  f= wandb.config.flt \n",
        "  fo=  wandb.config.filterorg                           \n",
        "  fil=[ (int)(f*(fo)**i) if((int)(f*(fo)**i)>0) else  1 for i in range(5)]\n",
        "  kd=wandb.config.kerneldim\n",
        "  ker=[kd for i in range(5)]\n",
        "  if(wandb.config.activation==\"sigmoid\"):\n",
        "    ac=tf.keras.activations.sigmoid\n",
        "  elif(wandb.config.activation==\"tanh\"):\n",
        "    ac=tf.keras.activations.tanh\n",
        "  elif(wandb.config.activation==\"relu\"):\n",
        "    ac='relu'\n",
        "  else:\n",
        "    ac=tf.keras.activations.elu\n",
        "  activ=['relu','relu','relu','relu','relu',ac]\n",
        "  if(wandb.config.optimizer==\"sgd\"):\n",
        "    optim = tf.keras.optimizers.SGD(learning_rate=wandb.config.lr)\n",
        "  elif(wandb.config.optimizer==\"adam\"):\n",
        "    optim = tf.keras.optimizers.Adam(learning_rate=wandb.config.lr)\n",
        "  elif(wandb.config.optimizer==\"momentum\"):\n",
        "    optim = tf.keras.optimizers.SGD(learning_rate=wandb.config.lr,momentum=wandb.config.gama)\n",
        "  elif(wandb.config.optimizer==\"rmsprop\"):\n",
        "    optim = tf.keras.optimizers.RMSprop(learning_rate=wandb.config.lr)\n",
        "      \n",
        "  cnn =create_CNN(fil,ker,activ,wandb.config.batchnormalisation,wandb.config.dropout,wandb.config.neurons)             \n",
        "  cnn.compile(optimizer=optim,\n",
        "              loss='sparse_categorical_crossentropy',\n",
        "              metrics=['accuracy'])\n",
        "  cnn.fit(x_train, y_train, batch_size=wandb.config.batchsize,epochs=wandb.config.epochs,validation_data=(x_val,y_val),callbacks=[wandb.keras.WandbCallback()])\n",
        "  del cnn\n"
      ]
    },
    {
      "cell_type": "code",
      "execution_count": 16,
      "metadata": {
        "colab": {
          "base_uri": "https://localhost:8080/"
        },
        "id": "d0KuX5F-g8Uj",
        "outputId": "9c548f03-600f-4639-8612-95fac86ffdf7"
      },
      "outputs": [
        {
          "output_type": "stream",
          "name": "stdout",
          "text": [
            "Create sweep with ID: 4zdwu10x\n",
            "Sweep URL: https://wandb.ai/pratap101/A2-part-A1/sweeps/4zdwu10x\n"
          ]
        }
      ],
      "source": [
        "\n",
        "sweep_id = wandb.sweep(sweep_config,project='A2-part-A1')"
      ]
    },
    {
      "cell_type": "code",
      "execution_count": null,
      "metadata": {
        "id": "X11w8RPeT58e"
      },
      "outputs": [],
      "source": [
        ""
      ]
    },
    {
      "cell_type": "code",
      "execution_count": null,
      "metadata": {
        "colab": {
          "base_uri": "https://localhost:8080/",
          "height": 503,
          "referenced_widgets": [
            "69ab767e49c7479783964cbe53a58828",
            "43deafcf0f8f40dda281350cbde38fc4",
            "e4eeff36ce364c26ab9b55974ce753e3",
            "f63b87706c4b4971832e1133c96cbc58",
            "8d1336cffa1c466e974a0f84cd4fd05b",
            "9e09fea987f2487f8bfd794d6942d120",
            "f2506d795afe46cca0d72c48ee02fa7c",
            "98bab619c0d740a3b3868e0c71c7d623"
          ]
        },
        "id": "kBInLgbpg_T2",
        "outputId": "86b895bc-9985-405c-a5b0-c708dd1fe5c9"
      },
      "outputs": [
        {
          "output_type": "stream",
          "name": "stderr",
          "text": [
            "\u001b[34m\u001b[1mwandb\u001b[0m: Agent Starting Run: 87q90aw1 with config:\n",
            "\u001b[34m\u001b[1mwandb\u001b[0m: \tactivation: sigmoid\n",
            "\u001b[34m\u001b[1mwandb\u001b[0m: \tbatchnormalisation: NO\n",
            "\u001b[34m\u001b[1mwandb\u001b[0m: \tbatchsize: 16\n",
            "\u001b[34m\u001b[1mwandb\u001b[0m: \tdropout: 0.1\n",
            "\u001b[34m\u001b[1mwandb\u001b[0m: \tepochs: 5\n",
            "\u001b[34m\u001b[1mwandb\u001b[0m: \tfilterorg: 1\n",
            "\u001b[34m\u001b[1mwandb\u001b[0m: \tflt: 16\n",
            "\u001b[34m\u001b[1mwandb\u001b[0m: \tkerneldim: 4\n",
            "\u001b[34m\u001b[1mwandb\u001b[0m: \tlr: 0.003\n",
            "\u001b[34m\u001b[1mwandb\u001b[0m: \tneurons: 20\n",
            "\u001b[34m\u001b[1mwandb\u001b[0m: \toptimizer: sgd\n",
            "\u001b[34m\u001b[1mwandb\u001b[0m: Currently logged in as: \u001b[33mpratap101\u001b[0m (use `wandb login --relogin` to force relogin)\n"
          ]
        },
        {
          "output_type": "display_data",
          "data": {
            "text/plain": [
              "<IPython.core.display.HTML object>"
            ],
            "text/html": [
              "Tracking run with wandb version 0.12.11"
            ]
          },
          "metadata": {}
        },
        {
          "output_type": "display_data",
          "data": {
            "text/plain": [
              "<IPython.core.display.HTML object>"
            ],
            "text/html": [
              "Run data is saved locally in <code>/content/wandb/run-20220401_080620-87q90aw1</code>"
            ]
          },
          "metadata": {}
        },
        {
          "output_type": "display_data",
          "data": {
            "text/plain": [
              "<IPython.core.display.HTML object>"
            ],
            "text/html": [
              "Syncing run <strong><a href=\"https://wandb.ai/pratap101/A2-part-A1/runs/87q90aw1\" target=\"_blank\">drawn-sweep-1</a></strong> to <a href=\"https://wandb.ai/pratap101/A2-part-A1\" target=\"_blank\">Weights & Biases</a> (<a href=\"https://wandb.me/run\" target=\"_blank\">docs</a>)<br/>Sweep page:  <a href=\"https://wandb.ai/pratap101/A2-part-A1/sweeps/4zdwu10x\" target=\"_blank\">https://wandb.ai/pratap101/A2-part-A1/sweeps/4zdwu10x</a>"
            ]
          },
          "metadata": {}
        },
        {
          "output_type": "display_data",
          "data": {
            "text/plain": [
              "<IPython.core.display.HTML object>"
            ],
            "text/html": [
              "Finishing last run (ID:87q90aw1) before initializing another..."
            ]
          },
          "metadata": {}
        },
        {
          "output_type": "stream",
          "name": "stdout",
          "text": [
            "\n"
          ]
        },
        {
          "output_type": "display_data",
          "data": {
            "text/plain": [
              "<IPython.core.display.HTML object>"
            ],
            "text/html": [
              "Waiting for W&B process to finish... <strong style=\"color:green\">(success).</strong>"
            ]
          },
          "metadata": {}
        },
        {
          "output_type": "display_data",
          "data": {
            "text/plain": [
              "VBox(children=(Label(value='0.001 MB of 0.001 MB uploaded (0.000 MB deduped)\\r'), FloatProgress(value=1.0, max…"
            ],
            "application/vnd.jupyter.widget-view+json": {
              "version_major": 2,
              "version_minor": 0,
              "model_id": "69ab767e49c7479783964cbe53a58828"
            }
          },
          "metadata": {}
        },
        {
          "output_type": "display_data",
          "data": {
            "text/plain": [
              "<IPython.core.display.HTML object>"
            ],
            "text/html": [
              "Synced <strong style=\"color:#cdcd00\">drawn-sweep-1</strong>: <a href=\"https://wandb.ai/pratap101/A2-part-A1/runs/87q90aw1\" target=\"_blank\">https://wandb.ai/pratap101/A2-part-A1/runs/87q90aw1</a><br/>Synced 4 W&B file(s), 0 media file(s), 0 artifact file(s) and 0 other file(s)"
            ]
          },
          "metadata": {}
        },
        {
          "output_type": "display_data",
          "data": {
            "text/plain": [
              "<IPython.core.display.HTML object>"
            ],
            "text/html": [
              "Find logs at: <code>./wandb/run-20220401_080620-87q90aw1/logs</code>"
            ]
          },
          "metadata": {}
        },
        {
          "output_type": "display_data",
          "data": {
            "text/plain": [
              "<IPython.core.display.HTML object>"
            ],
            "text/html": [
              "Successfully finished last run (ID:87q90aw1). Initializing new run:<br/>"
            ]
          },
          "metadata": {}
        },
        {
          "output_type": "display_data",
          "data": {
            "text/plain": [
              "<IPython.core.display.HTML object>"
            ],
            "text/html": [
              "Tracking run with wandb version 0.12.11"
            ]
          },
          "metadata": {}
        },
        {
          "output_type": "display_data",
          "data": {
            "text/plain": [
              "<IPython.core.display.HTML object>"
            ],
            "text/html": [
              "Run data is saved locally in <code>/content/wandb/run-20220401_080625-87q90aw1</code>"
            ]
          },
          "metadata": {}
        },
        {
          "output_type": "display_data",
          "data": {
            "text/plain": [
              "<IPython.core.display.HTML object>"
            ],
            "text/html": [
              "Syncing run <strong><a href=\"https://wandb.ai/pratap101/A2-part-A1/runs/87q90aw1\" target=\"_blank\">drawn-sweep-1</a></strong> to <a href=\"https://wandb.ai/pratap101/A2-part-A1\" target=\"_blank\">Weights & Biases</a> (<a href=\"https://wandb.me/run\" target=\"_blank\">docs</a>)<br/>Sweep page:  <a href=\"https://wandb.ai/pratap101/A2-part-A1/sweeps/4zdwu10x\" target=\"_blank\">https://wandb.ai/pratap101/A2-part-A1/sweeps/4zdwu10x</a>"
            ]
          },
          "metadata": {}
        }
      ],
      "source": [
        "wandb.agent(sweep_id,conlay,project='A2-part-A1',count=20)"
      ]
    },
    {
      "cell_type": "code",
      "execution_count": 14,
      "metadata": {
        "id": "a9AsXTWp3_Zs"
      },
      "outputs": [],
      "source": [
        "def conlayss():\n",
        "  # wandb.init(config=sweep_config, magic=True)    \n",
        "  cnn = models.Sequential([\n",
        "                     \n",
        "    layers.Conv2D(32, kernel_size=(3,3), activation='relu', input_shape=(224, 224, 3)),\n",
        "    layers.MaxPooling2D((2,2)),\n",
        "    \n",
        "    layers.Conv2D(64,  kernel_size=(3,3), activation='relu'),\n",
        "    layers.MaxPooling2D((2,2)),\n",
        "\n",
        "    layers.Conv2D(64, kernel_size=(3,3), activation='relu'),\n",
        "    layers.MaxPooling2D((2,2)),\n",
        "\n",
        "    layers.Conv2D(64,  kernel_size=(3,3), activation='relu'),\n",
        "    layers.MaxPooling2D((2,2)),\n",
        "\n",
        "    layers.Conv2D(64,  kernel_size=(3,3), activation='relu'),\n",
        "    layers.MaxPooling2D((2,2)),\n",
        "    layers.Flatten(),\n",
        "    layers.Dropout(0.2),\n",
        "\n",
        "    \n",
        "    layers.Dense(30, activation='relu'),\n",
        "    layers.Dense(10, activation='softmax')\n",
        "  ])\n",
        "  #gc.collect()\n",
        "  # heyGPU=torch.cuda.is_available()\n",
        "  # if heyGPU: cnnModel=cnnModel.cuda()\n",
        "  cnn.compile(optimizer='adam',\n",
        "              loss='sparse_categorical_crossentropy',\n",
        "              metrics=['accuracy'])\n",
        "  cnn.fit(x_train, y_train,batch_size=64 ,epochs=10)\n",
        "  del cnn\n",
        "  return history\n",
        "  # torch.cuda.empty_cache()"
      ]
    },
    {
      "cell_type": "code",
      "source": [
        "y_train[5]"
      ],
      "metadata": {
        "colab": {
          "base_uri": "https://localhost:8080/"
        },
        "id": "pPkEwKpnrbwt",
        "outputId": "99249a1a-7d6c-4592-e274-f33f20348202"
      },
      "execution_count": 32,
      "outputs": [
        {
          "output_type": "execute_result",
          "data": {
            "text/plain": [
              "0"
            ]
          },
          "metadata": {},
          "execution_count": 32
        }
      ]
    },
    {
      "cell_type": "code",
      "execution_count": null,
      "metadata": {
        "colab": {
          "base_uri": "https://localhost:8080/"
        },
        "id": "NGLxT2nRRFit",
        "outputId": "646be790-89e1-4a48-f5bc-88325adb683f"
      },
      "outputs": [
        {
          "output_type": "stream",
          "name": "stdout",
          "text": [
            "Epoch 1/10\n"
          ]
        }
      ],
      "source": [
        "conlayss()"
      ]
    },
    {
      "cell_type": "code",
      "execution_count": null,
      "metadata": {
        "id": "NGX6W2UTRH-G"
      },
      "outputs": [],
      "source": [
        ""
      ]
    }
  ],
  "metadata": {
    "accelerator": "GPU",
    "colab": {
      "collapsed_sections": [],
      "name": "CNN_updated.ipynb",
      "provenance": [],
      "include_colab_link": true
    },
    "kernelspec": {
      "display_name": "Python 3",
      "name": "python3"
    },
    "language_info": {
      "name": "python"
    },
    "widgets": {
      "application/vnd.jupyter.widget-state+json": {
        "69ab767e49c7479783964cbe53a58828": {
          "model_module": "@jupyter-widgets/controls",
          "model_name": "VBoxModel",
          "model_module_version": "1.5.0",
          "state": {
            "_dom_classes": [],
            "_model_module": "@jupyter-widgets/controls",
            "_model_module_version": "1.5.0",
            "_model_name": "VBoxModel",
            "_view_count": null,
            "_view_module": "@jupyter-widgets/controls",
            "_view_module_version": "1.5.0",
            "_view_name": "VBoxView",
            "box_style": "",
            "children": [
              "IPY_MODEL_43deafcf0f8f40dda281350cbde38fc4",
              "IPY_MODEL_e4eeff36ce364c26ab9b55974ce753e3"
            ],
            "layout": "IPY_MODEL_f63b87706c4b4971832e1133c96cbc58"
          }
        },
        "43deafcf0f8f40dda281350cbde38fc4": {
          "model_module": "@jupyter-widgets/controls",
          "model_name": "LabelModel",
          "model_module_version": "1.5.0",
          "state": {
            "_dom_classes": [],
            "_model_module": "@jupyter-widgets/controls",
            "_model_module_version": "1.5.0",
            "_model_name": "LabelModel",
            "_view_count": null,
            "_view_module": "@jupyter-widgets/controls",
            "_view_module_version": "1.5.0",
            "_view_name": "LabelView",
            "description": "",
            "description_tooltip": null,
            "layout": "IPY_MODEL_8d1336cffa1c466e974a0f84cd4fd05b",
            "placeholder": "​",
            "style": "IPY_MODEL_9e09fea987f2487f8bfd794d6942d120",
            "value": "0.008 MB of 0.008 MB uploaded (0.000 MB deduped)\r"
          }
        },
        "e4eeff36ce364c26ab9b55974ce753e3": {
          "model_module": "@jupyter-widgets/controls",
          "model_name": "FloatProgressModel",
          "model_module_version": "1.5.0",
          "state": {
            "_dom_classes": [],
            "_model_module": "@jupyter-widgets/controls",
            "_model_module_version": "1.5.0",
            "_model_name": "FloatProgressModel",
            "_view_count": null,
            "_view_module": "@jupyter-widgets/controls",
            "_view_module_version": "1.5.0",
            "_view_name": "ProgressView",
            "bar_style": "",
            "description": "",
            "description_tooltip": null,
            "layout": "IPY_MODEL_f2506d795afe46cca0d72c48ee02fa7c",
            "max": 1,
            "min": 0,
            "orientation": "horizontal",
            "style": "IPY_MODEL_98bab619c0d740a3b3868e0c71c7d623",
            "value": 1
          }
        },
        "f63b87706c4b4971832e1133c96cbc58": {
          "model_module": "@jupyter-widgets/base",
          "model_name": "LayoutModel",
          "model_module_version": "1.2.0",
          "state": {
            "_model_module": "@jupyter-widgets/base",
            "_model_module_version": "1.2.0",
            "_model_name": "LayoutModel",
            "_view_count": null,
            "_view_module": "@jupyter-widgets/base",
            "_view_module_version": "1.2.0",
            "_view_name": "LayoutView",
            "align_content": null,
            "align_items": null,
            "align_self": null,
            "border": null,
            "bottom": null,
            "display": null,
            "flex": null,
            "flex_flow": null,
            "grid_area": null,
            "grid_auto_columns": null,
            "grid_auto_flow": null,
            "grid_auto_rows": null,
            "grid_column": null,
            "grid_gap": null,
            "grid_row": null,
            "grid_template_areas": null,
            "grid_template_columns": null,
            "grid_template_rows": null,
            "height": null,
            "justify_content": null,
            "justify_items": null,
            "left": null,
            "margin": null,
            "max_height": null,
            "max_width": null,
            "min_height": null,
            "min_width": null,
            "object_fit": null,
            "object_position": null,
            "order": null,
            "overflow": null,
            "overflow_x": null,
            "overflow_y": null,
            "padding": null,
            "right": null,
            "top": null,
            "visibility": null,
            "width": null
          }
        },
        "8d1336cffa1c466e974a0f84cd4fd05b": {
          "model_module": "@jupyter-widgets/base",
          "model_name": "LayoutModel",
          "model_module_version": "1.2.0",
          "state": {
            "_model_module": "@jupyter-widgets/base",
            "_model_module_version": "1.2.0",
            "_model_name": "LayoutModel",
            "_view_count": null,
            "_view_module": "@jupyter-widgets/base",
            "_view_module_version": "1.2.0",
            "_view_name": "LayoutView",
            "align_content": null,
            "align_items": null,
            "align_self": null,
            "border": null,
            "bottom": null,
            "display": null,
            "flex": null,
            "flex_flow": null,
            "grid_area": null,
            "grid_auto_columns": null,
            "grid_auto_flow": null,
            "grid_auto_rows": null,
            "grid_column": null,
            "grid_gap": null,
            "grid_row": null,
            "grid_template_areas": null,
            "grid_template_columns": null,
            "grid_template_rows": null,
            "height": null,
            "justify_content": null,
            "justify_items": null,
            "left": null,
            "margin": null,
            "max_height": null,
            "max_width": null,
            "min_height": null,
            "min_width": null,
            "object_fit": null,
            "object_position": null,
            "order": null,
            "overflow": null,
            "overflow_x": null,
            "overflow_y": null,
            "padding": null,
            "right": null,
            "top": null,
            "visibility": null,
            "width": null
          }
        },
        "9e09fea987f2487f8bfd794d6942d120": {
          "model_module": "@jupyter-widgets/controls",
          "model_name": "DescriptionStyleModel",
          "model_module_version": "1.5.0",
          "state": {
            "_model_module": "@jupyter-widgets/controls",
            "_model_module_version": "1.5.0",
            "_model_name": "DescriptionStyleModel",
            "_view_count": null,
            "_view_module": "@jupyter-widgets/base",
            "_view_module_version": "1.2.0",
            "_view_name": "StyleView",
            "description_width": ""
          }
        },
        "f2506d795afe46cca0d72c48ee02fa7c": {
          "model_module": "@jupyter-widgets/base",
          "model_name": "LayoutModel",
          "model_module_version": "1.2.0",
          "state": {
            "_model_module": "@jupyter-widgets/base",
            "_model_module_version": "1.2.0",
            "_model_name": "LayoutModel",
            "_view_count": null,
            "_view_module": "@jupyter-widgets/base",
            "_view_module_version": "1.2.0",
            "_view_name": "LayoutView",
            "align_content": null,
            "align_items": null,
            "align_self": null,
            "border": null,
            "bottom": null,
            "display": null,
            "flex": null,
            "flex_flow": null,
            "grid_area": null,
            "grid_auto_columns": null,
            "grid_auto_flow": null,
            "grid_auto_rows": null,
            "grid_column": null,
            "grid_gap": null,
            "grid_row": null,
            "grid_template_areas": null,
            "grid_template_columns": null,
            "grid_template_rows": null,
            "height": null,
            "justify_content": null,
            "justify_items": null,
            "left": null,
            "margin": null,
            "max_height": null,
            "max_width": null,
            "min_height": null,
            "min_width": null,
            "object_fit": null,
            "object_position": null,
            "order": null,
            "overflow": null,
            "overflow_x": null,
            "overflow_y": null,
            "padding": null,
            "right": null,
            "top": null,
            "visibility": null,
            "width": null
          }
        },
        "98bab619c0d740a3b3868e0c71c7d623": {
          "model_module": "@jupyter-widgets/controls",
          "model_name": "ProgressStyleModel",
          "model_module_version": "1.5.0",
          "state": {
            "_model_module": "@jupyter-widgets/controls",
            "_model_module_version": "1.5.0",
            "_model_name": "ProgressStyleModel",
            "_view_count": null,
            "_view_module": "@jupyter-widgets/base",
            "_view_module_version": "1.2.0",
            "_view_name": "StyleView",
            "bar_color": null,
            "description_width": ""
          }
        }
      }
    }
  },
  "nbformat": 4,
  "nbformat_minor": 0
}