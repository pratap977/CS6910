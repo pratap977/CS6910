{
  "cells": [
    {
      "cell_type": "markdown",
      "metadata": {
        "id": "view-in-github",
        "colab_type": "text"
      },
      "source": [
        "<a href=\"https://colab.research.google.com/github/pratap977/CS6910/blob/main/Assignment-2/splitting_folders_and_saving_to_drive.ipynb\" target=\"_parent\"><img src=\"https://colab.research.google.com/assets/colab-badge.svg\" alt=\"Open In Colab\"/></a>"
      ]
    },
    {
      "cell_type": "code",
      "execution_count": null,
      "metadata": {
        "colab": {
          "base_uri": "https://localhost:8080/"
        },
        "id": "Pi9WL14qDlap",
        "outputId": "d1323cf6-e73d-4b5f-b6fd-f652a9b8b14a"
      },
      "outputs": [
        {
          "output_type": "stream",
          "name": "stdout",
          "text": [
            "Requirement already satisfied: split-folders in /usr/local/lib/python3.7/dist-packages (0.5.1)\n"
          ]
        }
      ],
      "source": [
        "!pip install split-folders"
      ]
    },
    {
      "cell_type": "code",
      "execution_count": null,
      "metadata": {
        "id": "Z3tj1G_AegWC"
      },
      "outputs": [],
      "source": [
        "import numpy as np\n",
        "import tensorflow as tf\n",
        "from tensorflow import keras\n",
        "import math as mh\n",
        "from matplotlib import pyplot as plt\n",
        "from tensorflow.keras.layers import Conv2D,MaxPooling2D,Activation,Dense,Flatten\n",
        "from keras.preprocessing.image import load_img as im\n",
        "from keras.preprocessing.image import save_img as sim\n",
        "import os\n",
        "from random import shuffle\n",
        "import numpy as np\n",
        "import splitfolders\n",
        "from PIL import Image\n",
        "from torchvision import transforms\n",
        "from tensorflow.keras.preprocessing import image\n",
        "from tensorflow.keras import layers,models\n",
        "import wandb\n",
        "import pathlib\n",
        "# import torch"
      ]
    },
    {
      "cell_type": "code",
      "execution_count": null,
      "metadata": {
        "id": "jZw-_BVUeyta"
      },
      "outputs": [],
      "source": [
        "src_url = \"https://storage.googleapis.com/wandb_datasets/nature_12K.zip\"\n",
        "src_zip = \"nature_12K.zip\""
      ]
    },
    {
      "cell_type": "markdown",
      "source": [
        "**Unzipping the data**"
      ],
      "metadata": {
        "id": "eVumO_JTrbPq"
      }
    },
    {
      "cell_type": "code",
      "execution_count": null,
      "metadata": {
        "id": "Cv5SXYUde0pE"
      },
      "outputs": [],
      "source": [
        "%%capture\n",
        "!curl -SL $src_url > $src_zip\n",
        "!unzip $src_zip"
      ]
    },
    {
      "cell_type": "code",
      "execution_count": null,
      "metadata": {
        "id": "D5ck8Kp6e75b"
      },
      "outputs": [],
      "source": [
        "data_folders=\"/content/inaturalist_12K/train\""
      ]
    },
    {
      "cell_type": "markdown",
      "source": [
        "**Splitting the train data to training and validation**"
      ],
      "metadata": {
        "id": "rjoMZOsPrJAX"
      }
    },
    {
      "cell_type": "code",
      "execution_count": null,
      "metadata": {
        "colab": {
          "base_uri": "https://localhost:8080/"
        },
        "id": "FZY--9ijD7SW",
        "outputId": "bd350b4a-ba57-4027-dc91-d2fb041a788b"
      },
      "outputs": [
        {
          "output_type": "stream",
          "name": "stderr",
          "text": [
            "Copying files: 9999 files [00:18, 528.78 files/s]\n"
          ]
        }
      ],
      "source": [
        "splitfolders.ratio(data_folders, output=\"outputfin\", seed=1337, ratio=(.9, .1), group_prefix=None)"
      ]
    },
    {
      "cell_type": "code",
      "source": [
        "from google.colab import drive\n",
        "drive.mount('/content/drive')"
      ],
      "metadata": {
        "colab": {
          "base_uri": "https://localhost:8080/"
        },
        "id": "-CPmepdKlOXz",
        "outputId": "f91211ab-ebaf-4a40-bb59-aea21296cf00"
      },
      "execution_count": null,
      "outputs": [
        {
          "output_type": "stream",
          "name": "stdout",
          "text": [
            "Mounted at /content/drive\n"
          ]
        }
      ]
    },
    {
      "cell_type": "markdown",
      "source": [
        "**Copying folders to drive.**\n"
      ],
      "metadata": {
        "id": "yQ6HmHGArnQu"
      }
    },
    {
      "cell_type": "code",
      "source": [
        "!cp -r /content/inaturalist_12K /content/drive/MyDrive/"
      ],
      "metadata": {
        "id": "XClE9H0dlSZl"
      },
      "execution_count": null,
      "outputs": []
    },
    {
      "cell_type": "markdown",
      "source": [
        "**outputfin contains train and val data**"
      ],
      "metadata": {
        "id": "xLY3RR-isAG_"
      }
    },
    {
      "cell_type": "code",
      "source": [
        "!cp -r /content/outputfin /content/drive/MyDrive/"
      ],
      "metadata": {
        "id": "-QvcijOpmGHD"
      },
      "execution_count": null,
      "outputs": []
    },
    {
      "cell_type": "code",
      "execution_count": null,
      "metadata": {
        "id": "bywllD_yFSUB"
      },
      "outputs": [],
      "source": [
        "!rm -rf nature_12K.zip"
      ]
    },
    {
      "cell_type": "code",
      "source": [
        "!rm -rf inaturalist_12K/train"
      ],
      "metadata": {
        "id": "xrWcxsAW8YrL"
      },
      "execution_count": null,
      "outputs": []
    }
  ],
  "metadata": {
    "colab": {
      "collapsed_sections": [],
      "name": "splitting folders and saving to drive.ipynb",
      "provenance": [],
      "machine_shape": "hm",
      "include_colab_link": true
    },
    "kernelspec": {
      "display_name": "Python 3",
      "name": "python3"
    },
    "language_info": {
      "name": "python"
    }
  },
  "nbformat": 4,
  "nbformat_minor": 0
}