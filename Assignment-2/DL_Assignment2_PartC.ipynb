{
 "cells": [
  {
   "cell_type": "markdown",
   "metadata": {
    "id": "fe9Al7JFYr63"
   },
   "source": [
    "**Importing Necessary Packages**"
   ]
  },
  {
   "cell_type": "code",
   "execution_count": 1,
   "metadata": {
    "id": "7SnOK9Cc3iaS"
   },
   "outputs": [],
   "source": [
    "import cv2\n",
    "import numpy as np\n",
    "from matplotlib import pyplot as plt"
   ]
  },
  {
   "cell_type": "markdown",
   "metadata": {
    "id": "h4jwBEv76mBm"
   },
   "source": [
    "**Mounting Google Drive**"
   ]
  },
  {
   "cell_type": "code",
   "execution_count": 2,
   "metadata": {
    "colab": {
     "base_uri": "https://localhost:8080/"
    },
    "id": "VM5q1s75AEfj",
    "outputId": "d5bfddb0-9412-4c6b-d94b-7ebddc47abc9"
   },
   "outputs": [
    {
     "name": "stdout",
     "output_type": "stream",
     "text": [
      "Mounted at /content/gdrive\n"
     ]
    }
   ],
   "source": [
    "from google.colab import drive \n",
    "drive.mount('/content/gdrive')"
   ]
  },
  {
   "cell_type": "markdown",
   "metadata": {
    "id": "d4UVjqA4Y2Ls"
   },
   "source": [
    "**Using Pre-trained yolov3 weights and cfg file.**\n",
    "\n",
    "Two Pretrained Files are being Used:\n",
    "\n",
    "1) yolov3.weights\n",
    "\n",
    "2) yolov3.cfg"
   ]
  },
  {
   "cell_type": "code",
   "execution_count": 3,
   "metadata": {
    "id": "UQCh0PEQ_SSO"
   },
   "outputs": [],
   "source": [
    "net = cv2.dnn.readNet('gdrive/My Drive/Colab Notebooks/yolov3.weights','gdrive/My Drive/Colab Notebooks/yolov3.cfg')"
   ]
  },
  {
   "cell_type": "markdown",
   "metadata": {
    "id": "BtbUWSP1Y-kz"
   },
   "source": [
    "**Using coco.names for getting names of 80 different classes.**"
   ]
  },
  {
   "cell_type": "code",
   "execution_count": 4,
   "metadata": {
    "colab": {
     "base_uri": "https://localhost:8080/"
    },
    "id": "7-vwYzmm_zrF",
    "outputId": "45472f08-8d83-4d2e-8b67-3abf5ce51755"
   },
   "outputs": [
    {
     "name": "stdout",
     "output_type": "stream",
     "text": [
      "80\n"
     ]
    }
   ],
   "source": [
    "classes = []\n",
    "with open('gdrive/My Drive/Colab Notebooks/coco.names', 'r') as f:\n",
    "  classes = f.read().splitlines()\n",
    "print(len(classes))"
   ]
  },
  {
   "cell_type": "markdown",
   "metadata": {
    "id": "---qotd0ZR8I"
   },
   "source": [
    "**Installing and importing mediapy for video capture and process**"
   ]
  },
  {
   "cell_type": "code",
   "execution_count": 5,
   "metadata": {
    "colab": {
     "base_uri": "https://localhost:8080/"
    },
    "id": "9kGubRudSvxp",
    "outputId": "63694211-e8b3-4d55-bcf1-712a0ee0a513"
   },
   "outputs": [
    {
     "name": "stdout",
     "output_type": "stream",
     "text": [
      "Collecting mediapy\n",
      "  Downloading mediapy-1.0.3-py3-none-any.whl (24 kB)\n",
      "Requirement already satisfied: Pillow in /usr/local/lib/python3.7/dist-packages (from mediapy) (7.1.2)\n",
      "Requirement already satisfied: matplotlib in /usr/local/lib/python3.7/dist-packages (from mediapy) (3.2.2)\n",
      "Requirement already satisfied: numpy in /usr/local/lib/python3.7/dist-packages (from mediapy) (1.21.5)\n",
      "Requirement already satisfied: ipython in /usr/local/lib/python3.7/dist-packages (from mediapy) (5.5.0)\n",
      "Requirement already satisfied: pygments in /usr/local/lib/python3.7/dist-packages (from ipython->mediapy) (2.6.1)\n",
      "Requirement already satisfied: simplegeneric>0.8 in /usr/local/lib/python3.7/dist-packages (from ipython->mediapy) (0.8.1)\n",
      "Requirement already satisfied: setuptools>=18.5 in /usr/local/lib/python3.7/dist-packages (from ipython->mediapy) (57.4.0)\n",
      "Requirement already satisfied: pickleshare in /usr/local/lib/python3.7/dist-packages (from ipython->mediapy) (0.7.5)\n",
      "Requirement already satisfied: pexpect in /usr/local/lib/python3.7/dist-packages (from ipython->mediapy) (4.8.0)\n",
      "Requirement already satisfied: prompt-toolkit<2.0.0,>=1.0.4 in /usr/local/lib/python3.7/dist-packages (from ipython->mediapy) (1.0.18)\n",
      "Requirement already satisfied: decorator in /usr/local/lib/python3.7/dist-packages (from ipython->mediapy) (4.4.2)\n",
      "Requirement already satisfied: traitlets>=4.2 in /usr/local/lib/python3.7/dist-packages (from ipython->mediapy) (5.1.1)\n",
      "Requirement already satisfied: wcwidth in /usr/local/lib/python3.7/dist-packages (from prompt-toolkit<2.0.0,>=1.0.4->ipython->mediapy) (0.2.5)\n",
      "Requirement already satisfied: six>=1.9.0 in /usr/local/lib/python3.7/dist-packages (from prompt-toolkit<2.0.0,>=1.0.4->ipython->mediapy) (1.15.0)\n",
      "Requirement already satisfied: kiwisolver>=1.0.1 in /usr/local/lib/python3.7/dist-packages (from matplotlib->mediapy) (1.4.0)\n",
      "Requirement already satisfied: pyparsing!=2.0.4,!=2.1.2,!=2.1.6,>=2.0.1 in /usr/local/lib/python3.7/dist-packages (from matplotlib->mediapy) (3.0.7)\n",
      "Requirement already satisfied: python-dateutil>=2.1 in /usr/local/lib/python3.7/dist-packages (from matplotlib->mediapy) (2.8.2)\n",
      "Requirement already satisfied: cycler>=0.10 in /usr/local/lib/python3.7/dist-packages (from matplotlib->mediapy) (0.11.0)\n",
      "Requirement already satisfied: typing-extensions in /usr/local/lib/python3.7/dist-packages (from kiwisolver>=1.0.1->matplotlib->mediapy) (3.10.0.2)\n",
      "Requirement already satisfied: ptyprocess>=0.5 in /usr/local/lib/python3.7/dist-packages (from pexpect->ipython->mediapy) (0.7.0)\n",
      "Installing collected packages: mediapy\n",
      "Successfully installed mediapy-1.0.3\n"
     ]
    }
   ],
   "source": [
    "!pip install mediapy"
   ]
  },
  {
   "cell_type": "code",
   "execution_count": 6,
   "metadata": {
    "id": "WpH_A-_TJotw"
   },
   "outputs": [],
   "source": [
    "import mediapy as media"
   ]
  },
  {
   "cell_type": "markdown",
   "metadata": {
    "id": "cv-duDuKZu1F"
   },
   "source": [
    "**Print shape, number of frames and fps of the video**"
   ]
  },
  {
   "cell_type": "code",
   "execution_count": 7,
   "metadata": {
    "colab": {
     "base_uri": "https://localhost:8080/"
    },
    "id": "1Mk0lLQhZkDO",
    "outputId": "d7677996-f89f-43c0-e47e-414c12201958"
   },
   "outputs": [
    {
     "name": "stdout",
     "output_type": "stream",
     "text": [
      "num_images=4845 shape=(720, 1280) fps=30.0\n"
     ]
    }
   ],
   "source": [
    "VIDEO = 'gdrive/My Drive/Colab Notebooks/DL_OBJ_Detection.mp4'\n",
    "with media.VideoReader(VIDEO) as reader:\n",
    "  print(f'num_images={reader.num_images} shape={reader.shape} fps={reader.fps}')"
   ]
  },
  {
   "cell_type": "markdown",
   "metadata": {
    "id": "vJ9I9x4I7eMD"
   },
   "source": [
    "**Reading Videos from the Google drive, Processing Frame by Frame and writing them back to the drive.**"
   ]
  },
  {
   "cell_type": "code",
   "execution_count": null,
   "metadata": {
    "id": "cv6jUzlkv1mh"
   },
   "outputs": [],
   "source": [
    "new_file = 'gdrive/My Drive/Colab Notebooks/out1.mp4'\n",
    "with media.VideoWriter(new_file,shape=(reader.shape)) as writer:\n",
    "  cap = cv2.VideoCapture(VIDEO)\n",
    "  count = 0\n",
    "  while True:\n",
    "    _, img = cap.read()\n",
    "    if count>=reader.num_images-5:\n",
    "      break\n",
    "    height, width, _ = img.shape\n",
    "    blob = cv2.dnn.blobFromImage(img, 1/255, (416,416), (0,0,0),swapRB=False)\n",
    "    net.setInput(blob)\n",
    "    output_layers_names = net.getUnconnectedOutLayersNames()\n",
    "    layerOutputs = net.forward(output_layers_names)\n",
    "\n",
    "    boxes = []\n",
    "    confidences = []\n",
    "    class_ids = []\n",
    "\n",
    "    for output in layerOutputs:\n",
    "      for detection in output:\n",
    "        scores = detection[5:]\n",
    "        class_id = np.argmax(scores)\n",
    "        confidence = scores[class_id]\n",
    "        if confidence > 0.5:\n",
    "          center_x = int(detection[0]*width)\n",
    "          center_y = int(detection[1]*height)\n",
    "          w = int(detection[2]*width)\n",
    "          h = int(detection[3]*height)\n",
    "\n",
    "          x = int(center_x - w/2)\n",
    "          y = int(center_y - h/2)\n",
    "\n",
    "          boxes.append([x,y,w,h])\n",
    "          confidences.append(float(confidence))\n",
    "          class_ids.append(class_id)\n",
    "\n",
    "    indexes = cv2.dnn.NMSBoxes(boxes, confidences, 0.5, 0.4)\n",
    "    font = cv2.FONT_HERSHEY_PLAIN\n",
    "    colors = np.random.uniform(0,255,size=(len(boxes),3))\n",
    "    if len(boxes)>0:\n",
    "      for i in indexes.flatten():\n",
    "        x, y, w, h = boxes[i]\n",
    "        label = str(classes[class_ids[i]])\n",
    "        confidence = str(round(confidences[i],2))\n",
    "        color = colors[i]\n",
    "        cv2.rectangle(img,(x,y),(x+w,y+h),color,2)\n",
    "        cv2.putText(img, label + \" \" + confidence, (x,y+20), font, 2, (255,255,255), 2)\n",
    "\n",
    "    #plt.imshow(img)\n",
    "    #plt.show()\n",
    "    writer.add_image(img)\n",
    "    #cv2.imwrite('gdrive/My Drive/Colab Notebooks/image_frames/'+str(count)+'.png',img)\n",
    "    count += 1\n",
    "    if count%100==0:\n",
    "      print(count)\n",
    "\n",
    "  cap.release()\n",
    "media.show_video(media.read_video(new_file), height=90)"
   ]
  }
 ],
 "metadata": {
  "colab": {
   "collapsed_sections": [],
   "name": "DL_Assignment2_PartC.ipynb",
   "provenance": []
  },
  "kernelspec": {
   "display_name": "Python 3 (ipykernel)",
   "language": "python",
   "name": "python3"
  },
  "language_info": {
   "codemirror_mode": {
    "name": "ipython",
    "version": 3
   },
   "file_extension": ".py",
   "mimetype": "text/x-python",
   "name": "python",
   "nbconvert_exporter": "python",
   "pygments_lexer": "ipython3",
   "version": "3.9.7"
  }
 },
 "nbformat": 4,
 "nbformat_minor": 1
}
