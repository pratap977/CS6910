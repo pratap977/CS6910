{
  "nbformat": 4,
  "nbformat_minor": 0,
  "metadata": {
    "colab": {
      "name": "Part-B.ipynb",
      "provenance": [],
      "collapsed_sections": [],
      "include_colab_link": true
    },
    "kernelspec": {
      "name": "python3",
      "display_name": "Python 3"
    },
    "language_info": {
      "name": "python"
    },
    "widgets": {
      "application/vnd.jupyter.widget-state+json": {
        "3eefff8156844f51b5f1a43794c1528f": {
          "model_module": "@jupyter-widgets/controls",
          "model_name": "VBoxModel",
          "state": {
            "_view_name": "VBoxView",
            "_dom_classes": [],
            "_model_name": "VBoxModel",
            "_view_module": "@jupyter-widgets/controls",
            "_model_module_version": "1.5.0",
            "_view_count": null,
            "_view_module_version": "1.5.0",
            "box_style": "",
            "layout": "IPY_MODEL_80387e39b8534b30ba71a84a188d86e9",
            "_model_module": "@jupyter-widgets/controls",
            "children": [
              "IPY_MODEL_b9283129444a4e8883f0d57bf63ff4ca",
              "IPY_MODEL_2445cc2247ad46bf99fbed2f9df89e98"
            ]
          },
          "model_module_version": "1.5.0"
        },
        "80387e39b8534b30ba71a84a188d86e9": {
          "model_module": "@jupyter-widgets/base",
          "model_name": "LayoutModel",
          "state": {
            "_view_name": "LayoutView",
            "grid_template_rows": null,
            "right": null,
            "justify_content": null,
            "_view_module": "@jupyter-widgets/base",
            "overflow": null,
            "_model_module_version": "1.2.0",
            "_view_count": null,
            "flex_flow": null,
            "width": null,
            "min_width": null,
            "border": null,
            "align_items": null,
            "bottom": null,
            "_model_module": "@jupyter-widgets/base",
            "top": null,
            "grid_column": null,
            "overflow_y": null,
            "overflow_x": null,
            "grid_auto_flow": null,
            "grid_area": null,
            "grid_template_columns": null,
            "flex": null,
            "_model_name": "LayoutModel",
            "justify_items": null,
            "grid_row": null,
            "max_height": null,
            "align_content": null,
            "visibility": null,
            "align_self": null,
            "height": null,
            "min_height": null,
            "padding": null,
            "grid_auto_rows": null,
            "grid_gap": null,
            "max_width": null,
            "order": null,
            "_view_module_version": "1.2.0",
            "grid_template_areas": null,
            "object_position": null,
            "object_fit": null,
            "grid_auto_columns": null,
            "margin": null,
            "display": null,
            "left": null
          },
          "model_module_version": "1.2.0"
        },
        "b9283129444a4e8883f0d57bf63ff4ca": {
          "model_module": "@jupyter-widgets/controls",
          "model_name": "LabelModel",
          "state": {
            "_view_name": "LabelView",
            "style": "IPY_MODEL_3d85641560f64ffd9e5fc4a656cc6317",
            "_dom_classes": [],
            "description": "",
            "_model_name": "LabelModel",
            "placeholder": "​",
            "_view_module": "@jupyter-widgets/controls",
            "_model_module_version": "1.5.0",
            "value": " 88.32MB of 88.32MB uploaded (0.00MB deduped)\r",
            "_view_count": null,
            "_view_module_version": "1.5.0",
            "description_tooltip": null,
            "_model_module": "@jupyter-widgets/controls",
            "layout": "IPY_MODEL_48fcc054e1224b0e9e6da6b753da43d5"
          },
          "model_module_version": "1.5.0"
        },
        "2445cc2247ad46bf99fbed2f9df89e98": {
          "model_module": "@jupyter-widgets/controls",
          "model_name": "FloatProgressModel",
          "state": {
            "_view_name": "ProgressView",
            "style": "IPY_MODEL_fe83aae88f134299b0c98b7bfe028677",
            "_dom_classes": [],
            "description": "",
            "_model_name": "FloatProgressModel",
            "bar_style": "",
            "max": 1,
            "_view_module": "@jupyter-widgets/controls",
            "_model_module_version": "1.5.0",
            "value": 1,
            "_view_count": null,
            "_view_module_version": "1.5.0",
            "orientation": "horizontal",
            "min": 0,
            "description_tooltip": null,
            "_model_module": "@jupyter-widgets/controls",
            "layout": "IPY_MODEL_7778d21d6148466d848db5b90a73226e"
          },
          "model_module_version": "1.5.0"
        },
        "3d85641560f64ffd9e5fc4a656cc6317": {
          "model_module": "@jupyter-widgets/controls",
          "model_name": "DescriptionStyleModel",
          "state": {
            "_view_name": "StyleView",
            "_model_name": "DescriptionStyleModel",
            "description_width": "",
            "_view_module": "@jupyter-widgets/base",
            "_model_module_version": "1.5.0",
            "_view_count": null,
            "_view_module_version": "1.2.0",
            "_model_module": "@jupyter-widgets/controls"
          },
          "model_module_version": "1.5.0"
        },
        "48fcc054e1224b0e9e6da6b753da43d5": {
          "model_module": "@jupyter-widgets/base",
          "model_name": "LayoutModel",
          "state": {
            "_view_name": "LayoutView",
            "grid_template_rows": null,
            "right": null,
            "justify_content": null,
            "_view_module": "@jupyter-widgets/base",
            "overflow": null,
            "_model_module_version": "1.2.0",
            "_view_count": null,
            "flex_flow": null,
            "width": null,
            "min_width": null,
            "border": null,
            "align_items": null,
            "bottom": null,
            "_model_module": "@jupyter-widgets/base",
            "top": null,
            "grid_column": null,
            "overflow_y": null,
            "overflow_x": null,
            "grid_auto_flow": null,
            "grid_area": null,
            "grid_template_columns": null,
            "flex": null,
            "_model_name": "LayoutModel",
            "justify_items": null,
            "grid_row": null,
            "max_height": null,
            "align_content": null,
            "visibility": null,
            "align_self": null,
            "height": null,
            "min_height": null,
            "padding": null,
            "grid_auto_rows": null,
            "grid_gap": null,
            "max_width": null,
            "order": null,
            "_view_module_version": "1.2.0",
            "grid_template_areas": null,
            "object_position": null,
            "object_fit": null,
            "grid_auto_columns": null,
            "margin": null,
            "display": null,
            "left": null
          },
          "model_module_version": "1.2.0"
        },
        "fe83aae88f134299b0c98b7bfe028677": {
          "model_module": "@jupyter-widgets/controls",
          "model_name": "ProgressStyleModel",
          "state": {
            "_view_name": "StyleView",
            "_model_name": "ProgressStyleModel",
            "description_width": "",
            "_view_module": "@jupyter-widgets/base",
            "_model_module_version": "1.5.0",
            "_view_count": null,
            "_view_module_version": "1.2.0",
            "bar_color": null,
            "_model_module": "@jupyter-widgets/controls"
          },
          "model_module_version": "1.5.0"
        },
        "7778d21d6148466d848db5b90a73226e": {
          "model_module": "@jupyter-widgets/base",
          "model_name": "LayoutModel",
          "state": {
            "_view_name": "LayoutView",
            "grid_template_rows": null,
            "right": null,
            "justify_content": null,
            "_view_module": "@jupyter-widgets/base",
            "overflow": null,
            "_model_module_version": "1.2.0",
            "_view_count": null,
            "flex_flow": null,
            "width": null,
            "min_width": null,
            "border": null,
            "align_items": null,
            "bottom": null,
            "_model_module": "@jupyter-widgets/base",
            "top": null,
            "grid_column": null,
            "overflow_y": null,
            "overflow_x": null,
            "grid_auto_flow": null,
            "grid_area": null,
            "grid_template_columns": null,
            "flex": null,
            "_model_name": "LayoutModel",
            "justify_items": null,
            "grid_row": null,
            "max_height": null,
            "align_content": null,
            "visibility": null,
            "align_self": null,
            "height": null,
            "min_height": null,
            "padding": null,
            "grid_auto_rows": null,
            "grid_gap": null,
            "max_width": null,
            "order": null,
            "_view_module_version": "1.2.0",
            "grid_template_areas": null,
            "object_position": null,
            "object_fit": null,
            "grid_auto_columns": null,
            "margin": null,
            "display": null,
            "left": null
          },
          "model_module_version": "1.2.0"
        },
        "03991d1011074970b359ce8ca798321c": {
          "model_module": "@jupyter-widgets/controls",
          "model_name": "VBoxModel",
          "state": {
            "_view_name": "VBoxView",
            "_dom_classes": [],
            "_model_name": "VBoxModel",
            "_view_module": "@jupyter-widgets/controls",
            "_model_module_version": "1.5.0",
            "_view_count": null,
            "_view_module_version": "1.5.0",
            "box_style": "",
            "layout": "IPY_MODEL_9bd600ac659d41129bfbbe1b54e12090",
            "_model_module": "@jupyter-widgets/controls",
            "children": [
              "IPY_MODEL_621ed33b149f401c88ed8cab97dd658f",
              "IPY_MODEL_c73e73b629ca482fbfde4af170394e73"
            ]
          },
          "model_module_version": "1.5.0"
        },
        "9bd600ac659d41129bfbbe1b54e12090": {
          "model_module": "@jupyter-widgets/base",
          "model_name": "LayoutModel",
          "state": {
            "_view_name": "LayoutView",
            "grid_template_rows": null,
            "right": null,
            "justify_content": null,
            "_view_module": "@jupyter-widgets/base",
            "overflow": null,
            "_model_module_version": "1.2.0",
            "_view_count": null,
            "flex_flow": null,
            "width": null,
            "min_width": null,
            "border": null,
            "align_items": null,
            "bottom": null,
            "_model_module": "@jupyter-widgets/base",
            "top": null,
            "grid_column": null,
            "overflow_y": null,
            "overflow_x": null,
            "grid_auto_flow": null,
            "grid_area": null,
            "grid_template_columns": null,
            "flex": null,
            "_model_name": "LayoutModel",
            "justify_items": null,
            "grid_row": null,
            "max_height": null,
            "align_content": null,
            "visibility": null,
            "align_self": null,
            "height": null,
            "min_height": null,
            "padding": null,
            "grid_auto_rows": null,
            "grid_gap": null,
            "max_width": null,
            "order": null,
            "_view_module_version": "1.2.0",
            "grid_template_areas": null,
            "object_position": null,
            "object_fit": null,
            "grid_auto_columns": null,
            "margin": null,
            "display": null,
            "left": null
          },
          "model_module_version": "1.2.0"
        },
        "621ed33b149f401c88ed8cab97dd658f": {
          "model_module": "@jupyter-widgets/controls",
          "model_name": "LabelModel",
          "state": {
            "_view_name": "LabelView",
            "style": "IPY_MODEL_caf57b6d2fcc41679429b8b18d0c78d7",
            "_dom_classes": [],
            "description": "",
            "_model_name": "LabelModel",
            "placeholder": "​",
            "_view_module": "@jupyter-widgets/controls",
            "_model_module_version": "1.5.0",
            "value": " 90.06MB of 90.06MB uploaded (0.00MB deduped)\r",
            "_view_count": null,
            "_view_module_version": "1.5.0",
            "description_tooltip": null,
            "_model_module": "@jupyter-widgets/controls",
            "layout": "IPY_MODEL_f697dc221e7b40c0b1ddecae6c2a8132"
          },
          "model_module_version": "1.5.0"
        },
        "c73e73b629ca482fbfde4af170394e73": {
          "model_module": "@jupyter-widgets/controls",
          "model_name": "FloatProgressModel",
          "state": {
            "_view_name": "ProgressView",
            "style": "IPY_MODEL_1ed192f982ee46f88c48389c001fe7bd",
            "_dom_classes": [],
            "description": "",
            "_model_name": "FloatProgressModel",
            "bar_style": "",
            "max": 1,
            "_view_module": "@jupyter-widgets/controls",
            "_model_module_version": "1.5.0",
            "value": 1,
            "_view_count": null,
            "_view_module_version": "1.5.0",
            "orientation": "horizontal",
            "min": 0,
            "description_tooltip": null,
            "_model_module": "@jupyter-widgets/controls",
            "layout": "IPY_MODEL_2212e524b79d4be3b035685364023796"
          },
          "model_module_version": "1.5.0"
        },
        "caf57b6d2fcc41679429b8b18d0c78d7": {
          "model_module": "@jupyter-widgets/controls",
          "model_name": "DescriptionStyleModel",
          "state": {
            "_view_name": "StyleView",
            "_model_name": "DescriptionStyleModel",
            "description_width": "",
            "_view_module": "@jupyter-widgets/base",
            "_model_module_version": "1.5.0",
            "_view_count": null,
            "_view_module_version": "1.2.0",
            "_model_module": "@jupyter-widgets/controls"
          },
          "model_module_version": "1.5.0"
        },
        "f697dc221e7b40c0b1ddecae6c2a8132": {
          "model_module": "@jupyter-widgets/base",
          "model_name": "LayoutModel",
          "state": {
            "_view_name": "LayoutView",
            "grid_template_rows": null,
            "right": null,
            "justify_content": null,
            "_view_module": "@jupyter-widgets/base",
            "overflow": null,
            "_model_module_version": "1.2.0",
            "_view_count": null,
            "flex_flow": null,
            "width": null,
            "min_width": null,
            "border": null,
            "align_items": null,
            "bottom": null,
            "_model_module": "@jupyter-widgets/base",
            "top": null,
            "grid_column": null,
            "overflow_y": null,
            "overflow_x": null,
            "grid_auto_flow": null,
            "grid_area": null,
            "grid_template_columns": null,
            "flex": null,
            "_model_name": "LayoutModel",
            "justify_items": null,
            "grid_row": null,
            "max_height": null,
            "align_content": null,
            "visibility": null,
            "align_self": null,
            "height": null,
            "min_height": null,
            "padding": null,
            "grid_auto_rows": null,
            "grid_gap": null,
            "max_width": null,
            "order": null,
            "_view_module_version": "1.2.0",
            "grid_template_areas": null,
            "object_position": null,
            "object_fit": null,
            "grid_auto_columns": null,
            "margin": null,
            "display": null,
            "left": null
          },
          "model_module_version": "1.2.0"
        },
        "1ed192f982ee46f88c48389c001fe7bd": {
          "model_module": "@jupyter-widgets/controls",
          "model_name": "ProgressStyleModel",
          "state": {
            "_view_name": "StyleView",
            "_model_name": "ProgressStyleModel",
            "description_width": "",
            "_view_module": "@jupyter-widgets/base",
            "_model_module_version": "1.5.0",
            "_view_count": null,
            "_view_module_version": "1.2.0",
            "bar_color": null,
            "_model_module": "@jupyter-widgets/controls"
          },
          "model_module_version": "1.5.0"
        },
        "2212e524b79d4be3b035685364023796": {
          "model_module": "@jupyter-widgets/base",
          "model_name": "LayoutModel",
          "state": {
            "_view_name": "LayoutView",
            "grid_template_rows": null,
            "right": null,
            "justify_content": null,
            "_view_module": "@jupyter-widgets/base",
            "overflow": null,
            "_model_module_version": "1.2.0",
            "_view_count": null,
            "flex_flow": null,
            "width": null,
            "min_width": null,
            "border": null,
            "align_items": null,
            "bottom": null,
            "_model_module": "@jupyter-widgets/base",
            "top": null,
            "grid_column": null,
            "overflow_y": null,
            "overflow_x": null,
            "grid_auto_flow": null,
            "grid_area": null,
            "grid_template_columns": null,
            "flex": null,
            "_model_name": "LayoutModel",
            "justify_items": null,
            "grid_row": null,
            "max_height": null,
            "align_content": null,
            "visibility": null,
            "align_self": null,
            "height": null,
            "min_height": null,
            "padding": null,
            "grid_auto_rows": null,
            "grid_gap": null,
            "max_width": null,
            "order": null,
            "_view_module_version": "1.2.0",
            "grid_template_areas": null,
            "object_position": null,
            "object_fit": null,
            "grid_auto_columns": null,
            "margin": null,
            "display": null,
            "left": null
          },
          "model_module_version": "1.2.0"
        },
        "59a6b2a305a04711be1be07e3e834f9d": {
          "model_module": "@jupyter-widgets/controls",
          "model_name": "VBoxModel",
          "state": {
            "_view_name": "VBoxView",
            "_dom_classes": [],
            "_model_name": "VBoxModel",
            "_view_module": "@jupyter-widgets/controls",
            "_model_module_version": "1.5.0",
            "_view_count": null,
            "_view_module_version": "1.5.0",
            "box_style": "",
            "layout": "IPY_MODEL_54847365c71147db902c0832c43ee630",
            "_model_module": "@jupyter-widgets/controls",
            "children": [
              "IPY_MODEL_cd03f7795d6c423cbaf830ed2e411457",
              "IPY_MODEL_8d42cb8fdc5746918ebb0dcf321bb12a"
            ]
          },
          "model_module_version": "1.5.0"
        },
        "54847365c71147db902c0832c43ee630": {
          "model_module": "@jupyter-widgets/base",
          "model_name": "LayoutModel",
          "state": {
            "_view_name": "LayoutView",
            "grid_template_rows": null,
            "right": null,
            "justify_content": null,
            "_view_module": "@jupyter-widgets/base",
            "overflow": null,
            "_model_module_version": "1.2.0",
            "_view_count": null,
            "flex_flow": null,
            "width": null,
            "min_width": null,
            "border": null,
            "align_items": null,
            "bottom": null,
            "_model_module": "@jupyter-widgets/base",
            "top": null,
            "grid_column": null,
            "overflow_y": null,
            "overflow_x": null,
            "grid_auto_flow": null,
            "grid_area": null,
            "grid_template_columns": null,
            "flex": null,
            "_model_name": "LayoutModel",
            "justify_items": null,
            "grid_row": null,
            "max_height": null,
            "align_content": null,
            "visibility": null,
            "align_self": null,
            "height": null,
            "min_height": null,
            "padding": null,
            "grid_auto_rows": null,
            "grid_gap": null,
            "max_width": null,
            "order": null,
            "_view_module_version": "1.2.0",
            "grid_template_areas": null,
            "object_position": null,
            "object_fit": null,
            "grid_auto_columns": null,
            "margin": null,
            "display": null,
            "left": null
          },
          "model_module_version": "1.2.0"
        },
        "cd03f7795d6c423cbaf830ed2e411457": {
          "model_module": "@jupyter-widgets/controls",
          "model_name": "LabelModel",
          "state": {
            "_view_name": "LabelView",
            "style": "IPY_MODEL_425a83fa029849cc89840ff37f9bc4f6",
            "_dom_classes": [],
            "description": "",
            "_model_name": "LabelModel",
            "placeholder": "​",
            "_view_module": "@jupyter-widgets/controls",
            "_model_module_version": "1.5.0",
            "value": " 90.06MB of 90.06MB uploaded (0.00MB deduped)\r",
            "_view_count": null,
            "_view_module_version": "1.5.0",
            "description_tooltip": null,
            "_model_module": "@jupyter-widgets/controls",
            "layout": "IPY_MODEL_75125791ab664346bac31d5f017fa2b5"
          },
          "model_module_version": "1.5.0"
        },
        "8d42cb8fdc5746918ebb0dcf321bb12a": {
          "model_module": "@jupyter-widgets/controls",
          "model_name": "FloatProgressModel",
          "state": {
            "_view_name": "ProgressView",
            "style": "IPY_MODEL_3e43ed12099a4106b292d8336d853230",
            "_dom_classes": [],
            "description": "",
            "_model_name": "FloatProgressModel",
            "bar_style": "",
            "max": 1,
            "_view_module": "@jupyter-widgets/controls",
            "_model_module_version": "1.5.0",
            "value": 1,
            "_view_count": null,
            "_view_module_version": "1.5.0",
            "orientation": "horizontal",
            "min": 0,
            "description_tooltip": null,
            "_model_module": "@jupyter-widgets/controls",
            "layout": "IPY_MODEL_23eec12ba8a74243a0f309376afb73a6"
          },
          "model_module_version": "1.5.0"
        },
        "425a83fa029849cc89840ff37f9bc4f6": {
          "model_module": "@jupyter-widgets/controls",
          "model_name": "DescriptionStyleModel",
          "state": {
            "_view_name": "StyleView",
            "_model_name": "DescriptionStyleModel",
            "description_width": "",
            "_view_module": "@jupyter-widgets/base",
            "_model_module_version": "1.5.0",
            "_view_count": null,
            "_view_module_version": "1.2.0",
            "_model_module": "@jupyter-widgets/controls"
          },
          "model_module_version": "1.5.0"
        },
        "75125791ab664346bac31d5f017fa2b5": {
          "model_module": "@jupyter-widgets/base",
          "model_name": "LayoutModel",
          "state": {
            "_view_name": "LayoutView",
            "grid_template_rows": null,
            "right": null,
            "justify_content": null,
            "_view_module": "@jupyter-widgets/base",
            "overflow": null,
            "_model_module_version": "1.2.0",
            "_view_count": null,
            "flex_flow": null,
            "width": null,
            "min_width": null,
            "border": null,
            "align_items": null,
            "bottom": null,
            "_model_module": "@jupyter-widgets/base",
            "top": null,
            "grid_column": null,
            "overflow_y": null,
            "overflow_x": null,
            "grid_auto_flow": null,
            "grid_area": null,
            "grid_template_columns": null,
            "flex": null,
            "_model_name": "LayoutModel",
            "justify_items": null,
            "grid_row": null,
            "max_height": null,
            "align_content": null,
            "visibility": null,
            "align_self": null,
            "height": null,
            "min_height": null,
            "padding": null,
            "grid_auto_rows": null,
            "grid_gap": null,
            "max_width": null,
            "order": null,
            "_view_module_version": "1.2.0",
            "grid_template_areas": null,
            "object_position": null,
            "object_fit": null,
            "grid_auto_columns": null,
            "margin": null,
            "display": null,
            "left": null
          },
          "model_module_version": "1.2.0"
        },
        "3e43ed12099a4106b292d8336d853230": {
          "model_module": "@jupyter-widgets/controls",
          "model_name": "ProgressStyleModel",
          "state": {
            "_view_name": "StyleView",
            "_model_name": "ProgressStyleModel",
            "description_width": "",
            "_view_module": "@jupyter-widgets/base",
            "_model_module_version": "1.5.0",
            "_view_count": null,
            "_view_module_version": "1.2.0",
            "bar_color": null,
            "_model_module": "@jupyter-widgets/controls"
          },
          "model_module_version": "1.5.0"
        },
        "23eec12ba8a74243a0f309376afb73a6": {
          "model_module": "@jupyter-widgets/base",
          "model_name": "LayoutModel",
          "state": {
            "_view_name": "LayoutView",
            "grid_template_rows": null,
            "right": null,
            "justify_content": null,
            "_view_module": "@jupyter-widgets/base",
            "overflow": null,
            "_model_module_version": "1.2.0",
            "_view_count": null,
            "flex_flow": null,
            "width": null,
            "min_width": null,
            "border": null,
            "align_items": null,
            "bottom": null,
            "_model_module": "@jupyter-widgets/base",
            "top": null,
            "grid_column": null,
            "overflow_y": null,
            "overflow_x": null,
            "grid_auto_flow": null,
            "grid_area": null,
            "grid_template_columns": null,
            "flex": null,
            "_model_name": "LayoutModel",
            "justify_items": null,
            "grid_row": null,
            "max_height": null,
            "align_content": null,
            "visibility": null,
            "align_self": null,
            "height": null,
            "min_height": null,
            "padding": null,
            "grid_auto_rows": null,
            "grid_gap": null,
            "max_width": null,
            "order": null,
            "_view_module_version": "1.2.0",
            "grid_template_areas": null,
            "object_position": null,
            "object_fit": null,
            "grid_auto_columns": null,
            "margin": null,
            "display": null,
            "left": null
          },
          "model_module_version": "1.2.0"
        },
        "871df421eeda49f9b247abba69897c68": {
          "model_module": "@jupyter-widgets/controls",
          "model_name": "VBoxModel",
          "state": {
            "_view_name": "VBoxView",
            "_dom_classes": [],
            "_model_name": "VBoxModel",
            "_view_module": "@jupyter-widgets/controls",
            "_model_module_version": "1.5.0",
            "_view_count": null,
            "_view_module_version": "1.5.0",
            "box_style": "",
            "layout": "IPY_MODEL_876e98f6f1b94eedbc278cb22ee1a216",
            "_model_module": "@jupyter-widgets/controls",
            "children": [
              "IPY_MODEL_89e866b5ee1142448364bb455bd16f2f",
              "IPY_MODEL_bfad5bc620a84f2c8203afd13555421a"
            ]
          },
          "model_module_version": "1.5.0"
        },
        "876e98f6f1b94eedbc278cb22ee1a216": {
          "model_module": "@jupyter-widgets/base",
          "model_name": "LayoutModel",
          "state": {
            "_view_name": "LayoutView",
            "grid_template_rows": null,
            "right": null,
            "justify_content": null,
            "_view_module": "@jupyter-widgets/base",
            "overflow": null,
            "_model_module_version": "1.2.0",
            "_view_count": null,
            "flex_flow": null,
            "width": null,
            "min_width": null,
            "border": null,
            "align_items": null,
            "bottom": null,
            "_model_module": "@jupyter-widgets/base",
            "top": null,
            "grid_column": null,
            "overflow_y": null,
            "overflow_x": null,
            "grid_auto_flow": null,
            "grid_area": null,
            "grid_template_columns": null,
            "flex": null,
            "_model_name": "LayoutModel",
            "justify_items": null,
            "grid_row": null,
            "max_height": null,
            "align_content": null,
            "visibility": null,
            "align_self": null,
            "height": null,
            "min_height": null,
            "padding": null,
            "grid_auto_rows": null,
            "grid_gap": null,
            "max_width": null,
            "order": null,
            "_view_module_version": "1.2.0",
            "grid_template_areas": null,
            "object_position": null,
            "object_fit": null,
            "grid_auto_columns": null,
            "margin": null,
            "display": null,
            "left": null
          },
          "model_module_version": "1.2.0"
        },
        "89e866b5ee1142448364bb455bd16f2f": {
          "model_module": "@jupyter-widgets/controls",
          "model_name": "LabelModel",
          "state": {
            "_view_name": "LabelView",
            "style": "IPY_MODEL_0d27a83ba7504fa4a0eceb880d2dcaa0",
            "_dom_classes": [],
            "description": "",
            "_model_name": "LabelModel",
            "placeholder": "​",
            "_view_module": "@jupyter-widgets/controls",
            "_model_module_version": "1.5.0",
            "value": " 94.80MB of 94.80MB uploaded (0.00MB deduped)\r",
            "_view_count": null,
            "_view_module_version": "1.5.0",
            "description_tooltip": null,
            "_model_module": "@jupyter-widgets/controls",
            "layout": "IPY_MODEL_5259c247796e434db3a329041fb4d225"
          },
          "model_module_version": "1.5.0"
        },
        "bfad5bc620a84f2c8203afd13555421a": {
          "model_module": "@jupyter-widgets/controls",
          "model_name": "FloatProgressModel",
          "state": {
            "_view_name": "ProgressView",
            "style": "IPY_MODEL_2c9bf0e161e14cddacf24e48a8f8dd7a",
            "_dom_classes": [],
            "description": "",
            "_model_name": "FloatProgressModel",
            "bar_style": "",
            "max": 1,
            "_view_module": "@jupyter-widgets/controls",
            "_model_module_version": "1.5.0",
            "value": 1,
            "_view_count": null,
            "_view_module_version": "1.5.0",
            "orientation": "horizontal",
            "min": 0,
            "description_tooltip": null,
            "_model_module": "@jupyter-widgets/controls",
            "layout": "IPY_MODEL_194b2f2fd9fa4b1ba07f02cfd6aba263"
          },
          "model_module_version": "1.5.0"
        },
        "0d27a83ba7504fa4a0eceb880d2dcaa0": {
          "model_module": "@jupyter-widgets/controls",
          "model_name": "DescriptionStyleModel",
          "state": {
            "_view_name": "StyleView",
            "_model_name": "DescriptionStyleModel",
            "description_width": "",
            "_view_module": "@jupyter-widgets/base",
            "_model_module_version": "1.5.0",
            "_view_count": null,
            "_view_module_version": "1.2.0",
            "_model_module": "@jupyter-widgets/controls"
          },
          "model_module_version": "1.5.0"
        },
        "5259c247796e434db3a329041fb4d225": {
          "model_module": "@jupyter-widgets/base",
          "model_name": "LayoutModel",
          "state": {
            "_view_name": "LayoutView",
            "grid_template_rows": null,
            "right": null,
            "justify_content": null,
            "_view_module": "@jupyter-widgets/base",
            "overflow": null,
            "_model_module_version": "1.2.0",
            "_view_count": null,
            "flex_flow": null,
            "width": null,
            "min_width": null,
            "border": null,
            "align_items": null,
            "bottom": null,
            "_model_module": "@jupyter-widgets/base",
            "top": null,
            "grid_column": null,
            "overflow_y": null,
            "overflow_x": null,
            "grid_auto_flow": null,
            "grid_area": null,
            "grid_template_columns": null,
            "flex": null,
            "_model_name": "LayoutModel",
            "justify_items": null,
            "grid_row": null,
            "max_height": null,
            "align_content": null,
            "visibility": null,
            "align_self": null,
            "height": null,
            "min_height": null,
            "padding": null,
            "grid_auto_rows": null,
            "grid_gap": null,
            "max_width": null,
            "order": null,
            "_view_module_version": "1.2.0",
            "grid_template_areas": null,
            "object_position": null,
            "object_fit": null,
            "grid_auto_columns": null,
            "margin": null,
            "display": null,
            "left": null
          },
          "model_module_version": "1.2.0"
        },
        "2c9bf0e161e14cddacf24e48a8f8dd7a": {
          "model_module": "@jupyter-widgets/controls",
          "model_name": "ProgressStyleModel",
          "state": {
            "_view_name": "StyleView",
            "_model_name": "ProgressStyleModel",
            "description_width": "",
            "_view_module": "@jupyter-widgets/base",
            "_model_module_version": "1.5.0",
            "_view_count": null,
            "_view_module_version": "1.2.0",
            "bar_color": null,
            "_model_module": "@jupyter-widgets/controls"
          },
          "model_module_version": "1.5.0"
        },
        "194b2f2fd9fa4b1ba07f02cfd6aba263": {
          "model_module": "@jupyter-widgets/base",
          "model_name": "LayoutModel",
          "state": {
            "_view_name": "LayoutView",
            "grid_template_rows": null,
            "right": null,
            "justify_content": null,
            "_view_module": "@jupyter-widgets/base",
            "overflow": null,
            "_model_module_version": "1.2.0",
            "_view_count": null,
            "flex_flow": null,
            "width": null,
            "min_width": null,
            "border": null,
            "align_items": null,
            "bottom": null,
            "_model_module": "@jupyter-widgets/base",
            "top": null,
            "grid_column": null,
            "overflow_y": null,
            "overflow_x": null,
            "grid_auto_flow": null,
            "grid_area": null,
            "grid_template_columns": null,
            "flex": null,
            "_model_name": "LayoutModel",
            "justify_items": null,
            "grid_row": null,
            "max_height": null,
            "align_content": null,
            "visibility": null,
            "align_self": null,
            "height": null,
            "min_height": null,
            "padding": null,
            "grid_auto_rows": null,
            "grid_gap": null,
            "max_width": null,
            "order": null,
            "_view_module_version": "1.2.0",
            "grid_template_areas": null,
            "object_position": null,
            "object_fit": null,
            "grid_auto_columns": null,
            "margin": null,
            "display": null,
            "left": null
          },
          "model_module_version": "1.2.0"
        },
        "beb44d26582b4cb59d6ca011fb0a2181": {
          "model_module": "@jupyter-widgets/controls",
          "model_name": "VBoxModel",
          "state": {
            "_view_name": "VBoxView",
            "_dom_classes": [],
            "_model_name": "VBoxModel",
            "_view_module": "@jupyter-widgets/controls",
            "_model_module_version": "1.5.0",
            "_view_count": null,
            "_view_module_version": "1.5.0",
            "box_style": "",
            "layout": "IPY_MODEL_f948fb1ac5df4554a666e1f3dd71f910",
            "_model_module": "@jupyter-widgets/controls",
            "children": [
              "IPY_MODEL_f5b2959973584ea094bc6dcb5e7d2747",
              "IPY_MODEL_afd7f218296c438a9d9dc2a842ccb461"
            ]
          },
          "model_module_version": "1.5.0"
        },
        "f948fb1ac5df4554a666e1f3dd71f910": {
          "model_module": "@jupyter-widgets/base",
          "model_name": "LayoutModel",
          "state": {
            "_view_name": "LayoutView",
            "grid_template_rows": null,
            "right": null,
            "justify_content": null,
            "_view_module": "@jupyter-widgets/base",
            "overflow": null,
            "_model_module_version": "1.2.0",
            "_view_count": null,
            "flex_flow": null,
            "width": null,
            "min_width": null,
            "border": null,
            "align_items": null,
            "bottom": null,
            "_model_module": "@jupyter-widgets/base",
            "top": null,
            "grid_column": null,
            "overflow_y": null,
            "overflow_x": null,
            "grid_auto_flow": null,
            "grid_area": null,
            "grid_template_columns": null,
            "flex": null,
            "_model_name": "LayoutModel",
            "justify_items": null,
            "grid_row": null,
            "max_height": null,
            "align_content": null,
            "visibility": null,
            "align_self": null,
            "height": null,
            "min_height": null,
            "padding": null,
            "grid_auto_rows": null,
            "grid_gap": null,
            "max_width": null,
            "order": null,
            "_view_module_version": "1.2.0",
            "grid_template_areas": null,
            "object_position": null,
            "object_fit": null,
            "grid_auto_columns": null,
            "margin": null,
            "display": null,
            "left": null
          },
          "model_module_version": "1.2.0"
        },
        "f5b2959973584ea094bc6dcb5e7d2747": {
          "model_module": "@jupyter-widgets/controls",
          "model_name": "LabelModel",
          "state": {
            "_view_name": "LabelView",
            "style": "IPY_MODEL_dcf25cc9e3c24f248a5f257d26df3f26",
            "_dom_classes": [],
            "description": "",
            "_model_name": "LabelModel",
            "placeholder": "​",
            "_view_module": "@jupyter-widgets/controls",
            "_model_module_version": "1.5.0",
            "value": " 95.41MB of 95.41MB uploaded (0.00MB deduped)\r",
            "_view_count": null,
            "_view_module_version": "1.5.0",
            "description_tooltip": null,
            "_model_module": "@jupyter-widgets/controls",
            "layout": "IPY_MODEL_bc6496a08e584a0dbab303a16ab95134"
          },
          "model_module_version": "1.5.0"
        },
        "afd7f218296c438a9d9dc2a842ccb461": {
          "model_module": "@jupyter-widgets/controls",
          "model_name": "FloatProgressModel",
          "state": {
            "_view_name": "ProgressView",
            "style": "IPY_MODEL_6286a1fbac2a4b56a8331a24766855ee",
            "_dom_classes": [],
            "description": "",
            "_model_name": "FloatProgressModel",
            "bar_style": "",
            "max": 1,
            "_view_module": "@jupyter-widgets/controls",
            "_model_module_version": "1.5.0",
            "value": 1,
            "_view_count": null,
            "_view_module_version": "1.5.0",
            "orientation": "horizontal",
            "min": 0,
            "description_tooltip": null,
            "_model_module": "@jupyter-widgets/controls",
            "layout": "IPY_MODEL_e3bdec2b646941d38d183f1622ab1ffe"
          },
          "model_module_version": "1.5.0"
        },
        "dcf25cc9e3c24f248a5f257d26df3f26": {
          "model_module": "@jupyter-widgets/controls",
          "model_name": "DescriptionStyleModel",
          "state": {
            "_view_name": "StyleView",
            "_model_name": "DescriptionStyleModel",
            "description_width": "",
            "_view_module": "@jupyter-widgets/base",
            "_model_module_version": "1.5.0",
            "_view_count": null,
            "_view_module_version": "1.2.0",
            "_model_module": "@jupyter-widgets/controls"
          },
          "model_module_version": "1.5.0"
        },
        "bc6496a08e584a0dbab303a16ab95134": {
          "model_module": "@jupyter-widgets/base",
          "model_name": "LayoutModel",
          "state": {
            "_view_name": "LayoutView",
            "grid_template_rows": null,
            "right": null,
            "justify_content": null,
            "_view_module": "@jupyter-widgets/base",
            "overflow": null,
            "_model_module_version": "1.2.0",
            "_view_count": null,
            "flex_flow": null,
            "width": null,
            "min_width": null,
            "border": null,
            "align_items": null,
            "bottom": null,
            "_model_module": "@jupyter-widgets/base",
            "top": null,
            "grid_column": null,
            "overflow_y": null,
            "overflow_x": null,
            "grid_auto_flow": null,
            "grid_area": null,
            "grid_template_columns": null,
            "flex": null,
            "_model_name": "LayoutModel",
            "justify_items": null,
            "grid_row": null,
            "max_height": null,
            "align_content": null,
            "visibility": null,
            "align_self": null,
            "height": null,
            "min_height": null,
            "padding": null,
            "grid_auto_rows": null,
            "grid_gap": null,
            "max_width": null,
            "order": null,
            "_view_module_version": "1.2.0",
            "grid_template_areas": null,
            "object_position": null,
            "object_fit": null,
            "grid_auto_columns": null,
            "margin": null,
            "display": null,
            "left": null
          },
          "model_module_version": "1.2.0"
        },
        "6286a1fbac2a4b56a8331a24766855ee": {
          "model_module": "@jupyter-widgets/controls",
          "model_name": "ProgressStyleModel",
          "state": {
            "_view_name": "StyleView",
            "_model_name": "ProgressStyleModel",
            "description_width": "",
            "_view_module": "@jupyter-widgets/base",
            "_model_module_version": "1.5.0",
            "_view_count": null,
            "_view_module_version": "1.2.0",
            "bar_color": null,
            "_model_module": "@jupyter-widgets/controls"
          },
          "model_module_version": "1.5.0"
        },
        "e3bdec2b646941d38d183f1622ab1ffe": {
          "model_module": "@jupyter-widgets/base",
          "model_name": "LayoutModel",
          "state": {
            "_view_name": "LayoutView",
            "grid_template_rows": null,
            "right": null,
            "justify_content": null,
            "_view_module": "@jupyter-widgets/base",
            "overflow": null,
            "_model_module_version": "1.2.0",
            "_view_count": null,
            "flex_flow": null,
            "width": null,
            "min_width": null,
            "border": null,
            "align_items": null,
            "bottom": null,
            "_model_module": "@jupyter-widgets/base",
            "top": null,
            "grid_column": null,
            "overflow_y": null,
            "overflow_x": null,
            "grid_auto_flow": null,
            "grid_area": null,
            "grid_template_columns": null,
            "flex": null,
            "_model_name": "LayoutModel",
            "justify_items": null,
            "grid_row": null,
            "max_height": null,
            "align_content": null,
            "visibility": null,
            "align_self": null,
            "height": null,
            "min_height": null,
            "padding": null,
            "grid_auto_rows": null,
            "grid_gap": null,
            "max_width": null,
            "order": null,
            "_view_module_version": "1.2.0",
            "grid_template_areas": null,
            "object_position": null,
            "object_fit": null,
            "grid_auto_columns": null,
            "margin": null,
            "display": null,
            "left": null
          },
          "model_module_version": "1.2.0"
        },
        "9a3a340b5e5e46f88355dc0c1c6e4b1b": {
          "model_module": "@jupyter-widgets/controls",
          "model_name": "VBoxModel",
          "state": {
            "_view_name": "VBoxView",
            "_dom_classes": [],
            "_model_name": "VBoxModel",
            "_view_module": "@jupyter-widgets/controls",
            "_model_module_version": "1.5.0",
            "_view_count": null,
            "_view_module_version": "1.5.0",
            "box_style": "",
            "layout": "IPY_MODEL_225f3818c0bc4cdf93a363f1625d7d01",
            "_model_module": "@jupyter-widgets/controls",
            "children": [
              "IPY_MODEL_8b389e7d714048dfb22d620abd5450cc",
              "IPY_MODEL_5330cac3ac7948a4a12f3dcc1c03983e"
            ]
          },
          "model_module_version": "1.5.0"
        },
        "225f3818c0bc4cdf93a363f1625d7d01": {
          "model_module": "@jupyter-widgets/base",
          "model_name": "LayoutModel",
          "state": {
            "_view_name": "LayoutView",
            "grid_template_rows": null,
            "right": null,
            "justify_content": null,
            "_view_module": "@jupyter-widgets/base",
            "overflow": null,
            "_model_module_version": "1.2.0",
            "_view_count": null,
            "flex_flow": null,
            "width": null,
            "min_width": null,
            "border": null,
            "align_items": null,
            "bottom": null,
            "_model_module": "@jupyter-widgets/base",
            "top": null,
            "grid_column": null,
            "overflow_y": null,
            "overflow_x": null,
            "grid_auto_flow": null,
            "grid_area": null,
            "grid_template_columns": null,
            "flex": null,
            "_model_name": "LayoutModel",
            "justify_items": null,
            "grid_row": null,
            "max_height": null,
            "align_content": null,
            "visibility": null,
            "align_self": null,
            "height": null,
            "min_height": null,
            "padding": null,
            "grid_auto_rows": null,
            "grid_gap": null,
            "max_width": null,
            "order": null,
            "_view_module_version": "1.2.0",
            "grid_template_areas": null,
            "object_position": null,
            "object_fit": null,
            "grid_auto_columns": null,
            "margin": null,
            "display": null,
            "left": null
          },
          "model_module_version": "1.2.0"
        },
        "8b389e7d714048dfb22d620abd5450cc": {
          "model_module": "@jupyter-widgets/controls",
          "model_name": "LabelModel",
          "state": {
            "_view_name": "LabelView",
            "style": "IPY_MODEL_63a6db47325741e3960091cfd051864f",
            "_dom_classes": [],
            "description": "",
            "_model_name": "LabelModel",
            "placeholder": "​",
            "_view_module": "@jupyter-widgets/controls",
            "_model_module_version": "1.5.0",
            "value": " 95.40MB of 95.40MB uploaded (0.00MB deduped)\r",
            "_view_count": null,
            "_view_module_version": "1.5.0",
            "description_tooltip": null,
            "_model_module": "@jupyter-widgets/controls",
            "layout": "IPY_MODEL_36430c50ce05459cb6028cbdcb59224a"
          },
          "model_module_version": "1.5.0"
        },
        "5330cac3ac7948a4a12f3dcc1c03983e": {
          "model_module": "@jupyter-widgets/controls",
          "model_name": "FloatProgressModel",
          "state": {
            "_view_name": "ProgressView",
            "style": "IPY_MODEL_55a377dd97a8464b86030a3fbed987e5",
            "_dom_classes": [],
            "description": "",
            "_model_name": "FloatProgressModel",
            "bar_style": "",
            "max": 1,
            "_view_module": "@jupyter-widgets/controls",
            "_model_module_version": "1.5.0",
            "value": 1,
            "_view_count": null,
            "_view_module_version": "1.5.0",
            "orientation": "horizontal",
            "min": 0,
            "description_tooltip": null,
            "_model_module": "@jupyter-widgets/controls",
            "layout": "IPY_MODEL_f969b9ee6527445582cc93db6a996786"
          },
          "model_module_version": "1.5.0"
        },
        "63a6db47325741e3960091cfd051864f": {
          "model_module": "@jupyter-widgets/controls",
          "model_name": "DescriptionStyleModel",
          "state": {
            "_view_name": "StyleView",
            "_model_name": "DescriptionStyleModel",
            "description_width": "",
            "_view_module": "@jupyter-widgets/base",
            "_model_module_version": "1.5.0",
            "_view_count": null,
            "_view_module_version": "1.2.0",
            "_model_module": "@jupyter-widgets/controls"
          },
          "model_module_version": "1.5.0"
        },
        "36430c50ce05459cb6028cbdcb59224a": {
          "model_module": "@jupyter-widgets/base",
          "model_name": "LayoutModel",
          "state": {
            "_view_name": "LayoutView",
            "grid_template_rows": null,
            "right": null,
            "justify_content": null,
            "_view_module": "@jupyter-widgets/base",
            "overflow": null,
            "_model_module_version": "1.2.0",
            "_view_count": null,
            "flex_flow": null,
            "width": null,
            "min_width": null,
            "border": null,
            "align_items": null,
            "bottom": null,
            "_model_module": "@jupyter-widgets/base",
            "top": null,
            "grid_column": null,
            "overflow_y": null,
            "overflow_x": null,
            "grid_auto_flow": null,
            "grid_area": null,
            "grid_template_columns": null,
            "flex": null,
            "_model_name": "LayoutModel",
            "justify_items": null,
            "grid_row": null,
            "max_height": null,
            "align_content": null,
            "visibility": null,
            "align_self": null,
            "height": null,
            "min_height": null,
            "padding": null,
            "grid_auto_rows": null,
            "grid_gap": null,
            "max_width": null,
            "order": null,
            "_view_module_version": "1.2.0",
            "grid_template_areas": null,
            "object_position": null,
            "object_fit": null,
            "grid_auto_columns": null,
            "margin": null,
            "display": null,
            "left": null
          },
          "model_module_version": "1.2.0"
        },
        "55a377dd97a8464b86030a3fbed987e5": {
          "model_module": "@jupyter-widgets/controls",
          "model_name": "ProgressStyleModel",
          "state": {
            "_view_name": "StyleView",
            "_model_name": "ProgressStyleModel",
            "description_width": "",
            "_view_module": "@jupyter-widgets/base",
            "_model_module_version": "1.5.0",
            "_view_count": null,
            "_view_module_version": "1.2.0",
            "bar_color": null,
            "_model_module": "@jupyter-widgets/controls"
          },
          "model_module_version": "1.5.0"
        },
        "f969b9ee6527445582cc93db6a996786": {
          "model_module": "@jupyter-widgets/base",
          "model_name": "LayoutModel",
          "state": {
            "_view_name": "LayoutView",
            "grid_template_rows": null,
            "right": null,
            "justify_content": null,
            "_view_module": "@jupyter-widgets/base",
            "overflow": null,
            "_model_module_version": "1.2.0",
            "_view_count": null,
            "flex_flow": null,
            "width": null,
            "min_width": null,
            "border": null,
            "align_items": null,
            "bottom": null,
            "_model_module": "@jupyter-widgets/base",
            "top": null,
            "grid_column": null,
            "overflow_y": null,
            "overflow_x": null,
            "grid_auto_flow": null,
            "grid_area": null,
            "grid_template_columns": null,
            "flex": null,
            "_model_name": "LayoutModel",
            "justify_items": null,
            "grid_row": null,
            "max_height": null,
            "align_content": null,
            "visibility": null,
            "align_self": null,
            "height": null,
            "min_height": null,
            "padding": null,
            "grid_auto_rows": null,
            "grid_gap": null,
            "max_width": null,
            "order": null,
            "_view_module_version": "1.2.0",
            "grid_template_areas": null,
            "object_position": null,
            "object_fit": null,
            "grid_auto_columns": null,
            "margin": null,
            "display": null,
            "left": null
          },
          "model_module_version": "1.2.0"
        },
        "0c0a83e1088d4318b212c19e1b4d30d5": {
          "model_module": "@jupyter-widgets/controls",
          "model_name": "VBoxModel",
          "state": {
            "_view_name": "VBoxView",
            "_dom_classes": [],
            "_model_name": "VBoxModel",
            "_view_module": "@jupyter-widgets/controls",
            "_model_module_version": "1.5.0",
            "_view_count": null,
            "_view_module_version": "1.5.0",
            "box_style": "",
            "layout": "IPY_MODEL_66d2089f203e41c782738a11fcfc1738",
            "_model_module": "@jupyter-widgets/controls",
            "children": [
              "IPY_MODEL_93f08562120a4a038db443182df00a67",
              "IPY_MODEL_0f2b1f09a076435b86ce15323878199d"
            ]
          },
          "model_module_version": "1.5.0"
        },
        "66d2089f203e41c782738a11fcfc1738": {
          "model_module": "@jupyter-widgets/base",
          "model_name": "LayoutModel",
          "state": {
            "_view_name": "LayoutView",
            "grid_template_rows": null,
            "right": null,
            "justify_content": null,
            "_view_module": "@jupyter-widgets/base",
            "overflow": null,
            "_model_module_version": "1.2.0",
            "_view_count": null,
            "flex_flow": null,
            "width": null,
            "min_width": null,
            "border": null,
            "align_items": null,
            "bottom": null,
            "_model_module": "@jupyter-widgets/base",
            "top": null,
            "grid_column": null,
            "overflow_y": null,
            "overflow_x": null,
            "grid_auto_flow": null,
            "grid_area": null,
            "grid_template_columns": null,
            "flex": null,
            "_model_name": "LayoutModel",
            "justify_items": null,
            "grid_row": null,
            "max_height": null,
            "align_content": null,
            "visibility": null,
            "align_self": null,
            "height": null,
            "min_height": null,
            "padding": null,
            "grid_auto_rows": null,
            "grid_gap": null,
            "max_width": null,
            "order": null,
            "_view_module_version": "1.2.0",
            "grid_template_areas": null,
            "object_position": null,
            "object_fit": null,
            "grid_auto_columns": null,
            "margin": null,
            "display": null,
            "left": null
          },
          "model_module_version": "1.2.0"
        },
        "93f08562120a4a038db443182df00a67": {
          "model_module": "@jupyter-widgets/controls",
          "model_name": "LabelModel",
          "state": {
            "_view_name": "LabelView",
            "style": "IPY_MODEL_584cb50e8c4e48c2a8037d26da5f453d",
            "_dom_classes": [],
            "description": "",
            "_model_name": "LabelModel",
            "placeholder": "​",
            "_view_module": "@jupyter-widgets/controls",
            "_model_module_version": "1.5.0",
            "value": " 101.21MB of 101.21MB uploaded (0.00MB deduped)\r",
            "_view_count": null,
            "_view_module_version": "1.5.0",
            "description_tooltip": null,
            "_model_module": "@jupyter-widgets/controls",
            "layout": "IPY_MODEL_c3666cae8fab43068aec3a68bfa35a7f"
          },
          "model_module_version": "1.5.0"
        },
        "0f2b1f09a076435b86ce15323878199d": {
          "model_module": "@jupyter-widgets/controls",
          "model_name": "FloatProgressModel",
          "state": {
            "_view_name": "ProgressView",
            "style": "IPY_MODEL_49538cf272dc44a188fefef65863d530",
            "_dom_classes": [],
            "description": "",
            "_model_name": "FloatProgressModel",
            "bar_style": "",
            "max": 1,
            "_view_module": "@jupyter-widgets/controls",
            "_model_module_version": "1.5.0",
            "value": 1,
            "_view_count": null,
            "_view_module_version": "1.5.0",
            "orientation": "horizontal",
            "min": 0,
            "description_tooltip": null,
            "_model_module": "@jupyter-widgets/controls",
            "layout": "IPY_MODEL_215af4110fe54608ad17058ec91464ea"
          },
          "model_module_version": "1.5.0"
        },
        "584cb50e8c4e48c2a8037d26da5f453d": {
          "model_module": "@jupyter-widgets/controls",
          "model_name": "DescriptionStyleModel",
          "state": {
            "_view_name": "StyleView",
            "_model_name": "DescriptionStyleModel",
            "description_width": "",
            "_view_module": "@jupyter-widgets/base",
            "_model_module_version": "1.5.0",
            "_view_count": null,
            "_view_module_version": "1.2.0",
            "_model_module": "@jupyter-widgets/controls"
          },
          "model_module_version": "1.5.0"
        },
        "c3666cae8fab43068aec3a68bfa35a7f": {
          "model_module": "@jupyter-widgets/base",
          "model_name": "LayoutModel",
          "state": {
            "_view_name": "LayoutView",
            "grid_template_rows": null,
            "right": null,
            "justify_content": null,
            "_view_module": "@jupyter-widgets/base",
            "overflow": null,
            "_model_module_version": "1.2.0",
            "_view_count": null,
            "flex_flow": null,
            "width": null,
            "min_width": null,
            "border": null,
            "align_items": null,
            "bottom": null,
            "_model_module": "@jupyter-widgets/base",
            "top": null,
            "grid_column": null,
            "overflow_y": null,
            "overflow_x": null,
            "grid_auto_flow": null,
            "grid_area": null,
            "grid_template_columns": null,
            "flex": null,
            "_model_name": "LayoutModel",
            "justify_items": null,
            "grid_row": null,
            "max_height": null,
            "align_content": null,
            "visibility": null,
            "align_self": null,
            "height": null,
            "min_height": null,
            "padding": null,
            "grid_auto_rows": null,
            "grid_gap": null,
            "max_width": null,
            "order": null,
            "_view_module_version": "1.2.0",
            "grid_template_areas": null,
            "object_position": null,
            "object_fit": null,
            "grid_auto_columns": null,
            "margin": null,
            "display": null,
            "left": null
          },
          "model_module_version": "1.2.0"
        },
        "49538cf272dc44a188fefef65863d530": {
          "model_module": "@jupyter-widgets/controls",
          "model_name": "ProgressStyleModel",
          "state": {
            "_view_name": "StyleView",
            "_model_name": "ProgressStyleModel",
            "description_width": "",
            "_view_module": "@jupyter-widgets/base",
            "_model_module_version": "1.5.0",
            "_view_count": null,
            "_view_module_version": "1.2.0",
            "bar_color": null,
            "_model_module": "@jupyter-widgets/controls"
          },
          "model_module_version": "1.5.0"
        },
        "215af4110fe54608ad17058ec91464ea": {
          "model_module": "@jupyter-widgets/base",
          "model_name": "LayoutModel",
          "state": {
            "_view_name": "LayoutView",
            "grid_template_rows": null,
            "right": null,
            "justify_content": null,
            "_view_module": "@jupyter-widgets/base",
            "overflow": null,
            "_model_module_version": "1.2.0",
            "_view_count": null,
            "flex_flow": null,
            "width": null,
            "min_width": null,
            "border": null,
            "align_items": null,
            "bottom": null,
            "_model_module": "@jupyter-widgets/base",
            "top": null,
            "grid_column": null,
            "overflow_y": null,
            "overflow_x": null,
            "grid_auto_flow": null,
            "grid_area": null,
            "grid_template_columns": null,
            "flex": null,
            "_model_name": "LayoutModel",
            "justify_items": null,
            "grid_row": null,
            "max_height": null,
            "align_content": null,
            "visibility": null,
            "align_self": null,
            "height": null,
            "min_height": null,
            "padding": null,
            "grid_auto_rows": null,
            "grid_gap": null,
            "max_width": null,
            "order": null,
            "_view_module_version": "1.2.0",
            "grid_template_areas": null,
            "object_position": null,
            "object_fit": null,
            "grid_auto_columns": null,
            "margin": null,
            "display": null,
            "left": null
          },
          "model_module_version": "1.2.0"
        },
        "8cc695c6b7c34d86a88d0386f80d929b": {
          "model_module": "@jupyter-widgets/controls",
          "model_name": "VBoxModel",
          "state": {
            "_view_name": "VBoxView",
            "_dom_classes": [],
            "_model_name": "VBoxModel",
            "_view_module": "@jupyter-widgets/controls",
            "_model_module_version": "1.5.0",
            "_view_count": null,
            "_view_module_version": "1.5.0",
            "box_style": "",
            "layout": "IPY_MODEL_2917e2e47fd3464db8096d65ad6d8dd9",
            "_model_module": "@jupyter-widgets/controls",
            "children": [
              "IPY_MODEL_c12c42553a4247069945097329229377",
              "IPY_MODEL_a37a24cc3c5c4350a7624345a1477e95"
            ]
          },
          "model_module_version": "1.5.0"
        },
        "2917e2e47fd3464db8096d65ad6d8dd9": {
          "model_module": "@jupyter-widgets/base",
          "model_name": "LayoutModel",
          "state": {
            "_view_name": "LayoutView",
            "grid_template_rows": null,
            "right": null,
            "justify_content": null,
            "_view_module": "@jupyter-widgets/base",
            "overflow": null,
            "_model_module_version": "1.2.0",
            "_view_count": null,
            "flex_flow": null,
            "width": null,
            "min_width": null,
            "border": null,
            "align_items": null,
            "bottom": null,
            "_model_module": "@jupyter-widgets/base",
            "top": null,
            "grid_column": null,
            "overflow_y": null,
            "overflow_x": null,
            "grid_auto_flow": null,
            "grid_area": null,
            "grid_template_columns": null,
            "flex": null,
            "_model_name": "LayoutModel",
            "justify_items": null,
            "grid_row": null,
            "max_height": null,
            "align_content": null,
            "visibility": null,
            "align_self": null,
            "height": null,
            "min_height": null,
            "padding": null,
            "grid_auto_rows": null,
            "grid_gap": null,
            "max_width": null,
            "order": null,
            "_view_module_version": "1.2.0",
            "grid_template_areas": null,
            "object_position": null,
            "object_fit": null,
            "grid_auto_columns": null,
            "margin": null,
            "display": null,
            "left": null
          },
          "model_module_version": "1.2.0"
        },
        "c12c42553a4247069945097329229377": {
          "model_module": "@jupyter-widgets/controls",
          "model_name": "LabelModel",
          "state": {
            "_view_name": "LabelView",
            "style": "IPY_MODEL_381fdd2849e44ce991ca612dbd8680ee",
            "_dom_classes": [],
            "description": "",
            "_model_name": "LabelModel",
            "placeholder": "​",
            "_view_module": "@jupyter-widgets/controls",
            "_model_module_version": "1.5.0",
            "value": " 116.57MB of 116.57MB uploaded (0.00MB deduped)\r",
            "_view_count": null,
            "_view_module_version": "1.5.0",
            "description_tooltip": null,
            "_model_module": "@jupyter-widgets/controls",
            "layout": "IPY_MODEL_7167b15ba4b4466a9f91fcf26af9af7d"
          },
          "model_module_version": "1.5.0"
        },
        "a37a24cc3c5c4350a7624345a1477e95": {
          "model_module": "@jupyter-widgets/controls",
          "model_name": "FloatProgressModel",
          "state": {
            "_view_name": "ProgressView",
            "style": "IPY_MODEL_0b7dc1dc153c4ba99116e149710b4eca",
            "_dom_classes": [],
            "description": "",
            "_model_name": "FloatProgressModel",
            "bar_style": "",
            "max": 1,
            "_view_module": "@jupyter-widgets/controls",
            "_model_module_version": "1.5.0",
            "value": 1,
            "_view_count": null,
            "_view_module_version": "1.5.0",
            "orientation": "horizontal",
            "min": 0,
            "description_tooltip": null,
            "_model_module": "@jupyter-widgets/controls",
            "layout": "IPY_MODEL_9ab071f24cab4aa8b2d2a1da4525e78b"
          },
          "model_module_version": "1.5.0"
        },
        "381fdd2849e44ce991ca612dbd8680ee": {
          "model_module": "@jupyter-widgets/controls",
          "model_name": "DescriptionStyleModel",
          "state": {
            "_view_name": "StyleView",
            "_model_name": "DescriptionStyleModel",
            "description_width": "",
            "_view_module": "@jupyter-widgets/base",
            "_model_module_version": "1.5.0",
            "_view_count": null,
            "_view_module_version": "1.2.0",
            "_model_module": "@jupyter-widgets/controls"
          },
          "model_module_version": "1.5.0"
        },
        "7167b15ba4b4466a9f91fcf26af9af7d": {
          "model_module": "@jupyter-widgets/base",
          "model_name": "LayoutModel",
          "state": {
            "_view_name": "LayoutView",
            "grid_template_rows": null,
            "right": null,
            "justify_content": null,
            "_view_module": "@jupyter-widgets/base",
            "overflow": null,
            "_model_module_version": "1.2.0",
            "_view_count": null,
            "flex_flow": null,
            "width": null,
            "min_width": null,
            "border": null,
            "align_items": null,
            "bottom": null,
            "_model_module": "@jupyter-widgets/base",
            "top": null,
            "grid_column": null,
            "overflow_y": null,
            "overflow_x": null,
            "grid_auto_flow": null,
            "grid_area": null,
            "grid_template_columns": null,
            "flex": null,
            "_model_name": "LayoutModel",
            "justify_items": null,
            "grid_row": null,
            "max_height": null,
            "align_content": null,
            "visibility": null,
            "align_self": null,
            "height": null,
            "min_height": null,
            "padding": null,
            "grid_auto_rows": null,
            "grid_gap": null,
            "max_width": null,
            "order": null,
            "_view_module_version": "1.2.0",
            "grid_template_areas": null,
            "object_position": null,
            "object_fit": null,
            "grid_auto_columns": null,
            "margin": null,
            "display": null,
            "left": null
          },
          "model_module_version": "1.2.0"
        },
        "0b7dc1dc153c4ba99116e149710b4eca": {
          "model_module": "@jupyter-widgets/controls",
          "model_name": "ProgressStyleModel",
          "state": {
            "_view_name": "StyleView",
            "_model_name": "ProgressStyleModel",
            "description_width": "",
            "_view_module": "@jupyter-widgets/base",
            "_model_module_version": "1.5.0",
            "_view_count": null,
            "_view_module_version": "1.2.0",
            "bar_color": null,
            "_model_module": "@jupyter-widgets/controls"
          },
          "model_module_version": "1.5.0"
        },
        "9ab071f24cab4aa8b2d2a1da4525e78b": {
          "model_module": "@jupyter-widgets/base",
          "model_name": "LayoutModel",
          "state": {
            "_view_name": "LayoutView",
            "grid_template_rows": null,
            "right": null,
            "justify_content": null,
            "_view_module": "@jupyter-widgets/base",
            "overflow": null,
            "_model_module_version": "1.2.0",
            "_view_count": null,
            "flex_flow": null,
            "width": null,
            "min_width": null,
            "border": null,
            "align_items": null,
            "bottom": null,
            "_model_module": "@jupyter-widgets/base",
            "top": null,
            "grid_column": null,
            "overflow_y": null,
            "overflow_x": null,
            "grid_auto_flow": null,
            "grid_area": null,
            "grid_template_columns": null,
            "flex": null,
            "_model_name": "LayoutModel",
            "justify_items": null,
            "grid_row": null,
            "max_height": null,
            "align_content": null,
            "visibility": null,
            "align_self": null,
            "height": null,
            "min_height": null,
            "padding": null,
            "grid_auto_rows": null,
            "grid_gap": null,
            "max_width": null,
            "order": null,
            "_view_module_version": "1.2.0",
            "grid_template_areas": null,
            "object_position": null,
            "object_fit": null,
            "grid_auto_columns": null,
            "margin": null,
            "display": null,
            "left": null
          },
          "model_module_version": "1.2.0"
        }
      }
    }
  },
  "cells": [
    {
      "cell_type": "markdown",
      "metadata": {
        "id": "view-in-github",
        "colab_type": "text"
      },
      "source": [
        "<a href=\"https://colab.research.google.com/github/pratap977/CS6910/blob/main/Assignment-2/Part-B/Part-B.ipynb\" target=\"_parent\"><img src=\"https://colab.research.google.com/assets/colab-badge.svg\" alt=\"Open In Colab\"/></a>"
      ]
    },
    {
      "cell_type": "code",
      "metadata": {
        "colab": {
          "base_uri": "https://localhost:8080/"
        },
        "id": "aBCSW4JYo87O",
        "outputId": "83cc4b37-50d8-4221-e579-de0f5c92a218"
      },
      "source": [
        "!pip install wandb"
      ],
      "execution_count": null,
      "outputs": [
        {
          "output_type": "stream",
          "text": [
            "Collecting split-folders\n",
            "  Downloading https://files.pythonhosted.org/packages/b8/5f/3c2b2f7ea5e047c8cdc3bb00ae582c5438fcdbbedcc23b3cc1c2c7aae642/split_folders-0.4.3-py3-none-any.whl\n",
            "Installing collected packages: split-folders\n",
            "Successfully installed split-folders-0.4.3\n"
          ],
          "name": "stdout"
        }
      ]
    },
    {
      "cell_type": "code",
      "metadata": {
        "id": "fAccX4bPpJq7"
      },
      "source": [
        "import numpy as np\n",
        "import tensorflow as tf\n",
        "from tensorflow import keras\n",
        "from PIL import Image as im\n",
        "import math as mh\n",
        "from matplotlib import pyplot\n",
        "from tensorflow.keras.layers import Conv2D,MaxPooling2D,Activation,Dense,Flatten\n",
        "from keras.preprocessing.image import load_img as im\n",
        "from keras.preprocessing.image import save_img as sim\n",
        "import os\n",
        "from random import shuffle\n",
        "import numpy as np\n",
        "import random\n",
        "from tensorflow.keras.preprocessing import image\n",
        "from tensorflow.keras import layers,models\n",
        "import keras\n",
        "from tensorflow.keras.applications import Xception,InceptionV3,InceptionResNetV2,ResNet50\n",
        "\n",
        "# keras.backend.set_image_data_format('channels_first')"
      ],
      "execution_count": null,
      "outputs": []
    },
    {
      "cell_type": "code",
      "source": [
        "from google.colab import drive\n",
        "drive.mount('/content/drive')"
      ],
      "metadata": {
        "id": "DnYqY-BDFeuc"
      },
      "execution_count": null,
      "outputs": []
    },
    {
      "cell_type": "code",
      "source": [
        "#gettig labels for different classes and assigning values\n",
        "class_labels = os.listdir(\"/content/drive/MyDrive/outputfin/train\")\n",
        "lab={l:i for l,i in zip(class_labels,range(10))}\n",
        "\n",
        "\n",
        "\n",
        "\n",
        "##############################################################\n",
        "#function for prepating data takes two parameters\n",
        "#1.drive_path - path to drive i.e training or validataion or test\n",
        "#2.want_aug - Takes 'YES' or 'NO' values to gather info wheter to augment data or not\n",
        "def prepare_data(drive_path,want_aug):\n",
        "  imgs_tr = []\n",
        "  truth_tr = []\n",
        "  #data augmentation rules here\n",
        "  data_augmentation  = transforms.Compose([\n",
        "          transforms.CenterCrop(224),\n",
        "          transforms.ToTensor(),\n",
        "          transforms.Normalize([0.485, 0.456, 0.406], [0.229, 0.224, 0.225])\n",
        "      ])\n",
        "  for l in class_labels:\n",
        "    #### for each folder in the val dir we iterate though all the files \n",
        "    if l.startswith(\".\"):\n",
        "      continue\n",
        "    imgs_per_class = os.listdir(os.path.join(drive_path, l)) #getting list of file names\n",
        "    for img in imgs_per_class:\n",
        "      #iterating to each file in the folder \n",
        "      img_path = os.path.join(drive_path, l, img)\n",
        "      img=Image.open(img_path)\n",
        "      img = img.resize((224,224))\n",
        "      if img.mode == 'L':\n",
        "                  continue\n",
        "      if(want_aug=='YES'):\n",
        "        normalized_image = data_augmentation(img)\n",
        "        imgs_tr.append(np.asarray(normalized_image).transpose(1,2,0))\n",
        "      else:\n",
        "        normalized_image = img\n",
        "        imgs_tr.append(np.asarray(normalized_image))\n",
        "      truth_tr.append(lab[l])\n",
        "      \n",
        "  #contain augmented images(imgs_tr) and labels(truth_tr)\n",
        "  return np.asarray(imgs_tr) , np.asarray(truth_tr) \n",
        "\n",
        "\n",
        "\n",
        "#####################################################################\n",
        "# Preparing training set (with augmentation), validation set and test test\n",
        "####################################################################\n",
        "# Preparing training data with augmentation\n",
        "# Loading data from directory\n",
        "\n",
        "\n",
        "#############augmented Training data############ \n",
        "x_train,y_train=prepare_data(\"/content/drive/MyDrive/outputfin/train\",'YES')\n",
        "\n",
        "\n",
        "#############augmented validation data############ \n",
        "x_val,y_val=prepare_data(\"/content/drive/MyDrive/outputfin/val\",'YES')\n",
        "\n",
        "#############augmented test data############\n",
        "x_test,y_test=prepare_data(\"/content/drive/MyDrive/inaturalist_12K/val\",'YES')\n",
        "\n",
        "\n",
        "\n",
        "\n",
        "#####################################################################\n",
        "# Preparing training set (without augmentation), validation set and test test\n",
        "####################################################################\n",
        "# Preparing training data withou augmentation\n",
        "# Loading data from directory\n",
        "#############augmented Training data############ \n",
        "x_train_un,y_train_un=prepare_data(\"/content/drive/MyDrive/outputfin/train\",'NO')\n",
        "\n",
        "\n",
        "#############augmented validation data############ \n",
        "x_val_un,y_val_un=prepare_data(\"/content/drive/MyDrive/outputfin/val\",'NO')\n",
        "\n",
        "#############augmented test data############\n",
        "x_test_un,y_test_un=prepare_data(\"/content/drive/MyDrive/inaturalist_12K/val\",'NO')\n",
        "\n",
        "\n"
      ],
      "metadata": {
        "id": "IIWGaUOuFlqM"
      },
      "execution_count": null,
      "outputs": []
    },
    {
      "cell_type": "code",
      "metadata": {
        "id": "Ce_S-k8Of03v"
      },
      "source": [
        "#this function take the following parameters\n",
        "#1.type - the type of the pretrained model to be used\n",
        "#2.freez- which layers to freez (-1 indicates freeizing all layers, \n",
        "# negative number 'n' indicates freezing n-1 layers from the back, and positive number 'p' freezing starting p-1 layers)\n",
        "#3.epochs - number of epochs to fit the model\n",
        "#4.batch - batchsize for training\n",
        "\n",
        "#this creates , trains and returns the model \n",
        "def finetune(type,freez,epoch,optim,batch):\n",
        "  model=keras.models.Sequential()\n",
        "  base=Xception(weights='imagenet',input_shape=(299,299,3),include_top=True)\n",
        "  if(type=='Xception'):\n",
        "    base=Xception(weights='imagenet',input_shape=(299,299,3),include_top=True)\n",
        "    model.add(base)\n",
        "  elif(type=='InceptionV3'):\n",
        "    base=InceptionV3(weights='imagenet',input_shape=(299,299,3),include_top=True)\n",
        "    model.add(base)\n",
        "  elif(type=='ResNet50'):\n",
        "    #model.add(keras.layers.Dense(224*224*3,activation='softmax'))\n",
        "   #model.add(keras.layers.Reshape((224,224,3))\n",
        "    base=ResNet50(weights='imagenet',input_shape=(299,299,3),include_top=False)\n",
        "    model.add(base)\n",
        "  elif(type=='InceptionResNetV2'):\n",
        "    base=InceptionResNetV2(weights='imagenet',input_shape=(299,299,3),include_top=True)\n",
        "    model.add(base)\n",
        "    \n",
        "  model.add(keras.layers.Flatten())\n",
        "  model.add(keras.layers.Dense(10,activation='softmax'))\n",
        "\n",
        "  if(freez==-1):\n",
        "    base.trainable=False\n",
        "  elif(freez<0):\n",
        "    for i in range(k,0,1):\n",
        "      base.layers[i].trainable = False\n",
        "  elif(freez>0):\n",
        "    for i in range(0,k,1):\n",
        "      base.layers[i].trainable = False\n",
        "  #wandb.init()\n",
        "  # model.summary()\n",
        "  model.compile(loss=\"sparse_categorical_crossentropy\", optimizer=optim, metrics=[\"accuracy\"])\n",
        "  model.fit(x_train, y_train,epochs=epoch, batch_size=batch, validation_data=(x_val,y_val), callbacks=[WandbCallback()])\n",
        "\n",
        "\n",
        "  \n",
        "  #tloss,tacc=model.evaluate(x_te)\n",
        "  #wandb.log({\"Test loss\":tloss,\"Test Accuracy\":tacc})\n",
        "  \n",
        "\n",
        "  return model"
      ],
      "execution_count": null,
      "outputs": []
    },
    {
      "cell_type": "code",
      "metadata": {
        "id": "eMxn3LoRysWR"
      },
      "source": [
        "sweep_configer = {\n",
        "                  'method': 'grid',\n",
        "                  'metric':{\n",
        "                            'name':'accuracy',\n",
        "                            'goal':'maximize'\n",
        "                            },\n",
        "                  'parameters': {\n",
        "                                'mod'   : {'values': ['Xception','InceptionV3', 'ResNet50', 'InceptionResNetV2']},\n",
        "                                'freez'   :{'values':[-1,10,5,-10,-6,7,-9,0]},\n",
        "                                'epochs'    :{'values':[5,10,15,20]},  \n",
        "                                 'optimizer'               : {'values' :['sgd','adam','rmsprop','rmsprop'] },\n",
        "                                  'lr'                      : {'values' :[1e-3,1e-2,2e-3] },\n",
        "                                  'gama'                    : {'values' :[1e-3,2e-3,5e-3] }, \n",
        "                                 'batchsize'               : {'values' :[16,32,64,128] },                       \n",
        "                              }\n",
        "                }"
      ],
      "execution_count": null,
      "outputs": []
    },
    {
      "cell_type": "code",
      "metadata": {
        "id": "kTJjWwJi1n2k"
      },
      "source": [
        "#sweep function for hyperparamater tuning\n",
        "def hypertune():\n",
        "  wandb.init(config=sweep_configer,magic=True)\n",
        "  if(wandb.config.optimizer==\"sgd\"):\n",
        "    optim = tf.keras.optimizers.SGD(learning_rate=wandb.config.lr)\n",
        "  elif(wandb.config.optimizer==\"adam\"):\n",
        "    optim = tf.keras.optimizers.Adam(learning_rate=wandb.config.lr)\n",
        "  elif(wandb.config.optimizer==\"momentum\"):\n",
        "    optim = tf.keras.optimizers.SGD(learning_rate=wandb.config.lr,momentum=wandb.config.gama)\n",
        "  elif(wandb.config.optimizer==\"rmsprop\"):\n",
        "    optim = tf.keras.optimizers.RMSprop(learning_rate=wandb.config.lr)\n",
        "  finetune(wandb.config.mod,wandb.config.freez,wandb.config.epochs,optim,wandb.config.batchsize)\n",
        "\n"
      ],
      "execution_count": null,
      "outputs": []
    },
    {
      "cell_type": "code",
      "metadata": {
        "colab": {
          "base_uri": "https://localhost:8080/"
        },
        "id": "RKmrijG6Lqy0",
        "outputId": "9228749e-1d65-4773-e5c0-57bfa4a05298"
      },
      "source": [
        "import wandb\n",
        "from wandb.keras import WandbCallback\n",
        "wandb.login()"
      ],
      "execution_count": null,
      "outputs": [
        {
          "output_type": "stream",
          "text": [
            "\u001b[34m\u001b[1mwandb\u001b[0m: Currently logged in as: \u001b[33mpratap49\u001b[0m (use `wandb login --relogin` to force relogin)\n"
          ],
          "name": "stderr"
        },
        {
          "output_type": "execute_result",
          "data": {
            "text/plain": [
              "True"
            ]
          },
          "metadata": {
            "tags": []
          },
          "execution_count": 5
        }
      ]
    },
    {
      "cell_type": "code",
      "metadata": {
        "colab": {
          "base_uri": "https://localhost:8080/",
          "height": 1000,
          "referenced_widgets": [
            "3eefff8156844f51b5f1a43794c1528f",
            "80387e39b8534b30ba71a84a188d86e9",
            "b9283129444a4e8883f0d57bf63ff4ca",
            "2445cc2247ad46bf99fbed2f9df89e98",
            "3d85641560f64ffd9e5fc4a656cc6317",
            "48fcc054e1224b0e9e6da6b753da43d5",
            "fe83aae88f134299b0c98b7bfe028677",
            "7778d21d6148466d848db5b90a73226e",
            "03991d1011074970b359ce8ca798321c",
            "9bd600ac659d41129bfbbe1b54e12090",
            "621ed33b149f401c88ed8cab97dd658f",
            "c73e73b629ca482fbfde4af170394e73",
            "caf57b6d2fcc41679429b8b18d0c78d7",
            "f697dc221e7b40c0b1ddecae6c2a8132",
            "1ed192f982ee46f88c48389c001fe7bd",
            "2212e524b79d4be3b035685364023796",
            "59a6b2a305a04711be1be07e3e834f9d",
            "54847365c71147db902c0832c43ee630",
            "cd03f7795d6c423cbaf830ed2e411457",
            "8d42cb8fdc5746918ebb0dcf321bb12a",
            "425a83fa029849cc89840ff37f9bc4f6",
            "75125791ab664346bac31d5f017fa2b5",
            "3e43ed12099a4106b292d8336d853230",
            "23eec12ba8a74243a0f309376afb73a6",
            "871df421eeda49f9b247abba69897c68",
            "876e98f6f1b94eedbc278cb22ee1a216",
            "89e866b5ee1142448364bb455bd16f2f",
            "bfad5bc620a84f2c8203afd13555421a",
            "0d27a83ba7504fa4a0eceb880d2dcaa0",
            "5259c247796e434db3a329041fb4d225",
            "2c9bf0e161e14cddacf24e48a8f8dd7a",
            "194b2f2fd9fa4b1ba07f02cfd6aba263",
            "beb44d26582b4cb59d6ca011fb0a2181",
            "f948fb1ac5df4554a666e1f3dd71f910",
            "f5b2959973584ea094bc6dcb5e7d2747",
            "afd7f218296c438a9d9dc2a842ccb461",
            "dcf25cc9e3c24f248a5f257d26df3f26",
            "bc6496a08e584a0dbab303a16ab95134",
            "6286a1fbac2a4b56a8331a24766855ee",
            "e3bdec2b646941d38d183f1622ab1ffe",
            "9a3a340b5e5e46f88355dc0c1c6e4b1b",
            "225f3818c0bc4cdf93a363f1625d7d01",
            "8b389e7d714048dfb22d620abd5450cc",
            "5330cac3ac7948a4a12f3dcc1c03983e",
            "63a6db47325741e3960091cfd051864f",
            "36430c50ce05459cb6028cbdcb59224a",
            "55a377dd97a8464b86030a3fbed987e5",
            "f969b9ee6527445582cc93db6a996786",
            "0c0a83e1088d4318b212c19e1b4d30d5",
            "66d2089f203e41c782738a11fcfc1738",
            "93f08562120a4a038db443182df00a67",
            "0f2b1f09a076435b86ce15323878199d",
            "584cb50e8c4e48c2a8037d26da5f453d",
            "c3666cae8fab43068aec3a68bfa35a7f",
            "49538cf272dc44a188fefef65863d530",
            "215af4110fe54608ad17058ec91464ea",
            "8cc695c6b7c34d86a88d0386f80d929b",
            "2917e2e47fd3464db8096d65ad6d8dd9",
            "c12c42553a4247069945097329229377",
            "a37a24cc3c5c4350a7624345a1477e95",
            "381fdd2849e44ce991ca612dbd8680ee",
            "7167b15ba4b4466a9f91fcf26af9af7d",
            "0b7dc1dc153c4ba99116e149710b4eca",
            "9ab071f24cab4aa8b2d2a1da4525e78b"
          ]
        },
        "id": "i6WsCpMbJdw3",
        "outputId": "e83fb018-0b78-411b-8b3e-23ea773731d0"
      },
      "source": [
        "\n",
        "\n",
        "sweep_id = wandb.sweep(sweep_configer)\n",
        "wandb.agent(sweep_id, function=hypertune)"
      ],
      "execution_count": null,
      "outputs": [
        {
          "output_type": "stream",
          "text": [
            "Create sweep with ID: qqnh1etr\n",
            "Sweep URL: https://wandb.ai/pratap49/uncategorized/sweeps/qqnh1etr\n"
          ],
          "name": "stdout"
        },
        {
          "output_type": "stream",
          "text": [
            "\u001b[34m\u001b[1mwandb\u001b[0m: Agent Starting Run: vsecq06v with config:\n",
            "\u001b[34m\u001b[1mwandb\u001b[0m: \tbatchsize: 16\n",
            "\u001b[34m\u001b[1mwandb\u001b[0m: \tepochs: 5\n",
            "\u001b[34m\u001b[1mwandb\u001b[0m: \tfreez: -1\n",
            "\u001b[34m\u001b[1mwandb\u001b[0m: \tgama: 0.001\n",
            "\u001b[34m\u001b[1mwandb\u001b[0m: \tlr: 0.001\n",
            "\u001b[34m\u001b[1mwandb\u001b[0m: \tmod: Xception\n",
            "\u001b[34m\u001b[1mwandb\u001b[0m: \toptimizer: sgd\n"
          ],
          "name": "stderr"
        },
        {
          "output_type": "display_data",
          "data": {
            "text/html": [
              "\n",
              "                Tracking run with wandb version 0.10.27<br/>\n",
              "                Syncing run <strong style=\"color:#cdcd00\">legendary-sweep-1</strong> to <a href=\"https://wandb.ai\" target=\"_blank\">Weights & Biases</a> <a href=\"https://docs.wandb.com/integrations/jupyter.html\" target=\"_blank\">(Documentation)</a>.<br/>\n",
              "                Project page: <a href=\"https://wandb.ai/pratap49/uncategorized\" target=\"_blank\">https://wandb.ai/pratap49/uncategorized</a><br/>\n",
              "                Sweep page: <a href=\"https://wandb.ai/pratap49/uncategorized/sweeps/qqnh1etr\" target=\"_blank\">https://wandb.ai/pratap49/uncategorized/sweeps/qqnh1etr</a><br/>\n",
              "Run page: <a href=\"https://wandb.ai/pratap49/uncategorized/runs/vsecq06v\" target=\"_blank\">https://wandb.ai/pratap49/uncategorized/runs/vsecq06v</a><br/>\n",
              "                Run data is saved locally in <code>/content/wandb/run-20210421_103127-vsecq06v</code><br/><br/>\n",
              "            "
            ],
            "text/plain": [
              "<IPython.core.display.HTML object>"
            ]
          },
          "metadata": {
            "tags": []
          }
        },
        {
          "output_type": "stream",
          "text": [
            "Epoch 1/5\n",
            "50/50 [==============================] - 432s 9s/step - loss: 2.3008 - accuracy: 0.1381 - val_loss: 2.2954 - val_accuracy: 0.1900\n",
            "Epoch 2/5\n",
            "50/50 [==============================] - 429s 9s/step - loss: 2.2999 - accuracy: 0.1342 - val_loss: 2.2952 - val_accuracy: 0.1900\n",
            "Epoch 3/5\n",
            "50/50 [==============================] - 429s 9s/step - loss: 2.3010 - accuracy: 0.1321 - val_loss: 2.2950 - val_accuracy: 0.1900\n",
            "Epoch 4/5\n",
            "50/50 [==============================] - 426s 9s/step - loss: 2.2988 - accuracy: 0.1368 - val_loss: 2.2949 - val_accuracy: 0.1950\n",
            "Epoch 5/5\n",
            "50/50 [==============================] - 431s 9s/step - loss: 2.2995 - accuracy: 0.1516 - val_loss: 2.2947 - val_accuracy: 0.1950\n"
          ],
          "name": "stdout"
        },
        {
          "output_type": "display_data",
          "data": {
            "text/html": [
              "<br/>Waiting for W&B process to finish, PID 901<br/>Program ended successfully."
            ],
            "text/plain": [
              "<IPython.core.display.HTML object>"
            ]
          },
          "metadata": {
            "tags": []
          }
        },
        {
          "output_type": "display_data",
          "data": {
            "application/vnd.jupyter.widget-view+json": {
              "model_id": "3eefff8156844f51b5f1a43794c1528f",
              "version_major": 2,
              "version_minor": 0
            },
            "text/plain": [
              "VBox(children=(Label(value=' 88.11MB of 88.11MB uploaded (0.00MB deduped)\\r'), FloatProgress(value=1.0, max=1.…"
            ]
          },
          "metadata": {
            "tags": []
          }
        },
        {
          "output_type": "display_data",
          "data": {
            "text/html": [
              "Find user logs for this run at: <code>/content/wandb/run-20210421_103127-vsecq06v/logs/debug.log</code>"
            ],
            "text/plain": [
              "<IPython.core.display.HTML object>"
            ]
          },
          "metadata": {
            "tags": []
          }
        },
        {
          "output_type": "display_data",
          "data": {
            "text/html": [
              "Find internal logs for this run at: <code>/content/wandb/run-20210421_103127-vsecq06v/logs/debug-internal.log</code>"
            ],
            "text/plain": [
              "<IPython.core.display.HTML object>"
            ]
          },
          "metadata": {
            "tags": []
          }
        },
        {
          "output_type": "display_data",
          "data": {
            "text/html": [
              "<h3>Run summary:</h3><br/><style>\n",
              "    table.wandb td:nth-child(1) { padding: 0 10px; text-align: right }\n",
              "    </style><table class=\"wandb\">\n",
              "<tr><td>epoch</td><td>4</td></tr><tr><td>loss</td><td>2.29992</td></tr><tr><td>accuracy</td><td>0.13875</td></tr><tr><td>val_loss</td><td>2.29471</td></tr><tr><td>val_accuracy</td><td>0.195</td></tr><tr><td>_runtime</td><td>2157</td></tr><tr><td>_timestamp</td><td>1619003244</td></tr><tr><td>_step</td><td>4</td></tr><tr><td>best_val_loss</td><td>2.29471</td></tr><tr><td>best_epoch</td><td>4</td></tr></table>"
            ],
            "text/plain": [
              "<IPython.core.display.HTML object>"
            ]
          },
          "metadata": {
            "tags": []
          }
        },
        {
          "output_type": "display_data",
          "data": {
            "text/html": [
              "<h3>Run history:</h3><br/><style>\n",
              "    table.wandb td:nth-child(1) { padding: 0 10px; text-align: right }\n",
              "    </style><table class=\"wandb\">\n",
              "<tr><td>epoch</td><td>▁▃▅▆█</td></tr><tr><td>loss</td><td>█▆▄▃▁</td></tr><tr><td>accuracy</td><td>▁▅▃▁█</td></tr><tr><td>val_loss</td><td>█▆▅▃▁</td></tr><tr><td>val_accuracy</td><td>▁▁▁██</td></tr><tr><td>_runtime</td><td>▁▃▅▆█</td></tr><tr><td>_timestamp</td><td>▁▃▅▆█</td></tr><tr><td>_step</td><td>▁▃▅▆█</td></tr></table><br/>"
            ],
            "text/plain": [
              "<IPython.core.display.HTML object>"
            ]
          },
          "metadata": {
            "tags": []
          }
        },
        {
          "output_type": "display_data",
          "data": {
            "text/html": [
              "Synced 5 W&B file(s), 1 media file(s), 0 artifact file(s) and 10 other file(s)"
            ],
            "text/plain": [
              "<IPython.core.display.HTML object>"
            ]
          },
          "metadata": {
            "tags": []
          }
        },
        {
          "output_type": "display_data",
          "data": {
            "text/html": [
              "\n",
              "                    <br/>Synced <strong style=\"color:#cdcd00\">legendary-sweep-1</strong>: <a href=\"https://wandb.ai/pratap49/uncategorized/runs/vsecq06v\" target=\"_blank\">https://wandb.ai/pratap49/uncategorized/runs/vsecq06v</a><br/>\n",
              "                "
            ],
            "text/plain": [
              "<IPython.core.display.HTML object>"
            ]
          },
          "metadata": {
            "tags": []
          }
        },
        {
          "output_type": "stream",
          "text": [
            "\u001b[34m\u001b[1mwandb\u001b[0m: Agent Starting Run: 10xi1xst with config:\n",
            "\u001b[34m\u001b[1mwandb\u001b[0m: \tbatchsize: 16\n",
            "\u001b[34m\u001b[1mwandb\u001b[0m: \tepochs: 5\n",
            "\u001b[34m\u001b[1mwandb\u001b[0m: \tfreez: -1\n",
            "\u001b[34m\u001b[1mwandb\u001b[0m: \tgama: 0.001\n",
            "\u001b[34m\u001b[1mwandb\u001b[0m: \tlr: 0.001\n",
            "\u001b[34m\u001b[1mwandb\u001b[0m: \tmod: Xception\n",
            "\u001b[34m\u001b[1mwandb\u001b[0m: \toptimizer: adam\n"
          ],
          "name": "stderr"
        },
        {
          "output_type": "display_data",
          "data": {
            "text/html": [
              "\n",
              "                Tracking run with wandb version 0.10.27<br/>\n",
              "                Syncing run <strong style=\"color:#cdcd00\">absurd-sweep-2</strong> to <a href=\"https://wandb.ai\" target=\"_blank\">Weights & Biases</a> <a href=\"https://docs.wandb.com/integrations/jupyter.html\" target=\"_blank\">(Documentation)</a>.<br/>\n",
              "                Project page: <a href=\"https://wandb.ai/pratap49/uncategorized\" target=\"_blank\">https://wandb.ai/pratap49/uncategorized</a><br/>\n",
              "                Sweep page: <a href=\"https://wandb.ai/pratap49/uncategorized/sweeps/qqnh1etr\" target=\"_blank\">https://wandb.ai/pratap49/uncategorized/sweeps/qqnh1etr</a><br/>\n",
              "Run page: <a href=\"https://wandb.ai/pratap49/uncategorized/runs/10xi1xst\" target=\"_blank\">https://wandb.ai/pratap49/uncategorized/runs/10xi1xst</a><br/>\n",
              "                Run data is saved locally in <code>/content/wandb/run-20210421_110733-10xi1xst</code><br/><br/>\n",
              "            "
            ],
            "text/plain": [
              "<IPython.core.display.HTML object>"
            ]
          },
          "metadata": {
            "tags": []
          }
        },
        {
          "output_type": "stream",
          "text": [
            "Epoch 1/5\n",
            "50/50 [==============================] - 436s 9s/step - loss: 2.2916 - accuracy: 0.1700 - val_loss: 2.2781 - val_accuracy: 0.3800\n",
            "Epoch 2/5\n",
            "50/50 [==============================] - 430s 9s/step - loss: 2.2708 - accuracy: 0.4691 - val_loss: 2.2591 - val_accuracy: 0.5250\n",
            "Epoch 3/5\n",
            "50/50 [==============================] - 431s 9s/step - loss: 2.2510 - accuracy: 0.6401 - val_loss: 2.2396 - val_accuracy: 0.5950\n",
            "Epoch 4/5\n",
            "50/50 [==============================] - 429s 9s/step - loss: 2.2261 - accuracy: 0.7607 - val_loss: 2.2203 - val_accuracy: 0.6800\n",
            "Epoch 5/5\n",
            "50/50 [==============================] - 425s 9s/step - loss: 2.2085 - accuracy: 0.7546 - val_loss: 2.2014 - val_accuracy: 0.7050\n"
          ],
          "name": "stdout"
        },
        {
          "output_type": "display_data",
          "data": {
            "text/html": [
              "<br/>Waiting for W&B process to finish, PID 1382<br/>Program ended successfully."
            ],
            "text/plain": [
              "<IPython.core.display.HTML object>"
            ]
          },
          "metadata": {
            "tags": []
          }
        },
        {
          "output_type": "display_data",
          "data": {
            "application/vnd.jupyter.widget-view+json": {
              "model_id": "03991d1011074970b359ce8ca798321c",
              "version_major": 2,
              "version_minor": 0
            },
            "text/plain": [
              "VBox(children=(Label(value=' 89.85MB of 89.85MB uploaded (0.00MB deduped)\\r'), FloatProgress(value=1.0, max=1.…"
            ]
          },
          "metadata": {
            "tags": []
          }
        },
        {
          "output_type": "display_data",
          "data": {
            "text/html": [
              "Find user logs for this run at: <code>/content/wandb/run-20210421_110733-10xi1xst/logs/debug.log</code>"
            ],
            "text/plain": [
              "<IPython.core.display.HTML object>"
            ]
          },
          "metadata": {
            "tags": []
          }
        },
        {
          "output_type": "display_data",
          "data": {
            "text/html": [
              "Find internal logs for this run at: <code>/content/wandb/run-20210421_110733-10xi1xst/logs/debug-internal.log</code>"
            ],
            "text/plain": [
              "<IPython.core.display.HTML object>"
            ]
          },
          "metadata": {
            "tags": []
          }
        },
        {
          "output_type": "display_data",
          "data": {
            "text/html": [
              "<h3>Run summary:</h3><br/><style>\n",
              "    table.wandb td:nth-child(1) { padding: 0 10px; text-align: right }\n",
              "    </style><table class=\"wandb\">\n",
              "<tr><td>epoch</td><td>4</td></tr><tr><td>loss</td><td>2.2023</td></tr><tr><td>accuracy</td><td>0.7725</td></tr><tr><td>val_loss</td><td>2.20135</td></tr><tr><td>val_accuracy</td><td>0.705</td></tr><tr><td>_runtime</td><td>2162</td></tr><tr><td>_timestamp</td><td>1619005415</td></tr><tr><td>_step</td><td>4</td></tr><tr><td>best_val_loss</td><td>2.20135</td></tr><tr><td>best_epoch</td><td>4</td></tr></table>"
            ],
            "text/plain": [
              "<IPython.core.display.HTML object>"
            ]
          },
          "metadata": {
            "tags": []
          }
        },
        {
          "output_type": "display_data",
          "data": {
            "text/html": [
              "<h3>Run history:</h3><br/><style>\n",
              "    table.wandb td:nth-child(1) { padding: 0 10px; text-align: right }\n",
              "    </style><table class=\"wandb\">\n",
              "<tr><td>epoch</td><td>▁▃▅▆█</td></tr><tr><td>loss</td><td>█▆▄▃▁</td></tr><tr><td>accuracy</td><td>▁▅▇██</td></tr><tr><td>val_loss</td><td>█▆▄▃▁</td></tr><tr><td>val_accuracy</td><td>▁▄▆▇█</td></tr><tr><td>_runtime</td><td>▁▃▅▆█</td></tr><tr><td>_timestamp</td><td>▁▃▅▆█</td></tr><tr><td>_step</td><td>▁▃▅▆█</td></tr></table><br/>"
            ],
            "text/plain": [
              "<IPython.core.display.HTML object>"
            ]
          },
          "metadata": {
            "tags": []
          }
        },
        {
          "output_type": "display_data",
          "data": {
            "text/html": [
              "Synced 5 W&B file(s), 1 media file(s), 0 artifact file(s) and 10 other file(s)"
            ],
            "text/plain": [
              "<IPython.core.display.HTML object>"
            ]
          },
          "metadata": {
            "tags": []
          }
        },
        {
          "output_type": "display_data",
          "data": {
            "text/html": [
              "\n",
              "                    <br/>Synced <strong style=\"color:#cdcd00\">absurd-sweep-2</strong>: <a href=\"https://wandb.ai/pratap49/uncategorized/runs/10xi1xst\" target=\"_blank\">https://wandb.ai/pratap49/uncategorized/runs/10xi1xst</a><br/>\n",
              "                "
            ],
            "text/plain": [
              "<IPython.core.display.HTML object>"
            ]
          },
          "metadata": {
            "tags": []
          }
        },
        {
          "output_type": "stream",
          "text": [
            "\u001b[34m\u001b[1mwandb\u001b[0m: Agent Starting Run: akz9hr3n with config:\n",
            "\u001b[34m\u001b[1mwandb\u001b[0m: \tbatchsize: 16\n",
            "\u001b[34m\u001b[1mwandb\u001b[0m: \tepochs: 5\n",
            "\u001b[34m\u001b[1mwandb\u001b[0m: \tfreez: -1\n",
            "\u001b[34m\u001b[1mwandb\u001b[0m: \tgama: 0.001\n",
            "\u001b[34m\u001b[1mwandb\u001b[0m: \tlr: 0.001\n",
            "\u001b[34m\u001b[1mwandb\u001b[0m: \tmod: Xception\n",
            "\u001b[34m\u001b[1mwandb\u001b[0m: \toptimizer: rmsprop\n"
          ],
          "name": "stderr"
        },
        {
          "output_type": "display_data",
          "data": {
            "text/html": [
              "\n",
              "                Tracking run with wandb version 0.10.27<br/>\n",
              "                Syncing run <strong style=\"color:#cdcd00\">glamorous-sweep-3</strong> to <a href=\"https://wandb.ai\" target=\"_blank\">Weights & Biases</a> <a href=\"https://docs.wandb.com/integrations/jupyter.html\" target=\"_blank\">(Documentation)</a>.<br/>\n",
              "                Project page: <a href=\"https://wandb.ai/pratap49/uncategorized\" target=\"_blank\">https://wandb.ai/pratap49/uncategorized</a><br/>\n",
              "                Sweep page: <a href=\"https://wandb.ai/pratap49/uncategorized/sweeps/qqnh1etr\" target=\"_blank\">https://wandb.ai/pratap49/uncategorized/sweeps/qqnh1etr</a><br/>\n",
              "Run page: <a href=\"https://wandb.ai/pratap49/uncategorized/runs/akz9hr3n\" target=\"_blank\">https://wandb.ai/pratap49/uncategorized/runs/akz9hr3n</a><br/>\n",
              "                Run data is saved locally in <code>/content/wandb/run-20210421_114344-akz9hr3n</code><br/><br/>\n",
              "            "
            ],
            "text/plain": [
              "<IPython.core.display.HTML object>"
            ]
          },
          "metadata": {
            "tags": []
          }
        },
        {
          "output_type": "stream",
          "text": [
            "Epoch 1/5\n",
            "50/50 [==============================] - 415s 8s/step - loss: 2.2990 - accuracy: 0.1545 - val_loss: 2.2801 - val_accuracy: 0.3650\n",
            "Epoch 2/5\n",
            "50/50 [==============================] - 419s 8s/step - loss: 2.2761 - accuracy: 0.3852 - val_loss: 2.2620 - val_accuracy: 0.5450\n",
            "Epoch 3/5\n",
            "50/50 [==============================] - 416s 8s/step - loss: 2.2566 - accuracy: 0.5897 - val_loss: 2.2441 - val_accuracy: 0.6800\n",
            "Epoch 4/5\n",
            "50/50 [==============================] - 413s 8s/step - loss: 2.2348 - accuracy: 0.7341 - val_loss: 2.2260 - val_accuracy: 0.7050\n",
            "Epoch 5/5\n",
            "50/50 [==============================] - 414s 8s/step - loss: 2.2180 - accuracy: 0.7477 - val_loss: 2.2077 - val_accuracy: 0.7250\n"
          ],
          "name": "stdout"
        },
        {
          "output_type": "display_data",
          "data": {
            "text/html": [
              "<br/>Waiting for W&B process to finish, PID 1861<br/>Program ended successfully."
            ],
            "text/plain": [
              "<IPython.core.display.HTML object>"
            ]
          },
          "metadata": {
            "tags": []
          }
        },
        {
          "output_type": "display_data",
          "data": {
            "application/vnd.jupyter.widget-view+json": {
              "model_id": "59a6b2a305a04711be1be07e3e834f9d",
              "version_minor": 0,
              "version_major": 2
            },
            "text/plain": [
              "VBox(children=(Label(value=' 89.84MB of 89.84MB uploaded (0.00MB deduped)\\r'), FloatProgress(value=1.0, max=1.…"
            ]
          },
          "metadata": {
            "tags": []
          }
        },
        {
          "output_type": "display_data",
          "data": {
            "text/html": [
              "Find user logs for this run at: <code>/content/wandb/run-20210421_114344-akz9hr3n/logs/debug.log</code>"
            ],
            "text/plain": [
              "<IPython.core.display.HTML object>"
            ]
          },
          "metadata": {
            "tags": []
          }
        },
        {
          "output_type": "display_data",
          "data": {
            "text/html": [
              "Find internal logs for this run at: <code>/content/wandb/run-20210421_114344-akz9hr3n/logs/debug-internal.log</code>"
            ],
            "text/plain": [
              "<IPython.core.display.HTML object>"
            ]
          },
          "metadata": {
            "tags": []
          }
        },
        {
          "output_type": "display_data",
          "data": {
            "text/html": [
              "<h3>Run summary:</h3><br/><style>\n",
              "    table.wandb td:nth-child(1) { padding: 0 10px; text-align: right }\n",
              "    </style><table class=\"wandb\">\n",
              "<tr><td>epoch</td><td>4</td></tr><tr><td>loss</td><td>2.21348</td></tr><tr><td>accuracy</td><td>0.75625</td></tr><tr><td>val_loss</td><td>2.20773</td></tr><tr><td>val_accuracy</td><td>0.725</td></tr><tr><td>_runtime</td><td>2086</td></tr><tr><td>_timestamp</td><td>1619007510</td></tr><tr><td>_step</td><td>4</td></tr><tr><td>best_val_loss</td><td>2.20773</td></tr><tr><td>best_epoch</td><td>4</td></tr></table>"
            ],
            "text/plain": [
              "<IPython.core.display.HTML object>"
            ]
          },
          "metadata": {
            "tags": []
          }
        },
        {
          "output_type": "display_data",
          "data": {
            "text/html": [
              "<h3>Run history:</h3><br/><style>\n",
              "    table.wandb td:nth-child(1) { padding: 0 10px; text-align: right }\n",
              "    </style><table class=\"wandb\">\n",
              "<tr><td>epoch</td><td>▁▃▅▆█</td></tr><tr><td>loss</td><td>█▆▄▃▁</td></tr><tr><td>accuracy</td><td>▁▄▆▇█</td></tr><tr><td>val_loss</td><td>█▆▅▃▁</td></tr><tr><td>val_accuracy</td><td>▁▄▇██</td></tr><tr><td>_runtime</td><td>▁▃▅▆█</td></tr><tr><td>_timestamp</td><td>▁▃▅▆█</td></tr><tr><td>_step</td><td>▁▃▅▆█</td></tr></table><br/>"
            ],
            "text/plain": [
              "<IPython.core.display.HTML object>"
            ]
          },
          "metadata": {
            "tags": []
          }
        },
        {
          "output_type": "display_data",
          "data": {
            "text/html": [
              "Synced 5 W&B file(s), 1 media file(s), 0 artifact file(s) and 10 other file(s)"
            ],
            "text/plain": [
              "<IPython.core.display.HTML object>"
            ]
          },
          "metadata": {
            "tags": []
          }
        },
        {
          "output_type": "display_data",
          "data": {
            "text/html": [
              "\n",
              "                    <br/>Synced <strong style=\"color:#cdcd00\">glamorous-sweep-3</strong>: <a href=\"https://wandb.ai/pratap49/uncategorized/runs/akz9hr3n\" target=\"_blank\">https://wandb.ai/pratap49/uncategorized/runs/akz9hr3n</a><br/>\n",
              "                "
            ],
            "text/plain": [
              "<IPython.core.display.HTML object>"
            ]
          },
          "metadata": {
            "tags": []
          }
        },
        {
          "output_type": "stream",
          "text": [
            "\u001b[34m\u001b[1mwandb\u001b[0m: Agent Starting Run: jmoqprci with config:\n",
            "\u001b[34m\u001b[1mwandb\u001b[0m: \tbatchsize: 16\n",
            "\u001b[34m\u001b[1mwandb\u001b[0m: \tepochs: 5\n",
            "\u001b[34m\u001b[1mwandb\u001b[0m: \tfreez: -1\n",
            "\u001b[34m\u001b[1mwandb\u001b[0m: \tgama: 0.001\n",
            "\u001b[34m\u001b[1mwandb\u001b[0m: \tlr: 0.001\n",
            "\u001b[34m\u001b[1mwandb\u001b[0m: \tmod: InceptionV3\n",
            "\u001b[34m\u001b[1mwandb\u001b[0m: \toptimizer: sgd\n"
          ],
          "name": "stderr"
        },
        {
          "output_type": "display_data",
          "data": {
            "text/html": [
              "\n",
              "                Tracking run with wandb version 0.10.27<br/>\n",
              "                Syncing run <strong style=\"color:#cdcd00\">sparkling-sweep-4</strong> to <a href=\"https://wandb.ai\" target=\"_blank\">Weights & Biases</a> <a href=\"https://docs.wandb.com/integrations/jupyter.html\" target=\"_blank\">(Documentation)</a>.<br/>\n",
              "                Project page: <a href=\"https://wandb.ai/pratap49/uncategorized\" target=\"_blank\">https://wandb.ai/pratap49/uncategorized</a><br/>\n",
              "                Sweep page: <a href=\"https://wandb.ai/pratap49/uncategorized/sweeps/qqnh1etr\" target=\"_blank\">https://wandb.ai/pratap49/uncategorized/sweeps/qqnh1etr</a><br/>\n",
              "Run page: <a href=\"https://wandb.ai/pratap49/uncategorized/runs/jmoqprci\" target=\"_blank\">https://wandb.ai/pratap49/uncategorized/runs/jmoqprci</a><br/>\n",
              "                Run data is saved locally in <code>/content/wandb/run-20210421_121841-jmoqprci</code><br/><br/>\n",
              "            "
            ],
            "text/plain": [
              "<IPython.core.display.HTML object>"
            ]
          },
          "metadata": {
            "tags": []
          }
        },
        {
          "output_type": "stream",
          "text": [
            "Epoch 1/5\n",
            "50/50 [==============================] - 232s 5s/step - loss: 2.3000 - accuracy: 0.1151 - val_loss: 2.3011 - val_accuracy: 0.0850\n",
            "Epoch 2/5\n",
            "50/50 [==============================] - 226s 5s/step - loss: 2.3001 - accuracy: 0.1047 - val_loss: 2.3010 - val_accuracy: 0.0850\n",
            "Epoch 3/5\n",
            "50/50 [==============================] - 225s 5s/step - loss: 2.3039 - accuracy: 0.1032 - val_loss: 2.3008 - val_accuracy: 0.0900\n",
            "Epoch 4/5\n",
            "50/50 [==============================] - 225s 5s/step - loss: 2.2998 - accuracy: 0.1088 - val_loss: 2.3006 - val_accuracy: 0.0900\n",
            "Epoch 5/5\n",
            "50/50 [==============================] - 224s 4s/step - loss: 2.2997 - accuracy: 0.1162 - val_loss: 2.3005 - val_accuracy: 0.1000\n"
          ],
          "name": "stdout"
        },
        {
          "output_type": "display_data",
          "data": {
            "text/html": [
              "<br/>Waiting for W&B process to finish, PID 1984<br/>Program ended successfully."
            ],
            "text/plain": [
              "<IPython.core.display.HTML object>"
            ]
          },
          "metadata": {
            "tags": []
          }
        },
        {
          "output_type": "display_data",
          "data": {
            "application/vnd.jupyter.widget-view+json": {
              "model_id": "871df421eeda49f9b247abba69897c68",
              "version_minor": 0,
              "version_major": 2
            },
            "text/plain": [
              "VBox(children=(Label(value=' 94.52MB of 94.52MB uploaded (0.00MB deduped)\\r'), FloatProgress(value=1.0, max=1.…"
            ]
          },
          "metadata": {
            "tags": []
          }
        },
        {
          "output_type": "display_data",
          "data": {
            "text/html": [
              "Find user logs for this run at: <code>/content/wandb/run-20210421_121841-jmoqprci/logs/debug.log</code>"
            ],
            "text/plain": [
              "<IPython.core.display.HTML object>"
            ]
          },
          "metadata": {
            "tags": []
          }
        },
        {
          "output_type": "display_data",
          "data": {
            "text/html": [
              "Find internal logs for this run at: <code>/content/wandb/run-20210421_121841-jmoqprci/logs/debug-internal.log</code>"
            ],
            "text/plain": [
              "<IPython.core.display.HTML object>"
            ]
          },
          "metadata": {
            "tags": []
          }
        },
        {
          "output_type": "display_data",
          "data": {
            "text/html": [
              "<h3>Run summary:</h3><br/><style>\n",
              "    table.wandb td:nth-child(1) { padding: 0 10px; text-align: right }\n",
              "    </style><table class=\"wandb\">\n",
              "<tr><td>epoch</td><td>4</td></tr><tr><td>loss</td><td>2.30043</td></tr><tr><td>accuracy</td><td>0.11</td></tr><tr><td>val_loss</td><td>2.30045</td></tr><tr><td>val_accuracy</td><td>0.1</td></tr><tr><td>_runtime</td><td>1144</td></tr><tr><td>_timestamp</td><td>1619008665</td></tr><tr><td>_step</td><td>4</td></tr><tr><td>best_val_loss</td><td>2.30045</td></tr><tr><td>best_epoch</td><td>4</td></tr></table>"
            ],
            "text/plain": [
              "<IPython.core.display.HTML object>"
            ]
          },
          "metadata": {
            "tags": []
          }
        },
        {
          "output_type": "display_data",
          "data": {
            "text/html": [
              "<h3>Run history:</h3><br/><style>\n",
              "    table.wandb td:nth-child(1) { padding: 0 10px; text-align: right }\n",
              "    </style><table class=\"wandb\">\n",
              "<tr><td>epoch</td><td>▁▃▅▆█</td></tr><tr><td>loss</td><td>█▆▄▃▁</td></tr><tr><td>accuracy</td><td>▁▁▆█▃</td></tr><tr><td>val_loss</td><td>█▆▄▃▁</td></tr><tr><td>val_accuracy</td><td>▁▁▃▃█</td></tr><tr><td>_runtime</td><td>▁▃▅▆█</td></tr><tr><td>_timestamp</td><td>▁▃▅▆█</td></tr><tr><td>_step</td><td>▁▃▅▆█</td></tr></table><br/>"
            ],
            "text/plain": [
              "<IPython.core.display.HTML object>"
            ]
          },
          "metadata": {
            "tags": []
          }
        },
        {
          "output_type": "display_data",
          "data": {
            "text/html": [
              "Synced 5 W&B file(s), 1 media file(s), 0 artifact file(s) and 10 other file(s)"
            ],
            "text/plain": [
              "<IPython.core.display.HTML object>"
            ]
          },
          "metadata": {
            "tags": []
          }
        },
        {
          "output_type": "display_data",
          "data": {
            "text/html": [
              "\n",
              "                    <br/>Synced <strong style=\"color:#cdcd00\">sparkling-sweep-4</strong>: <a href=\"https://wandb.ai/pratap49/uncategorized/runs/jmoqprci\" target=\"_blank\">https://wandb.ai/pratap49/uncategorized/runs/jmoqprci</a><br/>\n",
              "                "
            ],
            "text/plain": [
              "<IPython.core.display.HTML object>"
            ]
          },
          "metadata": {
            "tags": []
          }
        },
        {
          "output_type": "stream",
          "text": [
            "\u001b[34m\u001b[1mwandb\u001b[0m: Agent Starting Run: h70vg3z2 with config:\n",
            "\u001b[34m\u001b[1mwandb\u001b[0m: \tbatchsize: 16\n",
            "\u001b[34m\u001b[1mwandb\u001b[0m: \tepochs: 5\n",
            "\u001b[34m\u001b[1mwandb\u001b[0m: \tfreez: -1\n",
            "\u001b[34m\u001b[1mwandb\u001b[0m: \tgama: 0.001\n",
            "\u001b[34m\u001b[1mwandb\u001b[0m: \tlr: 0.001\n",
            "\u001b[34m\u001b[1mwandb\u001b[0m: \tmod: InceptionV3\n",
            "\u001b[34m\u001b[1mwandb\u001b[0m: \toptimizer: adam\n"
          ],
          "name": "stderr"
        },
        {
          "output_type": "display_data",
          "data": {
            "text/html": [
              "\n",
              "                Tracking run with wandb version 0.10.27<br/>\n",
              "                Syncing run <strong style=\"color:#cdcd00\">stellar-sweep-5</strong> to <a href=\"https://wandb.ai\" target=\"_blank\">Weights & Biases</a> <a href=\"https://docs.wandb.com/integrations/jupyter.html\" target=\"_blank\">(Documentation)</a>.<br/>\n",
              "                Project page: <a href=\"https://wandb.ai/pratap49/uncategorized\" target=\"_blank\">https://wandb.ai/pratap49/uncategorized</a><br/>\n",
              "                Sweep page: <a href=\"https://wandb.ai/pratap49/uncategorized/sweeps/qqnh1etr\" target=\"_blank\">https://wandb.ai/pratap49/uncategorized/sweeps/qqnh1etr</a><br/>\n",
              "Run page: <a href=\"https://wandb.ai/pratap49/uncategorized/runs/h70vg3z2\" target=\"_blank\">https://wandb.ai/pratap49/uncategorized/runs/h70vg3z2</a><br/>\n",
              "                Run data is saved locally in <code>/content/wandb/run-20210421_123755-h70vg3z2</code><br/><br/>\n",
              "            "
            ],
            "text/plain": [
              "<IPython.core.display.HTML object>"
            ]
          },
          "metadata": {
            "tags": []
          }
        },
        {
          "output_type": "stream",
          "text": [
            "Epoch 1/5\n",
            "50/50 [==============================] - 231s 5s/step - loss: 2.2976 - accuracy: 0.1718 - val_loss: 2.2781 - val_accuracy: 0.3550\n",
            "Epoch 2/5\n",
            "50/50 [==============================] - 224s 4s/step - loss: 2.2749 - accuracy: 0.4359 - val_loss: 2.2590 - val_accuracy: 0.5600\n",
            "Epoch 3/5\n",
            "50/50 [==============================] - 222s 4s/step - loss: 2.2543 - accuracy: 0.5825 - val_loss: 2.2402 - val_accuracy: 0.6200\n",
            "Epoch 4/5\n",
            "50/50 [==============================] - 221s 4s/step - loss: 2.2329 - accuracy: 0.7197 - val_loss: 2.2209 - val_accuracy: 0.6650\n",
            "Epoch 5/5\n",
            "50/50 [==============================] - 223s 4s/step - loss: 2.2061 - accuracy: 0.7646 - val_loss: 2.2020 - val_accuracy: 0.6850\n"
          ],
          "name": "stdout"
        },
        {
          "output_type": "display_data",
          "data": {
            "text/html": [
              "<br/>Waiting for W&B process to finish, PID 2053<br/>Program ended successfully."
            ],
            "text/plain": [
              "<IPython.core.display.HTML object>"
            ]
          },
          "metadata": {
            "tags": []
          }
        },
        {
          "output_type": "display_data",
          "data": {
            "application/vnd.jupyter.widget-view+json": {
              "model_id": "beb44d26582b4cb59d6ca011fb0a2181",
              "version_minor": 0,
              "version_major": 2
            },
            "text/plain": [
              "VBox(children=(Label(value=' 95.12MB of 95.13MB uploaded (0.00MB deduped)\\r'), FloatProgress(value=0.999994626…"
            ]
          },
          "metadata": {
            "tags": []
          }
        },
        {
          "output_type": "display_data",
          "data": {
            "text/html": [
              "Find user logs for this run at: <code>/content/wandb/run-20210421_123755-h70vg3z2/logs/debug.log</code>"
            ],
            "text/plain": [
              "<IPython.core.display.HTML object>"
            ]
          },
          "metadata": {
            "tags": []
          }
        },
        {
          "output_type": "display_data",
          "data": {
            "text/html": [
              "Find internal logs for this run at: <code>/content/wandb/run-20210421_123755-h70vg3z2/logs/debug-internal.log</code>"
            ],
            "text/plain": [
              "<IPython.core.display.HTML object>"
            ]
          },
          "metadata": {
            "tags": []
          }
        },
        {
          "output_type": "display_data",
          "data": {
            "text/html": [
              "<h3>Run summary:</h3><br/><style>\n",
              "    table.wandb td:nth-child(1) { padding: 0 10px; text-align: right }\n",
              "    </style><table class=\"wandb\">\n",
              "<tr><td>epoch</td><td>4</td></tr><tr><td>loss</td><td>2.20623</td></tr><tr><td>accuracy</td><td>0.76125</td></tr><tr><td>val_loss</td><td>2.20197</td></tr><tr><td>val_accuracy</td><td>0.685</td></tr><tr><td>_runtime</td><td>1133</td></tr><tr><td>_timestamp</td><td>1619009808</td></tr><tr><td>_step</td><td>4</td></tr><tr><td>best_val_loss</td><td>2.20197</td></tr><tr><td>best_epoch</td><td>4</td></tr></table>"
            ],
            "text/plain": [
              "<IPython.core.display.HTML object>"
            ]
          },
          "metadata": {
            "tags": []
          }
        },
        {
          "output_type": "display_data",
          "data": {
            "text/html": [
              "<h3>Run history:</h3><br/><style>\n",
              "    table.wandb td:nth-child(1) { padding: 0 10px; text-align: right }\n",
              "    </style><table class=\"wandb\">\n",
              "<tr><td>epoch</td><td>▁▃▅▆█</td></tr><tr><td>loss</td><td>█▆▄▃▁</td></tr><tr><td>accuracy</td><td>▁▄▆██</td></tr><tr><td>val_loss</td><td>█▆▅▃▁</td></tr><tr><td>val_accuracy</td><td>▁▅▇██</td></tr><tr><td>_runtime</td><td>▁▃▅▆█</td></tr><tr><td>_timestamp</td><td>▁▃▅▆█</td></tr><tr><td>_step</td><td>▁▃▅▆█</td></tr></table><br/>"
            ],
            "text/plain": [
              "<IPython.core.display.HTML object>"
            ]
          },
          "metadata": {
            "tags": []
          }
        },
        {
          "output_type": "display_data",
          "data": {
            "text/html": [
              "Synced 5 W&B file(s), 1 media file(s), 0 artifact file(s) and 10 other file(s)"
            ],
            "text/plain": [
              "<IPython.core.display.HTML object>"
            ]
          },
          "metadata": {
            "tags": []
          }
        },
        {
          "output_type": "display_data",
          "data": {
            "text/html": [
              "\n",
              "                    <br/>Synced <strong style=\"color:#cdcd00\">stellar-sweep-5</strong>: <a href=\"https://wandb.ai/pratap49/uncategorized/runs/h70vg3z2\" target=\"_blank\">https://wandb.ai/pratap49/uncategorized/runs/h70vg3z2</a><br/>\n",
              "                "
            ],
            "text/plain": [
              "<IPython.core.display.HTML object>"
            ]
          },
          "metadata": {
            "tags": []
          }
        },
        {
          "output_type": "stream",
          "text": [
            "\u001b[34m\u001b[1mwandb\u001b[0m: Agent Starting Run: ch98vzgo with config:\n",
            "\u001b[34m\u001b[1mwandb\u001b[0m: \tbatchsize: 16\n",
            "\u001b[34m\u001b[1mwandb\u001b[0m: \tepochs: 5\n",
            "\u001b[34m\u001b[1mwandb\u001b[0m: \tfreez: -1\n",
            "\u001b[34m\u001b[1mwandb\u001b[0m: \tgama: 0.001\n",
            "\u001b[34m\u001b[1mwandb\u001b[0m: \tlr: 0.001\n",
            "\u001b[34m\u001b[1mwandb\u001b[0m: \tmod: InceptionV3\n",
            "\u001b[34m\u001b[1mwandb\u001b[0m: \toptimizer: rmsprop\n"
          ],
          "name": "stderr"
        },
        {
          "output_type": "display_data",
          "data": {
            "text/html": [
              "\n",
              "                Tracking run with wandb version 0.10.27<br/>\n",
              "                Syncing run <strong style=\"color:#cdcd00\">whole-sweep-6</strong> to <a href=\"https://wandb.ai\" target=\"_blank\">Weights & Biases</a> <a href=\"https://docs.wandb.com/integrations/jupyter.html\" target=\"_blank\">(Documentation)</a>.<br/>\n",
              "                Project page: <a href=\"https://wandb.ai/pratap49/uncategorized\" target=\"_blank\">https://wandb.ai/pratap49/uncategorized</a><br/>\n",
              "                Sweep page: <a href=\"https://wandb.ai/pratap49/uncategorized/sweeps/qqnh1etr\" target=\"_blank\">https://wandb.ai/pratap49/uncategorized/sweeps/qqnh1etr</a><br/>\n",
              "Run page: <a href=\"https://wandb.ai/pratap49/uncategorized/runs/ch98vzgo\" target=\"_blank\">https://wandb.ai/pratap49/uncategorized/runs/ch98vzgo</a><br/>\n",
              "                Run data is saved locally in <code>/content/wandb/run-20210421_125659-ch98vzgo</code><br/><br/>\n",
              "            "
            ],
            "text/plain": [
              "<IPython.core.display.HTML object>"
            ]
          },
          "metadata": {
            "tags": []
          }
        },
        {
          "output_type": "stream",
          "text": [
            "Epoch 1/5\n",
            "50/50 [==============================] - 233s 5s/step - loss: 2.2988 - accuracy: 0.1341 - val_loss: 2.2807 - val_accuracy: 0.3300\n",
            "Epoch 2/5\n",
            "50/50 [==============================] - 224s 4s/step - loss: 2.2765 - accuracy: 0.3962 - val_loss: 2.2630 - val_accuracy: 0.5100\n",
            "Epoch 3/5\n",
            "50/50 [==============================] - 226s 5s/step - loss: 2.2546 - accuracy: 0.5768 - val_loss: 2.2455 - val_accuracy: 0.6050\n",
            "Epoch 4/5\n",
            "50/50 [==============================] - 227s 5s/step - loss: 2.2387 - accuracy: 0.7017 - val_loss: 2.2279 - val_accuracy: 0.6750\n",
            "Epoch 5/5\n",
            "50/50 [==============================] - 226s 5s/step - loss: 2.2185 - accuracy: 0.7354 - val_loss: 2.2103 - val_accuracy: 0.6950\n"
          ],
          "name": "stdout"
        },
        {
          "output_type": "display_data",
          "data": {
            "text/html": [
              "<br/>Waiting for W&B process to finish, PID 2122<br/>Program ended successfully."
            ],
            "text/plain": [
              "<IPython.core.display.HTML object>"
            ]
          },
          "metadata": {
            "tags": []
          }
        },
        {
          "output_type": "display_data",
          "data": {
            "application/vnd.jupyter.widget-view+json": {
              "model_id": "9a3a340b5e5e46f88355dc0c1c6e4b1b",
              "version_minor": 0,
              "version_major": 2
            },
            "text/plain": [
              "VBox(children=(Label(value=' 3.76MB of 3.76MB uploaded (0.00MB deduped)\\r'), FloatProgress(value=1.0, max=1.0)…"
            ]
          },
          "metadata": {
            "tags": []
          }
        },
        {
          "output_type": "display_data",
          "data": {
            "text/html": [
              "Find user logs for this run at: <code>/content/wandb/run-20210421_125659-ch98vzgo/logs/debug.log</code>"
            ],
            "text/plain": [
              "<IPython.core.display.HTML object>"
            ]
          },
          "metadata": {
            "tags": []
          }
        },
        {
          "output_type": "display_data",
          "data": {
            "text/html": [
              "Find internal logs for this run at: <code>/content/wandb/run-20210421_125659-ch98vzgo/logs/debug-internal.log</code>"
            ],
            "text/plain": [
              "<IPython.core.display.HTML object>"
            ]
          },
          "metadata": {
            "tags": []
          }
        },
        {
          "output_type": "display_data",
          "data": {
            "text/html": [
              "<h3>Run summary:</h3><br/><style>\n",
              "    table.wandb td:nth-child(1) { padding: 0 10px; text-align: right }\n",
              "    </style><table class=\"wandb\">\n",
              "<tr><td>epoch</td><td>4</td></tr><tr><td>loss</td><td>2.21384</td></tr><tr><td>accuracy</td><td>0.74625</td></tr><tr><td>val_loss</td><td>2.21031</td></tr><tr><td>val_accuracy</td><td>0.695</td></tr><tr><td>_runtime</td><td>1146</td></tr><tr><td>_timestamp</td><td>1619010965</td></tr><tr><td>_step</td><td>4</td></tr><tr><td>best_val_loss</td><td>2.21031</td></tr><tr><td>best_epoch</td><td>4</td></tr></table>"
            ],
            "text/plain": [
              "<IPython.core.display.HTML object>"
            ]
          },
          "metadata": {
            "tags": []
          }
        },
        {
          "output_type": "display_data",
          "data": {
            "text/html": [
              "<h3>Run history:</h3><br/><style>\n",
              "    table.wandb td:nth-child(1) { padding: 0 10px; text-align: right }\n",
              "    </style><table class=\"wandb\">\n",
              "<tr><td>epoch</td><td>▁▃▅▆█</td></tr><tr><td>loss</td><td>█▆▄▃▁</td></tr><tr><td>accuracy</td><td>▁▄▆▇█</td></tr><tr><td>val_loss</td><td>█▆▅▃▁</td></tr><tr><td>val_accuracy</td><td>▁▄▆██</td></tr><tr><td>_runtime</td><td>▁▃▄▆█</td></tr><tr><td>_timestamp</td><td>▁▃▄▆█</td></tr><tr><td>_step</td><td>▁▃▅▆█</td></tr></table><br/>"
            ],
            "text/plain": [
              "<IPython.core.display.HTML object>"
            ]
          },
          "metadata": {
            "tags": []
          }
        },
        {
          "output_type": "display_data",
          "data": {
            "text/html": [
              "Synced 5 W&B file(s), 1 media file(s), 0 artifact file(s) and 10 other file(s)"
            ],
            "text/plain": [
              "<IPython.core.display.HTML object>"
            ]
          },
          "metadata": {
            "tags": []
          }
        },
        {
          "output_type": "display_data",
          "data": {
            "text/html": [
              "\n",
              "                    <br/>Synced <strong style=\"color:#cdcd00\">whole-sweep-6</strong>: <a href=\"https://wandb.ai/pratap49/uncategorized/runs/ch98vzgo\" target=\"_blank\">https://wandb.ai/pratap49/uncategorized/runs/ch98vzgo</a><br/>\n",
              "                "
            ],
            "text/plain": [
              "<IPython.core.display.HTML object>"
            ]
          },
          "metadata": {
            "tags": []
          }
        },
        {
          "output_type": "stream",
          "text": [
            "\u001b[34m\u001b[1mwandb\u001b[0m: Agent Starting Run: cwv9cbxp with config:\n",
            "\u001b[34m\u001b[1mwandb\u001b[0m: \tbatchsize: 16\n",
            "\u001b[34m\u001b[1mwandb\u001b[0m: \tepochs: 5\n",
            "\u001b[34m\u001b[1mwandb\u001b[0m: \tfreez: -1\n",
            "\u001b[34m\u001b[1mwandb\u001b[0m: \tgama: 0.001\n",
            "\u001b[34m\u001b[1mwandb\u001b[0m: \tlr: 0.001\n",
            "\u001b[34m\u001b[1mwandb\u001b[0m: \tmod: ResNet50\n",
            "\u001b[34m\u001b[1mwandb\u001b[0m: \toptimizer: sgd\n"
          ],
          "name": "stderr"
        },
        {
          "output_type": "display_data",
          "data": {
            "text/html": [
              "\n",
              "                Tracking run with wandb version 0.10.27<br/>\n",
              "                Syncing run <strong style=\"color:#cdcd00\">genial-sweep-7</strong> to <a href=\"https://wandb.ai\" target=\"_blank\">Weights & Biases</a> <a href=\"https://docs.wandb.com/integrations/jupyter.html\" target=\"_blank\">(Documentation)</a>.<br/>\n",
              "                Project page: <a href=\"https://wandb.ai/pratap49/uncategorized\" target=\"_blank\">https://wandb.ai/pratap49/uncategorized</a><br/>\n",
              "                Sweep page: <a href=\"https://wandb.ai/pratap49/uncategorized/sweeps/qqnh1etr\" target=\"_blank\">https://wandb.ai/pratap49/uncategorized/sweeps/qqnh1etr</a><br/>\n",
              "Run page: <a href=\"https://wandb.ai/pratap49/uncategorized/runs/cwv9cbxp\" target=\"_blank\">https://wandb.ai/pratap49/uncategorized/runs/cwv9cbxp</a><br/>\n",
              "                Run data is saved locally in <code>/content/wandb/run-20210421_131616-cwv9cbxp</code><br/><br/>\n",
              "            "
            ],
            "text/plain": [
              "<IPython.core.display.HTML object>"
            ]
          },
          "metadata": {
            "tags": []
          }
        },
        {
          "output_type": "stream",
          "text": [
            "Epoch 1/5\n",
            "50/50 [==============================] - 324s 6s/step - loss: 71.9644 - accuracy: 0.1171 - val_loss: 96.6716 - val_accuracy: 0.1000\n",
            "Epoch 2/5\n",
            "50/50 [==============================] - 317s 6s/step - loss: 91.6584 - accuracy: 0.0976 - val_loss: 65.4750 - val_accuracy: 0.1000\n",
            "Epoch 3/5\n",
            "50/50 [==============================] - 314s 6s/step - loss: 82.0921 - accuracy: 0.1023 - val_loss: 91.6495 - val_accuracy: 0.1000\n",
            "Epoch 4/5\n",
            "50/50 [==============================] - 319s 6s/step - loss: 85.4843 - accuracy: 0.0986 - val_loss: 81.1257 - val_accuracy: 0.0950\n",
            "Epoch 5/5\n",
            "50/50 [==============================] - 315s 6s/step - loss: 76.9030 - accuracy: 0.1054 - val_loss: 82.1092 - val_accuracy: 0.0900\n"
          ],
          "name": "stdout"
        },
        {
          "output_type": "display_data",
          "data": {
            "text/html": [
              "<br/>Waiting for W&B process to finish, PID 2191<br/>Program ended successfully."
            ],
            "text/plain": [
              "<IPython.core.display.HTML object>"
            ]
          },
          "metadata": {
            "tags": []
          }
        },
        {
          "output_type": "display_data",
          "data": {
            "application/vnd.jupyter.widget-view+json": {
              "model_id": "0c0a83e1088d4318b212c19e1b4d30d5",
              "version_minor": 0,
              "version_major": 2
            },
            "text/plain": [
              "VBox(children=(Label(value=' 10.76MB of 10.76MB uploaded (0.00MB deduped)\\r'), FloatProgress(value=1.0, max=1.…"
            ]
          },
          "metadata": {
            "tags": []
          }
        },
        {
          "output_type": "display_data",
          "data": {
            "text/html": [
              "Find user logs for this run at: <code>/content/wandb/run-20210421_131616-cwv9cbxp/logs/debug.log</code>"
            ],
            "text/plain": [
              "<IPython.core.display.HTML object>"
            ]
          },
          "metadata": {
            "tags": []
          }
        },
        {
          "output_type": "display_data",
          "data": {
            "text/html": [
              "Find internal logs for this run at: <code>/content/wandb/run-20210421_131616-cwv9cbxp/logs/debug-internal.log</code>"
            ],
            "text/plain": [
              "<IPython.core.display.HTML object>"
            ]
          },
          "metadata": {
            "tags": []
          }
        },
        {
          "output_type": "display_data",
          "data": {
            "text/html": [
              "<h3>Run summary:</h3><br/><style>\n",
              "    table.wandb td:nth-child(1) { padding: 0 10px; text-align: right }\n",
              "    </style><table class=\"wandb\">\n",
              "<tr><td>epoch</td><td>4</td></tr><tr><td>loss</td><td>77.04855</td></tr><tr><td>accuracy</td><td>0.1025</td></tr><tr><td>val_loss</td><td>82.10925</td></tr><tr><td>val_accuracy</td><td>0.09</td></tr><tr><td>_runtime</td><td>1598</td></tr><tr><td>_timestamp</td><td>1619012574</td></tr><tr><td>_step</td><td>4</td></tr><tr><td>best_val_loss</td><td>65.47503</td></tr><tr><td>best_epoch</td><td>1</td></tr></table>"
            ],
            "text/plain": [
              "<IPython.core.display.HTML object>"
            ]
          },
          "metadata": {
            "tags": []
          }
        },
        {
          "output_type": "display_data",
          "data": {
            "text/html": [
              "<h3>Run history:</h3><br/><style>\n",
              "    table.wandb td:nth-child(1) { padding: 0 10px; text-align: right }\n",
              "    </style><table class=\"wandb\">\n",
              "<tr><td>epoch</td><td>▁▃▅▆█</td></tr><tr><td>loss</td><td>▇█▅▁▁</td></tr><tr><td>accuracy</td><td>▄▅▁█▃</td></tr><tr><td>val_loss</td><td>█▁▇▅▅</td></tr><tr><td>val_accuracy</td><td>███▄▁</td></tr><tr><td>_runtime</td><td>▁▃▄▆█</td></tr><tr><td>_timestamp</td><td>▁▃▄▆█</td></tr><tr><td>_step</td><td>▁▃▅▆█</td></tr></table><br/>"
            ],
            "text/plain": [
              "<IPython.core.display.HTML object>"
            ]
          },
          "metadata": {
            "tags": []
          }
        },
        {
          "output_type": "display_data",
          "data": {
            "text/html": [
              "Synced 5 W&B file(s), 1 media file(s), 0 artifact file(s) and 10 other file(s)"
            ],
            "text/plain": [
              "<IPython.core.display.HTML object>"
            ]
          },
          "metadata": {
            "tags": []
          }
        },
        {
          "output_type": "display_data",
          "data": {
            "text/html": [
              "\n",
              "                    <br/>Synced <strong style=\"color:#cdcd00\">genial-sweep-7</strong>: <a href=\"https://wandb.ai/pratap49/uncategorized/runs/cwv9cbxp\" target=\"_blank\">https://wandb.ai/pratap49/uncategorized/runs/cwv9cbxp</a><br/>\n",
              "                "
            ],
            "text/plain": [
              "<IPython.core.display.HTML object>"
            ]
          },
          "metadata": {
            "tags": []
          }
        },
        {
          "output_type": "stream",
          "text": [
            "\u001b[34m\u001b[1mwandb\u001b[0m: Agent Starting Run: zhnlzvqf with config:\n",
            "\u001b[34m\u001b[1mwandb\u001b[0m: \tbatchsize: 16\n",
            "\u001b[34m\u001b[1mwandb\u001b[0m: \tepochs: 5\n",
            "\u001b[34m\u001b[1mwandb\u001b[0m: \tfreez: -1\n",
            "\u001b[34m\u001b[1mwandb\u001b[0m: \tgama: 0.001\n",
            "\u001b[34m\u001b[1mwandb\u001b[0m: \tlr: 0.001\n",
            "\u001b[34m\u001b[1mwandb\u001b[0m: \tmod: ResNet50\n",
            "\u001b[34m\u001b[1mwandb\u001b[0m: \toptimizer: adam\n"
          ],
          "name": "stderr"
        },
        {
          "output_type": "display_data",
          "data": {
            "text/html": [
              "\n",
              "                Tracking run with wandb version 0.10.27<br/>\n",
              "                Syncing run <strong style=\"color:#cdcd00\">silvery-sweep-8</strong> to <a href=\"https://wandb.ai\" target=\"_blank\">Weights & Biases</a> <a href=\"https://docs.wandb.com/integrations/jupyter.html\" target=\"_blank\">(Documentation)</a>.<br/>\n",
              "                Project page: <a href=\"https://wandb.ai/pratap49/uncategorized\" target=\"_blank\">https://wandb.ai/pratap49/uncategorized</a><br/>\n",
              "                Sweep page: <a href=\"https://wandb.ai/pratap49/uncategorized/sweeps/qqnh1etr\" target=\"_blank\">https://wandb.ai/pratap49/uncategorized/sweeps/qqnh1etr</a><br/>\n",
              "Run page: <a href=\"https://wandb.ai/pratap49/uncategorized/runs/zhnlzvqf\" target=\"_blank\">https://wandb.ai/pratap49/uncategorized/runs/zhnlzvqf</a><br/>\n",
              "                Run data is saved locally in <code>/content/wandb/run-20210421_134304-zhnlzvqf</code><br/><br/>\n",
              "            "
            ],
            "text/plain": [
              "<IPython.core.display.HTML object>"
            ]
          },
          "metadata": {
            "tags": []
          }
        },
        {
          "output_type": "stream",
          "text": [
            "Epoch 1/5\n",
            "50/50 [==============================] - 323s 6s/step - loss: 43.6941 - accuracy: 0.0907 - val_loss: 15.1193 - val_accuracy: 0.1000\n",
            "Epoch 2/5\n",
            "50/50 [==============================] - 318s 6s/step - loss: 9.6182 - accuracy: 0.1892 - val_loss: 9.5382 - val_accuracy: 0.1750\n",
            "Epoch 3/5\n",
            "50/50 [==============================] - 317s 6s/step - loss: 10.1630 - accuracy: 0.1999 - val_loss: 8.4554 - val_accuracy: 0.2500\n",
            "Epoch 4/5\n",
            "50/50 [==============================] - 313s 6s/step - loss: 10.1809 - accuracy: 0.2069 - val_loss: 14.5982 - val_accuracy: 0.1850\n",
            "Epoch 5/5\n",
            "50/50 [==============================] - 314s 6s/step - loss: 12.2137 - accuracy: 0.2209 - val_loss: 12.0240 - val_accuracy: 0.1300\n"
          ],
          "name": "stdout"
        },
        {
          "output_type": "display_data",
          "data": {
            "text/html": [
              "<br/>Waiting for W&B process to finish, PID 2260<br/>Program ended successfully."
            ],
            "text/plain": [
              "<IPython.core.display.HTML object>"
            ]
          },
          "metadata": {
            "tags": []
          }
        },
        {
          "output_type": "display_data",
          "data": {
            "application/vnd.jupyter.widget-view+json": {
              "model_id": "8cc695c6b7c34d86a88d0386f80d929b",
              "version_minor": 0,
              "version_major": 2
            },
            "text/plain": [
              "VBox(children=(Label(value=' 116.31MB of 116.31MB uploaded (0.00MB deduped)\\r'), FloatProgress(value=1.0, max=…"
            ]
          },
          "metadata": {
            "tags": []
          }
        },
        {
          "output_type": "display_data",
          "data": {
            "text/html": [
              "Find user logs for this run at: <code>/content/wandb/run-20210421_134304-zhnlzvqf/logs/debug.log</code>"
            ],
            "text/plain": [
              "<IPython.core.display.HTML object>"
            ]
          },
          "metadata": {
            "tags": []
          }
        },
        {
          "output_type": "display_data",
          "data": {
            "text/html": [
              "Find internal logs for this run at: <code>/content/wandb/run-20210421_134304-zhnlzvqf/logs/debug-internal.log</code>"
            ],
            "text/plain": [
              "<IPython.core.display.HTML object>"
            ]
          },
          "metadata": {
            "tags": []
          }
        },
        {
          "output_type": "display_data",
          "data": {
            "text/html": [
              "<h3>Run summary:</h3><br/><style>\n",
              "    table.wandb td:nth-child(1) { padding: 0 10px; text-align: right }\n",
              "    </style><table class=\"wandb\">\n",
              "<tr><td>epoch</td><td>4</td></tr><tr><td>loss</td><td>10.98863</td></tr><tr><td>accuracy</td><td>0.24</td></tr><tr><td>val_loss</td><td>12.02398</td></tr><tr><td>val_accuracy</td><td>0.13</td></tr><tr><td>_runtime</td><td>1595</td></tr><tr><td>_timestamp</td><td>1619014179</td></tr><tr><td>_step</td><td>4</td></tr><tr><td>best_val_loss</td><td>8.45542</td></tr><tr><td>best_epoch</td><td>2</td></tr></table>"
            ],
            "text/plain": [
              "<IPython.core.display.HTML object>"
            ]
          },
          "metadata": {
            "tags": []
          }
        },
        {
          "output_type": "display_data",
          "data": {
            "text/html": [
              "<h3>Run history:</h3><br/><style>\n",
              "    table.wandb td:nth-child(1) { padding: 0 10px; text-align: right }\n",
              "    </style><table class=\"wandb\">\n",
              "<tr><td>epoch</td><td>▁▃▅▆█</td></tr><tr><td>loss</td><td>█▁▁▁▂</td></tr><tr><td>accuracy</td><td>▁▅▆▇█</td></tr><tr><td>val_loss</td><td>█▂▁▇▅</td></tr><tr><td>val_accuracy</td><td>▁▄█▅▂</td></tr><tr><td>_runtime</td><td>▁▃▅▆█</td></tr><tr><td>_timestamp</td><td>▁▃▅▆█</td></tr><tr><td>_step</td><td>▁▃▅▆█</td></tr></table><br/>"
            ],
            "text/plain": [
              "<IPython.core.display.HTML object>"
            ]
          },
          "metadata": {
            "tags": []
          }
        },
        {
          "output_type": "display_data",
          "data": {
            "text/html": [
              "Synced 5 W&B file(s), 1 media file(s), 0 artifact file(s) and 10 other file(s)"
            ],
            "text/plain": [
              "<IPython.core.display.HTML object>"
            ]
          },
          "metadata": {
            "tags": []
          }
        },
        {
          "output_type": "display_data",
          "data": {
            "text/html": [
              "\n",
              "                    <br/>Synced <strong style=\"color:#cdcd00\">silvery-sweep-8</strong>: <a href=\"https://wandb.ai/pratap49/uncategorized/runs/zhnlzvqf\" target=\"_blank\">https://wandb.ai/pratap49/uncategorized/runs/zhnlzvqf</a><br/>\n",
              "                "
            ],
            "text/plain": [
              "<IPython.core.display.HTML object>"
            ]
          },
          "metadata": {
            "tags": []
          }
        },
        {
          "output_type": "stream",
          "text": [
            "\u001b[34m\u001b[1mwandb\u001b[0m: Agent Starting Run: kevtau82 with config:\n",
            "\u001b[34m\u001b[1mwandb\u001b[0m: \tbatchsize: 16\n",
            "\u001b[34m\u001b[1mwandb\u001b[0m: \tepochs: 5\n",
            "\u001b[34m\u001b[1mwandb\u001b[0m: \tfreez: -1\n",
            "\u001b[34m\u001b[1mwandb\u001b[0m: \tgama: 0.001\n",
            "\u001b[34m\u001b[1mwandb\u001b[0m: \tlr: 0.001\n",
            "\u001b[34m\u001b[1mwandb\u001b[0m: \tmod: ResNet50\n",
            "\u001b[34m\u001b[1mwandb\u001b[0m: \toptimizer: rmsprop\n"
          ],
          "name": "stderr"
        },
        {
          "output_type": "display_data",
          "data": {
            "text/html": [
              "\n",
              "                Tracking run with wandb version 0.10.27<br/>\n",
              "                Syncing run <strong style=\"color:#cdcd00\">hearty-sweep-9</strong> to <a href=\"https://wandb.ai\" target=\"_blank\">Weights & Biases</a> <a href=\"https://docs.wandb.com/integrations/jupyter.html\" target=\"_blank\">(Documentation)</a>.<br/>\n",
              "                Project page: <a href=\"https://wandb.ai/pratap49/uncategorized\" target=\"_blank\">https://wandb.ai/pratap49/uncategorized</a><br/>\n",
              "                Sweep page: <a href=\"https://wandb.ai/pratap49/uncategorized/sweeps/qqnh1etr\" target=\"_blank\">https://wandb.ai/pratap49/uncategorized/sweeps/qqnh1etr</a><br/>\n",
              "Run page: <a href=\"https://wandb.ai/pratap49/uncategorized/runs/kevtau82\" target=\"_blank\">https://wandb.ai/pratap49/uncategorized/runs/kevtau82</a><br/>\n",
              "                Run data is saved locally in <code>/content/wandb/run-20210421_140949-kevtau82</code><br/><br/>\n",
              "            "
            ],
            "text/plain": [
              "<IPython.core.display.HTML object>"
            ]
          },
          "metadata": {
            "tags": []
          }
        },
        {
          "output_type": "stream",
          "text": [
            "Epoch 1/5\n",
            "50/50 [==============================] - 322s 6s/step - loss: 82.6611 - accuracy: 0.1081 - val_loss: 40.3996 - val_accuracy: 0.1000\n",
            "Epoch 2/5\n",
            "44/50 [=========================>....] - ETA: 30s - loss: 47.3874 - accuracy: 0.1301"
          ],
          "name": "stdout"
        }
      ]
    }
  ]
}